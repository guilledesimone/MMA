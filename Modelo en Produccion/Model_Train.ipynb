{
 "cells": [
  {
   "attachments": {},
   "cell_type": "markdown",
   "metadata": {},
   "source": [
    "## Entrenamiento del Modelo de Prediccion de Generación Eólica - PE La Castellana\n"
   ]
  },
  {
   "cell_type": "markdown",
   "metadata": {},
   "source": [
    "El dataset que se va a trabajar corresponde al Parque Eólico La Castellana (localizado en Bahia Blanca)."
   ]
  },
  {
   "cell_type": "code",
   "execution_count": 1,
   "metadata": {},
   "outputs": [],
   "source": [
    "import pandas as pd\n",
    "import numpy as np\n",
    "import os\n",
    "\n",
    "from dotenv import load_dotenv\n",
    "\n",
    "pd.options.mode.copy_on_write = True \n",
    "from datetime import datetime, timedelta\n",
    "\n",
    "from sklearn.metrics import mean_absolute_error, mean_squared_error#, r2_score\n",
    "from sklearn.model_selection import RandomizedSearchCV, TimeSeriesSplit\n",
    "\n",
    "\n",
    "# Utilities\n",
    "import os\n",
    "import pickle\n",
    "import requests as req\n",
    "from io import BytesIO\n",
    "\n",
    "\n",
    "# LightGBM model\n",
    "import lightgbm as lgb\n",
    "from lightgbm import LGBMRegressor"
   ]
  },
  {
   "cell_type": "code",
   "execution_count": 2,
   "metadata": {},
   "outputs": [],
   "source": [
    "os.environ[\"LOKY_MAX_CPU_COUNT\"] = \"6\""
   ]
  },
  {
   "cell_type": "code",
   "execution_count": 3,
   "metadata": {},
   "outputs": [],
   "source": [
    "FOLDER = 'dist' # Should be clean before the execution"
   ]
  },
  {
   "cell_type": "markdown",
   "metadata": {},
   "source": [
    "#### Carga de dataset de Históricos"
   ]
  },
  {
   "cell_type": "code",
   "execution_count": 4,
   "metadata": {},
   "outputs": [
    {
     "name": "stdout",
     "output_type": "stream",
     "text": [
      "PATH_HISTO: https://raw.githubusercontent.com/guilledesimone/MMA-Tesis/refs/heads/main/Datos/ds_histo_02022019-01062024.csv\n"
     ]
    }
   ],
   "source": [
    "# Ruta relativa al archivo .env\n",
    "load_dotenv(dotenv_path='config.env') # Carga el archivo .env del directorio actual\n",
    "\n",
    "path_histo = os.getenv('PATH_HISTO') \n",
    "\n",
    "print(f\"PATH_HISTO: {path_histo}\")\n",
    "\n",
    "df_histo = pd.read_csv(path_histo, decimal=',', parse_dates=['FechaHora'], \n",
    "                 date_format='%d/%m/%Y %H:%M', delimiter=';', header=0)"
   ]
  },
  {
   "cell_type": "code",
   "execution_count": 5,
   "metadata": {
    "scrolled": true
   },
   "outputs": [
    {
     "name": "stdout",
     "output_type": "stream",
     "text": [
      "<class 'pandas.core.frame.DataFrame'>\n",
      "RangeIndex: 46727 entries, 0 to 46726\n",
      "Data columns (total 13 columns):\n",
      " #   Column              Non-Null Count  Dtype         \n",
      "---  ------              --------------  -----         \n",
      " 0   FechaHora           46727 non-null  datetime64[ns]\n",
      " 1   EnergiaSMEC         46727 non-null  float64       \n",
      " 2   aeros_disp          46727 non-null  float64       \n",
      " 3   energia_fc_cammesa  34631 non-null  float64       \n",
      " 4   ws100_ecmwf         46727 non-null  float64       \n",
      " 5   dir100_ecmwf        46727 non-null  float64       \n",
      " 6   temp_ecmwf          46727 non-null  float64       \n",
      " 7   ws100_gfs           46727 non-null  float64       \n",
      " 8   dir100_gfs          46727 non-null  float64       \n",
      " 9   temp_gfs            46727 non-null  float64       \n",
      " 10  ws100_avg           46727 non-null  float64       \n",
      " 11  dir100_avg          46727 non-null  float64       \n",
      " 12  temp_avg            46727 non-null  float64       \n",
      "dtypes: datetime64[ns](1), float64(12)\n",
      "memory usage: 4.6 MB\n"
     ]
    }
   ],
   "source": [
    "df_histo.info()"
   ]
  },
  {
   "cell_type": "code",
   "execution_count": 6,
   "metadata": {},
   "outputs": [],
   "source": [
    "#path = 'https://raw.githubusercontent.com/guilledesimone/MMA-Tesis/refs/heads/main/Datos/ds_fc_actual_02062024-11062024.csv'\n",
    "\n",
    "#path = 'D:\\\\Documents\\\\MMA\\\\1.0 Tesis\\\\Datos\\\\ds_fc_actual_02062024-11062024.csv' #lote 1\n",
    "#path = 'D:\\\\Documents\\\\MMA\\\\1.0 Tesis\\\\Datos\\\\ds_fc_actual_17062024-26062024.csv' #lote 2\n",
    "\n",
    "\n",
    "#df_fc_actual = pd.read_csv(path, decimal=',', parse_dates=['FechaHora'], \n",
    "#                 date_format='%Y-%m-%d %H:%M:%S', delimiter=';', header=0)"
   ]
  },
  {
   "cell_type": "code",
   "execution_count": 7,
   "metadata": {},
   "outputs": [],
   "source": [
    "#El forecast de aero_disp lo estimo en base al valor medio\n",
    "\n",
    "# Filter the subset where AerosDisp is not null\n",
    "#filtered_df = df_fc_actual.dropna(subset=['aeros_disp'])\n",
    "\n",
    "# Calculate the mean of aero_disp \n",
    "#mean_aeros_disp = filtered_df.tail(12)['aeros_disp'].mean()\n",
    "\n",
    "#df_fc_actual['aeros_disp'] = mean_aeros_disp.round(2)"
   ]
  },
  {
   "cell_type": "markdown",
   "metadata": {},
   "source": [
    "Selección de variables relevantes"
   ]
  },
  {
   "cell_type": "code",
   "execution_count": 8,
   "metadata": {},
   "outputs": [],
   "source": [
    "# Define the desired column order\n",
    "#main_features = ['FechaHora','EnergiaSMEC','aeros_disp','ws100_avg', 'dir100_avg', 'temp_avg','energia_fc_cammesa'] #promedio de fuentes de ecwmf y gfs\n",
    "#main_features = ['FechaHora','EnergiaSMEC','aeros_disp','ws100_ecmwf', 'dir100_ecmwf', 'temp_ecmwf']"
   ]
  },
  {
   "cell_type": "code",
   "execution_count": 9,
   "metadata": {},
   "outputs": [],
   "source": [
    "#df_fc_actual = df_fc_actual[main_features[:-1]]"
   ]
  },
  {
   "cell_type": "code",
   "execution_count": 10,
   "metadata": {},
   "outputs": [],
   "source": [
    "#df_fc_actual.head()"
   ]
  },
  {
   "cell_type": "markdown",
   "metadata": {},
   "source": [
    "#### Preparación de datos historico"
   ]
  },
  {
   "cell_type": "code",
   "execution_count": 11,
   "metadata": {},
   "outputs": [],
   "source": [
    "# Define las columnas principales\n",
    "main_features = ['FechaHora','EnergiaSMEC','aeros_disp','ws100_avg', 'dir100_avg', 'temp_avg'] #promedio de fuentes de ecwmf y gfs\n",
    "\n",
    "# DataFrame con columnas principales\n",
    "df_histo = df_histo[main_features]\n"
   ]
  },
  {
   "cell_type": "markdown",
   "metadata": {},
   "source": [
    "#### Division en train y test"
   ]
  },
  {
   "cell_type": "code",
   "execution_count": 12,
   "metadata": {},
   "outputs": [],
   "source": [
    "# Define el start date para el train y test datasets (ultimo año)\n",
    "train_start_dt = df_histo['FechaHora'].min()\n",
    "test_start_dt = df_histo['FechaHora'].max() - pd.Timedelta(days=365)\n"
   ]
  },
  {
   "cell_type": "code",
   "execution_count": 13,
   "metadata": {
    "scrolled": true
   },
   "outputs": [
    {
     "data": {
      "text/html": [
       "<div>\n",
       "<style scoped>\n",
       "    .dataframe tbody tr th:only-of-type {\n",
       "        vertical-align: middle;\n",
       "    }\n",
       "\n",
       "    .dataframe tbody tr th {\n",
       "        vertical-align: top;\n",
       "    }\n",
       "\n",
       "    .dataframe thead th {\n",
       "        text-align: right;\n",
       "    }\n",
       "</style>\n",
       "<table border=\"1\" class=\"dataframe\">\n",
       "  <thead>\n",
       "    <tr style=\"text-align: right;\">\n",
       "      <th></th>\n",
       "      <th>FechaHora</th>\n",
       "      <th>EnergiaSMEC</th>\n",
       "      <th>aeros_disp</th>\n",
       "      <th>ws100_avg</th>\n",
       "      <th>dir100_avg</th>\n",
       "      <th>temp_avg</th>\n",
       "    </tr>\n",
       "  </thead>\n",
       "  <tbody>\n",
       "    <tr>\n",
       "      <th>0</th>\n",
       "      <td>2019-02-02 01:00:00</td>\n",
       "      <td>44.50</td>\n",
       "      <td>30.83</td>\n",
       "      <td>8.868427</td>\n",
       "      <td>126.395675</td>\n",
       "      <td>19.159385</td>\n",
       "    </tr>\n",
       "    <tr>\n",
       "      <th>1</th>\n",
       "      <td>2019-02-02 02:00:00</td>\n",
       "      <td>50.97</td>\n",
       "      <td>32.00</td>\n",
       "      <td>8.438345</td>\n",
       "      <td>130.508031</td>\n",
       "      <td>18.227713</td>\n",
       "    </tr>\n",
       "    <tr>\n",
       "      <th>2</th>\n",
       "      <td>2019-02-02 03:00:00</td>\n",
       "      <td>44.83</td>\n",
       "      <td>32.00</td>\n",
       "      <td>8.316949</td>\n",
       "      <td>141.396578</td>\n",
       "      <td>17.171822</td>\n",
       "    </tr>\n",
       "    <tr>\n",
       "      <th>3</th>\n",
       "      <td>2019-02-02 04:00:00</td>\n",
       "      <td>67.56</td>\n",
       "      <td>32.00</td>\n",
       "      <td>8.288875</td>\n",
       "      <td>146.649944</td>\n",
       "      <td>17.000357</td>\n",
       "    </tr>\n",
       "    <tr>\n",
       "      <th>4</th>\n",
       "      <td>2019-02-02 05:00:00</td>\n",
       "      <td>59.14</td>\n",
       "      <td>32.00</td>\n",
       "      <td>8.174949</td>\n",
       "      <td>150.170589</td>\n",
       "      <td>16.486966</td>\n",
       "    </tr>\n",
       "  </tbody>\n",
       "</table>\n",
       "</div>"
      ],
      "text/plain": [
       "            FechaHora  EnergiaSMEC  aeros_disp  ws100_avg  dir100_avg  \\\n",
       "0 2019-02-02 01:00:00        44.50       30.83   8.868427  126.395675   \n",
       "1 2019-02-02 02:00:00        50.97       32.00   8.438345  130.508031   \n",
       "2 2019-02-02 03:00:00        44.83       32.00   8.316949  141.396578   \n",
       "3 2019-02-02 04:00:00        67.56       32.00   8.288875  146.649944   \n",
       "4 2019-02-02 05:00:00        59.14       32.00   8.174949  150.170589   \n",
       "\n",
       "    temp_avg  \n",
       "0  19.159385  \n",
       "1  18.227713  \n",
       "2  17.171822  \n",
       "3  17.000357  \n",
       "4  16.486966  "
      ]
     },
     "execution_count": 13,
     "metadata": {},
     "output_type": "execute_result"
    }
   ],
   "source": [
    "df_histo.head()"
   ]
  },
  {
   "cell_type": "code",
   "execution_count": 14,
   "metadata": {},
   "outputs": [
    {
     "name": "stdout",
     "output_type": "stream",
     "text": [
      "Training data shape:  (37966, 6)\n",
      "Test data shape:  (8761, 6)\n"
     ]
    }
   ],
   "source": [
    "# Crea el train set que contiene solo las features del modelo\n",
    "df_train = df_histo[\n",
    "(df_histo['FechaHora'] >= train_start_dt)\n",
    "& (df_histo['FechaHora'] < test_start_dt)].copy()\n",
    "\n",
    "# Crea el test set que contiene solo las features del modelo\n",
    "df_test = df_histo[df_histo['FechaHora'] >= test_start_dt][main_features].copy()\n",
    "\n",
    "\n",
    "print('Training data shape: ', df_train.shape)\n",
    "print('Test data shape: ', df_test.shape)"
   ]
  },
  {
   "cell_type": "code",
   "execution_count": 15,
   "metadata": {
    "scrolled": true
   },
   "outputs": [],
   "source": [
    "#exog_features = [feature for feature in main_features if feature != 'EnergiaSMEC'and feature != 'energia_fc_cammesa']\n",
    "\n",
    "# Reorder the DataFrame columns\n",
    "#df_fc_actual_exog = df_fc_actual[exog_features]\n",
    "# Set FechaHora as Index\n",
    "#df_fc_actual_exog.set_index('FechaHora', inplace=True)\n",
    "\n",
    "#df_fc_actual_exog.head()"
   ]
  },
  {
   "cell_type": "markdown",
   "metadata": {},
   "source": [
    "### Entrenamiento del modelo LightGBM"
   ]
  },
  {
   "cell_type": "code",
   "execution_count": 16,
   "metadata": {},
   "outputs": [],
   "source": [
    "df_test.set_index('FechaHora', inplace=True)\n",
    "df_train.set_index('FechaHora', inplace=True)"
   ]
  },
  {
   "cell_type": "code",
   "execution_count": 17,
   "metadata": {},
   "outputs": [],
   "source": [
    "# Se separan features y target\n",
    "x_train, y_train = df_train.drop(columns=['EnergiaSMEC']), df_train['EnergiaSMEC'].values\n",
    "x_test, y_test = df_test.drop(columns=['EnergiaSMEC']), df_test['EnergiaSMEC'].values"
   ]
  },
  {
   "cell_type": "code",
   "execution_count": 18,
   "metadata": {},
   "outputs": [],
   "source": [
    "def fit_lgbm(x_train: pd.DataFrame, y_train: np.ndarray) -> LGBMRegressor:\n",
    "    \"\"\"\n",
    "        Entrenamiento del modelo LigthGBM, guarda el modelo y lo devuelve.\n",
    "    \"\"\"\n",
    "    params = {\n",
    "    'num_leaves': 30,\n",
    "    'n_estimators': 100,\n",
    "    'max_depth': 8,\n",
    "    'min_child_samples': 200,\n",
    "    'learning_rate': 0.05,\n",
    "    'subsample': 0.70,\n",
    "    'colsample_bytree': 0.75\n",
    "    }\n",
    "\n",
    "    # Initialización del modelo\n",
    "    model = lgb.LGBMRegressor(**params)\n",
    "    \n",
    "    # Grilla de parámetros de RandomizedSearchCV\n",
    "    param_grid = {\n",
    "        'num_leaves': [20, 30, 40, 50],\n",
    "        'n_estimators': [50,70,100, 200, 400, 600],\n",
    "        'max_depth': [6, 8, 10, 12],\n",
    "        'min_child_samples': [20, 50, 100, 200, 400, 600],\n",
    "        'learning_rate': [0.01, 0.05, 0.1, 0.15],\n",
    "        'subsample': [0.5, 0.7, 0.8, 0.9],\n",
    "        'colsample_bytree': [0.6, 0.75, 0.8, 0.9, 1]\n",
    "    }\n",
    "    \n",
    "    # Configuración de TimeSeriesSplit\n",
    "    tscv = TimeSeriesSplit(n_splits=5)\n",
    "    \n",
    "    # Configuración de RandomizedSearchCV con TimeSeriesSplit\n",
    "    random_search = RandomizedSearchCV(\n",
    "        model, param_distributions=param_grid, n_iter=25, cv=tscv, verbose=1, n_jobs=-1,\n",
    "        random_state=14, scoring='neg_mean_squared_error'\n",
    "    )\n",
    "\n",
    "    # Entrena el modelo\n",
    "    random_search.fit(x_train, y_train)\n",
    "       \n",
    "    # Obtiene el mejor modelo\n",
    "    best_model = random_search.best_estimator_\n",
    "    \n",
    "    # Guarda el modelo en un archivo pickle\n",
    "    file_name = 'model.pkl'\n",
    "    with open(os.path.join(FOLDER, file_name), 'wb') as f:\n",
    "        pickle.dump(best_model, f)     \n",
    "\n",
    "    print('Model saved')\n",
    "    return best_model"
   ]
  },
  {
   "cell_type": "code",
   "execution_count": 19,
   "metadata": {},
   "outputs": [
    {
     "name": "stdout",
     "output_type": "stream",
     "text": [
      "Fitting 5 folds for each of 25 candidates, totalling 125 fits\n",
      "[LightGBM] [Info] Auto-choosing row-wise multi-threading, the overhead of testing was 0.000291 seconds.\n",
      "You can set `force_row_wise=true` to remove the overhead.\n",
      "And if memory is not enough, you can set `force_col_wise=true`.\n",
      "[LightGBM] [Info] Total Bins 1003\n",
      "[LightGBM] [Info] Number of data points in the train set: 37966, number of used features: 4\n",
      "[LightGBM] [Info] Start training from score 47.909617\n",
      "Model saved\n"
     ]
    }
   ],
   "source": [
    "model = fit_lgbm(x_train, y_train)"
   ]
  },
  {
   "cell_type": "code",
   "execution_count": 20,
   "metadata": {},
   "outputs": [],
   "source": [
    "# Predicción con datos de test\n",
    "y_pred = model.predict(x_test)"
   ]
  },
  {
   "cell_type": "code",
   "execution_count": 21,
   "metadata": {},
   "outputs": [
    {
     "name": "stdout",
     "output_type": "stream",
     "text": [
      "Best parameters found: LGBMRegressor(colsample_bytree=0.9, max_depth=8, min_child_samples=100,\n",
      "              n_estimators=50, num_leaves=30, subsample=0.5)\n",
      "MAE: 10.923722234236603\n",
      "RMSE: 16.194633689456477\n"
     ]
    }
   ],
   "source": [
    "# Evaluación del modelo\n",
    "mae_t = mean_absolute_error(y_test, y_pred)\n",
    "mse_t = mean_squared_error(y_test, y_pred)\n",
    "\n",
    "rmse_t = np.sqrt(mse_t)\n",
    "print(f'Best parameters found: {model}')\n",
    "print(f'MAE: {mae_t}')\n",
    "print(f'RMSE: {rmse_t}')"
   ]
  },
  {
   "cell_type": "markdown",
   "metadata": {},
   "source": [
    "## Docker Comandos"
   ]
  },
  {
   "cell_type": "code",
   "execution_count": null,
   "metadata": {},
   "outputs": [],
   "source": [
    "import os\n",
    "os.environ['PATH'] += ';C:\\\\Program Files\\\\Docker\\\\Docker\\\\resources\\\\bin'"
   ]
  },
  {
   "cell_type": "code",
   "execution_count": null,
   "metadata": {},
   "outputs": [],
   "source": [
    "#comandos\n",
    "!docker"
   ]
  },
  {
   "cell_type": "code",
   "execution_count": null,
   "metadata": {},
   "outputs": [],
   "source": [
    "# !docker image ls\n",
    "!docker images"
   ]
  },
  {
   "cell_type": "code",
   "execution_count": null,
   "metadata": {},
   "outputs": [],
   "source": [
    "#conteiners corridos hasta el momento:\n",
    "#!docker container ls --all\n"
   ]
  },
  {
   "cell_type": "code",
   "execution_count": null,
   "metadata": {},
   "outputs": [],
   "source": [
    "# Para correr la imagen:\n",
    "\n",
    "# Terminal\n",
    "#!docker run --interactive --tty ubuntu bash"
   ]
  },
  {
   "cell_type": "code",
   "execution_count": null,
   "metadata": {},
   "outputs": [],
   "source": [
    "#Correr un servicio foreground (ejecutar en primer plano) para entorno de desarrollo:\n",
    "\n",
    "# Terminal\n",
    "#!docker run --publish 80:80 flask"
   ]
  },
  {
   "cell_type": "code",
   "execution_count": null,
   "metadata": {},
   "outputs": [],
   "source": [
    "#correr un servicio detached (ejecutar en modo desacoplado) para entorno productivo:\n",
    "\n",
    "#!docker run --detach --publish 80:80 flask"
   ]
  },
  {
   "cell_type": "code",
   "execution_count": null,
   "metadata": {},
   "outputs": [],
   "source": [
    "#para ver que servicios estan corriendo:\n",
    "\n",
    "#`uname -a` nos va a mostrar que container y host están compartiendo el kernel\n",
    "\n",
    "#!docker ps"
   ]
  },
  {
   "cell_type": "code",
   "execution_count": null,
   "metadata": {},
   "outputs": [],
   "source": [
    "#para ver los logs:\n",
    "\n",
    "#!docker logs 7f98c7a7f655"
   ]
  },
  {
   "cell_type": "code",
   "execution_count": null,
   "metadata": {},
   "outputs": [],
   "source": [
    "#detener el contenedor:\n",
    "\n",
    "#!docker stop 7f98c7a7f655"
   ]
  },
  {
   "cell_type": "code",
   "execution_count": null,
   "metadata": {},
   "outputs": [],
   "source": [
    "#para nombrar el container:\n",
    "\n",
    "#!docker run --detach --publish 80:80 --name webserver nginx"
   ]
  },
  {
   "cell_type": "code",
   "execution_count": null,
   "metadata": {},
   "outputs": [],
   "source": [
    "#listar contenedores:\n",
    "\n",
    "#!docker container ls --all"
   ]
  },
  {
   "cell_type": "code",
   "execution_count": null,
   "metadata": {},
   "outputs": [],
   "source": [
    "#eliminar un contenedor\n",
    "\n",
    "#!docker rm webserver"
   ]
  },
  {
   "cell_type": "code",
   "execution_count": null,
   "metadata": {},
   "outputs": [],
   "source": [
    "#cuanto recursos ocupa el contenedor\n",
    "\n",
    "#!docker stats --no-stream"
   ]
  },
  {
   "cell_type": "markdown",
   "metadata": {},
   "source": [
    "## Construccion de la imagen"
   ]
  },
  {
   "cell_type": "code",
   "execution_count": null,
   "metadata": {},
   "outputs": [],
   "source": [
    "#Archivos de requerimientos\n",
    "!type requirements.txt"
   ]
  },
  {
   "cell_type": "code",
   "execution_count": null,
   "metadata": {},
   "outputs": [],
   "source": [
    "#Instalacion en el ambiente\n",
    "\n",
    "#!pip install -r requirements.txt"
   ]
  },
  {
   "cell_type": "code",
   "execution_count": null,
   "metadata": {},
   "outputs": [],
   "source": [
    "!type Dockerfile_energypred"
   ]
  },
  {
   "cell_type": "code",
   "execution_count": null,
   "metadata": {},
   "outputs": [],
   "source": [
    "# Terminal\n",
    "!docker build --file Dockerfile_energypred --tag=energy_predictor . "
   ]
  },
  {
   "cell_type": "code",
   "execution_count": null,
   "metadata": {},
   "outputs": [],
   "source": [
    "!docker images"
   ]
  },
  {
   "cell_type": "code",
   "execution_count": null,
   "metadata": {},
   "outputs": [],
   "source": [
    "#Delete image\n",
    "\n",
    "#!docker image rm gdesimone/energy_predictor_app:v1.0\n",
    "#!docker image rm energy_predictor"
   ]
  },
  {
   "cell_type": "code",
   "execution_count": null,
   "metadata": {},
   "outputs": [],
   "source": [
    "!docker ps"
   ]
  },
  {
   "cell_type": "code",
   "execution_count": null,
   "metadata": {},
   "outputs": [],
   "source": [
    "#!docker stop energy_pred_app\n"
   ]
  },
  {
   "cell_type": "code",
   "execution_count": null,
   "metadata": {},
   "outputs": [],
   "source": [
    "#!docker rename webserver energy_pred_app"
   ]
  },
  {
   "cell_type": "code",
   "execution_count": null,
   "metadata": {},
   "outputs": [],
   "source": [
    "# Terminal RUN image\n",
    "\n",
    "!docker run -d --name energy_pred_app --rm --publish 80:5000 energy_predictor\n",
    "\n",
    "#!docker run -d --name energy_pred_app --rm --publish 80:5000 gdesimone/energy_predictor_app:v1.0"
   ]
  },
  {
   "cell_type": "code",
   "execution_count": null,
   "metadata": {},
   "outputs": [],
   "source": [
    "#cuanto recursos ocupa el contenedor\n",
    "!docker stats --no-stream"
   ]
  },
  {
   "cell_type": "code",
   "execution_count": null,
   "metadata": {},
   "outputs": [],
   "source": [
    "!curl http://localhost/energy_pred/url"
   ]
  },
  {
   "cell_type": "code",
   "execution_count": null,
   "metadata": {},
   "outputs": [],
   "source": [
    "#para inspeccionar desde adentro el contenedor que esta corriendo\n",
    "#Terminal\n",
    "\n",
    "#!docker exec --interactive --tty energy_pred_app bash"
   ]
  },
  {
   "cell_type": "code",
   "execution_count": null,
   "metadata": {},
   "outputs": [],
   "source": [
    "!docker logs energy_pred_app"
   ]
  },
  {
   "cell_type": "code",
   "execution_count": null,
   "metadata": {},
   "outputs": [],
   "source": []
  },
  {
   "cell_type": "code",
   "execution_count": null,
   "metadata": {},
   "outputs": [],
   "source": []
  },
  {
   "cell_type": "code",
   "execution_count": null,
   "metadata": {},
   "outputs": [],
   "source": []
  },
  {
   "cell_type": "markdown",
   "metadata": {},
   "source": [
    "## Publicacion de la imagen"
   ]
  },
  {
   "cell_type": "code",
   "execution_count": null,
   "metadata": {},
   "outputs": [],
   "source": [
    "# Terminal\n",
    "!docker login"
   ]
  },
  {
   "cell_type": "code",
   "execution_count": null,
   "metadata": {},
   "outputs": [],
   "source": [
    "!docker images"
   ]
  },
  {
   "cell_type": "code",
   "execution_count": null,
   "metadata": {},
   "outputs": [],
   "source": [
    "!docker tag energy_predictor gdesimone/energy_predictor_app:v1.0\n",
    "!docker push gdesimone/energy_predictor_app:v1.0"
   ]
  },
  {
   "cell_type": "code",
   "execution_count": null,
   "metadata": {},
   "outputs": [],
   "source": [
    "# Terminal RUN image - para probar con la imagen publicada en dockerhub\n",
    "\n",
    "!docker run -d --name energy_pred_app --rm --publish 80:5000 gdesimone/energy_predictor_app:v1.0"
   ]
  },
  {
   "cell_type": "code",
   "execution_count": null,
   "metadata": {},
   "outputs": [],
   "source": [
    "## para llamarla desde el browser http://localhost/energy_pred/url toma url por defecto\n",
    "## especificando la url: \n",
    "## http://localhost/energy_pred/url?url=https://raw.githubusercontent.com/guilledesimone/MMA-Tesis/refs/heads/main/Datos/ds_exog.csv\n",
    "\n",
    "## http://localhost/energy_pred/url?url=https://raw.githubusercontent.com/guilledesimone/MMA-Tesis/refs/heads/main/Datos/ds_exog_1911-2811.csv"
   ]
  },
  {
   "cell_type": "code",
   "execution_count": null,
   "metadata": {},
   "outputs": [],
   "source": []
  }
 ],
 "metadata": {
  "kernelspec": {
   "display_name": "Python 3 (ipykernel)",
   "language": "python",
   "name": "python3"
  },
  "language_info": {
   "codemirror_mode": {
    "name": "ipython",
    "version": 3
   },
   "file_extension": ".py",
   "mimetype": "text/x-python",
   "name": "python",
   "nbconvert_exporter": "python",
   "pygments_lexer": "ipython3",
   "version": "3.12.7"
  }
 },
 "nbformat": 4,
 "nbformat_minor": 4
}
