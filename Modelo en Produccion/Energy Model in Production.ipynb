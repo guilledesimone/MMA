{
 "cells": [
  {
   "attachments": {},
   "cell_type": "markdown",
   "metadata": {},
   "source": [
    "# Model in Production for Wind Power Predictions - PE La Castellana\n"
   ]
  },
  {
   "cell_type": "markdown",
   "metadata": {},
   "source": [
    "El dataset que se va a trabajar corresponde al Parque Eólico La Castellana (localizado en Bahia Blanca)."
   ]
  },
  {
   "cell_type": "code",
   "execution_count": 1,
   "metadata": {},
   "outputs": [],
   "source": [
    "import pandas as pd\n",
    "import numpy as np\n",
    "\n",
    "pd.options.mode.copy_on_write = True \n",
    "from datetime import datetime, timedelta\n",
    "\n",
    "from sklearn.metrics import mean_absolute_error, mean_squared_error#, r2_score\n",
    "from sklearn.model_selection import RandomizedSearchCV, TimeSeriesSplit\n",
    "\n",
    "\n",
    "# Utilities\n",
    "import os\n",
    "import pickle\n",
    "import requests as req\n",
    "from io import BytesIO\n",
    "\n",
    "\n",
    "# LightGBM model\n",
    "import lightgbm as lgb\n",
    "from lightgbm import LGBMRegressor"
   ]
  },
  {
   "cell_type": "code",
   "execution_count": 2,
   "metadata": {},
   "outputs": [],
   "source": [
    "FOLDER = 'dist' # Should be clean before the execution"
   ]
  },
  {
   "cell_type": "markdown",
   "metadata": {},
   "source": [
    "#### Carga de dataset de Históricos"
   ]
  },
  {
   "cell_type": "code",
   "execution_count": 3,
   "metadata": {},
   "outputs": [],
   "source": [
    "path = 'https://raw.githubusercontent.com/guilledesimone/MMA-Tesis/refs/heads/main/Datos/ds_histo_02022019-13062024.csv'\n",
    "#path = 'D:\\\\Documents\\\\MMA\\\\1.0 Tesis\\\\Datos\\\\ds_histo_02022019-13062024.csv' \n",
    "\n",
    "df_histo_full = pd.read_csv(path, decimal=',', parse_dates=['FechaHora'], \n",
    "                 date_format='%Y-%m-%d %H:%M:%S', delimiter=';', header=0)"
   ]
  },
  {
   "cell_type": "code",
   "execution_count": 4,
   "metadata": {},
   "outputs": [],
   "source": [
    "# Drop rows where EnergiaSMEC is NaN\n",
    "df_histo_full.dropna(subset=['EnergiaSMEC'], inplace=True)"
   ]
  },
  {
   "cell_type": "markdown",
   "metadata": {},
   "source": [
    "#### Carga de dataset de Forecast & Actual para evaluar performance"
   ]
  },
  {
   "cell_type": "code",
   "execution_count": 5,
   "metadata": {},
   "outputs": [],
   "source": [
    "path = 'https://raw.githubusercontent.com/guilledesimone/MMA-Tesis/refs/heads/main/Datos/ds_fc_actual_02062024-11062024.csv'\n",
    "\n",
    "#path = 'D:\\\\Documents\\\\MMA\\\\1.0 Tesis\\\\Datos\\\\ds_fc_actual_02062024-11062024.csv' #lote 1\n",
    "#path = 'D:\\\\Documents\\\\MMA\\\\1.0 Tesis\\\\Datos\\\\ds_fc_actual_17062024-26062024.csv' #lote 2\n",
    "\n",
    "\n",
    "df_fc_actual = pd.read_csv(path, decimal=',', parse_dates=['FechaHora'], \n",
    "                 date_format='%Y-%m-%d %H:%M:%S', delimiter=';', header=0)"
   ]
  },
  {
   "cell_type": "code",
   "execution_count": 6,
   "metadata": {},
   "outputs": [],
   "source": [
    "#El forecast de aero_disp lo estimo en base al valor medio\n",
    "\n",
    "# Filter the subset where AerosDisp is not null\n",
    "filtered_df = df_fc_actual.dropna(subset=['aeros_disp'])\n",
    "\n",
    "# Calculate the mean of aero_disp \n",
    "mean_aeros_disp = filtered_df.tail(12)['aeros_disp'].mean()\n",
    "\n",
    "df_fc_actual['aeros_disp'] = mean_aeros_disp.round(2)"
   ]
  },
  {
   "cell_type": "markdown",
   "metadata": {},
   "source": [
    "Selección de variables relevantes"
   ]
  },
  {
   "cell_type": "code",
   "execution_count": 7,
   "metadata": {},
   "outputs": [],
   "source": [
    "# Define the desired column order\n",
    "main_features = ['FechaHora','EnergiaSMEC','aeros_disp','ws100_avg', 'dir100_avg', 'temp_avg','energia_fc_cammesa'] #promedio de fuentes de ecwmf y gfs\n",
    "#main_features = ['FechaHora','EnergiaSMEC','aeros_disp','ws100_ecmwf', 'dir100_ecmwf', 'temp_ecmwf']"
   ]
  },
  {
   "cell_type": "code",
   "execution_count": 8,
   "metadata": {},
   "outputs": [],
   "source": [
    "df_fc_actual = df_fc_actual[main_features[:-1]]"
   ]
  },
  {
   "cell_type": "code",
   "execution_count": 9,
   "metadata": {},
   "outputs": [],
   "source": [
    "#df_fc_actual.head()"
   ]
  },
  {
   "cell_type": "markdown",
   "metadata": {},
   "source": [
    "#### Preparación de datos historico"
   ]
  },
  {
   "cell_type": "code",
   "execution_count": 10,
   "metadata": {},
   "outputs": [],
   "source": [
    "# Get the minimum FechaHora\n",
    "start_date = df_fc_actual['FechaHora'].min()\n",
    "\n",
    "# Exclude data with FechaHora >= start_date, because this is the initial date for the forecast \n",
    "df_histo_full = df_histo_full[df_histo_full['FechaHora'] < start_date]"
   ]
  },
  {
   "cell_type": "code",
   "execution_count": 11,
   "metadata": {},
   "outputs": [],
   "source": [
    "# Main the DataFrame columns\n",
    "df_histo = df_histo_full[main_features[:-1]]\n",
    "\n",
    "# Set FechaHora as Index\n",
    "#df_histo.set_index('FechaHora', inplace=True)\n",
    "\n",
    "#df_histo.head()"
   ]
  },
  {
   "cell_type": "markdown",
   "metadata": {},
   "source": [
    "#### Division en train y test"
   ]
  },
  {
   "cell_type": "code",
   "execution_count": 12,
   "metadata": {},
   "outputs": [],
   "source": [
    "# Define the start date for the train and test sets\n",
    "train_start_dt = df_histo['FechaHora'].min()\n",
    "test_start_dt = df_histo['FechaHora'].max() - pd.Timedelta(days=365)\n"
   ]
  },
  {
   "cell_type": "code",
   "execution_count": 13,
   "metadata": {},
   "outputs": [
    {
     "name": "stdout",
     "output_type": "stream",
     "text": [
      "Training data shape:  (37966, 6)\n",
      "Test data shape:  (8761, 7)\n"
     ]
    }
   ],
   "source": [
    "# Create train set containing only the model features\n",
    "df_train = df_histo[\n",
    "(df_histo['FechaHora'] >= train_start_dt)\n",
    "& (df_histo['FechaHora'] < test_start_dt)].copy()\n",
    "\n",
    "# Create test set containing only the model features\n",
    "df_test = df_histo_full[df_histo_full['FechaHora'] >= test_start_dt][main_features].copy()\n",
    "\n",
    "print('Training data shape: ', df_train.shape)\n",
    "print('Test data shape: ', df_test.shape)"
   ]
  },
  {
   "cell_type": "markdown",
   "metadata": {},
   "source": [
    "#### Preparación de dataset forecast - exogenos"
   ]
  },
  {
   "cell_type": "code",
   "execution_count": 14,
   "metadata": {
    "scrolled": true
   },
   "outputs": [],
   "source": [
    "exog_features = [feature for feature in main_features if feature != 'EnergiaSMEC'and feature != 'energia_fc_cammesa']\n",
    "\n",
    "# Reorder the DataFrame columns\n",
    "df_fc_actual_exog = df_fc_actual[exog_features]\n",
    "# Set FechaHora as Index\n",
    "df_fc_actual_exog.set_index('FechaHora', inplace=True)\n",
    "\n",
    "#df_fc_actual_exog.head()"
   ]
  },
  {
   "cell_type": "markdown",
   "metadata": {},
   "source": [
    "### Entrenamiento del modelo LightGBM"
   ]
  },
  {
   "cell_type": "code",
   "execution_count": 15,
   "metadata": {},
   "outputs": [],
   "source": [
    "df_test.set_index('FechaHora', inplace=True)\n",
    "df_train.set_index('FechaHora', inplace=True)"
   ]
  },
  {
   "cell_type": "code",
   "execution_count": 16,
   "metadata": {},
   "outputs": [],
   "source": [
    "# Separate features and target\n",
    "x_train, y_train = df_train.drop(columns=['EnergiaSMEC']), df_train['EnergiaSMEC'].values\n",
    "x_test, y_test = df_test.drop(columns=['EnergiaSMEC','energia_fc_cammesa']), df_test['EnergiaSMEC'].values"
   ]
  },
  {
   "cell_type": "code",
   "execution_count": 17,
   "metadata": {},
   "outputs": [],
   "source": [
    "# Separate features and target\n",
    "x_train, y_train = df_train.drop(columns=['EnergiaSMEC']), df_train['EnergiaSMEC'].values\n",
    "x_test, y_test = df_test.drop(columns=['EnergiaSMEC','energia_fc_cammesa']), df_test['EnergiaSMEC'].values\n"
   ]
  },
  {
   "cell_type": "code",
   "execution_count": 18,
   "metadata": {},
   "outputs": [
    {
     "data": {
      "text/plain": [
       "numpy.ndarray"
      ]
     },
     "execution_count": 18,
     "metadata": {},
     "output_type": "execute_result"
    }
   ],
   "source": [
    "type(y_train)"
   ]
  },
  {
   "cell_type": "code",
   "execution_count": 19,
   "metadata": {},
   "outputs": [],
   "source": [
    "def fit_lgbm(x_train: pd.DataFrame, y_train: np.ndarray) -> LGBMRegressor:\n",
    "    \"\"\"\n",
    "        Fits a LigthGBM model, saves the model and returns it.\n",
    "    \"\"\"\n",
    "    params = {\n",
    "    'num_leaves': 30,\n",
    "    'n_estimators': 100,\n",
    "    'max_depth': 8,\n",
    "    'min_child_samples': 200,\n",
    "    'learning_rate': 0.05,\n",
    "    'subsample': 0.70,\n",
    "    'colsample_bytree': 0.75\n",
    "    }\n",
    "\n",
    "    # Initialize the model\n",
    "    model = lgb.LGBMRegressor(**params)\n",
    "    \n",
    "    # Parameter grid for RandomizedSearchCV\n",
    "    param_grid = {\n",
    "        'num_leaves': [20, 30, 40, 50],\n",
    "        'n_estimators': [50,70,100, 200, 400, 600],\n",
    "        'max_depth': [6, 8, 10, 12],\n",
    "        'min_child_samples': [20, 50, 100, 200, 400, 600],\n",
    "        'learning_rate': [0.01, 0.05, 0.1, 0.15],\n",
    "        'subsample': [0.5, 0.7, 0.8, 0.9],\n",
    "        'colsample_bytree': [0.6, 0.75, 0.8, 0.9, 1]\n",
    "    }\n",
    "    \n",
    "    # Set up TimeSeriesSplit\n",
    "    tscv = TimeSeriesSplit(n_splits=5)\n",
    "    \n",
    "    # Set up RandomizedSearchCV with TimeSeriesSplit\n",
    "    random_search = RandomizedSearchCV(\n",
    "        model, param_distributions=param_grid, n_iter=25, cv=tscv, verbose=1, n_jobs=-1,\n",
    "        random_state=14, scoring='neg_mean_squared_error'\n",
    "    )\n",
    "\n",
    "    # Fit the model\n",
    "    random_search.fit(x_train, y_train)\n",
    "       \n",
    "    # Get the best model\n",
    "    best_model = random_search.best_estimator_\n",
    "    \n",
    "    file_name = 'model.pkl'\n",
    "    with open(os.path.join(FOLDER, file_name), 'wb') as f:\n",
    "        pickle.dump(best_model, f)     \n",
    "\n",
    "    print('Model saved')\n",
    "    return best_model"
   ]
  },
  {
   "cell_type": "code",
   "execution_count": 20,
   "metadata": {},
   "outputs": [
    {
     "name": "stdout",
     "output_type": "stream",
     "text": [
      "Fitting 5 folds for each of 25 candidates, totalling 125 fits\n",
      "[LightGBM] [Info] Auto-choosing row-wise multi-threading, the overhead of testing was 0.000143 seconds.\n",
      "You can set `force_row_wise=true` to remove the overhead.\n",
      "And if memory is not enough, you can set `force_col_wise=true`.\n",
      "[LightGBM] [Info] Total Bins 1003\n",
      "[LightGBM] [Info] Number of data points in the train set: 37966, number of used features: 4\n",
      "[LightGBM] [Info] Start training from score 47.909617\n",
      "Model saved\n"
     ]
    }
   ],
   "source": [
    "model = fit_lgbm(x_train, y_train)"
   ]
  },
  {
   "cell_type": "code",
   "execution_count": 21,
   "metadata": {},
   "outputs": [],
   "source": [
    "# Predict on test data\n",
    "y_pred = model.predict(x_test)"
   ]
  },
  {
   "cell_type": "code",
   "execution_count": 22,
   "metadata": {},
   "outputs": [
    {
     "name": "stdout",
     "output_type": "stream",
     "text": [
      "Best parameters found: LGBMRegressor(colsample_bytree=0.9, max_depth=8, min_child_samples=100,\n",
      "              n_estimators=50, num_leaves=30, subsample=0.5)\n",
      "MAE: 10.923722234236603\n",
      "RMSE: 16.194633689456477\n"
     ]
    }
   ],
   "source": [
    "# Evaluate the model\n",
    "mae_t = mean_absolute_error(y_test, y_pred)\n",
    "mse_t = mean_squared_error(y_test, y_pred)\n",
    "\n",
    "rmse_t = np.sqrt(mse_t)\n",
    "print(f'Best parameters found: {model}')\n",
    "print(f'MAE: {mae_t}')\n",
    "print(f'RMSE: {rmse_t}')"
   ]
  },
  {
   "cell_type": "markdown",
   "metadata": {},
   "source": [
    "#### Predicción de Energia en dataset de TEST (último año) con LightGBM"
   ]
  },
  {
   "cell_type": "code",
   "execution_count": 24,
   "metadata": {},
   "outputs": [],
   "source": [
    "if df_test.index.name != 'FechaHora':\n",
    "    df_test.set_index('FechaHora', inplace=True)"
   ]
  },
  {
   "cell_type": "code",
   "execution_count": 25,
   "metadata": {},
   "outputs": [
    {
     "name": "stdout",
     "output_type": "stream",
     "text": [
      "Start date: 2023-06-02 23:00:00 | End date: 2024-06-01 23:00:00\n"
     ]
    }
   ],
   "source": [
    "# Get the minimum and maximum FechaHora\n",
    "start_test_date = df_test.index.min()\n",
    "end_test_date = df_test.index.max()\n",
    "print(f\"Start date: {start_test_date} | End date: {end_test_date}\")"
   ]
  },
  {
   "cell_type": "code",
   "execution_count": 26,
   "metadata": {},
   "outputs": [],
   "source": [
    "df_test_exog = df_test[exog_features[1:]]\n"
   ]
  },
  {
   "cell_type": "code",
   "execution_count": 27,
   "metadata": {},
   "outputs": [],
   "source": [
    "# Predict on test data\n",
    "pred_test_energia_lgb = model.predict(df_test_exog)"
   ]
  },
  {
   "cell_type": "code",
   "execution_count": 28,
   "metadata": {},
   "outputs": [],
   "source": [
    "# Create a DataFrame with the predictions\n",
    "df_pred_test_energia_lgb = pd.DataFrame({\n",
    "    'FechaHora': df_test_exog.index,\n",
    "    'pred_energia_lgb': pred_test_energia_lgb\n",
    "})"
   ]
  },
  {
   "cell_type": "code",
   "execution_count": 29,
   "metadata": {},
   "outputs": [
    {
     "data": {
      "text/html": [
       "<div>\n",
       "<style scoped>\n",
       "    .dataframe tbody tr th:only-of-type {\n",
       "        vertical-align: middle;\n",
       "    }\n",
       "\n",
       "    .dataframe tbody tr th {\n",
       "        vertical-align: top;\n",
       "    }\n",
       "\n",
       "    .dataframe thead th {\n",
       "        text-align: right;\n",
       "    }\n",
       "</style>\n",
       "<table border=\"1\" class=\"dataframe\">\n",
       "  <thead>\n",
       "    <tr style=\"text-align: right;\">\n",
       "      <th></th>\n",
       "      <th>FechaHora</th>\n",
       "      <th>pred_energia_lgb</th>\n",
       "    </tr>\n",
       "  </thead>\n",
       "  <tbody>\n",
       "    <tr>\n",
       "      <th>0</th>\n",
       "      <td>2023-06-02 23:00:00</td>\n",
       "      <td>15.681673</td>\n",
       "    </tr>\n",
       "    <tr>\n",
       "      <th>1</th>\n",
       "      <td>2023-06-03 00:00:00</td>\n",
       "      <td>18.151282</td>\n",
       "    </tr>\n",
       "    <tr>\n",
       "      <th>2</th>\n",
       "      <td>2023-06-03 01:00:00</td>\n",
       "      <td>28.366471</td>\n",
       "    </tr>\n",
       "    <tr>\n",
       "      <th>3</th>\n",
       "      <td>2023-06-03 02:00:00</td>\n",
       "      <td>24.321430</td>\n",
       "    </tr>\n",
       "    <tr>\n",
       "      <th>4</th>\n",
       "      <td>2023-06-03 03:00:00</td>\n",
       "      <td>33.980329</td>\n",
       "    </tr>\n",
       "  </tbody>\n",
       "</table>\n",
       "</div>"
      ],
      "text/plain": [
       "            FechaHora  pred_energia_lgb\n",
       "0 2023-06-02 23:00:00         15.681673\n",
       "1 2023-06-03 00:00:00         18.151282\n",
       "2 2023-06-03 01:00:00         28.366471\n",
       "3 2023-06-03 02:00:00         24.321430\n",
       "4 2023-06-03 03:00:00         33.980329"
      ]
     },
     "execution_count": 29,
     "metadata": {},
     "output_type": "execute_result"
    }
   ],
   "source": [
    "df_pred_test_energia_lgb.head()"
   ]
  },
  {
   "cell_type": "markdown",
   "metadata": {},
   "source": [
    "#### Predicción de Energia a 10 dias con LightGBM"
   ]
  },
  {
   "cell_type": "code",
   "execution_count": 30,
   "metadata": {},
   "outputs": [],
   "source": [
    "df_fc_actual_exog.reset_index(inplace=True)"
   ]
  },
  {
   "cell_type": "code",
   "execution_count": 31,
   "metadata": {},
   "outputs": [
    {
     "name": "stdout",
     "output_type": "stream",
     "text": [
      "Start date: 2024-06-02 00:00:00 | End date: 2024-06-11 21:00:00\n"
     ]
    }
   ],
   "source": [
    "# Get the minimum and maximum FechaHora\n",
    "start_date_10d = df_fc_actual_exog['FechaHora'].min()\n",
    "end_date_10d = df_fc_actual_exog['FechaHora'].max()\n",
    "print(f\"Start date: {start_date_10d} | End date: {end_date_10d}\")"
   ]
  },
  {
   "cell_type": "code",
   "execution_count": 32,
   "metadata": {},
   "outputs": [],
   "source": [
    "df_fc_actual_exog['FechaHora'] = pd.to_datetime(df_fc_actual_exog['FechaHora'])\n",
    "df_fc_actual_exog.set_index('FechaHora', inplace=True)"
   ]
  },
  {
   "cell_type": "code",
   "execution_count": 33,
   "metadata": {},
   "outputs": [],
   "source": [
    "# Predict on test data\n",
    "pred_10d_energia_lgb = model.predict(df_fc_actual_exog)"
   ]
  },
  {
   "cell_type": "code",
   "execution_count": 34,
   "metadata": {},
   "outputs": [],
   "source": [
    "# Create a DataFrame with the predictions\n",
    "df_pred_10d_energia_lgb = pd.DataFrame({\n",
    "    'FechaHora': df_fc_actual_exog.index,\n",
    "    'pred_energia_lgb': pred_10d_energia_lgb\n",
    "})"
   ]
  },
  {
   "cell_type": "code",
   "execution_count": 35,
   "metadata": {},
   "outputs": [
    {
     "data": {
      "text/html": [
       "<div>\n",
       "<style scoped>\n",
       "    .dataframe tbody tr th:only-of-type {\n",
       "        vertical-align: middle;\n",
       "    }\n",
       "\n",
       "    .dataframe tbody tr th {\n",
       "        vertical-align: top;\n",
       "    }\n",
       "\n",
       "    .dataframe thead th {\n",
       "        text-align: right;\n",
       "    }\n",
       "</style>\n",
       "<table border=\"1\" class=\"dataframe\">\n",
       "  <thead>\n",
       "    <tr style=\"text-align: right;\">\n",
       "      <th></th>\n",
       "      <th>FechaHora</th>\n",
       "      <th>pred_energia_lgb</th>\n",
       "    </tr>\n",
       "  </thead>\n",
       "  <tbody>\n",
       "    <tr>\n",
       "      <th>0</th>\n",
       "      <td>2024-06-02 00:00:00</td>\n",
       "      <td>10.649182</td>\n",
       "    </tr>\n",
       "    <tr>\n",
       "      <th>1</th>\n",
       "      <td>2024-06-02 01:00:00</td>\n",
       "      <td>12.187967</td>\n",
       "    </tr>\n",
       "    <tr>\n",
       "      <th>2</th>\n",
       "      <td>2024-06-02 02:00:00</td>\n",
       "      <td>15.378987</td>\n",
       "    </tr>\n",
       "    <tr>\n",
       "      <th>3</th>\n",
       "      <td>2024-06-02 03:00:00</td>\n",
       "      <td>33.362576</td>\n",
       "    </tr>\n",
       "    <tr>\n",
       "      <th>4</th>\n",
       "      <td>2024-06-02 04:00:00</td>\n",
       "      <td>34.581394</td>\n",
       "    </tr>\n",
       "  </tbody>\n",
       "</table>\n",
       "</div>"
      ],
      "text/plain": [
       "            FechaHora  pred_energia_lgb\n",
       "0 2024-06-02 00:00:00         10.649182\n",
       "1 2024-06-02 01:00:00         12.187967\n",
       "2 2024-06-02 02:00:00         15.378987\n",
       "3 2024-06-02 03:00:00         33.362576\n",
       "4 2024-06-02 04:00:00         34.581394"
      ]
     },
     "execution_count": 35,
     "metadata": {},
     "output_type": "execute_result"
    }
   ],
   "source": [
    "df_pred_10d_energia_lgb.head()"
   ]
  },
  {
   "cell_type": "code",
   "execution_count": null,
   "metadata": {},
   "outputs": [],
   "source": []
  }
 ],
 "metadata": {
  "kernelspec": {
   "display_name": "tesis-python-3.11",
   "language": "python",
   "name": "tesis-python-3.11"
  },
  "language_info": {
   "codemirror_mode": {
    "name": "ipython",
    "version": 3
   },
   "file_extension": ".py",
   "mimetype": "text/x-python",
   "name": "python",
   "nbconvert_exporter": "python",
   "pygments_lexer": "ipython3",
   "version": "3.11.8"
  }
 },
 "nbformat": 4,
 "nbformat_minor": 4
}
