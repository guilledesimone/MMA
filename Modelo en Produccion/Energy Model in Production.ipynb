{
 "cells": [
  {
   "attachments": {},
   "cell_type": "markdown",
   "metadata": {},
   "source": [
    "# Model in Production for Wind Power Predictions - PE La Castellana\n"
   ]
  },
  {
   "cell_type": "markdown",
   "metadata": {},
   "source": [
    "El dataset que se va a trabajar corresponde al Parque Eólico La Castellana (localizado en Bahia Blanca)."
   ]
  },
  {
   "cell_type": "code",
   "execution_count": 1,
   "metadata": {},
   "outputs": [],
   "source": [
    "import pandas as pd\n",
    "import numpy as np\n",
    "\n",
    "pd.options.mode.copy_on_write = True \n",
    "from datetime import datetime, timedelta\n",
    "\n",
    "from sklearn.metrics import mean_absolute_error, mean_squared_error#, r2_score\n",
    "from sklearn.model_selection import RandomizedSearchCV, TimeSeriesSplit\n",
    "\n",
    "\n",
    "# Utilities\n",
    "import os\n",
    "import pickle\n",
    "import requests as req\n",
    "from io import BytesIO\n",
    "\n",
    "\n",
    "# LightGBM model\n",
    "import lightgbm as lgb\n",
    "from lightgbm import LGBMRegressor"
   ]
  },
  {
   "cell_type": "code",
   "execution_count": 2,
   "metadata": {},
   "outputs": [],
   "source": [
    "FOLDER = 'dist' # Should be clean before the execution"
   ]
  },
  {
   "cell_type": "markdown",
   "metadata": {},
   "source": [
    "#### Carga de dataset de Históricos"
   ]
  },
  {
   "cell_type": "code",
   "execution_count": 3,
   "metadata": {},
   "outputs": [],
   "source": [
    "path = 'https://raw.githubusercontent.com/guilledesimone/MMA-Tesis/refs/heads/main/Datos/ds_histo_02022019-13062024.csv'\n",
    "#path = 'D:\\\\Documents\\\\MMA\\\\1.0 Tesis\\\\Datos\\\\ds_histo_02022019-13062024.csv' \n",
    "\n",
    "df_histo_full = pd.read_csv(path, decimal=',', parse_dates=['FechaHora'], \n",
    "                 date_format='%Y-%m-%d %H:%M:%S', delimiter=';', header=0)"
   ]
  },
  {
   "cell_type": "code",
   "execution_count": 4,
   "metadata": {},
   "outputs": [],
   "source": [
    "# Drop rows where EnergiaSMEC is NaN\n",
    "df_histo_full.dropna(subset=['EnergiaSMEC'], inplace=True)"
   ]
  },
  {
   "cell_type": "markdown",
   "metadata": {},
   "source": [
    "#### Carga de dataset de Forecast & Actual para evaluar performance"
   ]
  },
  {
   "cell_type": "code",
   "execution_count": 5,
   "metadata": {},
   "outputs": [],
   "source": [
    "path = 'https://raw.githubusercontent.com/guilledesimone/MMA-Tesis/refs/heads/main/Datos/ds_fc_actual_02062024-11062024.csv'\n",
    "\n",
    "#path = 'D:\\\\Documents\\\\MMA\\\\1.0 Tesis\\\\Datos\\\\ds_fc_actual_02062024-11062024.csv' #lote 1\n",
    "#path = 'D:\\\\Documents\\\\MMA\\\\1.0 Tesis\\\\Datos\\\\ds_fc_actual_17062024-26062024.csv' #lote 2\n",
    "\n",
    "\n",
    "df_fc_actual = pd.read_csv(path, decimal=',', parse_dates=['FechaHora'], \n",
    "                 date_format='%Y-%m-%d %H:%M:%S', delimiter=';', header=0)"
   ]
  },
  {
   "cell_type": "code",
   "execution_count": 6,
   "metadata": {},
   "outputs": [],
   "source": [
    "#El forecast de aero_disp lo estimo en base al valor medio\n",
    "\n",
    "# Filter the subset where AerosDisp is not null\n",
    "filtered_df = df_fc_actual.dropna(subset=['aeros_disp'])\n",
    "\n",
    "# Calculate the mean of aero_disp \n",
    "mean_aeros_disp = filtered_df.tail(12)['aeros_disp'].mean()\n",
    "\n",
    "df_fc_actual['aeros_disp'] = mean_aeros_disp.round(2)"
   ]
  },
  {
   "cell_type": "markdown",
   "metadata": {},
   "source": [
    "Selección de variables relevantes"
   ]
  },
  {
   "cell_type": "code",
   "execution_count": 7,
   "metadata": {},
   "outputs": [],
   "source": [
    "# Define the desired column order\n",
    "main_features = ['FechaHora','EnergiaSMEC','aeros_disp','ws100_avg', 'dir100_avg', 'temp_avg','energia_fc_cammesa'] #promedio de fuentes de ecwmf y gfs\n",
    "#main_features = ['FechaHora','EnergiaSMEC','aeros_disp','ws100_ecmwf', 'dir100_ecmwf', 'temp_ecmwf']"
   ]
  },
  {
   "cell_type": "code",
   "execution_count": 8,
   "metadata": {},
   "outputs": [],
   "source": [
    "df_fc_actual = df_fc_actual[main_features[:-1]]"
   ]
  },
  {
   "cell_type": "code",
   "execution_count": 9,
   "metadata": {},
   "outputs": [],
   "source": [
    "#df_fc_actual.head()"
   ]
  },
  {
   "cell_type": "markdown",
   "metadata": {},
   "source": [
    "#### Preparación de datos historico"
   ]
  },
  {
   "cell_type": "code",
   "execution_count": 10,
   "metadata": {},
   "outputs": [],
   "source": [
    "# Get the minimum FechaHora\n",
    "start_date = df_fc_actual['FechaHora'].min()\n",
    "\n",
    "# Exclude data with FechaHora >= start_date, because this is the initial date for the forecast \n",
    "df_histo_full = df_histo_full[df_histo_full['FechaHora'] < start_date]"
   ]
  },
  {
   "cell_type": "code",
   "execution_count": 11,
   "metadata": {},
   "outputs": [],
   "source": [
    "# Main the DataFrame columns\n",
    "df_histo = df_histo_full[main_features[:-1]]\n",
    "\n",
    "# Set FechaHora as Index\n",
    "#df_histo.set_index('FechaHora', inplace=True)\n",
    "\n",
    "#df_histo.head()"
   ]
  },
  {
   "cell_type": "markdown",
   "metadata": {},
   "source": [
    "#### Division en train y test"
   ]
  },
  {
   "cell_type": "code",
   "execution_count": 12,
   "metadata": {},
   "outputs": [],
   "source": [
    "# Define the start date for the train and test sets\n",
    "train_start_dt = df_histo['FechaHora'].min()\n",
    "test_start_dt = df_histo['FechaHora'].max() - pd.Timedelta(days=365)\n"
   ]
  },
  {
   "cell_type": "code",
   "execution_count": 13,
   "metadata": {},
   "outputs": [
    {
     "name": "stdout",
     "output_type": "stream",
     "text": [
      "Training data shape:  (37966, 6)\n",
      "Test data shape:  (8761, 7)\n"
     ]
    }
   ],
   "source": [
    "# Create train set containing only the model features\n",
    "df_train = df_histo[\n",
    "(df_histo['FechaHora'] >= train_start_dt)\n",
    "& (df_histo['FechaHora'] < test_start_dt)].copy()\n",
    "\n",
    "# Create test set containing only the model features\n",
    "df_test = df_histo_full[df_histo_full['FechaHora'] >= test_start_dt][main_features].copy()\n",
    "\n",
    "print('Training data shape: ', df_train.shape)\n",
    "print('Test data shape: ', df_test.shape)"
   ]
  },
  {
   "cell_type": "markdown",
   "metadata": {},
   "source": [
    "#### Preparación de dataset forecast - exogenos"
   ]
  },
  {
   "cell_type": "code",
   "execution_count": 14,
   "metadata": {
    "scrolled": true
   },
   "outputs": [],
   "source": [
    "exog_features = [feature for feature in main_features if feature != 'EnergiaSMEC'and feature != 'energia_fc_cammesa']\n",
    "\n",
    "# Reorder the DataFrame columns\n",
    "df_fc_actual_exog = df_fc_actual[exog_features]\n",
    "# Set FechaHora as Index\n",
    "df_fc_actual_exog.set_index('FechaHora', inplace=True)\n",
    "\n",
    "#df_fc_actual_exog.head()"
   ]
  },
  {
   "cell_type": "markdown",
   "metadata": {},
   "source": [
    "### Entrenamiento del modelo LightGBM"
   ]
  },
  {
   "cell_type": "code",
   "execution_count": 15,
   "metadata": {},
   "outputs": [],
   "source": [
    "df_test.set_index('FechaHora', inplace=True)\n",
    "df_train.set_index('FechaHora', inplace=True)"
   ]
  },
  {
   "cell_type": "code",
   "execution_count": 16,
   "metadata": {},
   "outputs": [],
   "source": [
    "# Separate features and target\n",
    "x_train, y_train = df_train.drop(columns=['EnergiaSMEC']), df_train['EnergiaSMEC'].values\n",
    "x_test, y_test = df_test.drop(columns=['EnergiaSMEC','energia_fc_cammesa']), df_test['EnergiaSMEC'].values"
   ]
  },
  {
   "cell_type": "code",
   "execution_count": 17,
   "metadata": {},
   "outputs": [],
   "source": [
    "# Separate features and target\n",
    "x_train, y_train = df_train.drop(columns=['EnergiaSMEC']), df_train['EnergiaSMEC'].values\n",
    "x_test, y_test = df_test.drop(columns=['EnergiaSMEC','energia_fc_cammesa']), df_test['EnergiaSMEC'].values\n"
   ]
  },
  {
   "cell_type": "code",
   "execution_count": 18,
   "metadata": {},
   "outputs": [
    {
     "data": {
      "text/plain": [
       "numpy.ndarray"
      ]
     },
     "execution_count": 18,
     "metadata": {},
     "output_type": "execute_result"
    }
   ],
   "source": [
    "type(y_train)"
   ]
  },
  {
   "cell_type": "code",
   "execution_count": 19,
   "metadata": {},
   "outputs": [],
   "source": [
    "def fit_lgbm(x_train: pd.DataFrame, y_train: np.ndarray) -> LGBMRegressor:\n",
    "    \"\"\"\n",
    "        Fits a LigthGBM model, saves the model and returns it.\n",
    "    \"\"\"\n",
    "    params = {\n",
    "    'num_leaves': 30,\n",
    "    'n_estimators': 100,\n",
    "    'max_depth': 8,\n",
    "    'min_child_samples': 200,\n",
    "    'learning_rate': 0.05,\n",
    "    'subsample': 0.70,\n",
    "    'colsample_bytree': 0.75\n",
    "    }\n",
    "\n",
    "    # Initialize the model\n",
    "    model = lgb.LGBMRegressor(**params)\n",
    "    \n",
    "    # Parameter grid for RandomizedSearchCV\n",
    "    param_grid = {\n",
    "        'num_leaves': [20, 30, 40, 50],\n",
    "        'n_estimators': [50,70,100, 200, 400, 600],\n",
    "        'max_depth': [6, 8, 10, 12],\n",
    "        'min_child_samples': [20, 50, 100, 200, 400, 600],\n",
    "        'learning_rate': [0.01, 0.05, 0.1, 0.15],\n",
    "        'subsample': [0.5, 0.7, 0.8, 0.9],\n",
    "        'colsample_bytree': [0.6, 0.75, 0.8, 0.9, 1]\n",
    "    }\n",
    "    \n",
    "    # Set up TimeSeriesSplit\n",
    "    tscv = TimeSeriesSplit(n_splits=5)\n",
    "    \n",
    "    # Set up RandomizedSearchCV with TimeSeriesSplit\n",
    "    random_search = RandomizedSearchCV(\n",
    "        model, param_distributions=param_grid, n_iter=25, cv=tscv, verbose=1, n_jobs=-1,\n",
    "        random_state=14, scoring='neg_mean_squared_error'\n",
    "    )\n",
    "\n",
    "    # Fit the model\n",
    "    random_search.fit(x_train, y_train)\n",
    "       \n",
    "    # Get the best model\n",
    "    best_model = random_search.best_estimator_\n",
    "    \n",
    "    # Save the model in a pickle file\n",
    "    file_name = 'model.pkl'\n",
    "    with open(os.path.join(FOLDER, file_name), 'wb') as f:\n",
    "        pickle.dump(best_model, f)     \n",
    "\n",
    "    print('Model saved')\n",
    "    return best_model"
   ]
  },
  {
   "cell_type": "code",
   "execution_count": 20,
   "metadata": {},
   "outputs": [
    {
     "name": "stdout",
     "output_type": "stream",
     "text": [
      "Fitting 5 folds for each of 25 candidates, totalling 125 fits\n",
      "[LightGBM] [Info] Auto-choosing row-wise multi-threading, the overhead of testing was 0.000168 seconds.\n",
      "You can set `force_row_wise=true` to remove the overhead.\n",
      "And if memory is not enough, you can set `force_col_wise=true`.\n",
      "[LightGBM] [Info] Total Bins 1003\n",
      "[LightGBM] [Info] Number of data points in the train set: 37966, number of used features: 4\n",
      "[LightGBM] [Info] Start training from score 47.909617\n",
      "Model saved\n"
     ]
    }
   ],
   "source": [
    "model = fit_lgbm(x_train, y_train)"
   ]
  },
  {
   "cell_type": "code",
   "execution_count": 21,
   "metadata": {},
   "outputs": [],
   "source": [
    "# Predict on test data\n",
    "y_pred = model.predict(x_test)"
   ]
  },
  {
   "cell_type": "code",
   "execution_count": 22,
   "metadata": {},
   "outputs": [
    {
     "name": "stdout",
     "output_type": "stream",
     "text": [
      "Best parameters found: LGBMRegressor(colsample_bytree=0.9, max_depth=8, min_child_samples=100,\n",
      "              n_estimators=50, num_leaves=30, subsample=0.5)\n",
      "MAE: 10.923722234236603\n",
      "RMSE: 16.194633689456477\n"
     ]
    }
   ],
   "source": [
    "# Evaluate the model\n",
    "mae_t = mean_absolute_error(y_test, y_pred)\n",
    "mse_t = mean_squared_error(y_test, y_pred)\n",
    "\n",
    "rmse_t = np.sqrt(mse_t)\n",
    "print(f'Best parameters found: {model}')\n",
    "print(f'MAE: {mae_t}')\n",
    "print(f'RMSE: {rmse_t}')"
   ]
  },
  {
   "cell_type": "markdown",
   "metadata": {},
   "source": [
    "#### Predicción de Energia en dataset de TEST (último año) con LightGBM"
   ]
  },
  {
   "cell_type": "code",
   "execution_count": 23,
   "metadata": {},
   "outputs": [],
   "source": [
    "if df_test.index.name != 'FechaHora':\n",
    "    df_test.set_index('FechaHora', inplace=True)"
   ]
  },
  {
   "cell_type": "code",
   "execution_count": 24,
   "metadata": {},
   "outputs": [
    {
     "name": "stdout",
     "output_type": "stream",
     "text": [
      "Start date: 2023-06-02 23:00:00 | End date: 2024-06-01 23:00:00\n"
     ]
    }
   ],
   "source": [
    "# Get the minimum and maximum FechaHora\n",
    "start_test_date = df_test.index.min()\n",
    "end_test_date = df_test.index.max()\n",
    "print(f\"Start date: {start_test_date} | End date: {end_test_date}\")"
   ]
  },
  {
   "cell_type": "code",
   "execution_count": 25,
   "metadata": {},
   "outputs": [],
   "source": [
    "df_test_exog = df_test[exog_features[1:]]\n"
   ]
  },
  {
   "cell_type": "code",
   "execution_count": 26,
   "metadata": {},
   "outputs": [],
   "source": [
    "# Predict on test data\n",
    "pred_test_energia_lgb = model.predict(df_test_exog)"
   ]
  },
  {
   "cell_type": "code",
   "execution_count": 27,
   "metadata": {},
   "outputs": [],
   "source": [
    "# Create a DataFrame with the predictions\n",
    "df_pred_test_energia_lgb = pd.DataFrame({\n",
    "    'FechaHora': df_test_exog.index,\n",
    "    'pred_energia_lgb': pred_test_energia_lgb\n",
    "})"
   ]
  },
  {
   "cell_type": "code",
   "execution_count": 28,
   "metadata": {},
   "outputs": [
    {
     "data": {
      "text/html": [
       "<div>\n",
       "<style scoped>\n",
       "    .dataframe tbody tr th:only-of-type {\n",
       "        vertical-align: middle;\n",
       "    }\n",
       "\n",
       "    .dataframe tbody tr th {\n",
       "        vertical-align: top;\n",
       "    }\n",
       "\n",
       "    .dataframe thead th {\n",
       "        text-align: right;\n",
       "    }\n",
       "</style>\n",
       "<table border=\"1\" class=\"dataframe\">\n",
       "  <thead>\n",
       "    <tr style=\"text-align: right;\">\n",
       "      <th></th>\n",
       "      <th>FechaHora</th>\n",
       "      <th>pred_energia_lgb</th>\n",
       "    </tr>\n",
       "  </thead>\n",
       "  <tbody>\n",
       "    <tr>\n",
       "      <th>0</th>\n",
       "      <td>2023-06-02 23:00:00</td>\n",
       "      <td>15.681673</td>\n",
       "    </tr>\n",
       "    <tr>\n",
       "      <th>1</th>\n",
       "      <td>2023-06-03 00:00:00</td>\n",
       "      <td>18.151282</td>\n",
       "    </tr>\n",
       "    <tr>\n",
       "      <th>2</th>\n",
       "      <td>2023-06-03 01:00:00</td>\n",
       "      <td>28.366471</td>\n",
       "    </tr>\n",
       "    <tr>\n",
       "      <th>3</th>\n",
       "      <td>2023-06-03 02:00:00</td>\n",
       "      <td>24.321430</td>\n",
       "    </tr>\n",
       "    <tr>\n",
       "      <th>4</th>\n",
       "      <td>2023-06-03 03:00:00</td>\n",
       "      <td>33.980329</td>\n",
       "    </tr>\n",
       "  </tbody>\n",
       "</table>\n",
       "</div>"
      ],
      "text/plain": [
       "            FechaHora  pred_energia_lgb\n",
       "0 2023-06-02 23:00:00         15.681673\n",
       "1 2023-06-03 00:00:00         18.151282\n",
       "2 2023-06-03 01:00:00         28.366471\n",
       "3 2023-06-03 02:00:00         24.321430\n",
       "4 2023-06-03 03:00:00         33.980329"
      ]
     },
     "execution_count": 28,
     "metadata": {},
     "output_type": "execute_result"
    }
   ],
   "source": [
    "df_pred_test_energia_lgb.head()"
   ]
  },
  {
   "cell_type": "markdown",
   "metadata": {},
   "source": [
    "#### Predicción de Energia a 10 dias con LightGBM"
   ]
  },
  {
   "cell_type": "code",
   "execution_count": 29,
   "metadata": {},
   "outputs": [],
   "source": [
    "df_fc_actual_exog.reset_index(inplace=True)"
   ]
  },
  {
   "cell_type": "code",
   "execution_count": 30,
   "metadata": {},
   "outputs": [
    {
     "name": "stdout",
     "output_type": "stream",
     "text": [
      "Start date: 2024-06-02 00:00:00 | End date: 2024-06-11 21:00:00\n"
     ]
    }
   ],
   "source": [
    "# Get the minimum and maximum FechaHora\n",
    "start_date_10d = df_fc_actual_exog['FechaHora'].min()\n",
    "end_date_10d = df_fc_actual_exog['FechaHora'].max()\n",
    "print(f\"Start date: {start_date_10d} | End date: {end_date_10d}\")"
   ]
  },
  {
   "cell_type": "code",
   "execution_count": 31,
   "metadata": {},
   "outputs": [],
   "source": [
    "df_fc_actual_exog['FechaHora'] = pd.to_datetime(df_fc_actual_exog['FechaHora'])\n",
    "df_fc_actual_exog.set_index('FechaHora', inplace=True)"
   ]
  },
  {
   "cell_type": "code",
   "execution_count": 32,
   "metadata": {},
   "outputs": [],
   "source": [
    "# Predict on test data\n",
    "pred_10d_energia_lgb = model.predict(df_fc_actual_exog)"
   ]
  },
  {
   "cell_type": "code",
   "execution_count": 33,
   "metadata": {},
   "outputs": [],
   "source": [
    "# Create a DataFrame with the predictions\n",
    "df_pred_10d_energia_lgb = pd.DataFrame({\n",
    "    'FechaHora': df_fc_actual_exog.index,\n",
    "    'pred_energia_lgb': pred_10d_energia_lgb\n",
    "})"
   ]
  },
  {
   "cell_type": "code",
   "execution_count": 34,
   "metadata": {},
   "outputs": [
    {
     "data": {
      "text/html": [
       "<div>\n",
       "<style scoped>\n",
       "    .dataframe tbody tr th:only-of-type {\n",
       "        vertical-align: middle;\n",
       "    }\n",
       "\n",
       "    .dataframe tbody tr th {\n",
       "        vertical-align: top;\n",
       "    }\n",
       "\n",
       "    .dataframe thead th {\n",
       "        text-align: right;\n",
       "    }\n",
       "</style>\n",
       "<table border=\"1\" class=\"dataframe\">\n",
       "  <thead>\n",
       "    <tr style=\"text-align: right;\">\n",
       "      <th></th>\n",
       "      <th>FechaHora</th>\n",
       "      <th>pred_energia_lgb</th>\n",
       "    </tr>\n",
       "  </thead>\n",
       "  <tbody>\n",
       "    <tr>\n",
       "      <th>0</th>\n",
       "      <td>2024-06-02 00:00:00</td>\n",
       "      <td>10.649182</td>\n",
       "    </tr>\n",
       "    <tr>\n",
       "      <th>1</th>\n",
       "      <td>2024-06-02 01:00:00</td>\n",
       "      <td>12.187967</td>\n",
       "    </tr>\n",
       "    <tr>\n",
       "      <th>2</th>\n",
       "      <td>2024-06-02 02:00:00</td>\n",
       "      <td>15.378987</td>\n",
       "    </tr>\n",
       "    <tr>\n",
       "      <th>3</th>\n",
       "      <td>2024-06-02 03:00:00</td>\n",
       "      <td>33.362576</td>\n",
       "    </tr>\n",
       "    <tr>\n",
       "      <th>4</th>\n",
       "      <td>2024-06-02 04:00:00</td>\n",
       "      <td>34.581394</td>\n",
       "    </tr>\n",
       "  </tbody>\n",
       "</table>\n",
       "</div>"
      ],
      "text/plain": [
       "            FechaHora  pred_energia_lgb\n",
       "0 2024-06-02 00:00:00         10.649182\n",
       "1 2024-06-02 01:00:00         12.187967\n",
       "2 2024-06-02 02:00:00         15.378987\n",
       "3 2024-06-02 03:00:00         33.362576\n",
       "4 2024-06-02 04:00:00         34.581394"
      ]
     },
     "execution_count": 34,
     "metadata": {},
     "output_type": "execute_result"
    }
   ],
   "source": [
    "df_pred_10d_energia_lgb.head()"
   ]
  },
  {
   "cell_type": "markdown",
   "metadata": {},
   "source": [
    "## Docker Comandos"
   ]
  },
  {
   "cell_type": "code",
   "execution_count": 35,
   "metadata": {},
   "outputs": [],
   "source": [
    "import os\n",
    "os.environ['PATH'] += ';D:\\\\Program Files\\\\Docker\\\\Docker\\\\resources\\\\bin'"
   ]
  },
  {
   "cell_type": "code",
   "execution_count": 36,
   "metadata": {},
   "outputs": [],
   "source": [
    "#comandos\n",
    "#!docker"
   ]
  },
  {
   "cell_type": "code",
   "execution_count": 37,
   "metadata": {},
   "outputs": [
    {
     "name": "stdout",
     "output_type": "stream",
     "text": [
      "REPOSITORY   TAG       IMAGE ID   CREATED   SIZE\n"
     ]
    }
   ],
   "source": [
    "# O !docker image ls\n",
    "#!docker images"
   ]
  },
  {
   "cell_type": "code",
   "execution_count": 38,
   "metadata": {},
   "outputs": [],
   "source": [
    "#conteiners corridos hasta el momento:\n",
    "#!docker container ls --all\n"
   ]
  },
  {
   "cell_type": "code",
   "execution_count": 39,
   "metadata": {},
   "outputs": [],
   "source": [
    "# Para correr la imagen:\n",
    "\n",
    "# Terminal\n",
    "#!docker run --interactive --tty ubuntu bash"
   ]
  },
  {
   "cell_type": "code",
   "execution_count": 40,
   "metadata": {},
   "outputs": [],
   "source": [
    "#Correr un servicio foreground (ejecutar en primer plano) para entorno de desarrollo:\n",
    "\n",
    "# Terminal\n",
    "#!docker run --publish 80:80 flask"
   ]
  },
  {
   "cell_type": "code",
   "execution_count": 41,
   "metadata": {},
   "outputs": [],
   "source": [
    "#correr un servicio detached (ejecutar en modo desacoplado) para entorno productivo:\n",
    "\n",
    "#!docker run --detach --publish 80:80 flask"
   ]
  },
  {
   "cell_type": "code",
   "execution_count": 42,
   "metadata": {},
   "outputs": [],
   "source": [
    "#para ver que servicios estan corriendo:\n",
    "\n",
    "#`uname -a` nos va a mostrar que container y host están compartiendo el kernel\n",
    "\n",
    "#!docker ps"
   ]
  },
  {
   "cell_type": "code",
   "execution_count": 43,
   "metadata": {},
   "outputs": [],
   "source": [
    "#para ver los logs:\n",
    "\n",
    "#!docker logs 7f98c7a7f655"
   ]
  },
  {
   "cell_type": "code",
   "execution_count": 44,
   "metadata": {},
   "outputs": [],
   "source": [
    "#detener el contenedor:\n",
    "\n",
    "#!docker stop 7f98c7a7f655"
   ]
  },
  {
   "cell_type": "code",
   "execution_count": 45,
   "metadata": {},
   "outputs": [],
   "source": [
    "#para nombrar el container:\n",
    "\n",
    "#!docker run --detach --publish 80:80 --name webserver nginx"
   ]
  },
  {
   "cell_type": "code",
   "execution_count": 46,
   "metadata": {},
   "outputs": [],
   "source": [
    "#listar contenedores:\n",
    "\n",
    "#!docker container ls --all"
   ]
  },
  {
   "cell_type": "code",
   "execution_count": 47,
   "metadata": {},
   "outputs": [],
   "source": [
    "#eliminar un contenedor\n",
    "\n",
    "#!docker rm webserver"
   ]
  },
  {
   "cell_type": "code",
   "execution_count": 48,
   "metadata": {},
   "outputs": [],
   "source": [
    "#cuanto recursos ocupa el contenedor\n",
    "\n",
    "#!docker stats --no-stream"
   ]
  },
  {
   "cell_type": "markdown",
   "metadata": {},
   "source": [
    "## Construccion de la imagen"
   ]
  },
  {
   "cell_type": "code",
   "execution_count": 49,
   "metadata": {},
   "outputs": [
    {
     "name": "stdout",
     "output_type": "stream",
     "text": [
      "Flask\n",
      "pandas\n",
      "requests\n",
      "scikit-learn\n",
      "lightgbm\n",
      "\n",
      "\n",
      "\n"
     ]
    }
   ],
   "source": [
    "#Archivos de requerimientos\n",
    "!type requirements.txt"
   ]
  },
  {
   "cell_type": "code",
   "execution_count": 50,
   "metadata": {},
   "outputs": [],
   "source": [
    "#Intelacion en el ambiente\n",
    "\n",
    "#!pip install -r requirements.txt"
   ]
  },
  {
   "cell_type": "code",
   "execution_count": 35,
   "metadata": {},
   "outputs": [
    {
     "name": "stdout",
     "output_type": "stream",
     "text": [
      "# Imagen padre desde la que vamos a heredar. \n",
      "FROM python:3.11\n",
      "\n",
      "# Directorio adentro del container en donde vamos a trabajar\n",
      "WORKDIR /app_energypred\n",
      "\n",
      "# Contexto: Copia todo el contenido de este directorio adentro del container en la carpeta /app\n",
      "COPY . /app_energypred\n",
      "\n",
      "# Correr un comando, en este caso para instalar las dependencias en requirements.txt\n",
      "RUN pip install -r requirements.txt\n",
      "\n",
      "# Abre el puerto 5000 del container\n",
      "EXPOSE 5000\n",
      "\n",
      "# Cuando el container se lance va a ejecutar este comando\n",
      "CMD [\"python\", \"energy_app.py\"]\n"
     ]
    }
   ],
   "source": [
    "!type Dockerfile_energypred"
   ]
  },
  {
   "cell_type": "code",
   "execution_count": 75,
   "metadata": {},
   "outputs": [
    {
     "name": "stderr",
     "output_type": "stream",
     "text": [
      "#0 building with \"desktop-linux\" instance using docker driver\n",
      "\n",
      "#1 [internal] load build definition from Dockerfile_energypred\n",
      "#1 transferring dockerfile: 580B done\n",
      "#1 DONE 0.0s\n",
      "\n",
      "#2 [internal] load metadata for docker.io/library/python:3.11\n",
      "#2 ...\n",
      "\n",
      "#3 [auth] library/python:pull token for registry-1.docker.io\n",
      "#3 DONE 0.0s\n",
      "\n",
      "#2 [internal] load metadata for docker.io/library/python:3.11\n",
      "#2 DONE 1.4s\n",
      "\n",
      "#4 [internal] load .dockerignore\n",
      "#4 transferring context: 2B done\n",
      "#4 DONE 0.0s\n",
      "\n",
      "#5 [1/4] FROM docker.io/library/python:3.11@sha256:706d1233c61a31507c4f8939cfd6a924610b51174c095f33e2c537fb904a1e76\n",
      "#5 DONE 0.0s\n",
      "\n",
      "#6 [internal] load build context\n",
      "#6 transferring context: 51.34kB done\n",
      "#6 DONE 0.0s\n",
      "\n",
      "#7 [2/4] WORKDIR /app_energypred\n",
      "#7 CACHED\n",
      "\n",
      "#8 [3/4] COPY . /app_energypred\n",
      "#8 DONE 0.1s\n",
      "\n",
      "#9 [4/4] RUN pip install -r requirements.txt\n",
      "#9 2.522 Collecting Flask (from -r requirements.txt (line 1))\n",
      "#9 3.176   Downloading flask-3.1.0-py3-none-any.whl.metadata (2.7 kB)\n",
      "#9 3.384 Collecting pandas (from -r requirements.txt (line 2))\n",
      "#9 3.405   Downloading pandas-2.2.3-cp311-cp311-manylinux_2_17_x86_64.manylinux2014_x86_64.whl.metadata (89 kB)\n",
      "#9 3.442      â”�â”�â”�â”�â”�â”�â”�â”�â”�â”�â”�â”�â”�â”�â”�â”�â”�â”�â”�â”�â”�â”�â”�â”�â”�â”�â”�â”�â”�â”�â”�â”�â”�â”�â”�â”�â”�â”�â”�â”� 89.9/89.9 kB 2.4 MB/s eta 0:00:00\n",
      "#9 3.516 Collecting requests (from -r requirements.txt (line 3))\n",
      "#9 3.531   Downloading requests-2.32.3-py3-none-any.whl.metadata (4.6 kB)\n",
      "#9 3.668 Collecting scikit-learn (from -r requirements.txt (line 4))\n",
      "#9 3.686   Downloading scikit_learn-1.5.2-cp311-cp311-manylinux_2_17_x86_64.manylinux2014_x86_64.whl.metadata (13 kB)\n",
      "#9 3.889 Collecting lightgbm (from -r requirements.txt (line 5))\n",
      "#9 3.907   Downloading lightgbm-4.5.0-py3-none-manylinux_2_28_x86_64.whl.metadata (17 kB)\n",
      "#9 3.981 Collecting Werkzeug>=3.1 (from Flask->-r requirements.txt (line 1))\n",
      "#9 4.005   Downloading werkzeug-3.1.3-py3-none-any.whl.metadata (3.7 kB)\n",
      "#9 4.057 Collecting Jinja2>=3.1.2 (from Flask->-r requirements.txt (line 1))\n",
      "#9 4.074   Downloading jinja2-3.1.4-py3-none-any.whl.metadata (2.6 kB)\n",
      "#9 4.126 Collecting itsdangerous>=2.2 (from Flask->-r requirements.txt (line 1))\n",
      "#9 4.143   Downloading itsdangerous-2.2.0-py3-none-any.whl.metadata (1.9 kB)\n",
      "#9 4.201 Collecting click>=8.1.3 (from Flask->-r requirements.txt (line 1))\n",
      "#9 4.216   Downloading click-8.1.7-py3-none-any.whl.metadata (3.0 kB)\n",
      "#9 4.488 Collecting blinker>=1.9 (from Flask->-r requirements.txt (line 1))\n",
      "#9 4.507   Downloading blinker-1.9.0-py3-none-any.whl.metadata (1.6 kB)\n",
      "#9 4.818 Collecting numpy>=1.23.2 (from pandas->-r requirements.txt (line 2))\n",
      "#9 4.839   Downloading numpy-2.1.3-cp311-cp311-manylinux_2_17_x86_64.manylinux2014_x86_64.whl.metadata (62 kB)\n",
      "#9 4.863      â”�â”�â”�â”�â”�â”�â”�â”�â”�â”�â”�â”�â”�â”�â”�â”�â”�â”�â”�â”�â”�â”�â”�â”�â”�â”�â”�â”�â”�â”�â”�â”�â”�â”�â”�â”�â”�â”�â”�â”� 62.0/62.0 kB 2.6 MB/s eta 0:00:00\n",
      "#9 4.917 Collecting python-dateutil>=2.8.2 (from pandas->-r requirements.txt (line 2))\n",
      "#9 4.934   Downloading python_dateutil-2.9.0.post0-py2.py3-none-any.whl.metadata (8.4 kB)\n",
      "#9 5.025 Collecting pytz>=2020.1 (from pandas->-r requirements.txt (line 2))\n",
      "#9 5.042   Downloading pytz-2024.2-py2.py3-none-any.whl.metadata (22 kB)\n",
      "#9 5.095 Collecting tzdata>=2022.7 (from pandas->-r requirements.txt (line 2))\n",
      "#9 5.114   Downloading tzdata-2024.2-py2.py3-none-any.whl.metadata (1.4 kB)\n",
      "#9 5.247 Collecting charset-normalizer<4,>=2 (from requests->-r requirements.txt (line 3))\n",
      "#9 5.266   Downloading charset_normalizer-3.4.0-cp311-cp311-manylinux_2_17_x86_64.manylinux2014_x86_64.whl.metadata (34 kB)\n",
      "#9 5.331 Collecting idna<4,>=2.5 (from requests->-r requirements.txt (line 3))\n",
      "#9 5.346   Downloading idna-3.10-py3-none-any.whl.metadata (10 kB)\n",
      "#9 5.428 Collecting urllib3<3,>=1.21.1 (from requests->-r requirements.txt (line 3))\n",
      "#9 5.444   Downloading urllib3-2.2.3-py3-none-any.whl.metadata (6.5 kB)\n",
      "#9 5.502 Collecting certifi>=2017.4.17 (from requests->-r requirements.txt (line 3))\n",
      "#9 5.518   Downloading certifi-2024.8.30-py3-none-any.whl.metadata (2.2 kB)\n",
      "#9 5.766 Collecting scipy>=1.6.0 (from scikit-learn->-r requirements.txt (line 4))\n",
      "#9 5.785   Downloading scipy-1.14.1-cp311-cp311-manylinux_2_17_x86_64.manylinux2014_x86_64.whl.metadata (60 kB)\n",
      "#9 5.800      â”�â”�â”�â”�â”�â”�â”�â”�â”�â”�â”�â”�â”�â”�â”�â”�â”�â”�â”�â”�â”�â”�â”�â”�â”�â”�â”�â”�â”�â”�â”�â”�â”�â”�â”�â”�â”�â”�â”�â”� 60.8/60.8 kB 3.8 MB/s eta 0:00:00\n",
      "#9 5.865 Collecting joblib>=1.2.0 (from scikit-learn->-r requirements.txt (line 4))\n",
      "#9 5.880   Downloading joblib-1.4.2-py3-none-any.whl.metadata (5.4 kB)\n",
      "#9 5.925 Collecting threadpoolctl>=3.1.0 (from scikit-learn->-r requirements.txt (line 4))\n",
      "#9 5.946   Downloading threadpoolctl-3.5.0-py3-none-any.whl.metadata (13 kB)\n",
      "#9 6.076 Collecting MarkupSafe>=2.0 (from Jinja2>=3.1.2->Flask->-r requirements.txt (line 1))\n",
      "#9 6.095   Downloading MarkupSafe-3.0.2-cp311-cp311-manylinux_2_17_x86_64.manylinux2014_x86_64.whl.metadata (4.0 kB)\n",
      "#9 6.156 Collecting six>=1.5 (from python-dateutil>=2.8.2->pandas->-r requirements.txt (line 2))\n",
      "#9 6.172   Downloading six-1.16.0-py2.py3-none-any.whl.metadata (1.8 kB)\n",
      "#9 6.265 Downloading flask-3.1.0-py3-none-any.whl (102 kB)\n",
      "#9 6.289    â”�â”�â”�â”�â”�â”�â”�â”�â”�â”�â”�â”�â”�â”�â”�â”�â”�â”�â”�â”�â”�â”�â”�â”�â”�â”�â”�â”�â”�â”�â”�â”�â”�â”�â”�â”�â”�â”�â”�â”� 103.0/103.0 kB 4.7 MB/s eta 0:00:00\n",
      "#9 6.305 Downloading pandas-2.2.3-cp311-cp311-manylinux_2_17_x86_64.manylinux2014_x86_64.whl (13.1 MB)\n",
      "#9 7.482    â”�â”�â”�â”�â”�â”�â”�â”�â”�â”�â”�â”�â”�â”�â”�â”�â”�â”�â”�â”�â”�â”�â”�â”�â”�â”�â”�â”�â”�â”�â”�â”�â”�â”�â”�â”�â”�â”�â”�â”� 13.1/13.1 MB 11.0 MB/s eta 0:00:00\n",
      "#9 7.500 Downloading requests-2.32.3-py3-none-any.whl (64 kB)\n",
      "#9 7.518    â”�â”�â”�â”�â”�â”�â”�â”�â”�â”�â”�â”�â”�â”�â”�â”�â”�â”�â”�â”�â”�â”�â”�â”�â”�â”�â”�â”�â”�â”�â”�â”�â”�â”�â”�â”�â”�â”�â”�â”� 64.9/64.9 kB 3.7 MB/s eta 0:00:00\n",
      "#9 7.533 Downloading scikit_learn-1.5.2-cp311-cp311-manylinux_2_17_x86_64.manylinux2014_x86_64.whl (13.3 MB)\n",
      "#9 8.719    â”�â”�â”�â”�â”�â”�â”�â”�â”�â”�â”�â”�â”�â”�â”�â”�â”�â”�â”�â”�â”�â”�â”�â”�â”�â”�â”�â”�â”�â”�â”�â”�â”�â”�â”�â”�â”�â”�â”�â”� 13.3/13.3 MB 11.1 MB/s eta 0:00:00\n",
      "#9 8.740 Downloading lightgbm-4.5.0-py3-none-manylinux_2_28_x86_64.whl (3.6 MB)\n",
      "#9 9.064    â”�â”�â”�â”�â”�â”�â”�â”�â”�â”�â”�â”�â”�â”�â”�â”�â”�â”�â”�â”�â”�â”�â”�â”�â”�â”�â”�â”�â”�â”�â”�â”�â”�â”�â”�â”�â”�â”�â”�â”� 3.6/3.6 MB 11.0 MB/s eta 0:00:00\n",
      "#9 9.082 Downloading blinker-1.9.0-py3-none-any.whl (8.5 kB)\n",
      "#9 9.111 Downloading certifi-2024.8.30-py3-none-any.whl (167 kB)\n",
      "#9 9.139    â”�â”�â”�â”�â”�â”�â”�â”�â”�â”�â”�â”�â”�â”�â”�â”�â”�â”�â”�â”�â”�â”�â”�â”�â”�â”�â”�â”�â”�â”�â”�â”�â”�â”�â”�â”�â”�â”�â”�â”� 167.3/167.3 kB 6.1 MB/s eta 0:00:00\n",
      "#9 9.158 Downloading charset_normalizer-3.4.0-cp311-cp311-manylinux_2_17_x86_64.manylinux2014_x86_64.whl (142 kB)\n",
      "#9 9.180    â”�â”�â”�â”�â”�â”�â”�â”�â”�â”�â”�â”�â”�â”�â”�â”�â”�â”�â”�â”�â”�â”�â”�â”�â”�â”�â”�â”�â”�â”�â”�â”�â”�â”�â”�â”�â”�â”�â”�â”� 142.6/142.6 kB 6.7 MB/s eta 0:00:00\n",
      "#9 9.198 Downloading click-8.1.7-py3-none-any.whl (97 kB)\n",
      "#9 9.215    â”�â”�â”�â”�â”�â”�â”�â”�â”�â”�â”�â”�â”�â”�â”�â”�â”�â”�â”�â”�â”�â”�â”�â”�â”�â”�â”�â”�â”�â”�â”�â”�â”�â”�â”�â”�â”�â”�â”�â”� 97.9/97.9 kB 5.9 MB/s eta 0:00:00\n",
      "#9 9.229 Downloading idna-3.10-py3-none-any.whl (70 kB)\n",
      "#9 9.246    â”�â”�â”�â”�â”�â”�â”�â”�â”�â”�â”�â”�â”�â”�â”�â”�â”�â”�â”�â”�â”�â”�â”�â”�â”�â”�â”�â”�â”�â”�â”�â”�â”�â”�â”�â”�â”�â”�â”�â”� 70.4/70.4 kB 4.8 MB/s eta 0:00:00\n",
      "#9 9.262 Downloading itsdangerous-2.2.0-py3-none-any.whl (16 kB)\n",
      "#9 9.290 Downloading jinja2-3.1.4-py3-none-any.whl (133 kB)\n",
      "#9 9.311    â”�â”�â”�â”�â”�â”�â”�â”�â”�â”�â”�â”�â”�â”�â”�â”�â”�â”�â”�â”�â”�â”�â”�â”�â”�â”�â”�â”�â”�â”�â”�â”�â”�â”�â”�â”�â”�â”�â”�â”� 133.3/133.3 kB 6.6 MB/s eta 0:00:00\n",
      "#9 9.327 Downloading joblib-1.4.2-py3-none-any.whl (301 kB)\n",
      "#9 9.368    â”�â”�â”�â”�â”�â”�â”�â”�â”�â”�â”�â”�â”�â”�â”�â”�â”�â”�â”�â”�â”�â”�â”�â”�â”�â”�â”�â”�â”�â”�â”�â”�â”�â”�â”�â”�â”�â”�â”�â”� 301.8/301.8 kB 7.9 MB/s eta 0:00:00\n",
      "#9 9.393 Downloading numpy-2.1.3-cp311-cp311-manylinux_2_17_x86_64.manylinux2014_x86_64.whl (16.3 MB)\n",
      "#9 11.28    â”�â”�â”�â”�â”�â”�â”�â”�â”�â”�â”�â”�â”�â”�â”�â”�â”�â”�â”�â”�â”�â”�â”�â”�â”�â”�â”�â”�â”�â”�â”�â”�â”�â”�â”�â”�â”�â”�â”�â”� 16.3/16.3 MB 7.4 MB/s eta 0:00:00\n",
      "#9 11.30 Downloading python_dateutil-2.9.0.post0-py2.py3-none-any.whl (229 kB)\n",
      "#9 11.33    â”�â”�â”�â”�â”�â”�â”�â”�â”�â”�â”�â”�â”�â”�â”�â”�â”�â”�â”�â”�â”�â”�â”�â”�â”�â”�â”�â”�â”�â”�â”�â”�â”�â”�â”�â”�â”�â”�â”�â”� 229.9/229.9 kB 7.4 MB/s eta 0:00:00\n",
      "#9 11.35 Downloading pytz-2024.2-py2.py3-none-any.whl (508 kB)\n",
      "#9 11.41    â”�â”�â”�â”�â”�â”�â”�â”�â”�â”�â”�â”�â”�â”�â”�â”�â”�â”�â”�â”�â”�â”�â”�â”�â”�â”�â”�â”�â”�â”�â”�â”�â”�â”�â”�â”�â”�â”�â”�â”� 508.0/508.0 kB 8.8 MB/s eta 0:00:00\n",
      "#9 11.43 Downloading scipy-1.14.1-cp311-cp311-manylinux_2_17_x86_64.manylinux2014_x86_64.whl (41.2 MB)\n",
      "#9 15.11    â”�â”�â”�â”�â”�â”�â”�â”�â”�â”�â”�â”�â”�â”�â”�â”�â”�â”�â”�â”�â”�â”�â”�â”�â”�â”�â”�â”�â”�â”�â”�â”�â”�â”�â”�â”�â”�â”�â”�â”� 41.2/41.2 MB 9.6 MB/s eta 0:00:00\n",
      "#9 15.12 Downloading threadpoolctl-3.5.0-py3-none-any.whl (18 kB)\n",
      "#9 15.15 Downloading tzdata-2024.2-py2.py3-none-any.whl (346 kB)\n",
      "#9 15.19    â”�â”�â”�â”�â”�â”�â”�â”�â”�â”�â”�â”�â”�â”�â”�â”�â”�â”�â”�â”�â”�â”�â”�â”�â”�â”�â”�â”�â”�â”�â”�â”�â”�â”�â”�â”�â”�â”�â”�â”� 346.6/346.6 kB 8.6 MB/s eta 0:00:00\n",
      "#9 15.44 Downloading urllib3-2.2.3-py3-none-any.whl (126 kB)\n",
      "#9 15.47    â”�â”�â”�â”�â”�â”�â”�â”�â”�â”�â”�â”�â”�â”�â”�â”�â”�â”�â”�â”�â”�â”�â”�â”�â”�â”�â”�â”�â”�â”�â”�â”�â”�â”�â”�â”�â”�â”�â”�â”� 126.3/126.3 kB 4.8 MB/s eta 0:00:00\n",
      "#9 15.48 Downloading werkzeug-3.1.3-py3-none-any.whl (224 kB)\n",
      "#9 15.52    â”�â”�â”�â”�â”�â”�â”�â”�â”�â”�â”�â”�â”�â”�â”�â”�â”�â”�â”�â”�â”�â”�â”�â”�â”�â”�â”�â”�â”�â”�â”�â”�â”�â”�â”�â”�â”�â”�â”�â”� 224.5/224.5 kB 7.2 MB/s eta 0:00:00\n",
      "#9 15.53 Downloading MarkupSafe-3.0.2-cp311-cp311-manylinux_2_17_x86_64.manylinux2014_x86_64.whl (23 kB)\n",
      "#9 15.56 Downloading six-1.16.0-py2.py3-none-any.whl (11 kB)\n",
      "#9 16.08 Installing collected packages: pytz, urllib3, tzdata, threadpoolctl, six, numpy, MarkupSafe, joblib, itsdangerous, idna, click, charset-normalizer, certifi, blinker, Werkzeug, scipy, requests, python-dateutil, Jinja2, scikit-learn, pandas, lightgbm, Flask\n",
      "#9 28.47 Successfully installed Flask-3.1.0 Jinja2-3.1.4 MarkupSafe-3.0.2 Werkzeug-3.1.3 blinker-1.9.0 certifi-2024.8.30 charset-normalizer-3.4.0 click-8.1.7 idna-3.10 itsdangerous-2.2.0 joblib-1.4.2 lightgbm-4.5.0 numpy-2.1.3 pandas-2.2.3 python-dateutil-2.9.0.post0 pytz-2024.2 requests-2.32.3 scikit-learn-1.5.2 scipy-1.14.1 six-1.16.0 threadpoolctl-3.5.0 tzdata-2024.2 urllib3-2.2.3\n",
      "#9 28.47 WARNING: Running pip as the 'root' user can result in broken permissions and conflicting behaviour with the system package manager. It is recommended to use a virtual environment instead: https://pip.pypa.io/warnings/venv\n",
      "#9 29.15 \n",
      "#9 29.15 [notice] A new release of pip is available: 24.0 -> 24.3.1\n",
      "#9 29.15 [notice] To update, run: pip install --upgrade pip\n",
      "#9 DONE 41.6s\n",
      "\n",
      "#10 exporting to image\n",
      "#10 exporting layers\n",
      "#10 exporting layers 2.5s done\n",
      "#10 writing image sha256:e58266b285859913a8944a52600607120d9382f02f539b21d52ffc2301257a7d done\n",
      "#10 naming to docker.io/library/energy_predictor done\n",
      "#10 DONE 2.6s\n"
     ]
    }
   ],
   "source": [
    "# Terminal\n",
    "!docker build --file Dockerfile_energypred --tag=energy_predictor . "
   ]
  },
  {
   "cell_type": "code",
   "execution_count": 77,
   "metadata": {},
   "outputs": [
    {
     "name": "stdout",
     "output_type": "stream",
     "text": [
      "REPOSITORY         TAG       IMAGE ID       CREATED          SIZE\n",
      "energy_predictor   latest    e58266b28585   32 seconds ago   1.49GB\n"
     ]
    }
   ],
   "source": [
    "!docker images"
   ]
  },
  {
   "cell_type": "code",
   "execution_count": 76,
   "metadata": {},
   "outputs": [],
   "source": [
    "#Delete image\n",
    "\n",
    "#!docker image rm gdesimone/energy_predictor_app:v1.0\n",
    "#!docker image rm energy_predictor"
   ]
  },
  {
   "cell_type": "code",
   "execution_count": 71,
   "metadata": {},
   "outputs": [
    {
     "name": "stdout",
     "output_type": "stream",
     "text": [
      "CONTAINER ID   IMAGE     COMMAND   CREATED   STATUS    PORTS     NAMES\n"
     ]
    }
   ],
   "source": [
    "!docker ps"
   ]
  },
  {
   "cell_type": "code",
   "execution_count": 87,
   "metadata": {},
   "outputs": [
    {
     "name": "stdout",
     "output_type": "stream",
     "text": [
      "energy_pred_app\n"
     ]
    }
   ],
   "source": [
    "#!docker stop energy_pred_app\n"
   ]
  },
  {
   "cell_type": "code",
   "execution_count": 56,
   "metadata": {},
   "outputs": [],
   "source": [
    "#!docker rename webserver energy_pred_app"
   ]
  },
  {
   "cell_type": "code",
   "execution_count": 79,
   "metadata": {},
   "outputs": [
    {
     "name": "stdout",
     "output_type": "stream",
     "text": [
      "ebb0ac278ac8dffba366626a0d406d9c2167c2b4133f74e1a2daf4c463671461\n"
     ]
    }
   ],
   "source": [
    "# Terminal RUN image\n",
    "\n",
    "!docker run -d --name energy_pred_app --rm --publish 80:5000 energy_predictor\n",
    "\n",
    "#!docker run -d --name energy_pred_app --rm --publish 80:5000 gdesimone/energy_predictor_app:v1.0"
   ]
  },
  {
   "cell_type": "code",
   "execution_count": 80,
   "metadata": {},
   "outputs": [
    {
     "name": "stdout",
     "output_type": "stream",
     "text": [
      "CONTAINER ID   NAME              CPU %     MEM USAGE / LIMIT     MEM %     NET I/O       BLOCK I/O   PIDS\n",
      "ebb0ac278ac8   energy_pred_app   0.14%     234.8MiB / 15.43GiB   1.49%     1.05kB / 0B   0B / 0B     47\n"
     ]
    }
   ],
   "source": [
    "#cuanto recursos ocupa el contenedor\n",
    "!docker stats --no-stream"
   ]
  },
  {
   "cell_type": "code",
   "execution_count": 81,
   "metadata": {},
   "outputs": [
    {
     "name": "stdout",
     "output_type": "stream",
     "text": [
      "{\n",
      "  \"predictions\": [\n",
      "    {\n",
      "      \"FechaHora\": \"02/06/2024 00:00\",\n",
      "      \"predicted_energy\": 0.06780994974090522\n",
      "    },\n",
      "    {\n",
      "      \"FechaHora\": \"02/06/2024 01:00\",\n",
      "      \"predicted_energy\": 0.5970558051054565\n",
      "    },\n",
      "    {\n",
      "      \"FechaHora\": \"02/06/2024 02:00\",\n",
      "      \"predicted_energy\": 5.51975425664605\n",
      "    },\n",
      "    {\n",
      "      \"FechaHora\": \"02/06/2024 03:00\",\n",
      "      \"predicted_energy\": 33.750784192090094\n",
      "    },\n",
      "    {\n",
      "      \"FechaHora\": \"02/06/2024 04:00\",\n",
      "      \"predicted_energy\": 34.969601529810554\n",
      "    },\n",
      "    {\n",
      "      \"FechaHora\": \"02/06/2024 05:00\",\n",
      "      \"predicted_energy\": 35.51649275050153\n",
      "    },\n",
      "    {\n",
      "      \"FechaHora\": \"02/06/2024 06:00\",\n",
      "      \"predicted_energy\": 61.39741233847926\n",
      "    },\n",
      "    {\n",
      "      \"FechaHora\": \"02/06/2024 07:00\",\n",
      "      \"predicted_energy\": 66.48062471503414\n",
      "    },\n",
      "    {\n",
      "      \"FechaHora\": \"02/06/2024 08:00\",\n",
      "      \"predicted_energy\": 53.48729122931022\n",
      "    },\n",
      "    {\n",
      "      \"FechaHora\": \"02/06/2024 09:00\",\n",
      "      \"predicted_energy\": 45.458782993032656\n",
      "    },\n",
      "    {\n",
      "      \"FechaHora\": \"02/06/2024 10:00\",\n",
      "      \"predicted_energy\": 43.3123357471568\n",
      "    },\n",
      "    {\n",
      "      \"FechaHora\": \"02/06/2024 11:00\",\n",
      "      \"predicted_energy\": 45.05126523875002\n",
      "    },\n",
      "    {\n",
      "      \"FechaHora\": \"02/06/2024 12:00\",\n",
      "      \"predicted_energy\": 40.760855800663684\n",
      "    },\n",
      "    {\n",
      "      \"FechaHora\": \"02/06/2024 13:00\",\n",
      "      \"predicted_energy\": 44.44012164284455\n",
      "    },\n",
      "    {\n",
      "      \"FechaHora\": \"02/06/2024 14:00\",\n",
      "      \"predicted_energy\": 52.58338133300951\n",
      "    },\n",
      "    {\n",
      "      \"FechaHora\": \"02/06/2024 15:00\",\n",
      "      \"predicted_energy\": 39.10481452678235\n",
      "    },\n",
      "    {\n",
      "      \"FechaHora\": \"02/06/2024 16:00\",\n",
      "      \"predicted_energy\": 46.80636940198234\n",
      "    },\n",
      "    {\n",
      "      \"FechaHora\": \"02/06/2024 17:00\",\n",
      "      \"predicted_energy\": 52.47557779065364\n",
      "    },\n",
      "    {\n",
      "      \"FechaHora\": \"02/06/2024 18:00\",\n",
      "      \"predicted_energy\": 54.088808078717335\n",
      "    },\n",
      "    {\n",
      "      \"FechaHora\": \"02/06/2024 19:00\",\n",
      "      \"predicted_energy\": 56.620193859022464\n",
      "    },\n",
      "    {\n",
      "      \"FechaHora\": \"02/06/2024 20:00\",\n",
      "      \"predicted_energy\": 58.97532173347085\n",
      "    },\n",
      "    {\n",
      "      \"FechaHora\": \"02/06/2024 21:00\",\n",
      "      \"predicted_energy\": 45.40684669633012\n",
      "    },\n",
      "    {\n",
      "      \"FechaHora\": \"02/06/2024 22:00\",\n",
      "      \"predicted_energy\": 40.13184035309206\n",
      "    },\n",
      "    {\n",
      "      \"FechaHora\": \"02/06/2024 23:00\",\n",
      "      \"predicted_energy\": 37.020381393251284\n",
      "    },\n",
      "    {\n",
      "      \"FechaHora\": \"03/06/2024 00:00\",\n",
      "      \"predicted_energy\": 20.308027633038073\n",
      "    },\n",
      "    {\n",
      "      \"FechaHora\": \"03/06/2024 01:00\",\n",
      "      \"predicted_energy\": 16.415850956730452\n",
      "    },\n",
      "    {\n",
      "      \"FechaHora\": \"03/06/2024 02:00\",\n",
      "      \"predicted_energy\": 11.53769912485813\n",
      "    },\n",
      "    {\n",
      "      \"FechaHora\": \"03/06/2024 03:00\",\n",
      "      \"predicted_energy\": 11.374318452024031\n",
      "    },\n",
      "    {\n",
      "      \"FechaHora\": \"03/06/2024 04:00\",\n",
      "      \"predicted_energy\": 14.020347656093683\n",
      "    },\n",
      "    {\n",
      "      \"FechaHora\": \"03/06/2024 05:00\",\n",
      "      \"predicted_energy\": 14.94989749017164\n",
      "    },\n",
      "    {\n",
      "      \"FechaHora\": \"03/06/2024 06:00\",\n",
      "      \"predicted_energy\": 9.433219126937441\n",
      "    },\n",
      "    {\n",
      "      \"FechaHora\": \"03/06/2024 07:00\",\n",
      "      \"predicted_energy\": 8.328628042007113\n",
      "    },\n",
      "    {\n",
      "      \"FechaHora\": \"03/06/2024 08:00\",\n",
      "      \"predicted_energy\": 7.048355153981748\n",
      "    },\n",
      "    {\n",
      "      \"FechaHora\": \"03/06/2024 09:00\",\n",
      "      \"predicted_energy\": 7.120433974508378\n",
      "    },\n",
      "    {\n",
      "      \"FechaHora\": \"03/06/2024 10:00\",\n",
      "      \"predicted_energy\": 0.3650952765748111\n",
      "    },\n",
      "    {\n",
      "      \"FechaHora\": \"03/06/2024 11:00\",\n",
      "      \"predicted_energy\": 0.32952667006563136\n",
      "    },\n",
      "    {\n",
      "      \"FechaHora\": \"03/06/2024 12:00\",\n",
      "      \"predicted_energy\": 0.4755822600672771\n",
      "    },\n",
      "    {\n",
      "      \"FechaHora\": \"03/06/2024 13:00\",\n",
      "      \"predicted_energy\": 2.459867262609904\n",
      "    },\n",
      "    {\n",
      "      \"FechaHora\": \"03/06/2024 14:00\",\n",
      "      \"predicted_energy\": 10.83581147274431\n",
      "    },\n",
      "    {\n",
      "      \"FechaHora\": \"03/06/2024 15:00\",\n",
      "      \"predicted_energy\": 20.649680884375854\n",
      "    },\n",
      "    {\n",
      "      \"FechaHora\": \"03/06/2024 16:00\",\n",
      "      \"predicted_energy\": 22.60574728773984\n",
      "    },\n",
      "    {\n",
      "      \"FechaHora\": \"03/06/2024 17:00\",\n",
      "      \"predicted_energy\": 31.19437294481735\n",
      "    },\n",
      "    {\n",
      "      \"FechaHora\": \"03/06/2024 18:00\",\n",
      "      \"predicted_energy\": 59.63696832386135\n",
      "    },\n",
      "    {\n",
      "      \"FechaHora\": \"03/06/2024 19:00\",\n",
      "      \"predicted_energy\": 66.48324446224711\n",
      "    },\n",
      "    {\n",
      "      \"FechaHora\": \"03/06/2024 20:00\",\n",
      "      \"predicted_energy\": 77.54338962004388\n",
      "    },\n",
      "    {\n",
      "      \"FechaHora\": \"03/06/2024 21:00\",\n",
      "      \"predicted_energy\": 87.03666360518078\n",
      "    },\n",
      "    {\n",
      "      \"FechaHora\": \"03/06/2024 22:00\",\n",
      "      \"predicted_energy\": 89.27325808581982\n",
      "    },\n",
      "    {\n",
      "      \"FechaHora\": \"03/06/2024 23:00\",\n",
      "      \"predicted_energy\": 90.46026856078525\n",
      "    },\n",
      "    {\n",
      "      \"FechaHora\": \"04/06/2024 00:00\",\n",
      "      \"predicted_energy\": 89.94184454715409\n",
      "    },\n",
      "    {\n",
      "      \"FechaHora\": \"04/06/2024 01:00\",\n",
      "      \"predicted_energy\": 90.28936802514107\n",
      "    },\n",
      "    {\n",
      "      \"FechaHora\": \"04/06/2024 02:00\",\n",
      "      \"predicted_energy\": 92.76930894330417\n",
      "    },\n",
      "    {\n",
      "      \"FechaHora\": \"04/06/2024 03:00\",\n",
      "      \"predicted_energy\": 93.29735101363048\n",
      "    },\n",
      "    {\n",
      "      \"FechaHora\": \"04/06/2024 04:00\",\n",
      "      \"predicted_energy\": 90.41048572780197\n",
      "    },\n",
      "    {\n",
      "      \"FechaHora\": \"04/06/2024 05:00\",\n",
      "      \"predicted_energy\": 92.23471123972517\n",
      "    },\n",
      "    {\n",
      "      \"FechaHora\": \"04/06/2024 06:00\",\n",
      "      \"predicted_energy\": 94.34806298642418\n",
      "    },\n",
      "    {\n",
      "      \"FechaHora\": \"04/06/2024 07:00\",\n",
      "      \"predicted_energy\": 94.34806298642418\n",
      "    },\n",
      "    {\n",
      "      \"FechaHora\": \"04/06/2024 08:00\",\n",
      "      \"predicted_energy\": 94.34806298642418\n",
      "    },\n",
      "    {\n",
      "      \"FechaHora\": \"04/06/2024 09:00\",\n",
      "      \"predicted_energy\": 91.85933713784567\n",
      "    },\n",
      "    {\n",
      "      \"FechaHora\": \"04/06/2024 10:00\",\n",
      "      \"predicted_energy\": 86.62543813641476\n",
      "    },\n",
      "    {\n",
      "      \"FechaHora\": \"04/06/2024 11:00\",\n",
      "      \"predicted_energy\": 91.6262700270587\n",
      "    },\n",
      "    {\n",
      "      \"FechaHora\": \"04/06/2024 12:00\",\n",
      "      \"predicted_energy\": 86.23629144523355\n",
      "    },\n",
      "    {\n",
      "      \"FechaHora\": \"04/06/2024 13:00\",\n",
      "      \"predicted_energy\": 85.46012141009638\n",
      "    },\n",
      "    {\n",
      "      \"FechaHora\": \"04/06/2024 14:00\",\n",
      "      \"predicted_energy\": 91.0422349163106\n",
      "    },\n",
      "    {\n",
      "      \"FechaHora\": \"04/06/2024 15:00\",\n",
      "      \"predicted_energy\": 89.90385312136446\n",
      "    },\n",
      "    {\n",
      "      \"FechaHora\": \"04/06/2024 16:00\",\n",
      "      \"predicted_energy\": 86.1909897010719\n",
      "    },\n",
      "    {\n",
      "      \"FechaHora\": \"04/06/2024 17:00\",\n",
      "      \"predicted_energy\": 88.47091498349812\n",
      "    },\n",
      "    {\n",
      "      \"FechaHora\": \"04/06/2024 18:00\",\n",
      "      \"predicted_energy\": 78.06425670671712\n",
      "    },\n",
      "    {\n",
      "      \"FechaHora\": \"04/06/2024 19:00\",\n",
      "      \"predicted_energy\": 86.70980062719046\n",
      "    },\n",
      "    {\n",
      "      \"FechaHora\": \"04/06/2024 20:00\",\n",
      "      \"predicted_energy\": 87.86984873683835\n",
      "    },\n",
      "    {\n",
      "      \"FechaHora\": \"04/06/2024 21:00\",\n",
      "      \"predicted_energy\": 92.1624698952758\n",
      "    },\n",
      "    {\n",
      "      \"FechaHora\": \"04/06/2024 22:00\",\n",
      "      \"predicted_energy\": 92.1624698952758\n",
      "    },\n",
      "    {\n",
      "      \"FechaHora\": \"04/06/2024 23:00\",\n",
      "      \"predicted_energy\": 90.13783839118679\n",
      "    },\n",
      "    {\n",
      "      \"FechaHora\": \"05/06/2024 00:00\",\n",
      "      \"predicted_energy\": 90.60342109316046\n",
      "    },\n",
      "    {\n",
      "      \"FechaHora\": \"05/06/2024 01:00\",\n",
      "      \"predicted_energy\": 90.9955161531621\n",
      "    },\n",
      "    {\n",
      "      \"FechaHora\": \"05/06/2024 02:00\",\n",
      "      \"predicted_energy\": 90.9955161531621\n",
      "    },\n",
      "    {\n",
      "      \"FechaHora\": \"05/06/2024 03:00\",\n",
      "      \"predicted_energy\": 87.75152917417881\n",
      "    },\n",
      "    {\n",
      "      \"FechaHora\": \"05/06/2024 04:00\",\n",
      "      \"predicted_energy\": 87.75152917417881\n",
      "    },\n",
      "    {\n",
      "      \"FechaHora\": \"05/06/2024 05:00\",\n",
      "      \"predicted_energy\": 87.75152917417881\n",
      "    },\n",
      "    {\n",
      "      \"FechaHora\": \"05/06/2024 06:00\",\n",
      "      \"predicted_energy\": 87.28203239024664\n",
      "    },\n",
      "    {\n",
      "      \"FechaHora\": \"05/06/2024 07:00\",\n",
      "      \"predicted_energy\": 87.75152917417881\n",
      "    },\n",
      "    {\n",
      "      \"FechaHora\": \"05/06/2024 08:00\",\n",
      "      \"predicted_energy\": 88.76403127649246\n",
      "    },\n",
      "    {\n",
      "      \"FechaHora\": \"05/06/2024 09:00\",\n",
      "      \"predicted_energy\": 82.22291315996573\n",
      "    },\n",
      "    {\n",
      "      \"FechaHora\": \"05/06/2024 10:00\",\n",
      "      \"predicted_energy\": 76.43063969280894\n",
      "    },\n",
      "    {\n",
      "      \"FechaHora\": \"05/06/2024 11:00\",\n",
      "      \"predicted_energy\": 73.19660392305096\n",
      "    },\n",
      "    {\n",
      "      \"FechaHora\": \"05/06/2024 12:00\",\n",
      "      \"predicted_energy\": 75.09979383643915\n",
      "    },\n",
      "    {\n",
      "      \"FechaHora\": \"05/06/2024 13:00\",\n",
      "      \"predicted_energy\": 72.13954220807545\n",
      "    },\n",
      "    {\n",
      "      \"FechaHora\": \"05/06/2024 14:00\",\n",
      "      \"predicted_energy\": 66.63763491238332\n",
      "    },\n",
      "    {\n",
      "      \"FechaHora\": \"05/06/2024 15:00\",\n",
      "      \"predicted_energy\": 65.65657333778523\n",
      "    },\n",
      "    {\n",
      "      \"FechaHora\": \"05/06/2024 16:00\",\n",
      "      \"predicted_energy\": 62.38707940868739\n",
      "    },\n",
      "    {\n",
      "      \"FechaHora\": \"05/06/2024 17:00\",\n",
      "      \"predicted_energy\": 59.12350239518534\n",
      "    },\n",
      "    {\n",
      "      \"FechaHora\": \"05/06/2024 18:00\",\n",
      "      \"predicted_energy\": 53.16052177142726\n",
      "    },\n",
      "    {\n",
      "      \"FechaHora\": \"05/06/2024 19:00\",\n",
      "      \"predicted_energy\": 57.10146432328775\n",
      "    },\n",
      "    {\n",
      "      \"FechaHora\": \"05/06/2024 20:00\",\n",
      "      \"predicted_energy\": 62.89460733662922\n",
      "    },\n",
      "    {\n",
      "      \"FechaHora\": \"05/06/2024 21:00\",\n",
      "      \"predicted_energy\": 71.45465702780913\n",
      "    },\n",
      "    {\n",
      "      \"FechaHora\": \"05/06/2024 22:00\",\n",
      "      \"predicted_energy\": 73.40559336121257\n",
      "    },\n",
      "    {\n",
      "      \"FechaHora\": \"05/06/2024 23:00\",\n",
      "      \"predicted_energy\": 73.62965336416589\n",
      "    },\n",
      "    {\n",
      "      \"FechaHora\": \"06/06/2024 00:00\",\n",
      "      \"predicted_energy\": 77.95487858628532\n",
      "    },\n",
      "    {\n",
      "      \"FechaHora\": \"06/06/2024 01:00\",\n",
      "      \"predicted_energy\": 77.95487858628532\n",
      "    },\n",
      "    {\n",
      "      \"FechaHora\": \"06/06/2024 02:00\",\n",
      "      \"predicted_energy\": 77.0467054207454\n",
      "    },\n",
      "    {\n",
      "      \"FechaHora\": \"06/06/2024 03:00\",\n",
      "      \"predicted_energy\": 76.48171422199408\n",
      "    },\n",
      "    {\n",
      "      \"FechaHora\": \"06/06/2024 04:00\",\n",
      "      \"predicted_energy\": 72.17791402075538\n",
      "    },\n",
      "    {\n",
      "      \"FechaHora\": \"06/06/2024 05:00\",\n",
      "      \"predicted_energy\": 76.68262408370407\n",
      "    },\n",
      "    {\n",
      "      \"FechaHora\": \"06/06/2024 06:00\",\n",
      "      \"predicted_energy\": 78.18397213993298\n",
      "    },\n",
      "    {\n",
      "      \"FechaHora\": \"06/06/2024 07:00\",\n",
      "      \"predicted_energy\": 78.95880644899526\n",
      "    },\n",
      "    {\n",
      "      \"FechaHora\": \"06/06/2024 08:00\",\n",
      "      \"predicted_energy\": 77.84019501044986\n",
      "    },\n",
      "    {\n",
      "      \"FechaHora\": \"06/06/2024 09:00\",\n",
      "      \"predicted_energy\": 63.365294143276145\n",
      "    },\n",
      "    {\n",
      "      \"FechaHora\": \"06/06/2024 10:00\",\n",
      "      \"predicted_energy\": 52.25251082471867\n",
      "    },\n",
      "    {\n",
      "      \"FechaHora\": \"06/06/2024 11:00\",\n",
      "      \"predicted_energy\": 49.05621287841434\n",
      "    },\n",
      "    {\n",
      "      \"FechaHora\": \"06/06/2024 12:00\",\n",
      "      \"predicted_energy\": 32.52887797757348\n",
      "    },\n",
      "    {\n",
      "      \"FechaHora\": \"06/06/2024 13:00\",\n",
      "      \"predicted_energy\": 33.55073818336646\n",
      "    },\n",
      "    {\n",
      "      \"FechaHora\": \"06/06/2024 14:00\",\n",
      "      \"predicted_energy\": 33.21250555259751\n",
      "    },\n",
      "    {\n",
      "      \"FechaHora\": \"06/06/2024 15:00\",\n",
      "      \"predicted_energy\": 23.831899210059586\n",
      "    },\n",
      "    {\n",
      "      \"FechaHora\": \"06/06/2024 16:00\",\n",
      "      \"predicted_energy\": 23.358465646308506\n",
      "    },\n",
      "    {\n",
      "      \"FechaHora\": \"06/06/2024 17:00\",\n",
      "      \"predicted_energy\": 28.26349915355389\n",
      "    },\n",
      "    {\n",
      "      \"FechaHora\": \"06/06/2024 18:00\",\n",
      "      \"predicted_energy\": 23.996418755317247\n",
      "    },\n",
      "    {\n",
      "      \"FechaHora\": \"06/06/2024 19:00\",\n",
      "      \"predicted_energy\": 25.398975515429502\n",
      "    },\n",
      "    {\n",
      "      \"FechaHora\": \"06/06/2024 20:00\",\n",
      "      \"predicted_energy\": 33.34745005768576\n",
      "    },\n",
      "    {\n",
      "      \"FechaHora\": \"06/06/2024 21:00\",\n",
      "      \"predicted_energy\": 35.982690993367115\n",
      "    },\n",
      "    {\n",
      "      \"FechaHora\": \"06/06/2024 22:00\",\n",
      "      \"predicted_energy\": 36.61650070743671\n",
      "    },\n",
      "    {\n",
      "      \"FechaHora\": \"06/06/2024 23:00\",\n",
      "      \"predicted_energy\": 37.10292169025718\n",
      "    },\n",
      "    {\n",
      "      \"FechaHora\": \"07/06/2024 00:00\",\n",
      "      \"predicted_energy\": 32.405736794255844\n",
      "    },\n",
      "    {\n",
      "      \"FechaHora\": \"07/06/2024 01:00\",\n",
      "      \"predicted_energy\": 21.619789334304603\n",
      "    },\n",
      "    {\n",
      "      \"FechaHora\": \"07/06/2024 02:00\",\n",
      "      \"predicted_energy\": 24.28263495959738\n",
      "    },\n",
      "    {\n",
      "      \"FechaHora\": \"07/06/2024 03:00\",\n",
      "      \"predicted_energy\": 18.135822349844076\n",
      "    },\n",
      "    {\n",
      "      \"FechaHora\": \"07/06/2024 04:00\",\n",
      "      \"predicted_energy\": 13.979121573987106\n",
      "    },\n",
      "    {\n",
      "      \"FechaHora\": \"07/06/2024 05:00\",\n",
      "      \"predicted_energy\": 13.937052378699276\n",
      "    },\n",
      "    {\n",
      "      \"FechaHora\": \"07/06/2024 06:00\",\n",
      "      \"predicted_energy\": 15.367076762272225\n",
      "    },\n",
      "    {\n",
      "      \"FechaHora\": \"07/06/2024 07:00\",\n",
      "      \"predicted_energy\": 13.55274371366115\n",
      "    },\n",
      "    {\n",
      "      \"FechaHora\": \"07/06/2024 08:00\",\n",
      "      \"predicted_energy\": 13.937052378699276\n",
      "    },\n",
      "    {\n",
      "      \"FechaHora\": \"07/06/2024 09:00\",\n",
      "      \"predicted_energy\": 11.954253177450862\n",
      "    },\n",
      "    {\n",
      "      \"FechaHora\": \"07/06/2024 10:00\",\n",
      "      \"predicted_energy\": 0.8171888058855782\n",
      "    },\n",
      "    {\n",
      "      \"FechaHora\": \"07/06/2024 11:00\",\n",
      "      \"predicted_energy\": 1.3493454586114555\n",
      "    },\n",
      "    {\n",
      "      \"FechaHora\": \"07/06/2024 12:00\",\n",
      "      \"predicted_energy\": 1.2060623358847784\n",
      "    },\n",
      "    {\n",
      "      \"FechaHora\": \"07/06/2024 13:00\",\n",
      "      \"predicted_energy\": 0.4428339845242038\n",
      "    },\n",
      "    {\n",
      "      \"FechaHora\": \"07/06/2024 14:00\",\n",
      "      \"predicted_energy\": 0.4428339845242038\n",
      "    },\n",
      "    {\n",
      "      \"FechaHora\": \"07/06/2024 15:00\",\n",
      "      \"predicted_energy\": 0.582489463007767\n",
      "    },\n",
      "    {\n",
      "      \"FechaHora\": \"07/06/2024 16:00\",\n",
      "      \"predicted_energy\": 0.4724806634103194\n",
      "    },\n",
      "    {\n",
      "      \"FechaHora\": \"07/06/2024 17:00\",\n",
      "      \"predicted_energy\": 0.7302142402866925\n",
      "    },\n",
      "    {\n",
      "      \"FechaHora\": \"07/06/2024 18:00\",\n",
      "      \"predicted_energy\": 15.455975326231604\n",
      "    },\n",
      "    {\n",
      "      \"FechaHora\": \"07/06/2024 19:00\",\n",
      "      \"predicted_energy\": 17.773355348595917\n",
      "    },\n",
      "    {\n",
      "      \"FechaHora\": \"07/06/2024 20:00\",\n",
      "      \"predicted_energy\": 18.892832675623293\n",
      "    },\n",
      "    {\n",
      "      \"FechaHora\": \"07/06/2024 21:00\",\n",
      "      \"predicted_energy\": 21.749067417752677\n",
      "    },\n",
      "    {\n",
      "      \"FechaHora\": \"07/06/2024 22:00\",\n",
      "      \"predicted_energy\": 23.126502291749713\n",
      "    },\n",
      "    {\n",
      "      \"FechaHora\": \"07/06/2024 23:00\",\n",
      "      \"predicted_energy\": 22.315131459482362\n",
      "    },\n",
      "    {\n",
      "      \"FechaHora\": \"08/06/2024 00:00\",\n",
      "      \"predicted_energy\": 35.85283879037964\n",
      "    },\n",
      "    {\n",
      "      \"FechaHora\": \"08/06/2024 01:00\",\n",
      "      \"predicted_energy\": 39.14561674283712\n",
      "    },\n",
      "    {\n",
      "      \"FechaHora\": \"08/06/2024 02:00\",\n",
      "      \"predicted_energy\": 35.601475063308825\n",
      "    },\n",
      "    {\n",
      "      \"FechaHora\": \"08/06/2024 03:00\",\n",
      "      \"predicted_energy\": 47.31017023627383\n",
      "    },\n",
      "    {\n",
      "      \"FechaHora\": \"08/06/2024 04:00\",\n",
      "      \"predicted_energy\": 48.839646395924596\n",
      "    },\n",
      "    {\n",
      "      \"FechaHora\": \"08/06/2024 05:00\",\n",
      "      \"predicted_energy\": 31.842727574390562\n",
      "    },\n",
      "    {\n",
      "      \"FechaHora\": \"08/06/2024 06:00\",\n",
      "      \"predicted_energy\": 16.299274890073697\n",
      "    },\n",
      "    {\n",
      "      \"FechaHora\": \"08/06/2024 07:00\",\n",
      "      \"predicted_energy\": 26.391306514964665\n",
      "    },\n",
      "    {\n",
      "      \"FechaHora\": \"08/06/2024 08:00\",\n",
      "      \"predicted_energy\": 20.915599680038817\n",
      "    },\n",
      "    {\n",
      "      \"FechaHora\": \"08/06/2024 09:00\",\n",
      "      \"predicted_energy\": 17.594778796149154\n",
      "    },\n",
      "    {\n",
      "      \"FechaHora\": \"08/06/2024 10:00\",\n",
      "      \"predicted_energy\": 16.35114379745163\n",
      "    },\n",
      "    {\n",
      "      \"FechaHora\": \"08/06/2024 11:00\",\n",
      "      \"predicted_energy\": 12.07871815372967\n",
      "    },\n",
      "    {\n",
      "      \"FechaHora\": \"08/06/2024 12:00\",\n",
      "      \"predicted_energy\": 12.683517192304432\n",
      "    },\n",
      "    {\n",
      "      \"FechaHora\": \"08/06/2024 13:00\",\n",
      "      \"predicted_energy\": 6.1090515967397625\n",
      "    },\n",
      "    {\n",
      "      \"FechaHora\": \"08/06/2024 14:00\",\n",
      "      \"predicted_energy\": 0.8611634318752299\n",
      "    },\n",
      "    {\n",
      "      \"FechaHora\": \"08/06/2024 15:00\",\n",
      "      \"predicted_energy\": 0.3758014442263598\n",
      "    },\n",
      "    {\n",
      "      \"FechaHora\": \"08/06/2024 16:00\",\n",
      "      \"predicted_energy\": 0.3758014442263598\n",
      "    },\n",
      "    {\n",
      "      \"FechaHora\": \"08/06/2024 17:00\",\n",
      "      \"predicted_energy\": 14.203042134291575\n",
      "    },\n",
      "    {\n",
      "      \"FechaHora\": \"08/06/2024 18:00\",\n",
      "      \"predicted_energy\": 23.471140650792602\n",
      "    },\n",
      "    {\n",
      "      \"FechaHora\": \"08/06/2024 19:00\",\n",
      "      \"predicted_energy\": 28.10027149718745\n",
      "    },\n",
      "    {\n",
      "      \"FechaHora\": \"08/06/2024 20:00\",\n",
      "      \"predicted_energy\": 26.740635257021435\n",
      "    },\n",
      "    {\n",
      "      \"FechaHora\": \"08/06/2024 21:00\",\n",
      "      \"predicted_energy\": 28.620496393863494\n",
      "    },\n",
      "    {\n",
      "      \"FechaHora\": \"08/06/2024 22:00\",\n",
      "      \"predicted_energy\": 26.99760195458002\n",
      "    },\n",
      "    {\n",
      "      \"FechaHora\": \"08/06/2024 23:00\",\n",
      "      \"predicted_energy\": 3.215056552898995\n",
      "    },\n",
      "    {\n",
      "      \"FechaHora\": \"09/06/2024 00:00\",\n",
      "      \"predicted_energy\": 12.28706198931905\n",
      "    },\n",
      "    {\n",
      "      \"FechaHora\": \"09/06/2024 01:00\",\n",
      "      \"predicted_energy\": 34.99861350713137\n",
      "    },\n",
      "    {\n",
      "      \"FechaHora\": \"09/06/2024 02:00\",\n",
      "      \"predicted_energy\": 37.360303173377105\n",
      "    },\n",
      "    {\n",
      "      \"FechaHora\": \"09/06/2024 03:00\",\n",
      "      \"predicted_energy\": 15.947862050518133\n",
      "    },\n",
      "    {\n",
      "      \"FechaHora\": \"09/06/2024 04:00\",\n",
      "      \"predicted_energy\": 16.85146400958542\n",
      "    },\n",
      "    {\n",
      "      \"FechaHora\": \"09/06/2024 05:00\",\n",
      "      \"predicted_energy\": 16.650562373207766\n",
      "    },\n",
      "    {\n",
      "      \"FechaHora\": \"09/06/2024 06:00\",\n",
      "      \"predicted_energy\": 13.845432285392613\n",
      "    },\n",
      "    {\n",
      "      \"FechaHora\": \"09/06/2024 07:00\",\n",
      "      \"predicted_energy\": 3.0397996567321255\n",
      "    },\n",
      "    {\n",
      "      \"FechaHora\": \"09/06/2024 08:00\",\n",
      "      \"predicted_energy\": 16.27902919785207\n",
      "    },\n",
      "    {\n",
      "      \"FechaHora\": \"09/06/2024 09:00\",\n",
      "      \"predicted_energy\": 39.20469778385414\n",
      "    },\n",
      "    {\n",
      "      \"FechaHora\": \"09/06/2024 10:00\",\n",
      "      \"predicted_energy\": 35.419319496801606\n",
      "    },\n",
      "    {\n",
      "      \"FechaHora\": \"09/06/2024 11:00\",\n",
      "      \"predicted_energy\": 40.84005414043438\n",
      "    },\n",
      "    {\n",
      "      \"FechaHora\": \"09/06/2024 12:00\",\n",
      "      \"predicted_energy\": 32.689336264499936\n",
      "    },\n",
      "    {\n",
      "      \"FechaHora\": \"09/06/2024 13:00\",\n",
      "      \"predicted_energy\": 51.58556756578332\n",
      "    },\n",
      "    {\n",
      "      \"FechaHora\": \"09/06/2024 14:00\",\n",
      "      \"predicted_energy\": 50.26562198897191\n",
      "    },\n",
      "    {\n",
      "      \"FechaHora\": \"09/06/2024 15:00\",\n",
      "      \"predicted_energy\": 42.79881948012867\n",
      "    },\n",
      "    {\n",
      "      \"FechaHora\": \"09/06/2024 16:00\",\n",
      "      \"predicted_energy\": 32.75178125436241\n",
      "    },\n",
      "    {\n",
      "      \"FechaHora\": \"09/06/2024 17:00\",\n",
      "      \"predicted_energy\": 35.615017271849155\n",
      "    },\n",
      "    {\n",
      "      \"FechaHora\": \"09/06/2024 18:00\",\n",
      "      \"predicted_energy\": 32.734727180682306\n",
      "    },\n",
      "    {\n",
      "      \"FechaHora\": \"09/06/2024 19:00\",\n",
      "      \"predicted_energy\": 29.90083487821621\n",
      "    },\n",
      "    {\n",
      "      \"FechaHora\": \"09/06/2024 20:00\",\n",
      "      \"predicted_energy\": 27.185463410968367\n",
      "    },\n",
      "    {\n",
      "      \"FechaHora\": \"09/06/2024 21:00\",\n",
      "      \"predicted_energy\": 27.527688049241085\n",
      "    },\n",
      "    {\n",
      "      \"FechaHora\": \"09/06/2024 22:00\",\n",
      "      \"predicted_energy\": 27.00123040400533\n",
      "    },\n",
      "    {\n",
      "      \"FechaHora\": \"09/06/2024 23:00\",\n",
      "      \"predicted_energy\": 26.217053269188188\n",
      "    },\n",
      "    {\n",
      "      \"FechaHora\": \"10/06/2024 00:00\",\n",
      "      \"predicted_energy\": 20.13327579635078\n",
      "    },\n",
      "    {\n",
      "      \"FechaHora\": \"10/06/2024 01:00\",\n",
      "      \"predicted_energy\": 11.247925642715712\n",
      "    },\n",
      "    {\n",
      "      \"FechaHora\": \"10/06/2024 02:00\",\n",
      "      \"predicted_energy\": 18.009063614704935\n",
      "    },\n",
      "    {\n",
      "      \"FechaHora\": \"10/06/2024 03:00\",\n",
      "      \"predicted_energy\": 19.064133122891825\n",
      "    },\n",
      "    {\n",
      "      \"FechaHora\": \"10/06/2024 04:00\",\n",
      "      \"predicted_energy\": 21.98412214550615\n",
      "    },\n",
      "    {\n",
      "      \"FechaHora\": \"10/06/2024 05:00\",\n",
      "      \"predicted_energy\": 24.17248509133212\n",
      "    },\n",
      "    {\n",
      "      \"FechaHora\": \"10/06/2024 06:00\",\n",
      "      \"predicted_energy\": 11.722742135812618\n",
      "    },\n",
      "    {\n",
      "      \"FechaHora\": \"10/06/2024 07:00\",\n",
      "      \"predicted_energy\": 11.748405671250381\n",
      "    },\n",
      "    {\n",
      "      \"FechaHora\": \"10/06/2024 08:00\",\n",
      "      \"predicted_energy\": 13.486265620595658\n",
      "    },\n",
      "    {\n",
      "      \"FechaHora\": \"10/06/2024 09:00\",\n",
      "      \"predicted_energy\": 9.83348305230572\n",
      "    },\n",
      "    {\n",
      "      \"FechaHora\": \"10/06/2024 10:00\",\n",
      "      \"predicted_energy\": 10.427811000964613\n",
      "    },\n",
      "    {\n",
      "      \"FechaHora\": \"10/06/2024 11:00\",\n",
      "      \"predicted_energy\": 8.170336974202643\n",
      "    },\n",
      "    {\n",
      "      \"FechaHora\": \"10/06/2024 12:00\",\n",
      "      \"predicted_energy\": 0.43998940845865314\n",
      "    },\n",
      "    {\n",
      "      \"FechaHora\": \"10/06/2024 13:00\",\n",
      "      \"predicted_energy\": 7.825470484374392\n",
      "    },\n",
      "    {\n",
      "      \"FechaHora\": \"10/06/2024 14:00\",\n",
      "      \"predicted_energy\": 1.0893780379581735\n",
      "    },\n",
      "    {\n",
      "      \"FechaHora\": \"10/06/2024 15:00\",\n",
      "      \"predicted_energy\": 0.46849751996196637\n",
      "    },\n",
      "    {\n",
      "      \"FechaHora\": \"10/06/2024 16:00\",\n",
      "      \"predicted_energy\": 0.7406867520345616\n",
      "    },\n",
      "    {\n",
      "      \"FechaHora\": \"10/06/2024 17:00\",\n",
      "      \"predicted_energy\": 0.6433998163308777\n",
      "    },\n",
      "    {\n",
      "      \"FechaHora\": \"10/06/2024 18:00\",\n",
      "      \"predicted_energy\": 0.572338093219889\n",
      "    },\n",
      "    {\n",
      "      \"FechaHora\": \"10/06/2024 19:00\",\n",
      "      \"predicted_energy\": 0.6329273045830086\n",
      "    },\n",
      "    {\n",
      "      \"FechaHora\": \"10/06/2024 20:00\",\n",
      "      \"predicted_energy\": 0.6329273045830086\n",
      "    },\n",
      "    {\n",
      "      \"FechaHora\": \"10/06/2024 21:00\",\n",
      "      \"predicted_energy\": 7.689233441076861\n",
      "    },\n",
      "    {\n",
      "      \"FechaHora\": \"10/06/2024 22:00\",\n",
      "      \"predicted_energy\": 12.893996692751573\n",
      "    },\n",
      "    {\n",
      "      \"FechaHora\": \"10/06/2024 23:00\",\n",
      "      \"predicted_energy\": 14.6702252378447\n",
      "    },\n",
      "    {\n",
      "      \"FechaHora\": \"11/06/2024 00:00\",\n",
      "      \"predicted_energy\": 21.30261823004954\n",
      "    },\n",
      "    {\n",
      "      \"FechaHora\": \"11/06/2024 01:00\",\n",
      "      \"predicted_energy\": 23.91838627261664\n",
      "    },\n",
      "    {\n",
      "      \"FechaHora\": \"11/06/2024 02:00\",\n",
      "      \"predicted_energy\": 26.469216154097737\n",
      "    },\n",
      "    {\n",
      "      \"FechaHora\": \"11/06/2024 03:00\",\n",
      "      \"predicted_energy\": 43.7017803985231\n",
      "    },\n",
      "    {\n",
      "      \"FechaHora\": \"11/06/2024 04:00\",\n",
      "      \"predicted_energy\": 42.79399990624867\n",
      "    },\n",
      "    {\n",
      "      \"FechaHora\": \"11/06/2024 05:00\",\n",
      "      \"predicted_energy\": 43.44926447308258\n",
      "    },\n",
      "    {\n",
      "      \"FechaHora\": \"11/06/2024 06:00\",\n",
      "      \"predicted_energy\": 61.0445927564366\n",
      "    },\n",
      "    {\n",
      "      \"FechaHora\": \"11/06/2024 07:00\",\n",
      "      \"predicted_energy\": 61.0445927564366\n",
      "    },\n",
      "    {\n",
      "      \"FechaHora\": \"11/06/2024 08:00\",\n",
      "      \"predicted_energy\": 61.966610148461235\n",
      "    },\n",
      "    {\n",
      "      \"FechaHora\": \"11/06/2024 09:00\",\n",
      "      \"predicted_energy\": 61.51598410037053\n",
      "    },\n",
      "    {\n",
      "      \"FechaHora\": \"11/06/2024 10:00\",\n",
      "      \"predicted_energy\": 54.893159386629556\n",
      "    },\n",
      "    {\n",
      "      \"FechaHora\": \"11/06/2024 11:00\",\n",
      "      \"predicted_energy\": 59.65586631838661\n",
      "    },\n",
      "    {\n",
      "      \"FechaHora\": \"11/06/2024 12:00\",\n",
      "      \"predicted_energy\": 49.907496451087546\n",
      "    },\n",
      "    {\n",
      "      \"FechaHora\": \"11/06/2024 13:00\",\n",
      "      \"predicted_energy\": 51.6253045997179\n",
      "    },\n",
      "    {\n",
      "      \"FechaHora\": \"11/06/2024 14:00\",\n",
      "      \"predicted_energy\": 53.385135466855594\n",
      "    },\n",
      "    {\n",
      "      \"FechaHora\": \"11/06/2024 15:00\",\n",
      "      \"predicted_energy\": 44.937209588189006\n",
      "    },\n",
      "    {\n",
      "      \"FechaHora\": \"11/06/2024 16:00\",\n",
      "      \"predicted_energy\": 48.06898130653888\n",
      "    },\n",
      "    {\n",
      "      \"FechaHora\": \"11/06/2024 17:00\",\n",
      "      \"predicted_energy\": 49.87449334799606\n",
      "    },\n",
      "    {\n",
      "      \"FechaHora\": \"11/06/2024 18:00\",\n",
      "      \"predicted_energy\": 33.51828997642698\n",
      "    },\n",
      "    {\n",
      "      \"FechaHora\": \"11/06/2024 19:00\",\n",
      "      \"predicted_energy\": 42.53197429731548\n",
      "    },\n",
      "    {\n",
      "      \"FechaHora\": \"11/06/2024 20:00\",\n",
      "      \"predicted_energy\": 36.077797401639984\n",
      "    },\n",
      "    {\n",
      "      \"FechaHora\": \"11/06/2024 21:00\",\n",
      "      \"predicted_energy\": 48.24128308561544\n",
      "    }\n",
      "  ]\n",
      "}\n"
     ]
    },
    {
     "name": "stderr",
     "output_type": "stream",
     "text": [
      "  % Total    % Received % Xferd  Average Speed   Time    Time     Time  Current\n",
      "                                 Dload  Upload   Total   Spent    Left  Speed\n",
      "\n",
      "  0     0    0     0    0     0      0      0 --:--:-- --:--:-- --:--:--     0\n",
      "100 22956  100 22956    0     0  27490      0 --:--:-- --:--:-- --:--:-- 27459\n",
      "100 22956  100 22956    0     0  27486      0 --:--:-- --:--:-- --:--:-- 27459\n"
     ]
    }
   ],
   "source": [
    "!curl http://localhost/energy_pred/url"
   ]
  },
  {
   "cell_type": "code",
   "execution_count": null,
   "metadata": {},
   "outputs": [],
   "source": [
    "#para inspeccionar desde adentro el contenedor que esta corriendo\n",
    "#Terminal\n",
    "\n",
    "#!docker exec --interactive --tty energy_pred_app bash"
   ]
  },
  {
   "cell_type": "code",
   "execution_count": 82,
   "metadata": {},
   "outputs": [
    {
     "name": "stdout",
     "output_type": "stream",
     "text": [
      " * Serving Flask app 'energy_app'\n",
      " * Debug mode: on\n"
     ]
    },
    {
     "name": "stderr",
     "output_type": "stream",
     "text": [
      "\u001b[31m\u001b[1mWARNING: This is a development server. Do not use it in a production deployment. Use a production WSGI server instead.\u001b[0m\n",
      " * Running on all addresses (0.0.0.0)\n",
      " * Running on http://127.0.0.1:5000\n",
      " * Running on http://172.17.0.2:5000\n",
      "\u001b[33mPress CTRL+C to quit\u001b[0m\n",
      " * Restarting with stat\n",
      " * Debugger is active!\n",
      " * Debugger PIN: 175-793-445\n",
      "172.17.0.1 - - [21/Nov/2024 01:28:36] \"GET /energy_pred/url HTTP/1.1\" 200 -\n"
     ]
    }
   ],
   "source": [
    "!docker logs energy_pred_app"
   ]
  },
  {
   "cell_type": "code",
   "execution_count": null,
   "metadata": {},
   "outputs": [],
   "source": []
  },
  {
   "cell_type": "code",
   "execution_count": null,
   "metadata": {},
   "outputs": [],
   "source": []
  },
  {
   "cell_type": "code",
   "execution_count": null,
   "metadata": {},
   "outputs": [],
   "source": []
  },
  {
   "cell_type": "markdown",
   "metadata": {},
   "source": [
    "## Publicacion de la imagen"
   ]
  },
  {
   "cell_type": "code",
   "execution_count": 83,
   "metadata": {},
   "outputs": [
    {
     "name": "stdout",
     "output_type": "stream",
     "text": [
      "Authenticating with existing credentials...\n",
      "Login Succeeded\n"
     ]
    }
   ],
   "source": [
    "# Terminal\n",
    "!docker login"
   ]
  },
  {
   "cell_type": "code",
   "execution_count": 84,
   "metadata": {},
   "outputs": [
    {
     "name": "stdout",
     "output_type": "stream",
     "text": [
      "REPOSITORY         TAG       IMAGE ID       CREATED         SIZE\n",
      "energy_predictor   latest    e58266b28585   7 minutes ago   1.49GB\n"
     ]
    }
   ],
   "source": [
    "!docker images"
   ]
  },
  {
   "cell_type": "code",
   "execution_count": 85,
   "metadata": {},
   "outputs": [
    {
     "name": "stdout",
     "output_type": "stream",
     "text": [
      "The push refers to repository [docker.io/gdesimone/energy_predictor_app]\n",
      "fe3199b6ece5: Preparing\n",
      "cc0193f9bee5: Preparing\n",
      "f84196da3620: Preparing\n",
      "26b3fae628a4: Preparing\n",
      "f4ffaeca9e58: Preparing\n",
      "2fcadd25df97: Preparing\n",
      "96d99c63b722: Preparing\n",
      "00547dd240c4: Preparing\n",
      "b6ca42156b9f: Preparing\n",
      "24b5ce0f1e07: Preparing\n",
      "96d99c63b722: Waiting\n",
      "00547dd240c4: Waiting\n",
      "b6ca42156b9f: Waiting\n",
      "24b5ce0f1e07: Waiting\n",
      "2fcadd25df97: Waiting\n",
      "f84196da3620: Layer already exists\n",
      "26b3fae628a4: Layer already exists\n",
      "f4ffaeca9e58: Layer already exists\n",
      "2fcadd25df97: Layer already exists\n",
      "00547dd240c4: Layer already exists\n",
      "96d99c63b722: Layer already exists\n",
      "b6ca42156b9f: Layer already exists\n",
      "24b5ce0f1e07: Layer already exists\n",
      "cc0193f9bee5: Pushed\n",
      "fe3199b6ece5: Pushed\n",
      "v1.0: digest: sha256:4ac7dec2c3c5cdd5565aedf7e9dec50b2c8610b489c35c65e0f9dc09818fffd1 size: 2425\n"
     ]
    }
   ],
   "source": [
    "!docker tag energy_predictor gdesimone/energy_predictor_app:v1.0\n",
    "!docker push gdesimone/energy_predictor_app:v1.0"
   ]
  },
  {
   "cell_type": "code",
   "execution_count": 88,
   "metadata": {},
   "outputs": [
    {
     "name": "stdout",
     "output_type": "stream",
     "text": [
      "eb444695ce1177ec86576af9fc67986363edeeb4a814342fccb3dd511588b1b2\n"
     ]
    }
   ],
   "source": [
    "# Terminal RUN image - para probar con la imagen publicada en dockerhub\n",
    "\n",
    "!docker run -d --name energy_pred_app --rm --publish 80:5000 gdesimone/energy_predictor_app:v1.0"
   ]
  },
  {
   "cell_type": "code",
   "execution_count": null,
   "metadata": {},
   "outputs": [],
   "source": [
    "## para llamarla desde el browser http://localhost/energy_pred/url toma url por defecto\n",
    "## especificando la url: \n",
    "## http://localhost/energy_pred/url?url=https://raw.githubusercontent.com/guilledesimone/MMA-Tesis/refs/heads/main/Datos/ds_exog.csv\n",
    "\n",
    "## http://localhost/energy_pred/url?url=https://raw.githubusercontent.com/guilledesimone/MMA-Tesis/refs/heads/main/Datos/ds_exog_1911-2811.csv"
   ]
  },
  {
   "cell_type": "code",
   "execution_count": null,
   "metadata": {},
   "outputs": [],
   "source": []
  }
 ],
 "metadata": {
  "kernelspec": {
   "display_name": "tesis-python-3.11",
   "language": "python",
   "name": "tesis-python-3.11"
  },
  "language_info": {
   "codemirror_mode": {
    "name": "ipython",
    "version": 3
   },
   "file_extension": ".py",
   "mimetype": "text/x-python",
   "name": "python",
   "nbconvert_exporter": "python",
   "pygments_lexer": "ipython3",
   "version": "3.11.8"
  }
 },
 "nbformat": 4,
 "nbformat_minor": 4
}
