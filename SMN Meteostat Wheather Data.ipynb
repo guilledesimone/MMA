{
 "cells": [
  {
   "cell_type": "markdown",
   "metadata": {},
   "source": [
    "## Datos climaticos historicos del SMN  \n",
    "Se toman de la estación meteorologica del Aerodromo de Bahia Blanca que se encuentra a 30 Km del PE La Castellana"
   ]
  },
  {
   "cell_type": "code",
   "execution_count": 1,
   "metadata": {
    "scrolled": true
   },
   "outputs": [],
   "source": [
    "import pandas as pd\n",
    "import numpy as np\n",
    "import matplotlib as mpl\n",
    "import matplotlib.pyplot as plt\n",
    "\n",
    "## meteostat\n",
    "from datetime import datetime, timedelta\n",
    "from meteostat import Hourly\n",
    "from meteostat import Point, Daily\n",
    "from meteostat import Stations\n",
    "\n",
    "import warnings\n",
    "warnings.filterwarnings('ignore')"
   ]
  },
  {
   "cell_type": "code",
   "execution_count": 2,
   "metadata": {
    "scrolled": true
   },
   "outputs": [
    {
     "name": "stdout",
     "output_type": "stream",
     "text": [
      "                         name country region    wmo  icao  latitude  \\\n",
      "id                                                                    \n",
      "87750  Bahia Blanca Aerodrome      AR      B  87750  SAZB  -38.7333   \n",
      "\n",
      "       longitude  elevation                        timezone hourly_start  \\\n",
      "id                                                                         \n",
      "87750   -62.1667       75.0  America/Argentina/Buenos_Aires   1939-04-10   \n",
      "\n",
      "      hourly_end daily_start  daily_end monthly_start monthly_end  distance  \n",
      "id                                                                           \n",
      "87750 2024-05-30  1956-02-02 2024-12-30    1956-01-01  2021-01-01       0.0  \n"
     ]
    }
   ],
   "source": [
    "# Get nearby weather stations\n",
    "stations = Stations()\n",
    "\n",
    "#Aerodromo de Bahia Blanca a 30 Km de La Castellana I\n",
    "station_ba = stations.nearby(-38.7333, -62.1667) \n",
    "station_ba = station_ba.fetch(1)\n",
    "\n",
    "# Print DataFrame\n",
    "print(station_ba)"
   ]
  },
  {
   "cell_type": "markdown",
   "metadata": {},
   "source": [
    "### Obtención de datos historicos"
   ]
  },
  {
   "cell_type": "code",
   "execution_count": null,
   "metadata": {},
   "outputs": [],
   "source": [
    "# Set time period Mask\n",
    "start = datetime(2019, 1, 2)\n",
    "#end = datetime(2024, 3, 31)\n",
    "\n",
    "\n",
    "# Calcula end_date como la fecha actual para recuperar datos historicos del pronostico\n",
    "current_date = datetime.now().date()\n",
    "end_date = current_date #- timedelta(days=1)\n",
    "\n",
    "# Convierte a datetime con la hora establecida a medianoche + 2hs asi al corregir a GMT-3 queda el dia completo\n",
    "end = datetime.combine(end_date, datetime.min.time()) + timedelta(hours=2)\n",
    "\n",
    "print(\"Start date:\", start)\n",
    "print(\"End date:\", end)"
   ]
  },
  {
   "cell_type": "code",
   "execution_count": null,
   "metadata": {
    "scrolled": true
   },
   "outputs": [],
   "source": [
    "# Create Point for Bahia Blanca\n",
    "station_ba = 87750  \n",
    "\n",
    "# Get daily data Bahia Blanca\n",
    "df_histo_meteostat = Hourly(station_ba, start, end)\n",
    "#df_histo_meteostat = df_histo_meteostat.normalize()\n",
    "df_histo_meteostat = df_histo_meteostat.fetch()\n",
    "\n",
    "#Wind speed esta en Km/h lo convierto a m/s\n",
    "df_histo_meteostat['wspd'] = (df_histo_meteostat['wspd'] / 3.6).round(1)\n",
    "\n",
    "# Time Zone Correction Subtract 3 hours from the DateTimeIndex - UTC Buenos Aires\n",
    "df_histo_meteostat.index = df_histo_meteostat.index - pd.to_timedelta(3, unit='h')\n",
    "\n",
    "df_histo_meteostat = df_histo_meteostat[[ 'wspd', 'wdir', 'temp','pres','rhum']]\n",
    "\n",
    "df_histo_meteostat.tail()"
   ]
  },
  {
   "cell_type": "code",
   "execution_count": null,
   "metadata": {},
   "outputs": [],
   "source": [
    "df_histo_meteostat.index.name = 'FechaHora'"
   ]
  },
  {
   "cell_type": "code",
   "execution_count": null,
   "metadata": {},
   "outputs": [],
   "source": [
    "df_histo_meteostat.describe()"
   ]
  },
  {
   "cell_type": "code",
   "execution_count": null,
   "metadata": {},
   "outputs": [],
   "source": [
    "df_histo_meteostat.reset_index(inplace=True)"
   ]
  },
  {
   "cell_type": "code",
   "execution_count": null,
   "metadata": {},
   "outputs": [],
   "source": [
    "#Se exporta el archivo datos historicos en un csv\n",
    "df_histo_meteostat.to_csv('D:\\\\Documents\\\\MMA\\\\1.0 Tesis\\\\Datos\\\\METEOSTAT\\\\df_histo_meteostat.csv', sep=';', index=False, decimal=',')"
   ]
  },
  {
   "cell_type": "markdown",
   "metadata": {},
   "source": [
    "### Obtención de datos de pronósticos"
   ]
  },
  {
   "cell_type": "code",
   "execution_count": 2,
   "metadata": {},
   "outputs": [
    {
     "name": "stdout",
     "output_type": "stream",
     "text": [
      "Start date: 2024-06-17 03:00:00\n",
      "End date: 2024-06-27 03:00:00\n"
     ]
    }
   ],
   "source": [
    "# Calcula end_date como la fecha actual + 10 días para incluir datos del pronostico\n",
    "current_date = datetime.now().date()\n",
    "end_date = current_date + timedelta(days=10)\n",
    "\n",
    "# Set time period Mask\n",
    "#start = current_date\n",
    "\n",
    "# Convierte a datetime con la hora establecida a medianoche\n",
    "start = datetime.combine(current_date, datetime.min.time()) + timedelta(hours=3)\n",
    "end = datetime.combine(end_date, datetime.min.time()) + timedelta(hours=3)\n",
    "\n",
    "print(\"Start date:\", start)\n",
    "print(\"End date:\", end)"
   ]
  },
  {
   "cell_type": "code",
   "execution_count": 3,
   "metadata": {},
   "outputs": [
    {
     "data": {
      "text/html": [
       "<div>\n",
       "<style scoped>\n",
       "    .dataframe tbody tr th:only-of-type {\n",
       "        vertical-align: middle;\n",
       "    }\n",
       "\n",
       "    .dataframe tbody tr th {\n",
       "        vertical-align: top;\n",
       "    }\n",
       "\n",
       "    .dataframe thead th {\n",
       "        text-align: right;\n",
       "    }\n",
       "</style>\n",
       "<table border=\"1\" class=\"dataframe\">\n",
       "  <thead>\n",
       "    <tr style=\"text-align: right;\">\n",
       "      <th></th>\n",
       "      <th>wspd</th>\n",
       "      <th>wdir</th>\n",
       "      <th>temp</th>\n",
       "      <th>pres</th>\n",
       "      <th>rhum</th>\n",
       "    </tr>\n",
       "    <tr>\n",
       "      <th>time</th>\n",
       "      <th></th>\n",
       "      <th></th>\n",
       "      <th></th>\n",
       "      <th></th>\n",
       "      <th></th>\n",
       "    </tr>\n",
       "  </thead>\n",
       "  <tbody>\n",
       "    <tr>\n",
       "      <th>2024-06-26 15:00:00</th>\n",
       "      <td>6.2</td>\n",
       "      <td>329.0</td>\n",
       "      <td>12.9</td>\n",
       "      <td>1017.3</td>\n",
       "      <td>61.0</td>\n",
       "    </tr>\n",
       "    <tr>\n",
       "      <th>2024-06-26 16:00:00</th>\n",
       "      <td>5.7</td>\n",
       "      <td>336.0</td>\n",
       "      <td>12.3</td>\n",
       "      <td>1017.1</td>\n",
       "      <td>65.0</td>\n",
       "    </tr>\n",
       "    <tr>\n",
       "      <th>2024-06-26 17:00:00</th>\n",
       "      <td>4.6</td>\n",
       "      <td>5.0</td>\n",
       "      <td>11.5</td>\n",
       "      <td>1017.1</td>\n",
       "      <td>69.0</td>\n",
       "    </tr>\n",
       "    <tr>\n",
       "      <th>2024-06-26 18:00:00</th>\n",
       "      <td>4.1</td>\n",
       "      <td>15.0</td>\n",
       "      <td>10.6</td>\n",
       "      <td>1017.2</td>\n",
       "      <td>74.0</td>\n",
       "    </tr>\n",
       "    <tr>\n",
       "      <th>2024-06-26 19:00:00</th>\n",
       "      <td>4.1</td>\n",
       "      <td>5.0</td>\n",
       "      <td>9.2</td>\n",
       "      <td>1017.0</td>\n",
       "      <td>80.0</td>\n",
       "    </tr>\n",
       "  </tbody>\n",
       "</table>\n",
       "</div>"
      ],
      "text/plain": [
       "                     wspd   wdir  temp    pres  rhum\n",
       "time                                                \n",
       "2024-06-26 15:00:00   6.2  329.0  12.9  1017.3  61.0\n",
       "2024-06-26 16:00:00   5.7  336.0  12.3  1017.1  65.0\n",
       "2024-06-26 17:00:00   4.6    5.0  11.5  1017.1  69.0\n",
       "2024-06-26 18:00:00   4.1   15.0  10.6  1017.2  74.0\n",
       "2024-06-26 19:00:00   4.1    5.0   9.2  1017.0  80.0"
      ]
     },
     "execution_count": 3,
     "metadata": {},
     "output_type": "execute_result"
    }
   ],
   "source": [
    "# Create Point for Bahia Blanca\n",
    "station_ba = 87750  \n",
    "\n",
    "# Get daily data Bahia Blanca\n",
    "df_fc_meteostat = Hourly(station_ba, start, end)\n",
    "df_fc_meteostat = df_fc_meteostat.fetch()\n",
    "\n",
    "#Wind speed esta en Km/h lo convierto a m/s\n",
    "df_fc_meteostat['wspd'] = (df_fc_meteostat['wspd'] / 3.6).round(1)\n",
    "\n",
    "# Time Zone Correction Subtract 3 hours from the DateTimeIndex - UTC Buenos Aires\n",
    "df_fc_meteostat.index = df_fc_meteostat.index - pd.to_timedelta(3, unit='h')\n",
    "\n",
    "df_fc_meteostat = df_fc_meteostat[[ 'wspd', 'wdir', 'temp','pres','rhum']]\n",
    "\n",
    "df_fc_meteostat.tail()"
   ]
  },
  {
   "cell_type": "code",
   "execution_count": 4,
   "metadata": {},
   "outputs": [],
   "source": [
    "df_fc_meteostat.index.name = 'FechaHora'"
   ]
  },
  {
   "cell_type": "code",
   "execution_count": 5,
   "metadata": {},
   "outputs": [
    {
     "data": {
      "text/html": [
       "<div>\n",
       "<style scoped>\n",
       "    .dataframe tbody tr th:only-of-type {\n",
       "        vertical-align: middle;\n",
       "    }\n",
       "\n",
       "    .dataframe tbody tr th {\n",
       "        vertical-align: top;\n",
       "    }\n",
       "\n",
       "    .dataframe thead th {\n",
       "        text-align: right;\n",
       "    }\n",
       "</style>\n",
       "<table border=\"1\" class=\"dataframe\">\n",
       "  <thead>\n",
       "    <tr style=\"text-align: right;\">\n",
       "      <th></th>\n",
       "      <th>wspd</th>\n",
       "      <th>wdir</th>\n",
       "      <th>temp</th>\n",
       "      <th>pres</th>\n",
       "      <th>rhum</th>\n",
       "    </tr>\n",
       "  </thead>\n",
       "  <tbody>\n",
       "    <tr>\n",
       "      <th>count</th>\n",
       "      <td>236.000000</td>\n",
       "      <td>236.000000</td>\n",
       "      <td>236.000000</td>\n",
       "      <td>236.000000</td>\n",
       "      <td>236.000000</td>\n",
       "    </tr>\n",
       "    <tr>\n",
       "      <th>mean</th>\n",
       "      <td>4.259746</td>\n",
       "      <td>248.330508</td>\n",
       "      <td>7.334322</td>\n",
       "      <td>1015.806780</td>\n",
       "      <td>83.415254</td>\n",
       "    </tr>\n",
       "    <tr>\n",
       "      <th>std</th>\n",
       "      <td>1.340130</td>\n",
       "      <td>104.786880</td>\n",
       "      <td>3.652683</td>\n",
       "      <td>5.080019</td>\n",
       "      <td>13.214323</td>\n",
       "    </tr>\n",
       "    <tr>\n",
       "      <th>min</th>\n",
       "      <td>2.600000</td>\n",
       "      <td>2.000000</td>\n",
       "      <td>0.400000</td>\n",
       "      <td>1005.000000</td>\n",
       "      <td>47.000000</td>\n",
       "    </tr>\n",
       "    <tr>\n",
       "      <th>25%</th>\n",
       "      <td>3.100000</td>\n",
       "      <td>191.750000</td>\n",
       "      <td>4.650000</td>\n",
       "      <td>1012.650000</td>\n",
       "      <td>73.750000</td>\n",
       "    </tr>\n",
       "    <tr>\n",
       "      <th>50%</th>\n",
       "      <td>4.100000</td>\n",
       "      <td>297.000000</td>\n",
       "      <td>7.050000</td>\n",
       "      <td>1016.850000</td>\n",
       "      <td>85.000000</td>\n",
       "    </tr>\n",
       "    <tr>\n",
       "      <th>75%</th>\n",
       "      <td>5.100000</td>\n",
       "      <td>337.000000</td>\n",
       "      <td>9.600000</td>\n",
       "      <td>1020.400000</td>\n",
       "      <td>95.000000</td>\n",
       "    </tr>\n",
       "    <tr>\n",
       "      <th>max</th>\n",
       "      <td>9.800000</td>\n",
       "      <td>360.000000</td>\n",
       "      <td>16.900000</td>\n",
       "      <td>1022.800000</td>\n",
       "      <td>100.000000</td>\n",
       "    </tr>\n",
       "  </tbody>\n",
       "</table>\n",
       "</div>"
      ],
      "text/plain": [
       "             wspd        wdir        temp         pres        rhum\n",
       "count  236.000000  236.000000  236.000000   236.000000  236.000000\n",
       "mean     4.259746  248.330508    7.334322  1015.806780   83.415254\n",
       "std      1.340130  104.786880    3.652683     5.080019   13.214323\n",
       "min      2.600000    2.000000    0.400000  1005.000000   47.000000\n",
       "25%      3.100000  191.750000    4.650000  1012.650000   73.750000\n",
       "50%      4.100000  297.000000    7.050000  1016.850000   85.000000\n",
       "75%      5.100000  337.000000    9.600000  1020.400000   95.000000\n",
       "max      9.800000  360.000000   16.900000  1022.800000  100.000000"
      ]
     },
     "execution_count": 5,
     "metadata": {},
     "output_type": "execute_result"
    }
   ],
   "source": [
    "df_fc_meteostat.describe()"
   ]
  },
  {
   "cell_type": "code",
   "execution_count": 6,
   "metadata": {},
   "outputs": [],
   "source": [
    "df_fc_meteostat.reset_index(inplace=True)"
   ]
  },
  {
   "cell_type": "code",
   "execution_count": 8,
   "metadata": {},
   "outputs": [],
   "source": [
    "# Find the minimum 'FechaHora'\n",
    "min_fecha_hora = df_fc_meteostat['FechaHora'].min()\n",
    "\n",
    "# Convert the minimum 'FechaHora' to string (date only)\n",
    "min_fecha_hora_date_str = min_fecha_hora.strftime('%Y-%m-%d')\n",
    "\n",
    "# Define the file path with the date string\n",
    "file_path = f'D:\\\\Documents\\\\MMA\\\\1.0 Tesis\\\\Datos\\\\METEOSTAT\\\\ds_fc_smn_{min_fecha_hora_date_str}.csv'\n",
    "\n",
    "# Save the DataFrame to a CSV file with the corrected file path\n",
    "df_fc_meteostat.to_csv(file_path, sep=';', index=False, decimal=',')"
   ]
  }
 ],
 "metadata": {
  "kernelspec": {
   "display_name": "tesis-python-3.11",
   "language": "python",
   "name": "tesis-python-3.11"
  },
  "language_info": {
   "codemirror_mode": {
    "name": "ipython",
    "version": 3
   },
   "file_extension": ".py",
   "mimetype": "text/x-python",
   "name": "python",
   "nbconvert_exporter": "python",
   "pygments_lexer": "ipython3",
   "version": "3.11.8"
  }
 },
 "nbformat": 4,
 "nbformat_minor": 4
}
