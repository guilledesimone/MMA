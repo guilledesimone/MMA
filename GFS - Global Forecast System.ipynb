{
 "cells": [
  {
   "cell_type": "markdown",
   "id": "6eb0de71-9c6d-4160-9df4-5721c959acf6",
   "metadata": {},
   "source": [
    "## Global Forecast System (GFS)\n",
    "\n",
    "GFS is a global numerical weather prediction system operated by the National Centers for Environmental Prediction (NCEP) in the United States. It provides forecasts at a global scale with relatively coarse resolution (about 0.25 degrees) but can still offer useful information for regional forecasts, including Argentina."
   ]
  },
  {
   "cell_type": "markdown",
   "id": "de61f7ea-3910-4d69-9103-036350e52f18",
   "metadata": {},
   "source": [
    "#### GFS -Operational Real Time Forecast "
   ]
  },
  {
   "cell_type": "code",
   "execution_count": 1,
   "id": "b70cca9c-6c6f-4f0f-9399-8f5cbefeb1f0",
   "metadata": {},
   "outputs": [],
   "source": [
    "import numpy as np\n",
    "import xarray as xr\n",
    "import matplotlib.pyplot as plt\n",
    "import matplotlib.dates as mdates\n",
    "import pandas as pd\n",
    "from datetime import datetime, timedelta\n",
    "import tarfile"
   ]
  },
  {
   "cell_type": "code",
   "execution_count": 14,
   "id": "45525ac6-8174-4b89-8445-fe3800d8bf50",
   "metadata": {},
   "outputs": [],
   "source": [
    "# Define the start and end times\n",
    "start_time = datetime.now() #'2024-06-17' #'2024-06-01T00:00:00'\n",
    "end_time = start_time + timedelta(days=10) #'2024-07-01' #2024-06-02T00:00:00'\n",
    "\n",
    "# URL for GFS forecast data from Unidata THREDDS Data Server\n",
    "url = 'https://thredds.ucar.edu/thredds/dodsC/grib/NCEP/GFS/Global_0p25deg/Best'\n",
    "\n",
    "# Open the GFS dataset using xarray\n",
    "dataset = xr.open_dataset(url)\n",
    "\n",
    "# Define location\n",
    "lat_location = -38.5\n",
    "lon_location = -62.75\n",
    "normalize_longitude = (lon_location + 360) % 360\n",
    "\n",
    "# Define heights\n",
    "height_80m = 80\n",
    "height_100m = 100\n",
    "\n",
    "# Filter the dataset for the specific time range and location\n",
    "dataset_filtered = dataset.sel(\n",
    "    time=slice(start_time, end_time),\n",
    "    lat=lat_location,\n",
    "    lon=normalize_longitude\n",
    ")\n",
    "\n",
    "\n",
    "# Extract specific variables at given heights\n",
    "specific_humidity_80m = dataset_filtered['Specific_humidity_height_above_ground'].sel(height_above_ground5=height_80m)\n",
    "v_wind_100m = dataset_filtered['v-component_of_wind_height_above_ground'].sel(height_above_ground2=height_100m)\n",
    "u_wind_100m = dataset_filtered['u-component_of_wind_height_above_ground'].sel(height_above_ground2=height_100m)\n",
    "temperature_100m = dataset_filtered['Temperature_height_above_ground'].sel(height_above_ground3=height_100m)\n",
    "#pressure_80m = dataset_filtered['Pressure_height_above_ground'].sel(height_above_ground=height_80m)\n",
    "\n",
    "\n",
    "# Convert xarray DataArrays to pandas DataFrames\n",
    "df_specific_humidity_80m = specific_humidity_80m.to_dataframe(name='Specific_Humidity_80m').reset_index()\n",
    "df_v_wind_100m = v_wind_100m.to_dataframe(name='V_Wind_100m').reset_index()\n",
    "df_u_wind_100m = u_wind_100m.to_dataframe(name='U_Wind_100m').reset_index()\n",
    "df_temperature_100m = temperature_100m.to_dataframe(name='Temperature_100m').reset_index()\n",
    "df_pressure_80m = pressure_80m.to_dataframe(name='pressure_80m').reset_index()\n"
   ]
  },
  {
   "cell_type": "code",
   "execution_count": 15,
   "id": "20a5e0bf-e5e9-4e82-90cb-aa7aa512f074",
   "metadata": {},
   "outputs": [],
   "source": [
    "# Merge DataFrames on the common columns (e.g., 'time', 'latitude', 'longitude')\n",
    "# dependiendo el rango de fecha consultado la columna time, debe ser reemplazado por time1\n",
    "#time_column = 'time'\n",
    "time_column = 'time1'\n",
    "\n",
    "df_merged = pd.merge(df_specific_humidity_80m[[time_column,'Specific_Humidity_80m']], df_v_wind_100m[[time_column,'V_Wind_100m']], on=[time_column])\n",
    "df_merged = pd.merge(df_merged, df_u_wind_100m[[time_column,'U_Wind_100m']], on=[time_column])\n",
    "df_merged = pd.merge(df_merged, df_temperature_100m[[time_column,'Temperature_100m']], on=[time_column])\n",
    "df_merged = pd.merge(df_merged, df_pressure_80m[[time_column,'pressure_80m']], on=[time_column])"
   ]
  },
  {
   "cell_type": "code",
   "execution_count": 16,
   "id": "a6f5f853-4f69-4cf8-9219-341d49fb84d2",
   "metadata": {},
   "outputs": [
    {
     "data": {
      "text/html": [
       "<div>\n",
       "<style scoped>\n",
       "    .dataframe tbody tr th:only-of-type {\n",
       "        vertical-align: middle;\n",
       "    }\n",
       "\n",
       "    .dataframe tbody tr th {\n",
       "        vertical-align: top;\n",
       "    }\n",
       "\n",
       "    .dataframe thead th {\n",
       "        text-align: right;\n",
       "    }\n",
       "</style>\n",
       "<table border=\"1\" class=\"dataframe\">\n",
       "  <thead>\n",
       "    <tr style=\"text-align: right;\">\n",
       "      <th></th>\n",
       "      <th>time1</th>\n",
       "      <th>Specific_Humidity_80m</th>\n",
       "      <th>V_Wind_100m</th>\n",
       "      <th>U_Wind_100m</th>\n",
       "      <th>Temperature_100m</th>\n",
       "      <th>pressure_80m</th>\n",
       "    </tr>\n",
       "  </thead>\n",
       "  <tbody>\n",
       "    <tr>\n",
       "      <th>182</th>\n",
       "      <td>2024-09-08 18:00:00</td>\n",
       "      <td>0.007626</td>\n",
       "      <td>-6.869180</td>\n",
       "      <td>0.138794</td>\n",
       "      <td>299.645203</td>\n",
       "      <td>98743.585938</td>\n",
       "    </tr>\n",
       "    <tr>\n",
       "      <th>183</th>\n",
       "      <td>2024-09-08 21:00:00</td>\n",
       "      <td>0.008644</td>\n",
       "      <td>-7.510286</td>\n",
       "      <td>0.134998</td>\n",
       "      <td>299.250031</td>\n",
       "      <td>98697.648438</td>\n",
       "    </tr>\n",
       "    <tr>\n",
       "      <th>184</th>\n",
       "      <td>2024-09-09 00:00:00</td>\n",
       "      <td>0.009595</td>\n",
       "      <td>-11.081324</td>\n",
       "      <td>-2.837847</td>\n",
       "      <td>295.074982</td>\n",
       "      <td>98763.765625</td>\n",
       "    </tr>\n",
       "    <tr>\n",
       "      <th>185</th>\n",
       "      <td>2024-09-09 03:00:00</td>\n",
       "      <td>0.010021</td>\n",
       "      <td>-5.010908</td>\n",
       "      <td>5.425535</td>\n",
       "      <td>292.614136</td>\n",
       "      <td>98893.539062</td>\n",
       "    </tr>\n",
       "    <tr>\n",
       "      <th>186</th>\n",
       "      <td>2024-09-09 06:00:00</td>\n",
       "      <td>0.008277</td>\n",
       "      <td>0.887576</td>\n",
       "      <td>6.357952</td>\n",
       "      <td>290.908386</td>\n",
       "      <td>98934.023438</td>\n",
       "    </tr>\n",
       "  </tbody>\n",
       "</table>\n",
       "</div>"
      ],
      "text/plain": [
       "                  time1  Specific_Humidity_80m  V_Wind_100m  U_Wind_100m  \\\n",
       "182 2024-09-08 18:00:00               0.007626    -6.869180     0.138794   \n",
       "183 2024-09-08 21:00:00               0.008644    -7.510286     0.134998   \n",
       "184 2024-09-09 00:00:00               0.009595   -11.081324    -2.837847   \n",
       "185 2024-09-09 03:00:00               0.010021    -5.010908     5.425535   \n",
       "186 2024-09-09 06:00:00               0.008277     0.887576     6.357952   \n",
       "\n",
       "     Temperature_100m  pressure_80m  \n",
       "182        299.645203  98743.585938  \n",
       "183        299.250031  98697.648438  \n",
       "184        295.074982  98763.765625  \n",
       "185        292.614136  98893.539062  \n",
       "186        290.908386  98934.023438  "
      ]
     },
     "execution_count": 16,
     "metadata": {},
     "output_type": "execute_result"
    }
   ],
   "source": [
    "df_merged.tail()"
   ]
  },
  {
   "cell_type": "markdown",
   "id": "3e6a0439-a88b-4466-a096-53e594773728",
   "metadata": {},
   "source": [
    "##### Convert UTC(0) to UTC(-3)"
   ]
  },
  {
   "cell_type": "code",
   "execution_count": 33,
   "id": "9020438f-057f-4738-8780-339357a46cb1",
   "metadata": {},
   "outputs": [],
   "source": [
    "# Define the time difference (3 hours) UTC(0) to UTC(-3)\n",
    "time_difference = np.timedelta64(3, 'h')\n",
    "\n",
    "# Subtract the time difference from the time coordinate\n",
    "df_merged['time'] = df_merged['time'] - time_difference\n",
    "\n",
    "df_merged.rename(columns={'time': 'FechaHora'}, inplace=True)"
   ]
  },
  {
   "cell_type": "markdown",
   "id": "9afece6a-6d8e-4b84-b361-9de2391d0b15",
   "metadata": {},
   "source": [
    "##### Calculate Wind Speed"
   ]
  },
  {
   "cell_type": "code",
   "execution_count": 34,
   "id": "3cd7689e-d211-425a-b969-b9e1ff8d269d",
   "metadata": {},
   "outputs": [],
   "source": [
    "# Calculate wind speed from u and v components (magnitude of the vector)\n",
    "df_merged['ws100'] = np.sqrt(df_merged['U_Wind_100m']**2 + df_merged['V_Wind_100m']**2)"
   ]
  },
  {
   "cell_type": "markdown",
   "id": "4b02354a-4772-4fc0-b860-8efc2d938217",
   "metadata": {},
   "source": [
    "##### Calculate Wind Direction"
   ]
  },
  {
   "cell_type": "code",
   "execution_count": 35,
   "id": "76a73499-e123-4346-b7fe-bebcf7afa9e5",
   "metadata": {},
   "outputs": [],
   "source": [
    "# Calculate wind dir from u and v components (magnitude of the vector)\n",
    "\n",
    "# Calculate the angle in radians\n",
    "theta = np.arctan2(df_merged['V_Wind_100m'], df_merged['U_Wind_100m'])\n",
    "\n",
    "# Convert the angle from radians to degrees\n",
    "theta_deg = np.degrees(theta)\n",
    "\n",
    "df_merged['dir100'] = (270 - theta_deg) % 360"
   ]
  },
  {
   "cell_type": "markdown",
   "id": "ec053179-accb-4e42-b4ee-1d5ade10b83a",
   "metadata": {},
   "source": [
    "##### Convert Temoerature to °C"
   ]
  },
  {
   "cell_type": "code",
   "execution_count": 36,
   "id": "4c6d7914-1a54-4937-9bd8-36541e87e50c",
   "metadata": {},
   "outputs": [],
   "source": [
    "# Convert temperature from Kelvin to Celsius\n",
    "df_merged['temp'] = df_merged['Temperature_100m'] - 273.15"
   ]
  },
  {
   "cell_type": "markdown",
   "id": "604fbe54-aa6e-4676-bd8c-a917b5a1078a",
   "metadata": {},
   "source": [
    "##### Calculate Air density"
   ]
  },
  {
   "cell_type": "code",
   "execution_count": 37,
   "id": "12d7646c-4729-4dcb-b27f-4164aece870b",
   "metadata": {},
   "outputs": [],
   "source": [
    "# Constants\n",
    "R_dry = 287.058  # Specific gas constant for dry air, J/(kg·K)\n",
    "R_vapor = 461.495  # Specific gas constant for water vapor, J/(kg·K)\n",
    "epsilon = R_dry / R_vapor\n",
    "\n",
    "# Given data (example values, replace with actual data)\n",
    "T_100m = df_merged['Temperature_100m']  # Temperature at 100 meters (K)\n",
    "p80 = df_merged['pressure_80m']  # Pressure at 80 meters (Pa)\n",
    "q80 = df_merged['Specific_Humidity_80m']  # Specific humidity at 80mts (kg/kg)\n",
    "\n",
    "\n",
    "# Calculate air density\n",
    "e = q80 * p80 / (epsilon + q80)  # Partial pressure of water vapor (Pa)\n",
    "P_dry = p80 - e  # Partial pressure of dry air (Pa)\n",
    "rho_dry = P_dry / (R_dry * T_100m)  # Density of dry air (kg/m³)\n",
    "rho_vapor = e / (R_vapor * T_100m)  # Density of water vapor (kg/m³)\n",
    "\n",
    "df_merged['air_density'] = rho_dry + rho_vapor  # Total air density (kg/m³)\n"
   ]
  },
  {
   "cell_type": "markdown",
   "id": "d766784e-d79c-49eb-aa31-8cf9c01c90a0",
   "metadata": {},
   "source": [
    "##### Calculate Relation Thrust Force T (Fuerza de Empuje) / Coefficient Ct (Coeficiente de Empuje) \n",
    "\n",
    "En el contexto de las turbinas eólicas, la fuerza de empuje es la fuerza aerodinámica que el viento ejerce sobre las palas del rotor de una turbina.\n",
    "Esta fuerza afecta tanto el rendimiento de la turbina como la distribución de cargas en su estructura, lo que es crucial para el diseño y la operación eficientes.\n",
    "\n",
    "T / Ct = 0.5 * air_density * Area_rotor * wind_speed^2\n",
    "\n",
    "Ct= es un coeficiente dado por el fabricante\n",
    "\n"
   ]
  },
  {
   "cell_type": "code",
   "execution_count": 38,
   "id": "cc9c0509-4dc9-4a1a-9e7e-8e1e34c1f4ba",
   "metadata": {},
   "outputs": [],
   "source": [
    "# rotor diameter in meters \n",
    "D = 125 # Turbine Acciona AW 125/3150\n",
    "\n",
    "# Calculate rotor swept area (m²)\n",
    "A = np.pi * (D / 2) ** 2\n",
    "\n",
    "# Calculate relation between Thrust Force / Thrust Coefficient C_T\n",
    "df_merged['rel_Tct'] = 0.5 * df_merged['air_density'] * df_merged['ws100']**2"
   ]
  },
  {
   "cell_type": "markdown",
   "id": "d7d33d8a-524d-4d04-9a58-e240ec5b32b0",
   "metadata": {},
   "source": [
    "##### Filter Main Variables"
   ]
  },
  {
   "cell_type": "code",
   "execution_count": 39,
   "id": "bff45e51-abd4-4b4c-b201-b07f75da7bc3",
   "metadata": {},
   "outputs": [],
   "source": [
    "df_gfs_fc = df_merged [['FechaHora','ws100','dir100','temp','air_density','rel_Tct']].copy()"
   ]
  },
  {
   "cell_type": "code",
   "execution_count": 40,
   "id": "a5a27e3e-5814-46ee-9406-e474f3b3c630",
   "metadata": {},
   "outputs": [
    {
     "data": {
      "text/html": [
       "<div>\n",
       "<style scoped>\n",
       "    .dataframe tbody tr th:only-of-type {\n",
       "        vertical-align: middle;\n",
       "    }\n",
       "\n",
       "    .dataframe tbody tr th {\n",
       "        vertical-align: top;\n",
       "    }\n",
       "\n",
       "    .dataframe thead th {\n",
       "        text-align: right;\n",
       "    }\n",
       "</style>\n",
       "<table border=\"1\" class=\"dataframe\">\n",
       "  <thead>\n",
       "    <tr style=\"text-align: right;\">\n",
       "      <th></th>\n",
       "      <th>FechaHora</th>\n",
       "      <th>ws100</th>\n",
       "      <th>dir100</th>\n",
       "      <th>temp</th>\n",
       "      <th>air_density</th>\n",
       "      <th>rel_Tct</th>\n",
       "    </tr>\n",
       "  </thead>\n",
       "  <tbody>\n",
       "    <tr>\n",
       "      <th>0</th>\n",
       "      <td>2024-07-12 15:00:00</td>\n",
       "      <td>5.725431</td>\n",
       "      <td>307.596497</td>\n",
       "      <td>8.751892</td>\n",
       "      <td>1.243437</td>\n",
       "      <td>20.380274</td>\n",
       "    </tr>\n",
       "    <tr>\n",
       "      <th>1</th>\n",
       "      <td>2024-07-12 18:00:00</td>\n",
       "      <td>5.791431</td>\n",
       "      <td>322.454346</td>\n",
       "      <td>8.789337</td>\n",
       "      <td>1.242727</td>\n",
       "      <td>20.840948</td>\n",
       "    </tr>\n",
       "    <tr>\n",
       "      <th>2</th>\n",
       "      <td>2024-07-12 21:00:00</td>\n",
       "      <td>7.346884</td>\n",
       "      <td>338.205719</td>\n",
       "      <td>6.962128</td>\n",
       "      <td>1.250970</td>\n",
       "      <td>33.761620</td>\n",
       "    </tr>\n",
       "    <tr>\n",
       "      <th>3</th>\n",
       "      <td>2024-07-13 00:00:00</td>\n",
       "      <td>9.226981</td>\n",
       "      <td>340.597809</td>\n",
       "      <td>5.750000</td>\n",
       "      <td>1.255641</td>\n",
       "      <td>53.450871</td>\n",
       "    </tr>\n",
       "    <tr>\n",
       "      <th>4</th>\n",
       "      <td>2024-07-13 03:00:00</td>\n",
       "      <td>9.970060</td>\n",
       "      <td>341.805481</td>\n",
       "      <td>4.735809</td>\n",
       "      <td>1.259554</td>\n",
       "      <td>62.601173</td>\n",
       "    </tr>\n",
       "  </tbody>\n",
       "</table>\n",
       "</div>"
      ],
      "text/plain": [
       "            FechaHora     ws100      dir100      temp  air_density    rel_Tct\n",
       "0 2024-07-12 15:00:00  5.725431  307.596497  8.751892     1.243437  20.380274\n",
       "1 2024-07-12 18:00:00  5.791431  322.454346  8.789337     1.242727  20.840948\n",
       "2 2024-07-12 21:00:00  7.346884  338.205719  6.962128     1.250970  33.761620\n",
       "3 2024-07-13 00:00:00  9.226981  340.597809  5.750000     1.255641  53.450871\n",
       "4 2024-07-13 03:00:00  9.970060  341.805481  4.735809     1.259554  62.601173"
      ]
     },
     "execution_count": 40,
     "metadata": {},
     "output_type": "execute_result"
    }
   ],
   "source": [
    "df_gfs_fc.head()"
   ]
  },
  {
   "cell_type": "markdown",
   "id": "6e4cf5d8-c9c5-4215-b705-4533cc70ebe8",
   "metadata": {},
   "source": [
    "##### Resample de 3h a 1h (fill gaps coping values)"
   ]
  },
  {
   "cell_type": "code",
   "execution_count": 41,
   "id": "c845f9c5-0185-4d31-a8d5-e4ec452673d1",
   "metadata": {},
   "outputs": [],
   "source": [
    "# Set 'FechaHora' as the index\n",
    "df_gfs_fc.set_index('FechaHora', inplace=True)"
   ]
  },
  {
   "cell_type": "code",
   "execution_count": 42,
   "id": "65db055c-d00e-4f41-9884-4bb4a9270a7e",
   "metadata": {},
   "outputs": [],
   "source": [
    "# Resample the dataframe to hourly frequency \n",
    "df_gfs_fc = df_gfs_fc.resample('h').asfreq()"
   ]
  },
  {
   "cell_type": "code",
   "execution_count": null,
   "id": "1b98366e-69ee-4737-8c98-96fe02cf3892",
   "metadata": {},
   "outputs": [],
   "source": [
    "# Linear interpolation\n",
    "df_gfs_fc = df_gfs_fc.interpolate(method='linear')"
   ]
  },
  {
   "cell_type": "code",
   "execution_count": 43,
   "id": "a11edd4b-24b7-4c47-8dd2-0a7ada6dc22a",
   "metadata": {},
   "outputs": [],
   "source": [
    "# Reset index to make 'time' a column\n",
    "df_gfs_fc.reset_index(inplace=True)"
   ]
  },
  {
   "cell_type": "markdown",
   "id": "df74f62c-9754-41bb-8fec-5af94243a8a8",
   "metadata": {},
   "source": [
    "##### Rename columns"
   ]
  },
  {
   "cell_type": "code",
   "execution_count": 44,
   "id": "2d5b8ec3-c2fd-4db9-b559-b01ad83db90a",
   "metadata": {},
   "outputs": [],
   "source": [
    "# Rename the columns\n",
    "df_gfs_fc = df_gfs_fc.rename(columns={\n",
    "    'ws100': 'ws100_gfs',\n",
    "    'dir100': 'dir100_gfs',\n",
    "    'temp': 'temp_gfs',\n",
    "    'air_density': 'airden_gfs',\n",
    "    'rel_Tct': 'reltct_gfs'\n",
    "})"
   ]
  },
  {
   "cell_type": "code",
   "execution_count": 45,
   "id": "64e538f1-1004-4148-9248-bc5d943a6861",
   "metadata": {},
   "outputs": [],
   "source": [
    "# Find the minimum 'FechaHora'\n",
    "min_fecha_hora = df_gfs_fc['FechaHora'].min()\n",
    "\n",
    "# Convert the minimum 'FechaHora' to string (date only)\n",
    "min_fecha_hora_date_str = min_fecha_hora.strftime('%Y-%m-%d')\n",
    "\n",
    "# Define the file path with the date string\n",
    "file_path = f'D:\\\\Documents\\\\MMA\\\\1.0 Tesis\\\\Datos\\\\GFS\\\\ds_fc_gfs_{min_fecha_hora_date_str}.csv'\n",
    "\n",
    "# Save the DataFrame to a CSV file with the corrected file path\n",
    "df_gfs_fc.to_csv(file_path, sep=';', index=False, decimal=',')"
   ]
  },
  {
   "cell_type": "markdown",
   "id": "3cbedb1e-d0d1-4165-b449-b2d1faa0c2a1",
   "metadata": {},
   "source": [
    "## ______________________________________________________________________________________________________"
   ]
  },
  {
   "cell_type": "markdown",
   "id": "a7f44a66-c5b0-4a63-a171-15fe6d12d294",
   "metadata": {},
   "source": [
    "### GFS - Hitorical Data"
   ]
  },
  {
   "cell_type": "markdown",
   "id": "31cad29a-37e9-4f8e-949b-074f5e022f32",
   "metadata": {},
   "source": [
    "\n",
    "Research Data Archive RDA: \n",
    "The Research Data Archive (RDA) is a comprehensive resource for climate and weather data, managed by the National Center for Atmospheric Research (NCAR).\n",
    "\n",
    "Provide the: GFS (Global Forecast System): Operational weather forecast data produced by NCEP. \n",
    "\n",
    "The National Centers for Environmental Prediction (NCEP) is a part of the National Oceanic and Atmospheric Administration (NOAA) within the United States\n",
    "link: https://rda.ucar.edu/datasets/ds084.1/\n",
    "\n",
    "Ds084.1: The NCEP operational Global Forecast System analysis and forecast grids are on a 0.25 by 0.25 global latitude longitude grid. Grids include analysis and forecast time steps at a 3 hourly interval from 0 to 240, and a 12 hourly interval from 240 to 384. Model forecast runs occur at 00, 06, 12, and 18 UTC daily.\n",
    "\n",
    "\n",
    "\n",
    "\n",
    "\n",
    "\n",
    "\n",
    "\n",
    "https://github.com/NCAR/rda-apps-clients/tree/main#rda-apps-clients\n",
    "\n",
    "NCEP GDAS/FNL 0.25 Degree Global Tropospheric Analyses and Forecast Grids \n",
    "ds083.3\n",
    "https://rda.ucar.edu/datasets/ds083.3/\n",
    "Description:\r\n",
    "Rights: Freely Available\r\n",
    "summary: These NCEP FNL (Final) operational global analysis and forecast data are on 0.25-degree by 0.25-degree grids prepared operational**ly every six ho**urs. This product is from the Global Data Assimilation System (GDAS), which continuously collects observational data from the Global Telecommunications System (GTS), and other sources, for many analyse\n",
    "\n",
    "s. The FNLs are made with the same model which NCEP uses in the Global Forecast System (GFS), but the FNLs are prepared about an hour or so after the GFS is initialized. The FNLs are delayed so that more observational data can be used. The GFS is run earlier in support of time critical forecast needs, and uses the FNL from the previous 6 hour cycle as part of its initializati\n",
    "on.\r\n",
    "summary: The analyses are available on the surface, at 26 mandatory (and other pressure) levels from 1000 millibars to 10 millibars, in the surface boundary layer and at some sigma layers, the tropopause and a few others. Parameters include surface pressure, sea level pressure, geopotential height, temperature, sea surface temperature, soil values, ice cover, relative humidity, u- and v- winds, vertical motion, vorticity and ozone.\r\n",
    "summary: The archive time series is continuously extended to a near-current date. It is not maintained in real-time.\r\n",
    "NCEP GDAS/FNL 0.25 Degree Global Tropospheric Analyses and Forecast Gridss (ds083.3)\r\n",
    "NCEP Model docum\n",
    "\n",
    "\n",
    "\n",
    "\n",
    "\n",
    "\n"
   ]
  },
  {
   "cell_type": "markdown",
   "id": "138281b2-016e-4a0b-987b-873776bc4035",
   "metadata": {},
   "source": [
    "## RDA Request Workflow"
   ]
  },
  {
   "cell_type": "code",
   "execution_count": 1,
   "id": "5b1142d4-14f8-4249-9b19-c249b72d020c",
   "metadata": {},
   "outputs": [],
   "source": [
    "import rdams_client as rc\n",
    "import time\n",
    "import sys, os\n",
    "import requests\n",
    "import xarray as xr\n",
    "import pandas as pd\n",
    "import glob\n",
    "import numpy as np\n",
    "from datetime import timedelta\n",
    "import tarfile"
   ]
  },
  {
   "cell_type": "markdown",
   "id": "7d20385b-f623-4ddf-81f6-9d33c35b49b8",
   "metadata": {},
   "source": [
    "**Function to keep checking if a request is ready.**"
   ]
  },
  {
   "cell_type": "code",
   "execution_count": 2,
   "id": "0c3ea60c-a609-4357-b4b2-4a0fa2c3c87e",
   "metadata": {},
   "outputs": [],
   "source": [
    "def check_ready(rqst_id, wait_interval=120):\n",
    "    \"\"\"Checks if a request is ready.\"\"\"\n",
    "    for i in range(100): # 100 is arbitrary. This would wait 200 minutes for request to complete\n",
    "        res = rc.get_status(rqst_id)\n",
    "        request_status = res['data']['status']\n",
    "        if request_status == 'Completed':\n",
    "            return True\n",
    "        print(request_status)\n",
    "        print('Not yet available. Waiting ' + str(wait_interval) + ' seconds.' )\n",
    "        time.sleep(wait_interval)\n",
    "    return False"
   ]
  },
  {
   "cell_type": "markdown",
   "id": "b374354a-7fcb-4ba7-8569-1dad3bd10aae",
   "metadata": {},
   "source": [
    "**Control dict for subsetting.**"
   ]
  },
  {
   "cell_type": "code",
   "execution_count": 7,
   "id": "7ed286c9-4cf0-41f8-9e41-c8dbcfb28c6e",
   "metadata": {},
   "outputs": [],
   "source": [
    "control = { \n",
    "         'dataset' : 'ds084.1',\n",
    "         'date':'202401010000/to/202406150000', #conviene descargar lote de archivos por año\n",
    "         'datetype':'init',\n",
    "         'param':'V GRD/U GRD/TMP/PRES/SPF H',\n",
    "         'level':'HTGL:100/80',\n",
    "         'oformat': 'netCDF', \n",
    "         'nlat':-38.5, \n",
    "         'slat':-38.5, \n",
    "         'elon':-62.75,\n",
    "         'wlon':-62.75,\n",
    "         'time': 0,\n",
    "         'product': '/3-hour Forecast/6-hour Forecast/9-hour Forecast/12-hour Forecast/15-hour Forecast/18-hour Forecast/21-hour Forecast/24-hour Forecast'\n",
    "         } "
   ]
  },
  {
   "cell_type": "markdown",
   "id": "6897dae1-2fd8-4200-8c4b-680ea21d6937",
   "metadata": {},
   "source": [
    "**Submit a request and check if it went through without an error.**"
   ]
  },
  {
   "cell_type": "code",
   "execution_count": 8,
   "id": "0e9b9804-64ad-4834-987b-2b9cf93ec944",
   "metadata": {},
   "outputs": [
    {
     "name": "stdout",
     "output_type": "stream",
     "text": [
      "{'status': 'ok', 'http_response': 200, 'error_messages': [], 'data': {'request_id': '746296'}, 'contact': 'rdahelp@ucar.edu'}\n"
     ]
    }
   ],
   "source": [
    "response = rc.submit_json(control)\n",
    "assert response['http_response'] == 200\n",
    "rqst_id = response['data']['request_id']\n",
    "\n",
    "print(response)"
   ]
  },
  {
   "cell_type": "markdown",
   "id": "600ee179-c8b5-4484-a113-ef67f96972bc",
   "metadata": {},
   "source": [
    "**Checks if the request is ready. When it is, it will start to download the files**"
   ]
  },
  {
   "cell_type": "markdown",
   "id": "c41ff499-06a7-4766-b690-0839b9fdcb84",
   "metadata": {},
   "source": [
    "En el dashboard se puede ver el estado del request, boton Show Request\n",
    "\n",
    "https://rda.ucar.edu/ajax/#!cgi-bin/dashboard "
   ]
  },
  {
   "cell_type": "code",
   "execution_count": null,
   "id": "286e0872-5bf0-4d37-adcf-e0b7b6f0a263",
   "metadata": {
    "scrolled": true
   },
   "outputs": [
    {
     "name": "stdout",
     "output_type": "stream",
     "text": [
      "Downloading gfs.0p25.2024010100.f003-25.2024061500.f024.grib2.nc.tar\n",
      "100.000 % Completed\n"
     ]
    }
   ],
   "source": [
    "\n",
    "#rqst_id=746296\n",
    "check_ready(rqst_id)\n",
    "download_response = rc.download(rqst_id)"
   ]
  },
  {
   "cell_type": "markdown",
   "id": "d8a89616-10d2-4e16-a53f-1b9ef119c5ab",
   "metadata": {},
   "source": [
    "**Download the files**"
   ]
  },
  {
   "cell_type": "code",
   "execution_count": 13,
   "id": "617492b1-5977-418a-92f1-276100c2ad6e",
   "metadata": {},
   "outputs": [
    {
     "name": "stdout",
     "output_type": "stream",
     "text": [
      "Downloading gfs.0p25.2024010100.f003-25.2024061500.f024.grib2.nc.tar\n"
     ]
    }
   ],
   "source": [
    "# URL of the file to download\n",
    "file_url = download_response['data']['web_files'][0]['web_path']\n",
    "\n",
    "# Directory to save the file\n",
    "save_dir = 'D:\\\\Documents\\\\MMA\\\\1.0 Tesis\\\\Datos\\\\GFS\\\\Archive'\n",
    "\n",
    "# Ensure the directory exists\n",
    "os.makedirs(save_dir, exist_ok=True)\n",
    "\n",
    "# Extract the filename from the URL\n",
    "filename = os.path.basename(file_url)\n",
    "\n",
    "# Path to save the file locally\n",
    "save_path = os.path.join(save_dir, filename)\n",
    "\n",
    "# Download the file\n",
    "print('Downloading', filename)\n",
    "req = requests.get(file_url, allow_redirects=True)\n",
    "with open(save_path, 'wb') as file:\n",
    "    file.write(req.content)"
   ]
  },
  {
   "cell_type": "code",
   "execution_count": 14,
   "id": "dbe17ea3-b838-485b-949d-eedf04b81ca3",
   "metadata": {},
   "outputs": [],
   "source": [
    "# Path to the TAR file\n",
    "tar_file_path = save_path\n",
    "\n",
    "# Directory to extract the files\n",
    "extract_dir = 'D:\\\\Documents\\\\MMA\\\\1.0 Tesis\\\\Datos\\\\GFS\\\\Files_3h'\n",
    "\n",
    "# Ensure the directory exists\n",
    "os.makedirs(extract_dir, exist_ok=True)\n",
    "\n",
    "# Open the TAR file for reading\n",
    "with tarfile.open(tar_file_path, 'r') as tar:\n",
    "    # Extract all files to the extract_dir\n",
    "    tar.extractall(path=extract_dir)"
   ]
  },
  {
   "cell_type": "markdown",
   "id": "f4e6b419-766f-4be2-b0be-b1b453933e45",
   "metadata": {},
   "source": [
    "**Purge the request. Purge will occur automatically after 10 days**"
   ]
  },
  {
   "cell_type": "code",
   "execution_count": null,
   "id": "69d6ffd5-640f-48e3-8a65-be750af70906",
   "metadata": {},
   "outputs": [],
   "source": [
    "# Optionally purge request\n",
    "#rqst_id='743254'\n",
    "rc.purge_request(rqst_id)"
   ]
  },
  {
   "cell_type": "markdown",
   "id": "d581c27d-9eb1-4256-8f5a-3744c6e57daa",
   "metadata": {},
   "source": [
    "## Transformacion de Archivos Descargados"
   ]
  },
  {
   "cell_type": "code",
   "execution_count": 15,
   "id": "6d88f40c-25e5-4327-bb50-a58953961d58",
   "metadata": {},
   "outputs": [],
   "source": [
    "# Step 1: Define the path to the files\n",
    "file_directory = 'D:\\\\Documents\\\\MMA\\\\1.0 Tesis\\\\Datos\\\\GFS\\\\Files_3h'\n",
    "file_pattern = os.path.join(file_directory, 'gfs.0p25.*00.*grib2.nc')\n",
    "files = glob.glob(file_pattern)\n",
    "\n",
    "# Step 2: Open multiple files and store them in a list of Datasets\n",
    "datasets = [xr.open_dataset(file) for file in files]"
   ]
  },
  {
   "cell_type": "code",
   "execution_count": 16,
   "id": "585e61c1-4cd2-4bb0-b859-70642b4c25a7",
   "metadata": {},
   "outputs": [],
   "source": [
    "# Step 3: Extract the required variables and combine the datasets\n",
    "data_vars = ['U_GRD_L103', 'V_GRD_L103','TMP_L103','SPF_H_L103','PRES_L103']\n",
    "combined_dataset = xr.concat(datasets, dim='time')\n",
    "\n",
    "# Step 4: Create a DataFrame with time as the index and the required variables as columns\n",
    "df100 = combined_dataset[data_vars].to_dataframe()"
   ]
  },
  {
   "cell_type": "code",
   "execution_count": 17,
   "id": "3183c7da-fd7f-4435-a10f-daba709126de",
   "metadata": {},
   "outputs": [],
   "source": [
    "# Reset the index to flatten the DataFrame\n",
    "df100.reset_index(inplace=True)"
   ]
  },
  {
   "cell_type": "code",
   "execution_count": 18,
   "id": "66191adb-8ea2-4133-a4d6-754ce7987bd6",
   "metadata": {},
   "outputs": [],
   "source": [
    "#df100.head(50)"
   ]
  },
  {
   "cell_type": "code",
   "execution_count": 19,
   "id": "50118663-b402-4871-9e7b-87f6b70a29c2",
   "metadata": {},
   "outputs": [
    {
     "name": "stdout",
     "output_type": "stream",
     "text": [
      "   level0  SPF_H_L103     PRES_L103\n",
      "0    80.0   83.950104  1.554682e+09\n",
      "1   100.0   83.950104  1.554682e+09\n"
     ]
    }
   ],
   "source": [
    "# Group by 'level0' and sum the specified columns\n",
    "grouped_df = df100.groupby('level0')[['SPF_H_L103', 'PRES_L103']].sum().reset_index()\n",
    "\n",
    "print(grouped_df)"
   ]
  },
  {
   "cell_type": "code",
   "execution_count": 20,
   "id": "ecdc2f62-6e87-4503-8601-db5e9a0555ed",
   "metadata": {},
   "outputs": [],
   "source": [
    "# Keep records with 'level0' == 100\n",
    "df100 = df100[df100['level0'] == 100] "
   ]
  },
  {
   "cell_type": "code",
   "execution_count": 21,
   "id": "86bb5b69-174a-4ed2-ae60-f9d4f88068c7",
   "metadata": {},
   "outputs": [],
   "source": [
    "# Set the time as the index\n",
    "df100.set_index('time', inplace=True)\n",
    "\n",
    "# Drop any unwanted columns (lat, lon if they are not needed)\n",
    "df100.drop(columns=['lat', 'lon','level0'], inplace=True)"
   ]
  },
  {
   "cell_type": "code",
   "execution_count": 22,
   "id": "030924b7-4568-4969-b578-eaced8007ead",
   "metadata": {},
   "outputs": [
    {
     "data": {
      "text/html": [
       "<div>\n",
       "<style scoped>\n",
       "    .dataframe tbody tr th:only-of-type {\n",
       "        vertical-align: middle;\n",
       "    }\n",
       "\n",
       "    .dataframe tbody tr th {\n",
       "        vertical-align: top;\n",
       "    }\n",
       "\n",
       "    .dataframe thead th {\n",
       "        text-align: right;\n",
       "    }\n",
       "</style>\n",
       "<table border=\"1\" class=\"dataframe\">\n",
       "  <thead>\n",
       "    <tr style=\"text-align: right;\">\n",
       "      <th></th>\n",
       "      <th>U_GRD_L103</th>\n",
       "      <th>V_GRD_L103</th>\n",
       "      <th>TMP_L103</th>\n",
       "      <th>SPF_H_L103</th>\n",
       "      <th>PRES_L103</th>\n",
       "    </tr>\n",
       "    <tr>\n",
       "      <th>time</th>\n",
       "      <th></th>\n",
       "      <th></th>\n",
       "      <th></th>\n",
       "      <th></th>\n",
       "      <th></th>\n",
       "    </tr>\n",
       "  </thead>\n",
       "  <tbody>\n",
       "    <tr>\n",
       "      <th>2024-06-15 12:00:00</th>\n",
       "      <td>7.507061</td>\n",
       "      <td>-1.691675</td>\n",
       "      <td>284.145081</td>\n",
       "      <td>0.004459</td>\n",
       "      <td>99436.828125</td>\n",
       "    </tr>\n",
       "    <tr>\n",
       "      <th>2024-06-15 15:00:00</th>\n",
       "      <td>6.050413</td>\n",
       "      <td>-2.742749</td>\n",
       "      <td>286.968323</td>\n",
       "      <td>0.004779</td>\n",
       "      <td>99562.890625</td>\n",
       "    </tr>\n",
       "    <tr>\n",
       "      <th>2024-06-15 18:00:00</th>\n",
       "      <td>8.108137</td>\n",
       "      <td>-3.907915</td>\n",
       "      <td>289.842224</td>\n",
       "      <td>0.004545</td>\n",
       "      <td>99407.359375</td>\n",
       "    </tr>\n",
       "    <tr>\n",
       "      <th>2024-06-15 21:00:00</th>\n",
       "      <td>5.115747</td>\n",
       "      <td>-3.477144</td>\n",
       "      <td>289.970764</td>\n",
       "      <td>0.004867</td>\n",
       "      <td>99470.304688</td>\n",
       "    </tr>\n",
       "    <tr>\n",
       "      <th>2024-06-16 00:00:00</th>\n",
       "      <td>3.710671</td>\n",
       "      <td>-3.511648</td>\n",
       "      <td>287.762146</td>\n",
       "      <td>0.004650</td>\n",
       "      <td>99613.585938</td>\n",
       "    </tr>\n",
       "  </tbody>\n",
       "</table>\n",
       "</div>"
      ],
      "text/plain": [
       "                     U_GRD_L103  V_GRD_L103    TMP_L103  SPF_H_L103  \\\n",
       "time                                                                  \n",
       "2024-06-15 12:00:00    7.507061   -1.691675  284.145081    0.004459   \n",
       "2024-06-15 15:00:00    6.050413   -2.742749  286.968323    0.004779   \n",
       "2024-06-15 18:00:00    8.108137   -3.907915  289.842224    0.004545   \n",
       "2024-06-15 21:00:00    5.115747   -3.477144  289.970764    0.004867   \n",
       "2024-06-16 00:00:00    3.710671   -3.511648  287.762146    0.004650   \n",
       "\n",
       "                        PRES_L103  \n",
       "time                               \n",
       "2024-06-15 12:00:00  99436.828125  \n",
       "2024-06-15 15:00:00  99562.890625  \n",
       "2024-06-15 18:00:00  99407.359375  \n",
       "2024-06-15 21:00:00  99470.304688  \n",
       "2024-06-16 00:00:00  99613.585938  "
      ]
     },
     "execution_count": 22,
     "metadata": {},
     "output_type": "execute_result"
    }
   ],
   "source": [
    "df100.tail()"
   ]
  },
  {
   "cell_type": "code",
   "execution_count": 23,
   "id": "9244e4bd-d7eb-4824-8888-52049f19216a",
   "metadata": {},
   "outputs": [],
   "source": [
    "# Convert the index to DateTime to ensure consistency\n",
    "df100.index = pd.to_datetime(df100.index)\n",
    "\n",
    "#Reset Index\n",
    "df100.reset_index(inplace=True)\n",
    "\n",
    "# Rename the index column to 'FechaHora'\n",
    "df100.rename(columns={'time': 'FechaHora'}, inplace=True)"
   ]
  },
  {
   "cell_type": "markdown",
   "id": "d0dabcf0-7cd1-4959-873a-0e33401e754a",
   "metadata": {},
   "source": [
    "##### Convert UTC(0) to UTC(-3)"
   ]
  },
  {
   "cell_type": "code",
   "execution_count": 40,
   "id": "c89847ef-2a7a-45ea-b8c9-9868a7da178e",
   "metadata": {},
   "outputs": [
    {
     "data": {
      "text/html": [
       "<div>\n",
       "<style scoped>\n",
       "    .dataframe tbody tr th:only-of-type {\n",
       "        vertical-align: middle;\n",
       "    }\n",
       "\n",
       "    .dataframe tbody tr th {\n",
       "        vertical-align: top;\n",
       "    }\n",
       "\n",
       "    .dataframe thead th {\n",
       "        text-align: right;\n",
       "    }\n",
       "</style>\n",
       "<table border=\"1\" class=\"dataframe\">\n",
       "  <thead>\n",
       "    <tr style=\"text-align: right;\">\n",
       "      <th></th>\n",
       "      <th>FechaHora</th>\n",
       "      <th>U_GRD_L103</th>\n",
       "      <th>V_GRD_L103</th>\n",
       "      <th>TMP_L103</th>\n",
       "      <th>SPF_H_L103</th>\n",
       "      <th>PRES_L103</th>\n",
       "      <th>ws100</th>\n",
       "      <th>dir100</th>\n",
       "      <th>temp</th>\n",
       "      <th>air_density</th>\n",
       "      <th>rel_Tct</th>\n",
       "    </tr>\n",
       "  </thead>\n",
       "  <tbody>\n",
       "    <tr>\n",
       "      <th>15667</th>\n",
       "      <td>2024-06-15 09:00:00</td>\n",
       "      <td>7.507061</td>\n",
       "      <td>-1.691675</td>\n",
       "      <td>284.145081</td>\n",
       "      <td>0.004459</td>\n",
       "      <td>99436.828125</td>\n",
       "      <td>7.695305</td>\n",
       "      <td>282.699158</td>\n",
       "      <td>10.995087</td>\n",
       "      <td>1.215815</td>\n",
       "      <td>35.998894</td>\n",
       "    </tr>\n",
       "    <tr>\n",
       "      <th>15668</th>\n",
       "      <td>2024-06-15 12:00:00</td>\n",
       "      <td>6.050413</td>\n",
       "      <td>-2.742749</td>\n",
       "      <td>286.968323</td>\n",
       "      <td>0.004779</td>\n",
       "      <td>99562.890625</td>\n",
       "      <td>6.643054</td>\n",
       "      <td>294.385559</td>\n",
       "      <td>13.818329</td>\n",
       "      <td>1.205149</td>\n",
       "      <td>26.591703</td>\n",
       "    </tr>\n",
       "    <tr>\n",
       "      <th>15669</th>\n",
       "      <td>2024-06-15 15:00:00</td>\n",
       "      <td>8.108137</td>\n",
       "      <td>-3.907915</td>\n",
       "      <td>289.842224</td>\n",
       "      <td>0.004545</td>\n",
       "      <td>99407.359375</td>\n",
       "      <td>9.000760</td>\n",
       "      <td>295.732880</td>\n",
       "      <td>16.692230</td>\n",
       "      <td>1.191502</td>\n",
       "      <td>48.263992</td>\n",
       "    </tr>\n",
       "    <tr>\n",
       "      <th>15670</th>\n",
       "      <td>2024-06-15 18:00:00</td>\n",
       "      <td>5.115747</td>\n",
       "      <td>-3.477144</td>\n",
       "      <td>289.970764</td>\n",
       "      <td>0.004867</td>\n",
       "      <td>99470.304688</td>\n",
       "      <td>6.185580</td>\n",
       "      <td>304.203705</td>\n",
       "      <td>16.820770</td>\n",
       "      <td>1.191498</td>\n",
       "      <td>22.794186</td>\n",
       "    </tr>\n",
       "    <tr>\n",
       "      <th>15671</th>\n",
       "      <td>2024-06-15 21:00:00</td>\n",
       "      <td>3.710671</td>\n",
       "      <td>-3.511648</td>\n",
       "      <td>287.762146</td>\n",
       "      <td>0.004650</td>\n",
       "      <td>99613.585938</td>\n",
       "      <td>5.108890</td>\n",
       "      <td>313.421509</td>\n",
       "      <td>14.612152</td>\n",
       "      <td>1.202529</td>\n",
       "      <td>15.693450</td>\n",
       "    </tr>\n",
       "  </tbody>\n",
       "</table>\n",
       "</div>"
      ],
      "text/plain": [
       "                FechaHora  U_GRD_L103  V_GRD_L103    TMP_L103  SPF_H_L103  \\\n",
       "15667 2024-06-15 09:00:00    7.507061   -1.691675  284.145081    0.004459   \n",
       "15668 2024-06-15 12:00:00    6.050413   -2.742749  286.968323    0.004779   \n",
       "15669 2024-06-15 15:00:00    8.108137   -3.907915  289.842224    0.004545   \n",
       "15670 2024-06-15 18:00:00    5.115747   -3.477144  289.970764    0.004867   \n",
       "15671 2024-06-15 21:00:00    3.710671   -3.511648  287.762146    0.004650   \n",
       "\n",
       "          PRES_L103     ws100      dir100       temp  air_density    rel_Tct  \n",
       "15667  99436.828125  7.695305  282.699158  10.995087     1.215815  35.998894  \n",
       "15668  99562.890625  6.643054  294.385559  13.818329     1.205149  26.591703  \n",
       "15669  99407.359375  9.000760  295.732880  16.692230     1.191502  48.263992  \n",
       "15670  99470.304688  6.185580  304.203705  16.820770     1.191498  22.794186  \n",
       "15671  99613.585938  5.108890  313.421509  14.612152     1.202529  15.693450  "
      ]
     },
     "execution_count": 40,
     "metadata": {},
     "output_type": "execute_result"
    }
   ],
   "source": [
    "df100.tail()"
   ]
  },
  {
   "cell_type": "code",
   "execution_count": 25,
   "id": "90aca80b-8ba2-40f9-983c-06d2b6decd0f",
   "metadata": {},
   "outputs": [],
   "source": [
    "# Define the time difference (3 hours) UTC(0) to UTC(-3)\n",
    "time_difference = np.timedelta64(3, 'h')\n",
    "\n",
    "# Subtract the time difference from the time coordinate\n",
    "df100['FechaHora'] = df100['FechaHora'] - time_difference\n"
   ]
  },
  {
   "cell_type": "markdown",
   "id": "0e3984e4-faeb-4972-ba30-e37c44bfa52a",
   "metadata": {},
   "source": [
    "##### Calculate Wind Speed"
   ]
  },
  {
   "cell_type": "code",
   "execution_count": 26,
   "id": "c05c3792-2ff2-433f-9626-1e77f1f29265",
   "metadata": {},
   "outputs": [],
   "source": [
    "# Calculate wind speed from u and v components (magnitude of the vector)\n",
    "df100['ws100'] = np.sqrt(df100['U_GRD_L103']**2 + df100['V_GRD_L103']**2)"
   ]
  },
  {
   "cell_type": "markdown",
   "id": "923115f5-83f7-4f90-883d-d64b1ddc18dd",
   "metadata": {},
   "source": [
    "##### Calculate Wind Direction"
   ]
  },
  {
   "cell_type": "code",
   "execution_count": 27,
   "id": "0bc97abe-4bde-4dd2-a9c4-573d0bd862a9",
   "metadata": {},
   "outputs": [],
   "source": [
    "# Calculate wind dir from u and v components (magnitude of the vector)\n",
    "\n",
    "# Calculate the angle in radians\n",
    "theta = np.arctan2(df100['V_GRD_L103'], df100['U_GRD_L103'])\n",
    "\n",
    "# Convert the angle from radians to degrees\n",
    "theta_deg = np.degrees(theta)\n",
    "\n",
    "df100['dir100'] = (270 - theta_deg) % 360"
   ]
  },
  {
   "cell_type": "markdown",
   "id": "1f34d4ae-f688-4c82-bcff-dacb92a0c33a",
   "metadata": {},
   "source": [
    "##### Convert Temoerature to °C"
   ]
  },
  {
   "cell_type": "code",
   "execution_count": 28,
   "id": "4bc4cb30-d047-4004-a66d-d2e96c4223d0",
   "metadata": {},
   "outputs": [],
   "source": [
    "# Convert temperature from Kelvin to Celsius\n",
    "df100['temp'] = df100['TMP_L103'] - 273.15"
   ]
  },
  {
   "cell_type": "markdown",
   "id": "fba857dd-3b6c-413c-9bed-d66852e9ed92",
   "metadata": {},
   "source": [
    "##### Calculate Air density"
   ]
  },
  {
   "cell_type": "code",
   "execution_count": 29,
   "id": "64bedece-d542-41b1-8d83-bba19c5cc732",
   "metadata": {},
   "outputs": [],
   "source": [
    "# Constants\n",
    "R_dry = 287.058  # Specific gas constant for dry air, J/(kg·K)\n",
    "R_vapor = 461.495  # Specific gas constant for water vapor, J/(kg·K)\n",
    "epsilon = R_dry / R_vapor\n",
    "\n",
    "# Given data (example values, replace with actual data)\n",
    "T_100m = df100['TMP_L103']  # Temperature at 100 meters (K)\n",
    "p80 = df100['PRES_L103']  # Pressure (Pa)\n",
    "q80 = df100['SPF_H_L103']  # Specific humidity (kg/kg)\n",
    "\n",
    "\n",
    "# Calculate air density\n",
    "e = q80 * p80 / (epsilon + q80)  # Partial pressure of water vapor (Pa)\n",
    "P_dry = p80 - e  # Partial pressure of dry air (Pa)\n",
    "rho_dry = P_dry / (R_dry * T_100m)  # Density of dry air (kg/m³)\n",
    "rho_vapor = e / (R_vapor * T_100m)  # Density of water vapor (kg/m³)\n",
    "\n",
    "df100['air_density'] = rho_dry + rho_vapor  # Total air density (kg/m³)\n"
   ]
  },
  {
   "cell_type": "markdown",
   "id": "f8cc1d46-24b4-440d-aabf-b3b05b83340c",
   "metadata": {},
   "source": [
    "##### Calculate Relation Thrust Force T (Fuerza de Empuje) / Coefficient Ct (Coeficiente de Empuje) \n",
    "\n",
    "En el contexto de las turbinas eólicas, la fuerza de empuje es la fuerza aerodinámica que el viento ejerce sobre las palas del rotor de una turbina.\n",
    "Esta fuerza afecta tanto el rendimiento de la turbina como la distribución de cargas en su estructura, lo que es crucial para el diseño y la operación eficientes.\n",
    "\n",
    "T / Ct = 0.5 * air_density * Area_rotor * wind_speed^2\n",
    "\n",
    "Ct= es un coeficiente dado por el fabricante\n",
    "\n"
   ]
  },
  {
   "cell_type": "code",
   "execution_count": 30,
   "id": "04998560-96d4-4937-a953-37a7683b04ff",
   "metadata": {},
   "outputs": [],
   "source": [
    "# rotor diameter in meters \n",
    "D = 125 # Turbine Acciona AW 125/3150\n",
    "\n",
    "# Calculate rotor swept area (m²)\n",
    "A = np.pi * (D / 2) ** 2\n",
    "\n",
    "# Calculate relation between Thrust Force / Thrust Coefficient C_T\n",
    "df100['rel_Tct'] = 0.5 * df100['air_density'] * df100['ws100']**2"
   ]
  },
  {
   "cell_type": "markdown",
   "id": "1f8a3d0b-cbea-4fe2-a3bf-99f8477bc565",
   "metadata": {},
   "source": [
    "##### Filter Main Variables"
   ]
  },
  {
   "cell_type": "code",
   "execution_count": 31,
   "id": "938845d4-4d90-4a30-b0f7-b3e04829acbf",
   "metadata": {},
   "outputs": [],
   "source": [
    "# Filter records where 'FechaHora' > '2019-02-01', since the plant is in production\n",
    "df100 = df100[df100['FechaHora'] > '2019-02-01']"
   ]
  },
  {
   "cell_type": "code",
   "execution_count": 32,
   "id": "e6b13dd7-bfd2-44f0-8d7a-37bda6f7331c",
   "metadata": {},
   "outputs": [],
   "source": [
    "df_histo_gfs = df100[['FechaHora','ws100','dir100','temp','air_density','rel_Tct']].copy()"
   ]
  },
  {
   "cell_type": "code",
   "execution_count": 33,
   "id": "4973d9fb-9be3-439d-8e3f-619a6c42c95b",
   "metadata": {},
   "outputs": [
    {
     "data": {
      "text/html": [
       "<div>\n",
       "<style scoped>\n",
       "    .dataframe tbody tr th:only-of-type {\n",
       "        vertical-align: middle;\n",
       "    }\n",
       "\n",
       "    .dataframe tbody tr th {\n",
       "        vertical-align: top;\n",
       "    }\n",
       "\n",
       "    .dataframe thead th {\n",
       "        text-align: right;\n",
       "    }\n",
       "</style>\n",
       "<table border=\"1\" class=\"dataframe\">\n",
       "  <thead>\n",
       "    <tr style=\"text-align: right;\">\n",
       "      <th></th>\n",
       "      <th>FechaHora</th>\n",
       "      <th>ws100</th>\n",
       "      <th>dir100</th>\n",
       "      <th>temp</th>\n",
       "      <th>air_density</th>\n",
       "      <th>rel_Tct</th>\n",
       "    </tr>\n",
       "  </thead>\n",
       "  <tbody>\n",
       "    <tr>\n",
       "      <th>1</th>\n",
       "      <td>2019-02-01 03:00:00</td>\n",
       "      <td>5.552909</td>\n",
       "      <td>148.340744</td>\n",
       "      <td>21.855316</td>\n",
       "      <td>1.162925</td>\n",
       "      <td>17.929274</td>\n",
       "    </tr>\n",
       "    <tr>\n",
       "      <th>2</th>\n",
       "      <td>2019-02-01 06:00:00</td>\n",
       "      <td>6.809348</td>\n",
       "      <td>113.632187</td>\n",
       "      <td>20.449982</td>\n",
       "      <td>1.169856</td>\n",
       "      <td>27.121483</td>\n",
       "    </tr>\n",
       "    <tr>\n",
       "      <th>3</th>\n",
       "      <td>2019-02-01 09:00:00</td>\n",
       "      <td>6.788195</td>\n",
       "      <td>176.223724</td>\n",
       "      <td>21.749969</td>\n",
       "      <td>1.168998</td>\n",
       "      <td>26.933479</td>\n",
       "    </tr>\n",
       "    <tr>\n",
       "      <th>4</th>\n",
       "      <td>2019-02-01 12:00:00</td>\n",
       "      <td>5.256702</td>\n",
       "      <td>191.177643</td>\n",
       "      <td>25.550018</td>\n",
       "      <td>1.156605</td>\n",
       "      <td>15.980191</td>\n",
       "    </tr>\n",
       "    <tr>\n",
       "      <th>5</th>\n",
       "      <td>2019-02-01 15:00:00</td>\n",
       "      <td>7.059056</td>\n",
       "      <td>216.527283</td>\n",
       "      <td>28.449982</td>\n",
       "      <td>1.144593</td>\n",
       "      <td>28.517687</td>\n",
       "    </tr>\n",
       "  </tbody>\n",
       "</table>\n",
       "</div>"
      ],
      "text/plain": [
       "            FechaHora     ws100      dir100       temp  air_density    rel_Tct\n",
       "1 2019-02-01 03:00:00  5.552909  148.340744  21.855316     1.162925  17.929274\n",
       "2 2019-02-01 06:00:00  6.809348  113.632187  20.449982     1.169856  27.121483\n",
       "3 2019-02-01 09:00:00  6.788195  176.223724  21.749969     1.168998  26.933479\n",
       "4 2019-02-01 12:00:00  5.256702  191.177643  25.550018     1.156605  15.980191\n",
       "5 2019-02-01 15:00:00  7.059056  216.527283  28.449982     1.144593  28.517687"
      ]
     },
     "execution_count": 33,
     "metadata": {},
     "output_type": "execute_result"
    }
   ],
   "source": [
    "df_histo_gfs.head()"
   ]
  },
  {
   "cell_type": "markdown",
   "id": "da7b3701-8c05-41cd-a245-ee84db3664b6",
   "metadata": {},
   "source": [
    "##### Resample de 3h a 1h (fill gaps coping values)"
   ]
  },
  {
   "cell_type": "code",
   "execution_count": 34,
   "id": "5937e708-e990-4124-a6d1-d6eacd39cb74",
   "metadata": {},
   "outputs": [],
   "source": [
    "# Set 'FechaHora' as the index\n",
    "df_histo_gfs.set_index('FechaHora', inplace=True)"
   ]
  },
  {
   "cell_type": "code",
   "execution_count": null,
   "id": "979e6382-1e82-4cdd-9c9c-ee4e75fa19a5",
   "metadata": {},
   "outputs": [],
   "source": [
    "# Resample the dataframe to hourly frequency \n",
    "df_histo_gfs = df_histo_gfs.resample('h').asfreq()"
   ]
  },
  {
   "cell_type": "code",
   "execution_count": null,
   "id": "645ca271-4d6c-4461-af4b-dde402ae155f",
   "metadata": {},
   "outputs": [],
   "source": [
    "# Linear interpolation\n",
    "df_histo_gfs = df_histo_gfs.interpolate(method='linear')"
   ]
  },
  {
   "cell_type": "code",
   "execution_count": 36,
   "id": "db09b4fc-60ae-49fb-bad5-5478e5eed2de",
   "metadata": {},
   "outputs": [],
   "source": [
    "# Reset index to make 'time' a column\n",
    "df_histo_gfs.reset_index(inplace=True)"
   ]
  },
  {
   "cell_type": "markdown",
   "id": "f72e5adc-e4e5-4679-9acf-dac6b2e438dc",
   "metadata": {},
   "source": [
    "##### Rename columns"
   ]
  },
  {
   "cell_type": "code",
   "execution_count": null,
   "id": "8117d3dd-a507-4716-b8f6-fb3377037808",
   "metadata": {},
   "outputs": [],
   "source": [
    "# Rename the columns\n",
    "df_histo_gfs = df_histo_gfs.rename(columns={\n",
    "    'ws100': 'ws100_gfs',\n",
    "    'dir100': 'dir100_gfs',\n",
    "    'temp': 'temp_gfs',\n",
    "    'air_density': 'airden_gfs',\n",
    "    'rel_Tct': 'reltct_gfs'\n",
    "})"
   ]
  },
  {
   "cell_type": "markdown",
   "id": "4d041deb-58f2-47b0-ae88-45d271a84a8a",
   "metadata": {},
   "source": [
    "##### Save the dataset to a csv"
   ]
  },
  {
   "cell_type": "code",
   "execution_count": 37,
   "id": "b9994c6f-d14b-49bc-91dc-6afb21517173",
   "metadata": {},
   "outputs": [],
   "source": [
    "# Find the maximum 'FechaHora'\n",
    "max_fecha_hora = df_histo_gfs['FechaHora'].max()\n",
    "\n",
    "# Convert maximum 'FechaHora' to string format (date only)\n",
    "max_fecha_hora_str = max_fecha_hora.strftime('%Y-%m-%d')\n",
    "\n"
   ]
  },
  {
   "cell_type": "code",
   "execution_count": 38,
   "id": "c86de093-3173-459b-a225-8b0e0b9f07d7",
   "metadata": {},
   "outputs": [
    {
     "data": {
      "text/plain": [
       "'2024-06-15'"
      ]
     },
     "execution_count": 38,
     "metadata": {},
     "output_type": "execute_result"
    }
   ],
   "source": [
    "max_fecha_hora_str"
   ]
  },
  {
   "cell_type": "code",
   "execution_count": 39,
   "id": "cc02e4da-d1f2-4fbb-be5b-4198a3d40b0e",
   "metadata": {},
   "outputs": [],
   "source": [
    "df_histo_gfs.to_csv(f'D:\\\\Documents\\\\MMA\\\\1.0 Tesis\\\\Datos\\\\GFS\\\\ds_histo_gfs_{max_fecha_hora_str}.csv', sep=';', index=False, decimal=',')\n",
    "\n"
   ]
  },
  {
   "cell_type": "markdown",
   "id": "c445626b-7d84-4d6d-8be8-c7957ddddc28",
   "metadata": {},
   "source": [
    "#### ---------------------  **FIN** ---------------------"
   ]
  },
  {
   "cell_type": "code",
   "execution_count": null,
   "id": "9a746a4e-89a0-4391-82ec-b270d0771142",
   "metadata": {},
   "outputs": [],
   "source": []
  },
  {
   "cell_type": "code",
   "execution_count": null,
   "id": "c03c830d-92c5-46e9-95c1-01bfdb66ce9b",
   "metadata": {},
   "outputs": [],
   "source": []
  },
  {
   "cell_type": "code",
   "execution_count": null,
   "id": "d51bf792-f78e-4185-ab84-5019b715c7c6",
   "metadata": {},
   "outputs": [],
   "source": []
  },
  {
   "cell_type": "code",
   "execution_count": null,
   "id": "0cb18b8e-bd52-4751-8e1c-6bd823581123",
   "metadata": {},
   "outputs": [],
   "source": []
  },
  {
   "cell_type": "code",
   "execution_count": null,
   "id": "667de675-af30-4b35-8714-aaec04b1f241",
   "metadata": {},
   "outputs": [],
   "source": []
  },
  {
   "cell_type": "code",
   "execution_count": null,
   "id": "c41addf3-cc1e-4bdf-9f8b-609d7a2c2d6d",
   "metadata": {},
   "outputs": [],
   "source": []
  },
  {
   "cell_type": "markdown",
   "id": "c556973a-0b98-4e7e-a57e-4898b37ec5e5",
   "metadata": {},
   "source": [
    "## __________________________________________________________________________________________________________"
   ]
  },
  {
   "cell_type": "markdown",
   "id": "cb83199c-4142-4aed-bd13-aba4a0384351",
   "metadata": {},
   "source": [
    "# Auxiliar \n",
    "\n",
    "Exploracion de parametros de dataset y como armar templates de descagas con rdams_client "
   ]
  },
  {
   "cell_type": "markdown",
   "id": "e9f0c7a5-c186-4540-91cd-80c3b6f0135c",
   "metadata": {},
   "source": [
    "### Retrive Files using rdams_client"
   ]
  },
  {
   "cell_type": "code",
   "execution_count": null,
   "id": "0e1529e8-f1d1-4ef5-b3e6-aa2c30ca7a30",
   "metadata": {},
   "outputs": [],
   "source": [
    "# Make sure this is in the same directory as this notebook or is in your PATH environment variable.\n",
    "import rdams_client as rc\n",
    "\n",
    "# file rdams_token.txt has to by in the same directory"
   ]
  },
  {
   "cell_type": "code",
   "execution_count": null,
   "id": "ccec307d-ca83-4573-a496-ce37dbb0a2a7",
   "metadata": {},
   "outputs": [],
   "source": [
    "dsid = 'ds084.1'\n",
    "param_response = rc.query(['-get_param_summary', dsid, '-np'])"
   ]
  },
  {
   "cell_type": "code",
   "execution_count": null,
   "id": "39f6d901-50e7-4563-bb53-28be470c0e71",
   "metadata": {},
   "outputs": [],
   "source": [
    "result = rc.query(['-get_summary', 'ds084.1'])"
   ]
  },
  {
   "cell_type": "code",
   "execution_count": null,
   "id": "5cbb486c-9926-4b3e-8b6e-b78322d68c2d",
   "metadata": {},
   "outputs": [],
   "source": [
    "# get_param_summary() returns an RDA response object that has more info that we need, so we'll filter it out\n",
    "param_data = param_response['data']['data']\n",
    "\n",
    "# Next we will just pull out the descriptions or long name of each of the parameters.\n",
    "params = list(map(lambda x: x['param_description'], param_data))\n",
    "print('\\n'.join(params))"
   ]
  },
  {
   "cell_type": "markdown",
   "id": "cbf292a9-d38b-43de-a93b-0f7d4478dea1",
   "metadata": {},
   "source": [
    "#### Available Paramaters "
   ]
  },
  {
   "cell_type": "code",
   "execution_count": null,
   "id": "1b5cba3d-926f-4075-a971-a95279c4ceac",
   "metadata": {},
   "outputs": [],
   "source": [
    "param_map = {}\n",
    "for _param in param_data:\n",
    "    long_name = _param['param_description']\n",
    "    short_name = _param['param']\n",
    "    param_map[long_name] = short_name\n",
    "\n",
    "for k,v in param_map.items(): print('{:7} : {}'.format(v, k))\n",
    "    "
   ]
  },
  {
   "cell_type": "code",
   "execution_count": null,
   "id": "f8d0c9e6-a09c-4a7f-bd25-a80c684c9c81",
   "metadata": {},
   "outputs": [],
   "source": [
    "# For large datasets this may take a while as you're pulling all the metadata.\n",
    "#metadata_response = rc.query(['-get_metadata', dsid])"
   ]
  },
  {
   "cell_type": "markdown",
   "id": "77d0ae40-2ff8-48cf-a070-52567d15e56b",
   "metadata": {},
   "source": [
    "#### Filter by Param, Date and Level "
   ]
  },
  {
   "cell_type": "code",
   "execution_count": null,
   "id": "0e2acc44-cbb1-413d-9682-315112afd7e8",
   "metadata": {},
   "outputs": [],
   "source": [
    "# List of dicts representing a variable\n",
    "_vars = metadata_response['data']['data']\n",
    "\n",
    "# Get climate variables\n",
    "TMP_variables = list(filter(lambda v: v['param'] == 'V GRD',_vars)) \n",
    "\n",
    "# Let's say we're only interested in 2019\n",
    "TMP_2010_variables = list(filter(\n",
    "        lambda v: v['start_date'] < 201901010000 and v['end_date'] > 202001010000 ,TMP_variables\n",
    "        )) \n",
    "\n",
    "# We only should have 1 variable\n",
    "#assert len(TMP_2010_variables) == 1\n",
    "my_var = TMP_2010_variables[0]\n",
    "\n",
    "# Now let's look at the levels available:\n",
    "for lev in my_var['levels']:\n",
    "    print('{:6} {:10} {}'.format(lev['level'], lev['level_value'],lev['level_description']))"
   ]
  },
  {
   "cell_type": "markdown",
   "id": "2c5ba272-4859-4c55-9366-573844be8134",
   "metadata": {},
   "source": [
    "#### Specified height above ground"
   ]
  },
  {
   "cell_type": "code",
   "execution_count": null,
   "id": "6a9befc6-42bd-4037-9cd5-9569b95bc206",
   "metadata": {},
   "outputs": [],
   "source": [
    "HTGL_levels = set()\n",
    "HTGL_levels_printed = []\n",
    "for lev in my_var['levels']:\n",
    "    if lev['level_description'] == 'Specified height above ground' \\\n",
    "            and float(lev['level_value']) <= 200:\n",
    "        HTGL_levels.add(lev['level_value'])\n",
    "        HTGL_levels_printed.append(lev)\n",
    "for lev in HTGL_levels_printed:\n",
    "    print('{:6} {:10} {}'.format(lev['level'], lev['level_value'],lev['level_description']))"
   ]
  },
  {
   "cell_type": "markdown",
   "id": "69476d1a-bbca-4a72-9670-eab907ae8b0e",
   "metadata": {},
   "source": [
    "#### Make a request"
   ]
  },
  {
   "cell_type": "code",
   "execution_count": null,
   "id": "acfaf32a-c414-40ae-aa42-afba7b5fc9d9",
   "metadata": {},
   "outputs": [],
   "source": [
    "dsid='ds083.3'\n",
    "response = rc.get_control_file_template(dsid)"
   ]
  },
  {
   "cell_type": "code",
   "execution_count": null,
   "id": "cd0fd80d-28f2-438a-800a-b566a6314025",
   "metadata": {},
   "outputs": [],
   "source": [
    "response"
   ]
  },
  {
   "cell_type": "code",
   "execution_count": null,
   "id": "18c052f3-4da6-4eca-a1d5-087c93a34831",
   "metadata": {},
   "outputs": [],
   "source": [
    "dsid='ds084.1'\n",
    "response2 = rc.get_control_file_template(dsid)"
   ]
  },
  {
   "cell_type": "code",
   "execution_count": null,
   "id": "cddb457d-d1fe-4adb-966b-37899532ef57",
   "metadata": {},
   "outputs": [],
   "source": [
    "response2"
   ]
  },
  {
   "cell_type": "code",
   "execution_count": null,
   "id": "6417c903-c05f-402b-984d-4a244f3ae863",
   "metadata": {},
   "outputs": [],
   "source": [
    "dsid='ds083.3'\n",
    "# Let's get a template. \n",
    "response = rc.get_control_file_template(dsid)\n",
    "template = response['data']['template'] # Template string\n",
    "\n",
    "# Parse the string\n",
    "template_dict = rc.read_control_file(template)\n",
    "\n",
    "template_dict"
   ]
  },
  {
   "cell_type": "code",
   "execution_count": null,
   "id": "39a4b6ec-4bbd-4a5c-9f25-5cea02c83dc0",
   "metadata": {},
   "outputs": [],
   "source": [
    "# Insert our TMP param\n",
    "template_dict['param'] = 'TMP/SPF H/V GRD/U GRD/PRES'\n",
    "template_dict['level'] = 'HTGL:' + '/'.join(HTGL_levels)\n",
    "template_dict['nlat'] = -38.5\n",
    "template_dict['slat'] = -38.5\n",
    "template_dict['elon'] = -62.75\n",
    "template_dict['wlon'] = -62.75\n",
    "template_dict"
   ]
  },
  {
   "cell_type": "code",
   "execution_count": null,
   "id": "af2bf910-be15-4996-a8b8-de6381b00ca5",
   "metadata": {},
   "outputs": [],
   "source": [
    "# Now We can submit a request\n",
    "response = rc.submit_json(template_dict)\n",
    "assert response['http_response'] == 200\n",
    "print(response)\n",
    "\n",
    "print(\"Success!\")"
   ]
  },
  {
   "cell_type": "code",
   "execution_count": null,
   "id": "6c808b1f-ba57-46aa-b8d2-69574d0e44d0",
   "metadata": {},
   "outputs": [],
   "source": [
    "#TEMPLATE\n",
    "\n",
    "#dataset=dsnnn.n                              # Required, use '-get_metadata' field 'dataset'\n",
    "#date=YYYYMMDDHHMN/to/YYYYMMDDHHMM            # Required, use '-get_metadata' fields 'startdate' and 'enddate' as bounds\n",
    "#datetype=init                                # Optional, use if you would like the date range to include data based on model initialization date/time instead of valid date/time\n",
    "#param=SSSS/SSSS/SSSS                         # Required, use '-get_metadata' field 'param' or 'param_description'.  Separate multiple parameters with \"/\".\n",
    "#level=SSSS:NNN/NNN;SSSS:NNN;SSSS:NNN/NNN     # Optional, use '-get_metadata' field 'level' or 'level_description' for 'SSSS'.\n",
    "                                             # Use '-get_metadata' field 'levelvalue' for 'NNN'.  Separate multiple level values with \"/\".\n",
    "#oformat=SSSS                                 # Optional but required if spatial subsetting is requested on select datasets. Current options are netCDF or csv for single grid point extraction. \n",
    "#nlat=NN                                      # Optional, use for spatial subset requests 90 to -90\n",
    "#slat=NN                                      # Optional, use for spatial subset requests 90 to -90\n",
    "#wlon=NN                                      # Optional, use for spatial subset requests -180 to 180\n",
    "#elon=NN                                      # Optional, use for spatial subset requests -180 to 180\n",
    "\t\t\t\t\t     # To extract a single grid point at lat=yy.y,lon=xxx.x, set both nlat and slat=yy.y, and both elon and wlon = xxx.x\n",
    "#product=SSSS/SSSS/SSSS                       # Optional, use '-get_metadata' field 'product'.  Separate multiple products with \"/\".\n",
    "#gridproj=SSSS                                # Optional, use '-get_metadata' field 'gridproj'\n",
    "#griddef=SSSS                                 # Optional, use '-get_metadata' field 'griddef'\n",
    "#groupindex=NN                                # Optional, use '-get_summary' field 'groupindex' if available\n",
    "#compression=NN                               # Optional, use 'GZ' for gzip, 'Z' for unix compress, 'BZ2' for bzip2, or 'ZIP' for Zip, for external users only\n",
    "#targetdir=SSSS                               # Optional, request output will be created in current working directory if 'targetdir' is not set to a desired output directory.  This option is only available for NCAR HPC users.\n",
    "\n"
   ]
  },
  {
   "cell_type": "markdown",
   "id": "052e40d8-19d8-4c5b-9c41-454ccea80f91",
   "metadata": {},
   "source": [
    "# ------------------------------------------------------------------------------------------"
   ]
  },
  {
   "cell_type": "markdown",
   "id": "145af576-35bb-49f5-af7d-c45f56c14cc8",
   "metadata": {},
   "source": [
    "### Retrive Archive Data using OPeNDAP\n",
    "\n",
    "When using OPeNDAP to open datasets with xarray, the library does not download the entire file initially. Instead, it downloads only the metadata and the specific data subset that you request. This means that when you select a specific variable and subset it by latitude and longitude, only that subset of data is transferred over the network. This is efficient and allows you to work with large datasets without having to download the entire file"
   ]
  },
  {
   "cell_type": "code",
   "execution_count": null,
   "id": "41444c0f-c118-4369-a79a-f80c5b9654fc",
   "metadata": {},
   "outputs": [],
   "source": [
    "import pandas as pd\n",
    "import xarray as xr\n",
    "\n",
    "# Define the base URL for the FNL dataset\n",
    "base_url = \"https://thredds.rda.ucar.edu/thredds/dodsC/files/g/ds083.3/\"\n",
    "# Guardar es la url de OpenData: https://thredds.rda.ucar.edu/thredds/dodsC/files/g/ds083.3/2019/201901/gdas1.fnl0p25.2019010100.f00.grib2.html\n",
    "\n",
    "\n",
    "# Define the dataset parameters\n",
    "start_date = \"2019-01-01\"\n",
    "end_date = \"2019-12-31\"\n",
    "variables = [\n",
    "    'v-component_of_wind_height_above_ground',\n",
    "    'u-component_of_wind_height_above_ground',\n",
    "#    'Pressure_height_above_ground',\n",
    "#    'Temperature_height_above_ground',\n",
    "#    'Relative_humidity_height_above_ground',\n",
    "#    'Specific_humidity_height_above_ground'\n",
    "]\n",
    "\n",
    "# Heights mapping for each variable\n",
    "variable_height_mapping = {\n",
    "    'v-component_of_wind_height_above_ground': ('height_above_ground1', 100),\n",
    "    'u-component_of_wind_height_above_ground': ('height_above_ground1', 100),\n",
    "#    'Pressure_height_above_ground': ('height_above_ground', 100),\n",
    "#    'Temperature_height_above_ground': ('height_above_ground4', 100),\n",
    "#    'Relative_humidity_height_above_ground': ('height_above_ground3', 100),\n",
    "#    'Specific_humidity_height_above_ground': ('height_above_ground2', 100)\n",
    "}\n",
    "\n",
    "lat_location = -38.5\n",
    "lon_location = -62.75\n",
    "\n",
    "# Create a function to generate the URL for each file\n",
    "def generate_file_url(date):\n",
    "    year = date[:4]\n",
    "    month = date[5:7]\n",
    "    day = date[8:10]\n",
    "    hour = date[11:13]\n",
    "    return f\"{base_url}{year}/{year}{month}/gdas1.fnl0p25.{year}{month}{day}{hour}.f00.grib2\"\n",
    "\n",
    "# Define the date range\n",
    "dates = pd.date_range(start_date, end_date, freq='6h')  # Adjust frequency to match data availability\n",
    "\n",
    "# Initialize an empty dictionary to store data arrays for each variable\n",
    "data_arrays = {var: [] for var in variables}\n",
    "\n",
    "# Loop over each date and fetch the data\n",
    "for date in dates:\n",
    "    file_url = generate_file_url(date.strftime('%Y-%m-%d %H:%M:%S'))\n",
    "    try:\n",
    "        # Open the dataset using xarray directly\n",
    "        ds = xr.open_dataset(file_url)\n",
    "        for var in variables:\n",
    "            height_coord, height_value = variable_height_mapping[var]\n",
    "            # Select the variable and the specific location\n",
    "            variable_data = ds[var].sel({height_coord: height_value, 'lat': lat_location, 'lon': lon_location}, method='nearest')\n",
    "            #variable_data = ds[var].sel({'lat': lat_location, 'lon': lon_location}, method='nearest')\n",
    "            # Append to the list for this variable\n",
    "            data_arrays[var].append(variable_data)\n",
    "    except Exception as e:\n",
    "        print(f\"Failed to fetch data for {date}: {e}\")\n",
    "\n",
    "# Combine all the data arrays into a single dataset\n",
    "combined_data = xr.Dataset()\n",
    "\n",
    "for var in variables:\n",
    "    if data_arrays[var]:\n",
    "        combined_data[var] = xr.concat(data_arrays[var], dim=\"time\")\n",
    "    else:\n",
    "        print(f\"No data was fetched for {var}.\")\n",
    "\n",
    "# Define the output filename dynamically\n",
    "output_filename = f\"FNL_all_variables_{start_date.replace('-', '')}_{end_date.replace('-', '')}.nc\"\n",
    "\n",
    "# Save the combined dataset to a NetCDF file with the dynamic filename\n",
    "combined_data.to_netcdf(output_filename)\n",
    "print(f\"Data successfully saved to {output_filename}\")"
   ]
  },
  {
   "cell_type": "code",
   "execution_count": null,
   "id": "1269cd79-f1f0-443c-8aad-9f69987af3ab",
   "metadata": {},
   "outputs": [],
   "source": []
  },
  {
   "cell_type": "code",
   "execution_count": null,
   "id": "d2f0a7be-5637-436a-b3cf-da3dabc3a1d8",
   "metadata": {},
   "outputs": [],
   "source": []
  }
 ],
 "metadata": {
  "kernelspec": {
   "display_name": "tesis-python-3.11",
   "language": "python",
   "name": "tesis-python-3.11"
  },
  "language_info": {
   "codemirror_mode": {
    "name": "ipython",
    "version": 3
   },
   "file_extension": ".py",
   "mimetype": "text/x-python",
   "name": "python",
   "nbconvert_exporter": "python",
   "pygments_lexer": "ipython3",
   "version": "3.11.8"
  }
 },
 "nbformat": 4,
 "nbformat_minor": 5
}
