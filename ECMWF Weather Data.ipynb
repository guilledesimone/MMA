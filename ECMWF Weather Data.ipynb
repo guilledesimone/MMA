{
 "cells": [
  {
   "cell_type": "markdown",
   "id": "0c63afd5-d02e-4cf6-aca5-2587453db581",
   "metadata": {},
   "source": [
    "## ECMWF open data: Operational Real-Time Forecasts\r\n",
    "\n",
    "Documentation: \n",
    "\n",
    "https://confluence.ecmwf.int/display/DAC/ECMWF+open+data%3A+real-time+forecasts+from+IFS+and+AIFS\n",
    "\n",
    "https://github.com/ecmwf/ecmwf-opendat\n",
    "\n",
    "https://codes.ecmwf.int/grib/param-db/a"
   ]
  },
  {
   "cell_type": "code",
   "execution_count": 62,
   "id": "59b3f116-a8fc-4d8f-8e40-2048c5d60f94",
   "metadata": {},
   "outputs": [],
   "source": [
    "from ecmwf.opendata import Client\n",
    "import ecmwf.data as ecdata\n",
    "import xarray as xr\n",
    "import pandas as pd\n",
    "import numpy as np\n",
    "import os\n",
    "from datetime import timedelta,datetime"
   ]
  },
  {
   "cell_type": "markdown",
   "id": "1552bd0a-84fc-40b7-99fa-2481e0dd0e43",
   "metadata": {},
   "source": [
    "#### Descarga del archivo GRIB desde ECMWF"
   ]
  },
  {
   "cell_type": "code",
   "execution_count": 2,
   "id": "74363bd6-c6dc-4760-b0f0-57030a94d355",
   "metadata": {},
   "outputs": [],
   "source": [
    "client = Client(\n",
    "    source=\"ecmwf\",                # name of server to contact or a fully qualified URL\n",
    "    model=\"ifs\",                   # ifs for the physics-driven model and aifs for the data-driven model (currently experimental)    \n",
    "    resol=\"0p25\",                  # 0p25 for 0.25 degree resolution, 32Km. The paid version has 9Km resoluction  \n",
    "    preserve_request_order=False,\n",
    "    infer_stream_keyword=True,\n",
    ")"
   ]
  },
  {
   "cell_type": "code",
   "execution_count": 3,
   "id": "5d55a36e-60d6-4174-84b1-812f31aca8dd",
   "metadata": {},
   "outputs": [
    {
     "data": {
      "text/plain": [
       "'D:\\\\Documents\\\\MMA\\\\1.0 Tesis\\\\Datos\\\\ECMWF\\\\ecmwf_forecast_20240712.grib'"
      ]
     },
     "execution_count": 3,
     "metadata": {},
     "output_type": "execute_result"
    }
   ],
   "source": [
    "# Get the current date\n",
    "current_date = datetime.now().strftime('%Y%m%d')\n",
    "\n",
    "# Define the base path\n",
    "base_path = 'D:\\\\Documents\\\\MMA\\\\1.0 Tesis\\\\Datos\\\\ECMWF\\\\'\n",
    "\n",
    "# Create the filename with the current date\n",
    "filename = f'{base_path}ecmwf_forecast_{current_date}.grib'\n",
    "\n",
    "#filename = 'D:\\\\Documents\\\\MMA\\\\1.0 Tesis\\\\Datos\\\\ECMWF\\\\ecmwf_forecast.grib'\n",
    "filename"
   ]
  },
  {
   "cell_type": "code",
   "execution_count": 4,
   "id": "e9cf7515-a00f-4406-9fee-340524e41455",
   "metadata": {},
   "outputs": [],
   "source": [
    "# Parametros Disponibles\n",
    "\n",
    "#100u: 100m U wind component (m/s)\n",
    "#100v: 100m V wind component (m/s)\n",
    "#10u: 10m U wind component (m/s)\n",
    "#10v: 10m V wind component (m/s)\n",
    "#2d: 2-meter dewpoint temperature (K)\n",
    "#2t: 2-meter temperature (K)\n",
    "#asn: Accumulated snow depth (m of water equivalent)\n",
    "#cape: Convective available potential energy (J/kg)\n",
    "#d: Divergence (s^-1)\n",
    "#gh: Geopotential height (m)\n",
    "#lsm: Land-sea mask (0 to 1)\n",
    "#mn2t6: Minimum temperature at 2 meters during the last 6 hours (K)\n",
    "#msl: Mean sea-level pressure (Pa)\n",
    "#mx2t6: Maximum temperature at 2 meters during the last 6 hours (K)\n",
    "#q: Specific humidity (kg/kg)\n",
    "#r: Relative humidity (%)\n",
    "#ro: Soil moisture content (fraction)\n",
    "#skt: Skin temperature (K)\n",
    "#sp: Surface pressure (Pa)\n",
    "#ssr: Surface solar radiation (W/m^2)\n",
    "#ssrd: Downward surface solar radiation (W/m^2)\n",
    "#st: Soil temperature (K)\n",
    "#stl2, stl3, stl4: Soil temperature levels 2, 3, and 4 (K)\n",
    "#str: Soil temperature range (K)\n",
    "#strd: Downward surface thermal radiation (W/m^2)\n",
    "#swvl1, swvl2, swvl3, swvl4: Volumetric soil water layers 1, 2, 3, and 4 (m^3/m^3)\n",
    "#t: Temperature (K)\n",
    "#tcwv: Total column water vapor (kg/m^2)\n",
    "#tp: Total precipitation (m)\n",
    "#ttr: Top thermal radiation (W/m^2)\n",
    "#u: U wind component (m/s)\n",
    "#v: V wind component (m/s)\n",
    "#vo: Vorticity (s^-1)\n",
    "#w: Vertical velocity (Pa/s)"
   ]
  },
  {
   "cell_type": "code",
   "execution_count": 5,
   "id": "732f9da1-0228-4285-893d-7ef2a7d3fd9a",
   "metadata": {},
   "outputs": [],
   "source": [
    "parameters = ['100u', '100v','2t','sp','q'] #100m U V wind components m s-1, 2t: 2m Temperature (K), , sp:Surface pressure\tPa, #q: Specific humidity (kg/kg)\n",
    "\n",
    "request = {\n",
    "    \"date\": 0,                            #The date and time parameters refer to the starting time of the forecast \n",
    "    \"time\": 0,\n",
    "    \"type\": \"fc\",                         #HRES: High Resolution Forecast. fc: Forecast.   \n",
    "    \"stream\": \"oper\",                     # Operational stream. oper: Atmospheric fields from HRES - 00 UTC and 12 UTC.\n",
    "    \"step\": list(range(0, 145, 3)) + list(range(150, 241, 6)),     # HRES 00 and 12 - 0 to 144 by 3hs, 144 to 240 by 6hs \n",
    "    \"param\": parameters # ['100u', '100v','2t','sp']   # 100m U V wind components m s-1, 2 metre temperature\tK, sp:Surface pressure\tPa, \n",
    "}\n"
   ]
  },
  {
   "cell_type": "code",
   "execution_count": 6,
   "id": "d43bbda1-8fa7-4388-8f9f-7500219f31fc",
   "metadata": {},
   "outputs": [
    {
     "name": "stdout",
     "output_type": "stream",
     "text": [
      "set() ['fc']\n",
      "set() ['0', '102', '105', '108', '111', '114', '117', '12', '120', '123', '126', '129', '132', '135', '138', '141', '144', '15', '150', '156', '162', '168', '174', '18', '180', '186', '192', '198', '204', '21', '210', '216', '222', '228', '234', '24', '240', '27', '3', '30', '33', '36', '39', '42', '45', '48', '51', '54', '57', '6', '60', '63', '66', '69', '72', '75', '78', '81', '84', '87', '9', '90', '93', '96', '99']\n",
      "set() ['100u', '100v', '10u', '10v', '2d', '2t', 'asn', 'cape', 'd', 'gh', 'lsm', 'mn2t6', 'msl', 'mx2t6', 'q', 'r', 'ro', 'skt', 'sp', 'ssr', 'ssrd', 'st', 'stl2', 'stl3', 'stl4', 'str', 'strd', 'swvl1', 'swvl2', 'swvl3', 'swvl4', 't', 'tcwv', 'tp', 'ttr', 'u', 'v', 'vo', 'w']\n"
     ]
    },
    {
     "data": {
      "application/vnd.jupyter.widget-view+json": {
       "model_id": "",
       "version_major": 2,
       "version_minor": 0
      },
      "text/plain": [
       "<multiple>:   0%|          | 0.00/758M [00:00<?, ?B/s]"
      ]
     },
     "metadata": {},
     "output_type": "display_data"
    },
    {
     "data": {
      "text/plain": [
       "<ecmwf.opendata.client.Result at 0x1dbc80a9ed0>"
      ]
     },
     "execution_count": 6,
     "metadata": {},
     "output_type": "execute_result"
    }
   ],
   "source": [
    "client.retrieve(\n",
    "    request=request,\n",
    "    target = filename     # Output file name\n",
    ")"
   ]
  },
  {
   "cell_type": "markdown",
   "id": "63c7aac7-55c2-419a-a542-1179759311b5",
   "metadata": {},
   "source": [
    "### Reading the file and processing the data"
   ]
  },
  {
   "cell_type": "code",
   "execution_count": 63,
   "id": "2e4c38a8-399a-45b3-850b-a46378584350",
   "metadata": {},
   "outputs": [],
   "source": [
    "filename = 'D:\\\\Documents\\\\MMA\\\\1.0 Tesis\\\\Datos\\\\ECMWF\\\\ecmwf_forecast_20240602.grib'\n",
    "#filename = 'D:\\\\Documents\\\\MMA\\\\1.0 Tesis\\\\Datos\\\\ECMWF\\\\ecmwf_forecast_20240712.grib'"
   ]
  },
  {
   "cell_type": "code",
   "execution_count": 64,
   "id": "39f21e66-b47a-4c57-939f-3ae3e3c902f0",
   "metadata": {},
   "outputs": [],
   "source": [
    "data = ecdata.read(filename)"
   ]
  },
  {
   "cell_type": "code",
   "execution_count": 65,
   "id": "b3306cef-e8f4-4932-be3e-e467a3fac08e",
   "metadata": {},
   "outputs": [
    {
     "data": {
      "text/html": [
       "  \n",
       "                <table>\n",
       "                <tr><th>parameter</th><th>typeOfLevel</th><th>level</th><th>date</th><th>time</th><th>step</th><th>number</th><th>paramId</th><th>class</th><th>stream</th><th>type</th><th>experimentVersionNumber</th></tr>\n",
       "                <tr><th style='text-align: right;'>100u</th><td style='text-align: left;'>heightAboveGround</td><td style='text-align: left;'>100</td><td style='text-align: left;'>20240602</td><td style='text-align: left;'>0</td><td style='text-align: left;'>0,3,...</td><td style='text-align: left;'>None</td><td style='text-align: left;'>228246</td><td style='text-align: left;'>od</td><td style='text-align: left;'>oper</td><td style='text-align: left;'>fc</td><td style='text-align: left;'>0001</td></tr><tr><th style='text-align: right;'>100v</th><td style='text-align: left;'>heightAboveGround</td><td style='text-align: left;'>100</td><td style='text-align: left;'>20240602</td><td style='text-align: left;'>0</td><td style='text-align: left;'>0,3,...</td><td style='text-align: left;'>None</td><td style='text-align: left;'>228247</td><td style='text-align: left;'>od</td><td style='text-align: left;'>oper</td><td style='text-align: left;'>fc</td><td style='text-align: left;'>0001</td></tr><tr><th style='text-align: right;'>2t</th><td style='text-align: left;'>heightAboveGround</td><td style='text-align: left;'>2</td><td style='text-align: left;'>20240602</td><td style='text-align: left;'>0</td><td style='text-align: left;'>0,3,...</td><td style='text-align: left;'>None</td><td style='text-align: left;'>167</td><td style='text-align: left;'>od</td><td style='text-align: left;'>oper</td><td style='text-align: left;'>fc</td><td style='text-align: left;'>0001</td></tr><tr><th style='text-align: right;'>q</th><td style='text-align: left;'>isobaricInhPa</td><td style='text-align: left;'>50,100,...</td><td style='text-align: left;'>20240602</td><td style='text-align: left;'>0</td><td style='text-align: left;'>0,3,...</td><td style='text-align: left;'>None</td><td style='text-align: left;'>133</td><td style='text-align: left;'>od</td><td style='text-align: left;'>oper</td><td style='text-align: left;'>fc</td><td style='text-align: left;'>0001</td></tr><tr><th style='text-align: right;'>sp</th><td style='text-align: left;'>surface</td><td style='text-align: left;'>0</td><td style='text-align: left;'>20240602</td><td style='text-align: left;'>0</td><td style='text-align: left;'>0,3,...</td><td style='text-align: left;'>None</td><td style='text-align: left;'>134</td><td style='text-align: left;'>od</td><td style='text-align: left;'>oper</td><td style='text-align: left;'>fc</td><td style='text-align: left;'>0001</td></tr>\n",
       "                </table>"
      ],
      "text/plain": [
       "<IPython.core.display.HTML object>"
      ]
     },
     "execution_count": 65,
     "metadata": {},
     "output_type": "execute_result"
    }
   ],
   "source": [
    "data.describe()"
   ]
  },
  {
   "cell_type": "markdown",
   "id": "72fff9e4-3fa7-4d34-a86f-443694044a08",
   "metadata": {},
   "source": [
    "#### GRIB2 file to xarray"
   ]
  },
  {
   "cell_type": "code",
   "execution_count": 66,
   "id": "91ee41af-aaec-434c-b199-3a8276c39cb7",
   "metadata": {},
   "outputs": [],
   "source": [
    "# Open the GRIB2 file using xarray with the cfgrib engine\n",
    "ds_0m = xr.open_dataset(filename, engine='cfgrib',filter_by_keys={'typeOfLevel': 'surface', 'level': 0})\n",
    "ds_2m = xr.open_dataset(filename, engine='cfgrib',filter_by_keys={'typeOfLevel': 'heightAboveGround', 'level': 2})\n",
    "ds_100m = xr.open_dataset(filename, engine='cfgrib',filter_by_keys={'typeOfLevel': 'heightAboveGround', 'level': 100})\n",
    "ds_1000hpa = xr.open_dataset(filename, engine='cfgrib',filter_by_keys={'typeOfLevel': 'isobaricInhPa', 'level': 1000})"
   ]
  },
  {
   "cell_type": "code",
   "execution_count": 67,
   "id": "6092b187-07ef-40fe-bfcf-58706ebe4fb8",
   "metadata": {},
   "outputs": [],
   "source": [
    "# Remove the conflicting coordinate variable before concatenating\n",
    "ds_0m = ds_0m.drop_vars('surface')\n",
    "ds_2m = ds_2m.drop_vars('heightAboveGround')\n",
    "ds_100m = ds_100m.drop_vars('heightAboveGround')\n",
    "ds_1000hpa = ds_1000hpa.drop_vars('isobaricInhPa')\n"
   ]
  },
  {
   "cell_type": "code",
   "execution_count": 68,
   "id": "60ead6a1-8aa7-475c-a0f4-d67fceac26cf",
   "metadata": {},
   "outputs": [],
   "source": [
    "# Specify the latitude and longitude for La Castellana Bahia Blanca\n",
    "lat_location = -38.5\n",
    "lon_location = -62.75"
   ]
  },
  {
   "cell_type": "markdown",
   "id": "f1e9c24e-6cb2-4a73-9ce5-df17e4a97ed6",
   "metadata": {},
   "source": [
    "##### Wind Data Extraction"
   ]
  },
  {
   "cell_type": "code",
   "execution_count": 69,
   "id": "ce48c53f-441b-42d2-8adf-ffe657fccf0b",
   "metadata": {},
   "outputs": [],
   "source": [
    "# Extract data for the specified location and time range\n",
    "ds_100m = ds_100m.sel(latitude=lat_location, longitude=lon_location, method='nearest')"
   ]
  },
  {
   "cell_type": "code",
   "execution_count": 70,
   "id": "fcd528e3-226a-49fc-8ca7-00fb5d0384d0",
   "metadata": {},
   "outputs": [],
   "source": [
    "# Convert xarray dataset to pandas DataFrame\n",
    "df_100m = ds_100m.to_dataframe().reset_index().loc[:,['valid_time','v100','u100']]"
   ]
  },
  {
   "cell_type": "code",
   "execution_count": 71,
   "id": "c773f141-1104-4da6-a6d5-2708dfe8a48a",
   "metadata": {},
   "outputs": [],
   "source": [
    "# Rename the \"valid_time\" column to \"FechaHora\" and convert values to datetime\n",
    "df_100m = df_100m.rename(columns={'valid_time': 'FechaHora'})\n",
    "df_100m['FechaHora'] = pd.to_datetime(df_100m['FechaHora'])"
   ]
  },
  {
   "cell_type": "markdown",
   "id": "3868bc45-913c-4c39-a6f8-5899b79f4580",
   "metadata": {},
   "source": [
    "##### Wind Speed Formula:\n",
    "\n",
    "The wind speed (WS) can be calculated from the zonal (u) and meridional (v) wind components using the Pythagorean theorem:\n",
    "\n",
    "WS = sqrt(u^2 + v^2)\n",
    "\n",
    "Where:\n",
    "- WS is the wind speed,\n",
    "- u is the zonal (east-west) component of the wind,\n",
    "- v is the meridional (north-south) component of the wind.\n",
    "\n",
    "This formula computes the magnitude of the wind vector, representing the total speed of the wind regardless of its directio\n",
    "\n",
    "##### Wind Direction Formula: \r\n",
    "\r\n",
    "Can be calculated using trigonometric functions arctan2 from the u and v components:\r\n",
    "\r\n",
    "If the wind components are given in a Cartesian coordinate system (u = east-west, v = north-south):\r\n",
    "\r\n",
    "Use the arctan2 function to calculate the wind direction\r\n",
    "\r\n",
    "    # Calculate the angle in radians\r\n",
    "     theta = np.arctan2(v, u)\r\n",
    "    \r\n",
    "    # Convert the angle from radians to degrees\r\n",
    "    theta_deg = np.degrees(theta)\r\n",
    "    \r\n",
    "    # Adjust wind direction to be between 0° and 360°\r\n",
    "    wd_deg = (270 - theta_deg) % 360 to cardinal directions).\n",
    "\n"
   ]
  },
  {
   "cell_type": "code",
   "execution_count": 72,
   "id": "21150456-e47f-4d18-a4ae-ed919d437c5a",
   "metadata": {},
   "outputs": [],
   "source": [
    "# Calculate wind speed from u and v components (magnitude of the vector)\n",
    "df_100m['ws100'] = np.sqrt(df_100m['u100']**2 + df_100m['v100']**2)"
   ]
  },
  {
   "cell_type": "code",
   "execution_count": 73,
   "id": "e75e4b53-a4e1-4a8a-9260-f13bd0dc3c47",
   "metadata": {},
   "outputs": [],
   "source": [
    "# Calculate wind dir from u and v components (magnitude of the vector)\n",
    "\n",
    "# Calculate the angle in radians\n",
    "theta = np.arctan2(df_100m['v100'], df_100m['u100'])\n",
    "\n",
    "# Convert the angle from radians to degrees\n",
    "theta_deg = np.degrees(theta)\n",
    "\n",
    "df_100m['dir100'] = (270 - theta_deg) % 360"
   ]
  },
  {
   "cell_type": "code",
   "execution_count": 74,
   "id": "ed153c1d-577b-4e5b-8fb9-15efc9cface9",
   "metadata": {},
   "outputs": [],
   "source": [
    "# Drop 'v100' and 'u100' columns\n",
    "df_100m = df_100m.drop(columns=['v100', 'u100'])\n",
    "\n",
    "#df_100m.head()"
   ]
  },
  {
   "cell_type": "markdown",
   "id": "4c24ef76-efbb-4dfe-90d3-20b2592f8d62",
   "metadata": {},
   "source": [
    "##### Temperature Extraction"
   ]
  },
  {
   "cell_type": "code",
   "execution_count": 75,
   "id": "c375719a-a34c-4385-9d6a-a269cdab940a",
   "metadata": {},
   "outputs": [],
   "source": [
    "# Extract data for the specified location and time range\n",
    "ds_2m = ds_2m.sel(latitude=lat_location, longitude=lon_location, method='nearest')"
   ]
  },
  {
   "cell_type": "code",
   "execution_count": 76,
   "id": "b90ba27f-00ad-41c9-a7fb-a7335d9cadb3",
   "metadata": {},
   "outputs": [],
   "source": [
    "# Convert xarray dataset to pandas DataFrame\n",
    "df_2m = ds_2m.to_dataframe().reset_index().loc[:,['valid_time','t2m']]"
   ]
  },
  {
   "cell_type": "code",
   "execution_count": 77,
   "id": "b22545e4-e84e-41f8-b12c-fd4b714695a0",
   "metadata": {},
   "outputs": [],
   "source": [
    "# Rename the \"valid_time\" column to \"FechaHora\" and convert values to datetime\n",
    "df_2m = df_2m.rename(columns={'valid_time': 'FechaHora'})\n",
    "df_2m['FechaHora'] = pd.to_datetime(df_2m['FechaHora'])"
   ]
  },
  {
   "cell_type": "code",
   "execution_count": 78,
   "id": "28c76848-83ff-4cfb-ab47-4d3d5b1d5721",
   "metadata": {},
   "outputs": [],
   "source": [
    "# Convert temperature from Kelvin to Celsius\n",
    "#df_2m['t2m'] -= 273.15"
   ]
  },
  {
   "cell_type": "markdown",
   "id": "7921d4ad-d76a-4ea1-a6d1-c9bdf6247381",
   "metadata": {},
   "source": [
    "##### Surface Presure Extraction"
   ]
  },
  {
   "cell_type": "code",
   "execution_count": 79,
   "id": "073d48d4-9a4a-483e-bfa1-22fad9d60caf",
   "metadata": {},
   "outputs": [],
   "source": [
    "# Extract data for the specified location and time range\n",
    "ds_0m = ds_0m.sel(latitude=lat_location, longitude=lon_location, method='nearest')"
   ]
  },
  {
   "cell_type": "code",
   "execution_count": 80,
   "id": "bc7cab28-c650-47ab-97f5-b833eee56e7a",
   "metadata": {},
   "outputs": [],
   "source": [
    "# Convert xarray dataset to pandas DataFrame\n",
    "df_0m = ds_0m.to_dataframe().reset_index().loc[:,['valid_time','sp']]"
   ]
  },
  {
   "cell_type": "code",
   "execution_count": 81,
   "id": "c25a535a-03ac-4b00-a9fb-af703d3b5e7c",
   "metadata": {},
   "outputs": [],
   "source": [
    "# Rename the \"valid_time\" column to \"FechaHora\" and convert values to datetime\n",
    "df_0m = df_0m.rename(columns={'valid_time': 'FechaHora'})\n",
    "df_0m['FechaHora'] = pd.to_datetime(df_0m['FechaHora'])"
   ]
  },
  {
   "cell_type": "code",
   "execution_count": 82,
   "id": "99bb5e7b-dfc0-4abd-864f-bb1f17b76b73",
   "metadata": {},
   "outputs": [],
   "source": [
    "# Convert pressure from Pa to hPa\n",
    "#df_0m['sp'] /= 100"
   ]
  },
  {
   "cell_type": "markdown",
   "id": "7e57a095-0784-4f3c-9db1-17efc525a711",
   "metadata": {},
   "source": [
    "##### Specific Humidity Extraction"
   ]
  },
  {
   "cell_type": "code",
   "execution_count": 83,
   "id": "51b572d8-c22e-4de8-9ac1-1e14681d9a29",
   "metadata": {},
   "outputs": [],
   "source": [
    "# Extract data for the specified location and time range\n",
    "ds_1000hpa = ds_1000hpa.sel(latitude=lat_location, longitude=lon_location, method='nearest')"
   ]
  },
  {
   "cell_type": "code",
   "execution_count": 84,
   "id": "d29b4a90-7355-4061-9cbe-f0495df155c3",
   "metadata": {},
   "outputs": [],
   "source": [
    "# Convert xarray dataset to pandas DataFrame\n",
    "ds_1000hpa = ds_1000hpa.to_dataframe().reset_index().loc[:,['valid_time','q']]"
   ]
  },
  {
   "cell_type": "code",
   "execution_count": 85,
   "id": "95089d53-6ceb-4a9f-b8c8-3c7aae164050",
   "metadata": {},
   "outputs": [],
   "source": [
    "# Rename the \"valid_time\" column to \"FechaHora\" and convert values to datetime\n",
    "ds_1000hpa = ds_1000hpa.rename(columns={'valid_time': 'FechaHora'})\n",
    "ds_1000hpa['FechaHora'] = pd.to_datetime(ds_1000hpa['FechaHora'])"
   ]
  },
  {
   "cell_type": "markdown",
   "id": "cf2f4da5-3b2e-47c5-8fcb-c81ffc3a74f3",
   "metadata": {},
   "source": [
    "##### Merge DataFrames"
   ]
  },
  {
   "cell_type": "code",
   "execution_count": 86,
   "id": "5e7c5f17-6880-4b7a-9040-34b07f380b1e",
   "metadata": {},
   "outputs": [],
   "source": [
    "# Merge df_100m and df_2m on 'FechaHora'\n",
    "df_merged = pd.merge(df_100m, df_2m, on='FechaHora')\n",
    "\n",
    "# Merge the result with df_0m on 'FechaHora'\n",
    "df_merged = pd.merge(df_merged, df_0m, on='FechaHora')\n",
    "\n",
    "# Merge the result with ds_1000hpa on 'FechaHora'\n",
    "df_ecmwf_fc = pd.merge(df_merged, ds_1000hpa, on='FechaHora')"
   ]
  },
  {
   "cell_type": "markdown",
   "id": "7f6335a0-4e1d-4364-84e9-c89b9752c6aa",
   "metadata": {},
   "source": [
    "#### Air density calculation at surface level\n",
    "\n",
    "El ECMWF open dataset ERA5 hourly data on single levels, no cuanta con la densidad del aire la calulo con las variables de temperatura y presión atm a nivel superficie y la humedad especifica la obtengo del dataset ERA5 hourly data on pressure levels al nivel isobarico de 1000hpa que es la presión mas aproximada a nivel de superficie.\n",
    "\n",
    "La densidad del aire se utiliza para el calculo de la fuerza de empuje en el rotor "
   ]
  },
  {
   "cell_type": "code",
   "execution_count": 87,
   "id": "4f7fe9bc-cf12-4190-a540-f714255cc954",
   "metadata": {},
   "outputs": [],
   "source": [
    "# Constants\n",
    "R_dry = 287.058  # Specific gas constant for dry air, J/(kg·K)\n",
    "R_vapor = 461.495  # Specific gas constant for water vapor, J/(kg·K)\n",
    "epsilon = R_dry / R_vapor\n",
    "\n",
    "# Given data (example values, replace with actual data)\n",
    "T_2m = df_ecmwf_fc['t2m']  # Temperature at 2 meters (K)\n",
    "P_surface = df_ecmwf_fc['sp']  # Surface pressure (Pa)\n",
    "q_1000hPa = df_ecmwf_fc['q']  # Specific humidity at 1000 hPa (kg/kg)\n",
    "\n",
    "\n",
    "# Calculate air density\n",
    "e = q_1000hPa * P_surface / (epsilon + q_1000hPa)  # Partial pressure of water vapor (Pa)\n",
    "P_dry = P_surface - e  # Partial pressure of dry air (Pa)\n",
    "rho_dry = P_dry / (R_dry * T_2m)  # Density of dry air (kg/m³)\n",
    "rho_vapor = e / (R_vapor * T_2m)  # Density of water vapor (kg/m³)\n",
    "\n",
    "df_ecmwf_fc['air_density'] = rho_dry + rho_vapor  # Total air density (kg/m³)\n",
    "\n",
    "#print(\"Air density:\", df_ecmwf_fc['air_density'], \"kg/m³\")"
   ]
  },
  {
   "cell_type": "markdown",
   "id": "1c6cf19f-1e17-4fdd-907e-4c3f9342e029",
   "metadata": {},
   "source": [
    "##### Calculate Relation Thrust Force T (Fuerza de Empuje) / Coefficient Ct (Coeficiente de Empuje) \n",
    "\n",
    "En el contexto de las turbinas eólicas, la fuerza de empuje es la fuerza aerodinámica que el viento ejerce sobre las palas del rotor de una turbina.\n",
    "Esta fuerza afecta tanto el rendimiento de la turbina como la distribución de cargas en su estructura, lo que es crucial para el diseño y la operación eficientes.\n",
    "\n",
    "T / Ct = 0.5 * air_density * Area_rotor * wind_speed^2\n",
    "\n",
    "Ct= es un coeficiente dado por el fabricante"
   ]
  },
  {
   "cell_type": "code",
   "execution_count": 88,
   "id": "43d1ad9c-18af-4745-b380-fe4e6f309265",
   "metadata": {},
   "outputs": [],
   "source": [
    "# rotor diameter in meters \n",
    "D = 125 # Turbine Acciona AW 125/3150\n",
    "\n",
    "# Calculate rotor swept area (m²)\n",
    "A = np.pi * (D / 2) ** 2\n",
    "\n",
    "# Calculate relation between Thrust Force / Thrust Coefficient C_T\n",
    "df_ecmwf_fc['rel_Tct'] = 0.5 * df_ecmwf_fc['air_density'] * df_ecmwf_fc['ws100']**2"
   ]
  },
  {
   "cell_type": "code",
   "execution_count": 89,
   "id": "6ad89a01-b990-4d2d-9eaf-ff51bd6f87d6",
   "metadata": {},
   "outputs": [
    {
     "data": {
      "text/html": [
       "<div>\n",
       "<style scoped>\n",
       "    .dataframe tbody tr th:only-of-type {\n",
       "        vertical-align: middle;\n",
       "    }\n",
       "\n",
       "    .dataframe tbody tr th {\n",
       "        vertical-align: top;\n",
       "    }\n",
       "\n",
       "    .dataframe thead th {\n",
       "        text-align: right;\n",
       "    }\n",
       "</style>\n",
       "<table border=\"1\" class=\"dataframe\">\n",
       "  <thead>\n",
       "    <tr style=\"text-align: right;\">\n",
       "      <th></th>\n",
       "      <th>FechaHora</th>\n",
       "      <th>ws100</th>\n",
       "      <th>dir100</th>\n",
       "      <th>t2m</th>\n",
       "      <th>sp</th>\n",
       "      <th>q</th>\n",
       "      <th>air_density</th>\n",
       "      <th>rel_Tct</th>\n",
       "    </tr>\n",
       "  </thead>\n",
       "  <tbody>\n",
       "    <tr>\n",
       "      <th>count</th>\n",
       "      <td>65</td>\n",
       "      <td>65.000000</td>\n",
       "      <td>65.000000</td>\n",
       "      <td>65.000000</td>\n",
       "      <td>65.000000</td>\n",
       "      <td>65.000000</td>\n",
       "      <td>65.000000</td>\n",
       "      <td>65.000000</td>\n",
       "    </tr>\n",
       "    <tr>\n",
       "      <th>mean</th>\n",
       "      <td>2024-06-06 06:16:36.923076864</td>\n",
       "      <td>7.473932</td>\n",
       "      <td>229.971542</td>\n",
       "      <td>283.043274</td>\n",
       "      <td>100230.625000</td>\n",
       "      <td>0.005987</td>\n",
       "      <td>1.229437</td>\n",
       "      <td>41.150700</td>\n",
       "    </tr>\n",
       "    <tr>\n",
       "      <th>min</th>\n",
       "      <td>2024-06-02 00:00:00</td>\n",
       "      <td>0.769684</td>\n",
       "      <td>1.235413</td>\n",
       "      <td>274.136597</td>\n",
       "      <td>98776.156250</td>\n",
       "      <td>0.003253</td>\n",
       "      <td>1.178488</td>\n",
       "      <td>0.354163</td>\n",
       "    </tr>\n",
       "    <tr>\n",
       "      <th>25%</th>\n",
       "      <td>2024-06-04 00:00:00</td>\n",
       "      <td>5.023561</td>\n",
       "      <td>119.810135</td>\n",
       "      <td>280.952271</td>\n",
       "      <td>99831.218750</td>\n",
       "      <td>0.004515</td>\n",
       "      <td>1.212570</td>\n",
       "      <td>16.148857</td>\n",
       "    </tr>\n",
       "    <tr>\n",
       "      <th>50%</th>\n",
       "      <td>2024-06-06 00:00:00</td>\n",
       "      <td>7.618662</td>\n",
       "      <td>272.558502</td>\n",
       "      <td>283.072601</td>\n",
       "      <td>100174.609375</td>\n",
       "      <td>0.005756</td>\n",
       "      <td>1.233446</td>\n",
       "      <td>35.132858</td>\n",
       "    </tr>\n",
       "    <tr>\n",
       "      <th>75%</th>\n",
       "      <td>2024-06-08 00:00:00</td>\n",
       "      <td>9.733680</td>\n",
       "      <td>345.113708</td>\n",
       "      <td>285.153351</td>\n",
       "      <td>100540.593750</td>\n",
       "      <td>0.006841</td>\n",
       "      <td>1.241058</td>\n",
       "      <td>58.518669</td>\n",
       "    </tr>\n",
       "    <tr>\n",
       "      <th>max</th>\n",
       "      <td>2024-06-12 00:00:00</td>\n",
       "      <td>15.220150</td>\n",
       "      <td>358.750427</td>\n",
       "      <td>291.969482</td>\n",
       "      <td>101598.359375</td>\n",
       "      <td>0.010211</td>\n",
       "      <td>1.287602</td>\n",
       "      <td>144.640686</td>\n",
       "    </tr>\n",
       "    <tr>\n",
       "      <th>std</th>\n",
       "      <td>NaN</td>\n",
       "      <td>3.336324</td>\n",
       "      <td>126.333611</td>\n",
       "      <td>3.574959</td>\n",
       "      <td>610.574890</td>\n",
       "      <td>0.001685</td>\n",
       "      <td>0.022138</td>\n",
       "      <td>32.895782</td>\n",
       "    </tr>\n",
       "  </tbody>\n",
       "</table>\n",
       "</div>"
      ],
      "text/plain": [
       "                           FechaHora      ws100      dir100         t2m  \\\n",
       "count                             65  65.000000   65.000000   65.000000   \n",
       "mean   2024-06-06 06:16:36.923076864   7.473932  229.971542  283.043274   \n",
       "min              2024-06-02 00:00:00   0.769684    1.235413  274.136597   \n",
       "25%              2024-06-04 00:00:00   5.023561  119.810135  280.952271   \n",
       "50%              2024-06-06 00:00:00   7.618662  272.558502  283.072601   \n",
       "75%              2024-06-08 00:00:00   9.733680  345.113708  285.153351   \n",
       "max              2024-06-12 00:00:00  15.220150  358.750427  291.969482   \n",
       "std                              NaN   3.336324  126.333611    3.574959   \n",
       "\n",
       "                  sp          q  air_density     rel_Tct  \n",
       "count      65.000000  65.000000    65.000000   65.000000  \n",
       "mean   100230.625000   0.005987     1.229437   41.150700  \n",
       "min     98776.156250   0.003253     1.178488    0.354163  \n",
       "25%     99831.218750   0.004515     1.212570   16.148857  \n",
       "50%    100174.609375   0.005756     1.233446   35.132858  \n",
       "75%    100540.593750   0.006841     1.241058   58.518669  \n",
       "max    101598.359375   0.010211     1.287602  144.640686  \n",
       "std       610.574890   0.001685     0.022138   32.895782  "
      ]
     },
     "execution_count": 89,
     "metadata": {},
     "output_type": "execute_result"
    }
   ],
   "source": [
    "df_ecmwf_fc.describe()"
   ]
  },
  {
   "cell_type": "markdown",
   "id": "52ce630a-3e87-45f5-87d2-952683f0572f",
   "metadata": {},
   "source": [
    "##### Fill Hourly Gaps"
   ]
  },
  {
   "cell_type": "code",
   "execution_count": 90,
   "id": "d8435292-c478-4857-b879-a8b97521c9dd",
   "metadata": {},
   "outputs": [],
   "source": [
    "# Subtract 3 hours from the 'time' column to convert to GMT(-3)\n",
    "df_ecmwf_fc['FechaHora'] -= timedelta(hours=3)\n",
    "\n",
    "# Find the minimum date where time is 00:00:00\n",
    "min_date = df_ecmwf_fc[df_ecmwf_fc['FechaHora'].dt.time == pd.to_datetime('00:00:00').time()]['FechaHora'].min()\n",
    "\n",
    "# Filter the DataFrame to keep records from this date onward\n",
    "df_ecmwf_fc = df_ecmwf_fc[df_ecmwf_fc['FechaHora'] >= min_date]\n"
   ]
  },
  {
   "cell_type": "code",
   "execution_count": 91,
   "id": "e67ccb74-b820-428f-8738-faabed1dd69c",
   "metadata": {},
   "outputs": [],
   "source": [
    "# Convert 'FechaHora' to datetime\n",
    "df_ecmwf_fc['FechaHora'] = pd.to_datetime(df_ecmwf_fc['FechaHora'])"
   ]
  },
  {
   "cell_type": "code",
   "execution_count": 92,
   "id": "a084e89b-b7a7-414c-9e11-c44638f65406",
   "metadata": {},
   "outputs": [],
   "source": [
    "# Set 'FechaHora' as the index\n",
    "df_ecmwf_fc.set_index('FechaHora', inplace=True)"
   ]
  },
  {
   "cell_type": "code",
   "execution_count": 93,
   "id": "febeefe0-411f-4f05-8b26-611cba5c6c14",
   "metadata": {},
   "outputs": [],
   "source": [
    "# Resample the dataframe to hourly frequency\n",
    "df_ecmwf_fc = df_ecmwf_fc.resample('h').asfreq()\n"
   ]
  },
  {
   "cell_type": "code",
   "execution_count": 94,
   "id": "2ac09cfd-37e6-4af7-8795-da6978aba174",
   "metadata": {},
   "outputs": [],
   "source": [
    "# Linear interpolation\n",
    "df_ecmwf_fc = df_ecmwf_fc.interpolate(method='linear')"
   ]
  },
  {
   "cell_type": "code",
   "execution_count": 95,
   "id": "342784ba-56c3-4323-9ef6-5449f52e5ede",
   "metadata": {},
   "outputs": [
    {
     "data": {
      "text/html": [
       "<div>\n",
       "<style scoped>\n",
       "    .dataframe tbody tr th:only-of-type {\n",
       "        vertical-align: middle;\n",
       "    }\n",
       "\n",
       "    .dataframe tbody tr th {\n",
       "        vertical-align: top;\n",
       "    }\n",
       "\n",
       "    .dataframe thead th {\n",
       "        text-align: right;\n",
       "    }\n",
       "</style>\n",
       "<table border=\"1\" class=\"dataframe\">\n",
       "  <thead>\n",
       "    <tr style=\"text-align: right;\">\n",
       "      <th></th>\n",
       "      <th>ws100</th>\n",
       "      <th>dir100</th>\n",
       "      <th>t2m</th>\n",
       "      <th>sp</th>\n",
       "      <th>q</th>\n",
       "      <th>air_density</th>\n",
       "      <th>rel_Tct</th>\n",
       "    </tr>\n",
       "    <tr>\n",
       "      <th>FechaHora</th>\n",
       "      <th></th>\n",
       "      <th></th>\n",
       "      <th></th>\n",
       "      <th></th>\n",
       "      <th></th>\n",
       "      <th></th>\n",
       "      <th></th>\n",
       "    </tr>\n",
       "  </thead>\n",
       "  <tbody>\n",
       "    <tr>\n",
       "      <th>2024-06-02 00:00:00</th>\n",
       "      <td>2.440190</td>\n",
       "      <td>322.811096</td>\n",
       "      <td>279.690918</td>\n",
       "      <td>99959.031250</td>\n",
       "      <td>0.004624</td>\n",
       "      <td>1.241541</td>\n",
       "      <td>3.696394</td>\n",
       "    </tr>\n",
       "    <tr>\n",
       "      <th>2024-06-02 01:00:00</th>\n",
       "      <td>3.847449</td>\n",
       "      <td>308.847656</td>\n",
       "      <td>279.953033</td>\n",
       "      <td>99974.757812</td>\n",
       "      <td>0.004267</td>\n",
       "      <td>1.240842</td>\n",
       "      <td>11.632383</td>\n",
       "    </tr>\n",
       "    <tr>\n",
       "      <th>2024-06-02 02:00:00</th>\n",
       "      <td>5.254708</td>\n",
       "      <td>294.884186</td>\n",
       "      <td>280.215149</td>\n",
       "      <td>99990.492188</td>\n",
       "      <td>0.003909</td>\n",
       "      <td>1.240142</td>\n",
       "      <td>19.568371</td>\n",
       "    </tr>\n",
       "    <tr>\n",
       "      <th>2024-06-02 03:00:00</th>\n",
       "      <td>6.661968</td>\n",
       "      <td>280.920746</td>\n",
       "      <td>280.477264</td>\n",
       "      <td>100006.218750</td>\n",
       "      <td>0.003552</td>\n",
       "      <td>1.239443</td>\n",
       "      <td>27.504360</td>\n",
       "    </tr>\n",
       "    <tr>\n",
       "      <th>2024-06-02 04:00:00</th>\n",
       "      <td>6.919897</td>\n",
       "      <td>277.907471</td>\n",
       "      <td>280.482483</td>\n",
       "      <td>100032.070312</td>\n",
       "      <td>0.003453</td>\n",
       "      <td>1.239815</td>\n",
       "      <td>29.768076</td>\n",
       "    </tr>\n",
       "  </tbody>\n",
       "</table>\n",
       "</div>"
      ],
      "text/plain": [
       "                        ws100      dir100         t2m             sp  \\\n",
       "FechaHora                                                              \n",
       "2024-06-02 00:00:00  2.440190  322.811096  279.690918   99959.031250   \n",
       "2024-06-02 01:00:00  3.847449  308.847656  279.953033   99974.757812   \n",
       "2024-06-02 02:00:00  5.254708  294.884186  280.215149   99990.492188   \n",
       "2024-06-02 03:00:00  6.661968  280.920746  280.477264  100006.218750   \n",
       "2024-06-02 04:00:00  6.919897  277.907471  280.482483  100032.070312   \n",
       "\n",
       "                            q  air_density    rel_Tct  \n",
       "FechaHora                                              \n",
       "2024-06-02 00:00:00  0.004624     1.241541   3.696394  \n",
       "2024-06-02 01:00:00  0.004267     1.240842  11.632383  \n",
       "2024-06-02 02:00:00  0.003909     1.240142  19.568371  \n",
       "2024-06-02 03:00:00  0.003552     1.239443  27.504360  \n",
       "2024-06-02 04:00:00  0.003453     1.239815  29.768076  "
      ]
     },
     "execution_count": 95,
     "metadata": {},
     "output_type": "execute_result"
    }
   ],
   "source": [
    "df_ecmwf_fc.head()"
   ]
  },
  {
   "cell_type": "code",
   "execution_count": 96,
   "id": "88ca310f-2b48-45b1-ae7a-756b5d1db1ec",
   "metadata": {},
   "outputs": [],
   "source": [
    "# Convert temperature from Kelvin to Celsius\n",
    "df_ecmwf_fc['t2m'] -= 273.15"
   ]
  },
  {
   "cell_type": "code",
   "execution_count": 97,
   "id": "9f87de67-583d-410e-a2dc-61fa822ced9e",
   "metadata": {},
   "outputs": [],
   "source": [
    "# Round 2 decimal\n",
    "df_ecmwf_fc = df_ecmwf_fc.astype(float).round(3)"
   ]
  },
  {
   "cell_type": "code",
   "execution_count": 98,
   "id": "20575273-9b4e-474f-b2c8-5eca57e1473b",
   "metadata": {},
   "outputs": [
    {
     "data": {
      "text/html": [
       "<div>\n",
       "<style scoped>\n",
       "    .dataframe tbody tr th:only-of-type {\n",
       "        vertical-align: middle;\n",
       "    }\n",
       "\n",
       "    .dataframe tbody tr th {\n",
       "        vertical-align: top;\n",
       "    }\n",
       "\n",
       "    .dataframe thead th {\n",
       "        text-align: right;\n",
       "    }\n",
       "</style>\n",
       "<table border=\"1\" class=\"dataframe\">\n",
       "  <thead>\n",
       "    <tr style=\"text-align: right;\">\n",
       "      <th></th>\n",
       "      <th>ws100</th>\n",
       "      <th>dir100</th>\n",
       "      <th>t2m</th>\n",
       "      <th>sp</th>\n",
       "      <th>q</th>\n",
       "      <th>air_density</th>\n",
       "      <th>rel_Tct</th>\n",
       "    </tr>\n",
       "  </thead>\n",
       "  <tbody>\n",
       "    <tr>\n",
       "      <th>count</th>\n",
       "      <td>238.000000</td>\n",
       "      <td>238.000000</td>\n",
       "      <td>238.000000</td>\n",
       "      <td>238.000000</td>\n",
       "      <td>238.000000</td>\n",
       "      <td>238.000000</td>\n",
       "      <td>238.000000</td>\n",
       "    </tr>\n",
       "    <tr>\n",
       "      <th>mean</th>\n",
       "      <td>7.183227</td>\n",
       "      <td>212.413622</td>\n",
       "      <td>10.244803</td>\n",
       "      <td>100163.523160</td>\n",
       "      <td>0.006269</td>\n",
       "      <td>1.226933</td>\n",
       "      <td>38.057542</td>\n",
       "    </tr>\n",
       "    <tr>\n",
       "      <th>std</th>\n",
       "      <td>3.118924</td>\n",
       "      <td>121.170449</td>\n",
       "      <td>3.338307</td>\n",
       "      <td>620.317225</td>\n",
       "      <td>0.001801</td>\n",
       "      <td>0.021397</td>\n",
       "      <td>30.291450</td>\n",
       "    </tr>\n",
       "    <tr>\n",
       "      <th>min</th>\n",
       "      <td>0.770000</td>\n",
       "      <td>1.235000</td>\n",
       "      <td>0.987000</td>\n",
       "      <td>98776.156000</td>\n",
       "      <td>0.003000</td>\n",
       "      <td>1.178000</td>\n",
       "      <td>0.354000</td>\n",
       "    </tr>\n",
       "    <tr>\n",
       "      <th>25%</th>\n",
       "      <td>4.573000</td>\n",
       "      <td>112.313250</td>\n",
       "      <td>7.888500</td>\n",
       "      <td>99790.443000</td>\n",
       "      <td>0.005000</td>\n",
       "      <td>1.211000</td>\n",
       "      <td>13.319250</td>\n",
       "    </tr>\n",
       "    <tr>\n",
       "      <th>50%</th>\n",
       "      <td>7.384000</td>\n",
       "      <td>234.007000</td>\n",
       "      <td>10.042500</td>\n",
       "      <td>100139.926000</td>\n",
       "      <td>0.006000</td>\n",
       "      <td>1.227500</td>\n",
       "      <td>33.491500</td>\n",
       "    </tr>\n",
       "    <tr>\n",
       "      <th>75%</th>\n",
       "      <td>9.003500</td>\n",
       "      <td>336.568000</td>\n",
       "      <td>12.507000</td>\n",
       "      <td>100496.306500</td>\n",
       "      <td>0.007000</td>\n",
       "      <td>1.240000</td>\n",
       "      <td>50.993250</td>\n",
       "    </tr>\n",
       "    <tr>\n",
       "      <th>max</th>\n",
       "      <td>15.220000</td>\n",
       "      <td>358.750000</td>\n",
       "      <td>18.819000</td>\n",
       "      <td>101598.359000</td>\n",
       "      <td>0.010000</td>\n",
       "      <td>1.288000</td>\n",
       "      <td>144.641000</td>\n",
       "    </tr>\n",
       "  </tbody>\n",
       "</table>\n",
       "</div>"
      ],
      "text/plain": [
       "            ws100      dir100         t2m             sp           q  \\\n",
       "count  238.000000  238.000000  238.000000     238.000000  238.000000   \n",
       "mean     7.183227  212.413622   10.244803  100163.523160    0.006269   \n",
       "std      3.118924  121.170449    3.338307     620.317225    0.001801   \n",
       "min      0.770000    1.235000    0.987000   98776.156000    0.003000   \n",
       "25%      4.573000  112.313250    7.888500   99790.443000    0.005000   \n",
       "50%      7.384000  234.007000   10.042500  100139.926000    0.006000   \n",
       "75%      9.003500  336.568000   12.507000  100496.306500    0.007000   \n",
       "max     15.220000  358.750000   18.819000  101598.359000    0.010000   \n",
       "\n",
       "       air_density     rel_Tct  \n",
       "count   238.000000  238.000000  \n",
       "mean      1.226933   38.057542  \n",
       "std       0.021397   30.291450  \n",
       "min       1.178000    0.354000  \n",
       "25%       1.211000   13.319250  \n",
       "50%       1.227500   33.491500  \n",
       "75%       1.240000   50.993250  \n",
       "max       1.288000  144.641000  "
      ]
     },
     "execution_count": 98,
     "metadata": {},
     "output_type": "execute_result"
    }
   ],
   "source": [
    "df_ecmwf_fc.describe()"
   ]
  },
  {
   "cell_type": "code",
   "execution_count": 99,
   "id": "577449e3-c902-43e7-8205-cf62ec810e22",
   "metadata": {},
   "outputs": [],
   "source": [
    "# Select the main columns\n",
    "df_ecmwf_fc_r = df_ecmwf_fc[['ws100', 'dir100','t2m','air_density','rel_Tct']]"
   ]
  },
  {
   "cell_type": "code",
   "execution_count": 100,
   "id": "ea35edbf-5185-432c-9764-95537332b889",
   "metadata": {},
   "outputs": [],
   "source": [
    "# Rename the columns\n",
    "df_ecmwf_fc_r = df_ecmwf_fc_r.rename(columns={\n",
    "    'ws100': 'ws100_ecmwf',\n",
    "    'dir100': 'dir100_ecmwf',\n",
    "    't2m': 'temp_ecmwf',\n",
    "    'air_density': 'airden_ecmwf',\n",
    "    'rel_Tct': 'reltct_ecmwf'\n",
    "})"
   ]
  },
  {
   "cell_type": "code",
   "execution_count": 101,
   "id": "88b9807e-1e35-4315-be65-a6b294e72f23",
   "metadata": {},
   "outputs": [],
   "source": [
    "df_ecmwf_fc_r.reset_index(inplace=True)"
   ]
  },
  {
   "cell_type": "code",
   "execution_count": 102,
   "id": "4e97099b-72e7-4ae0-900f-0b5b97f8294f",
   "metadata": {},
   "outputs": [
    {
     "data": {
      "text/html": [
       "<div>\n",
       "<style scoped>\n",
       "    .dataframe tbody tr th:only-of-type {\n",
       "        vertical-align: middle;\n",
       "    }\n",
       "\n",
       "    .dataframe tbody tr th {\n",
       "        vertical-align: top;\n",
       "    }\n",
       "\n",
       "    .dataframe thead th {\n",
       "        text-align: right;\n",
       "    }\n",
       "</style>\n",
       "<table border=\"1\" class=\"dataframe\">\n",
       "  <thead>\n",
       "    <tr style=\"text-align: right;\">\n",
       "      <th></th>\n",
       "      <th>FechaHora</th>\n",
       "      <th>ws100_ecmwf</th>\n",
       "      <th>dir100_ecmwf</th>\n",
       "      <th>temp_ecmwf</th>\n",
       "      <th>airden_ecmwf</th>\n",
       "      <th>reltct_ecmwf</th>\n",
       "    </tr>\n",
       "  </thead>\n",
       "  <tbody>\n",
       "    <tr>\n",
       "      <th>0</th>\n",
       "      <td>2024-06-02 00:00:00</td>\n",
       "      <td>2.440</td>\n",
       "      <td>322.811</td>\n",
       "      <td>6.541</td>\n",
       "      <td>1.242</td>\n",
       "      <td>3.696</td>\n",
       "    </tr>\n",
       "    <tr>\n",
       "      <th>1</th>\n",
       "      <td>2024-06-02 01:00:00</td>\n",
       "      <td>3.847</td>\n",
       "      <td>308.848</td>\n",
       "      <td>6.803</td>\n",
       "      <td>1.241</td>\n",
       "      <td>11.632</td>\n",
       "    </tr>\n",
       "    <tr>\n",
       "      <th>2</th>\n",
       "      <td>2024-06-02 02:00:00</td>\n",
       "      <td>5.255</td>\n",
       "      <td>294.884</td>\n",
       "      <td>7.065</td>\n",
       "      <td>1.240</td>\n",
       "      <td>19.568</td>\n",
       "    </tr>\n",
       "    <tr>\n",
       "      <th>3</th>\n",
       "      <td>2024-06-02 03:00:00</td>\n",
       "      <td>6.662</td>\n",
       "      <td>280.921</td>\n",
       "      <td>7.327</td>\n",
       "      <td>1.239</td>\n",
       "      <td>27.504</td>\n",
       "    </tr>\n",
       "    <tr>\n",
       "      <th>4</th>\n",
       "      <td>2024-06-02 04:00:00</td>\n",
       "      <td>6.920</td>\n",
       "      <td>277.907</td>\n",
       "      <td>7.332</td>\n",
       "      <td>1.240</td>\n",
       "      <td>29.768</td>\n",
       "    </tr>\n",
       "  </tbody>\n",
       "</table>\n",
       "</div>"
      ],
      "text/plain": [
       "            FechaHora  ws100_ecmwf  dir100_ecmwf  temp_ecmwf  airden_ecmwf  \\\n",
       "0 2024-06-02 00:00:00        2.440       322.811       6.541         1.242   \n",
       "1 2024-06-02 01:00:00        3.847       308.848       6.803         1.241   \n",
       "2 2024-06-02 02:00:00        5.255       294.884       7.065         1.240   \n",
       "3 2024-06-02 03:00:00        6.662       280.921       7.327         1.239   \n",
       "4 2024-06-02 04:00:00        6.920       277.907       7.332         1.240   \n",
       "\n",
       "   reltct_ecmwf  \n",
       "0         3.696  \n",
       "1        11.632  \n",
       "2        19.568  \n",
       "3        27.504  \n",
       "4        29.768  "
      ]
     },
     "execution_count": 102,
     "metadata": {},
     "output_type": "execute_result"
    }
   ],
   "source": [
    "df_ecmwf_fc_r.head()"
   ]
  },
  {
   "cell_type": "code",
   "execution_count": 103,
   "id": "0f9b91a9-c6d9-4b9d-bbe1-661f379953b5",
   "metadata": {},
   "outputs": [],
   "source": [
    "min_date = min_date.strftime('%Y-%m-%d')"
   ]
  },
  {
   "cell_type": "code",
   "execution_count": 104,
   "id": "54ec87e8-7ed5-40a5-886b-cdc91e9c132f",
   "metadata": {},
   "outputs": [],
   "source": [
    "df_ecmwf_fc_r.to_csv(f'D:\\\\Documents\\\\MMA\\\\1.0 Tesis\\\\Datos\\\\ECMWF\\\\ds_ecmwf_fc_{min_date}.csv', sep=';', index=False, decimal=',')"
   ]
  },
  {
   "cell_type": "markdown",
   "id": "738cae24-72db-4ea9-a424-8107915b7922",
   "metadata": {},
   "source": [
    "## Historical ERA5 Reanalisis Wheather data\n",
    "\n",
    "link to downloas the files single level:\n",
    "https://cds.climate.copernicus.eu/cdsapp#!/dataset/reanalysis-era5-single-levels?tab=form\n",
    "\n",
    "link to downloas the files presure level:\n",
    "https://cds.climate.copernicus.eu/cdsapp#!/dataset/reanalysis-era5-pressure-levels?tab=form\n",
    "\n",
    "\n",
    "ERA5 is the fifth generation ECMWF reanalysis for the global climate and weather for the past 8 decades. Data is available from 1940 onwards. ERA5 replaces the ERA-Interim reanalysis.\r\n",
    "\r\n",
    "Reanalysis combines model data with observations from across the world into a globally complete and consistent dataset using the laws of physics. This principle, called data assimilation, is based on the method used by numerical weather prediction centres, where every so many hours (12 hours at ECMWF) a previous forecast is combined with newly available observations in an optimal way to produce a new best estimate of the state of the atmosphere, called analysis, from which an updated, improved forecast is issued. Reanalysis works in the same way, but at reduced resolution to allow for the provision of a dataset spanning back several decades. Reanalysis does not have the constraint of issuing timely forecasts, so there is more time to collect observations, and when going further back in time, to allow for the ingestion of improved versions of the original observations, which all benefit the quality of the reanalysis product.\r\n",
    "\r\n",
    "ERA5 provides hourly estimates for a large number of atmospheric, ocean-wave and land-surface quantities. An uncertainty estimate is sampled by an underlying 10-member ensemble at three-hourly intervals. Ensemble mean and spread have been pre-computed for convenience. Such uncertainty estimates are closely related to the information content of the available observing system which has evolved considerably over time. They also indicate flow-dependent sensitive areas. To facilitate many climate applications, monthly-mean averages have been pre-calculated too, though monthly means are not available for the ensemble mean and spread.\r\n",
    "\r\n",
    "ERA5 is updated daily with a latency of about 5 days. In case that serious flaws are detected in this early release (called ERA5T), this data could be different from the final release 2 to 3 months later. In case that this occurs users are notified.\r\n",
    "\r\n",
    "The data set presented here is a regridded subset of the full ERA5 data set on native resolution. It is online on spinning disk, which should ensure fast and easy access. It should satisfy the requirements for most common applications.\r\n",
    "\r\n",
    "An overview of all ERA5 datasets can be found in this article. Information on access to ERA5 data on native resolution is provided in these guidelines.\r\n",
    "\r\n",
    "Data has been regridded to a regular lat-lon grid of 0.25 degrees for the reanalysis and 0.5 degrees for the uncertainty estimate (0.5 and 1 degree respectively for ocean waves). There are four main sub sets: hourly and monthly products, both on pressure levels (upper air fields) and single levels (atmospheric, ocean-wave and land surface quantities).\r\n",
    "\r\n",
    "The present entry is \"ERA5 hourly data on single levels from 1940 to present\".\n"
   ]
  },
  {
   "cell_type": "markdown",
   "id": "0ce04378-10ab-4b11-85ef-c93ce4537cc2",
   "metadata": {},
   "source": [
    "#####  Carga los archivos de ERA5 des archivos locales"
   ]
  },
  {
   "cell_type": "code",
   "execution_count": 50,
   "id": "f0b790b7-14ec-4984-b9af-89baf3cdeddc",
   "metadata": {},
   "outputs": [
    {
     "name": "stdout",
     "output_type": "stream",
     "text": [
      "D:\\Documents\\MMA\\1.0 Tesis\\Datos\\ERA5\\adaptor.mars.internal-2019.nc\n",
      "D:\\Documents\\MMA\\1.0 Tesis\\Datos\\ERA5\\adaptor.mars.internal-2020.nc\n",
      "D:\\Documents\\MMA\\1.0 Tesis\\Datos\\ERA5\\adaptor.mars.internal-2021.nc\n",
      "D:\\Documents\\MMA\\1.0 Tesis\\Datos\\ERA5\\adaptor.mars.internal-2022.nc\n",
      "D:\\Documents\\MMA\\1.0 Tesis\\Datos\\ERA5\\adaptor.mars.internal-2023.nc\n",
      "D:\\Documents\\MMA\\1.0 Tesis\\Datos\\ERA5\\adaptor.mars.internal-2024.nc\n",
      "D:\\Documents\\MMA\\1.0 Tesis\\Datos\\ERA5\\adaptor.mars.internal.presurelevel-2019.nc\n",
      "D:\\Documents\\MMA\\1.0 Tesis\\Datos\\ERA5\\adaptor.mars.internal.presurelevel-2020.nc\n",
      "D:\\Documents\\MMA\\1.0 Tesis\\Datos\\ERA5\\adaptor.mars.internal.presurelevel-2021.nc\n",
      "D:\\Documents\\MMA\\1.0 Tesis\\Datos\\ERA5\\adaptor.mars.internal.presurelevel-2022.nc\n",
      "D:\\Documents\\MMA\\1.0 Tesis\\Datos\\ERA5\\adaptor.mars.internal.presurelevel-2023.nc\n",
      "D:\\Documents\\MMA\\1.0 Tesis\\Datos\\ERA5\\adaptor.mars.internal.presurelevel-2024.nc\n"
     ]
    }
   ],
   "source": [
    "\n",
    "# Specify the directory where the NetCDF files are stored\n",
    "directory = 'D:\\\\Documents\\\\MMA\\\\1.0 Tesis\\\\Datos\\\\ERA5'\n",
    "\n",
    "# Initialize a dictionary to store DataFrames for each year\n",
    "yearly_data_frames = {}\n",
    "\n",
    "# Specify the latitude and longitude for La Castellana Bahia Blanca\n",
    "lat_location = -38.5\n",
    "lon_location = -62.75\n",
    "\n",
    "# Loop through each file in the directory\n",
    "for filename in os.listdir(directory):\n",
    "    if filename.endswith(\".nc\"):  # Assuming all files are NetCDF format\n",
    "        filepath = os.path.join(directory, filename)\n",
    "        print(filepath)\n",
    "        # Extract the year from the filename\n",
    "        year = int(filename.split('-')[-1].split('.')[0])\n",
    "        # Open the NetCDF file using xarray\n",
    "        data = xr.open_dataset(filepath)\n",
    "        # Select the desired variables ('u100', 'v100', 't2m', 'sp','q')\n",
    "        for var_name in ['u100', 'v100', 't2m', 'sp','q']:\n",
    "            # Check if the variable exists in the dataset\n",
    "            if var_name in data:\n",
    "                # Filter the variable data based on the latitude and longitude location\n",
    "                filtered_data = data[var_name].sel(latitude=lat_location, longitude=lon_location, method='nearest')\n",
    "                # Convert the filtered DataArray to a DataFrame\n",
    "                df= filtered_data.to_dataframe(name=var_name)\n",
    "                # Add the DataFrame to the dictionary with the year as the key\n",
    "                if year not in yearly_data_frames:\n",
    "                    yearly_data_frames[year] = df\n",
    "                else:\n",
    "                    yearly_data_frames[year] = pd.concat([yearly_data_frames[year], df], axis=1)\n",
    "\n",
    "# Concatenate all DataFrames in the dictionary along the index (rows) to combine the data for each year\n",
    "df_histo_era5 = pd.concat(yearly_data_frames.values())\n",
    "\n",
    "# Drop repeated longitude and latitude columns\n",
    "df_histo_era5 = df_histo_era5.loc[:,~df_histo_era5.columns.duplicated()]\n",
    "\n",
    "# For the current year the records has in the index the number of experiment with values 1 or 5, records with more than 2 month has the values with \n",
    "# exper = 1 and null for exper=5 and in the other way around for the last 2 month.\n",
    "df_histo_era5.dropna(inplace=True)\n",
    "\n",
    "# lambda function to map the index to the first element if it's a tuple\n",
    "df_histo_era5.index = list(map(lambda idx: idx[0] if isinstance(idx, tuple) else idx, df_histo_era5.index))\n",
    "\n",
    "# Convert the index to DateTimeIndex to ensure consistency\n",
    "df_histo_era5.index = pd.to_datetime(df_histo_era5.index)\n",
    "\n",
    "#Reset Index\n",
    "df_histo_era5.reset_index(inplace=True)\n",
    "\n",
    "# Rename the index column to 'FechaHora'\n",
    "df_histo_era5 = df_histo_era5.rename(columns={'index': 'FechaHora'})"
   ]
  },
  {
   "cell_type": "code",
   "execution_count": 51,
   "id": "f605cf7a-9a4d-42be-824d-084d9922a9b6",
   "metadata": {},
   "outputs": [
    {
     "data": {
      "text/html": [
       "<div>\n",
       "<style scoped>\n",
       "    .dataframe tbody tr th:only-of-type {\n",
       "        vertical-align: middle;\n",
       "    }\n",
       "\n",
       "    .dataframe tbody tr th {\n",
       "        vertical-align: top;\n",
       "    }\n",
       "\n",
       "    .dataframe thead th {\n",
       "        text-align: right;\n",
       "    }\n",
       "</style>\n",
       "<table border=\"1\" class=\"dataframe\">\n",
       "  <thead>\n",
       "    <tr style=\"text-align: right;\">\n",
       "      <th></th>\n",
       "      <th>FechaHora</th>\n",
       "      <th>longitude</th>\n",
       "      <th>latitude</th>\n",
       "      <th>u100</th>\n",
       "      <th>v100</th>\n",
       "      <th>t2m</th>\n",
       "      <th>sp</th>\n",
       "      <th>q</th>\n",
       "    </tr>\n",
       "  </thead>\n",
       "  <tbody>\n",
       "    <tr>\n",
       "      <th>48082</th>\n",
       "      <td>2024-06-26 10:00:00</td>\n",
       "      <td>-62.75</td>\n",
       "      <td>-38.5</td>\n",
       "      <td>9.621508</td>\n",
       "      <td>-6.592616</td>\n",
       "      <td>280.469107</td>\n",
       "      <td>99932.770540</td>\n",
       "      <td>0.004039</td>\n",
       "    </tr>\n",
       "    <tr>\n",
       "      <th>48083</th>\n",
       "      <td>2024-06-26 11:00:00</td>\n",
       "      <td>-62.75</td>\n",
       "      <td>-38.5</td>\n",
       "      <td>10.146357</td>\n",
       "      <td>-6.095953</td>\n",
       "      <td>280.765418</td>\n",
       "      <td>99929.946203</td>\n",
       "      <td>0.003976</td>\n",
       "    </tr>\n",
       "    <tr>\n",
       "      <th>48084</th>\n",
       "      <td>2024-06-26 12:00:00</td>\n",
       "      <td>-62.75</td>\n",
       "      <td>-38.5</td>\n",
       "      <td>10.661417</td>\n",
       "      <td>-6.837992</td>\n",
       "      <td>280.425854</td>\n",
       "      <td>99921.250216</td>\n",
       "      <td>0.004145</td>\n",
       "    </tr>\n",
       "    <tr>\n",
       "      <th>48085</th>\n",
       "      <td>2024-06-26 13:00:00</td>\n",
       "      <td>-62.75</td>\n",
       "      <td>-38.5</td>\n",
       "      <td>10.052983</td>\n",
       "      <td>-7.906706</td>\n",
       "      <td>280.412298</td>\n",
       "      <td>99831.986285</td>\n",
       "      <td>0.004161</td>\n",
       "    </tr>\n",
       "    <tr>\n",
       "      <th>48086</th>\n",
       "      <td>2024-06-26 14:00:00</td>\n",
       "      <td>-62.75</td>\n",
       "      <td>-38.5</td>\n",
       "      <td>9.960740</td>\n",
       "      <td>-8.241757</td>\n",
       "      <td>281.987460</td>\n",
       "      <td>99826.114635</td>\n",
       "      <td>0.004166</td>\n",
       "    </tr>\n",
       "  </tbody>\n",
       "</table>\n",
       "</div>"
      ],
      "text/plain": [
       "                FechaHora  longitude  latitude       u100      v100  \\\n",
       "48082 2024-06-26 10:00:00     -62.75     -38.5   9.621508 -6.592616   \n",
       "48083 2024-06-26 11:00:00     -62.75     -38.5  10.146357 -6.095953   \n",
       "48084 2024-06-26 12:00:00     -62.75     -38.5  10.661417 -6.837992   \n",
       "48085 2024-06-26 13:00:00     -62.75     -38.5  10.052983 -7.906706   \n",
       "48086 2024-06-26 14:00:00     -62.75     -38.5   9.960740 -8.241757   \n",
       "\n",
       "              t2m            sp         q  \n",
       "48082  280.469107  99932.770540  0.004039  \n",
       "48083  280.765418  99929.946203  0.003976  \n",
       "48084  280.425854  99921.250216  0.004145  \n",
       "48085  280.412298  99831.986285  0.004161  \n",
       "48086  281.987460  99826.114635  0.004166  "
      ]
     },
     "execution_count": 51,
     "metadata": {},
     "output_type": "execute_result"
    }
   ],
   "source": [
    "df_histo_era5.tail()"
   ]
  },
  {
   "cell_type": "code",
   "execution_count": 52,
   "id": "a91ed206-d974-4719-8d53-8b51b565a3f0",
   "metadata": {},
   "outputs": [],
   "source": [
    "# Calculate wind speed from u and v components (magnitude of the vector)\n",
    "df_histo_era5['ws100'] = np.sqrt(df_histo_era5['u100']**2 + df_histo_era5['v100']**2)\n",
    "\n",
    "# Calculate wind dir from u and v components (magnitude of the vector)\n",
    "\n",
    "# Calculate the angle in radians\n",
    "theta = np.arctan2(df_histo_era5['v100'], df_histo_era5['u100'])\n",
    "\n",
    "# Convert the angle from radians to degrees\n",
    "theta_deg = np.degrees(theta)\n",
    "\n",
    "df_histo_era5['dir100'] = (270 - theta_deg) % 360\n"
   ]
  },
  {
   "cell_type": "markdown",
   "id": "430806ac-80c0-4363-9b5c-6ea13351abda",
   "metadata": {},
   "source": [
    "#### Air density calculation at surface level"
   ]
  },
  {
   "cell_type": "code",
   "execution_count": 53,
   "id": "771a42b4-8a3c-4461-b673-0553b0f8ec39",
   "metadata": {},
   "outputs": [],
   "source": [
    "# Constants\n",
    "R_dry = 287.058  # Specific gas constant for dry air, J/(kg·K)\n",
    "R_vapor = 461.495  # Specific gas constant for water vapor, J/(kg·K)\n",
    "epsilon = R_dry / R_vapor\n",
    "\n",
    "# Given data (example values, replace with actual data)\n",
    "T_2m = df_histo_era5['t2m']  # Temperature at 2 meters (K)\n",
    "P_surface = df_histo_era5['sp']  # Surface pressure (Pa)\n",
    "q_1000hPa = df_histo_era5['q']  # Specific humidity at 1000 hPa (kg/kg)\n",
    "\n",
    "\n",
    "# Calculate air density\n",
    "e = q_1000hPa * P_surface / (epsilon + q_1000hPa)  # Partial pressure of water vapor (Pa)\n",
    "P_dry = P_surface - e  # Partial pressure of dry air (Pa)\n",
    "rho_dry = P_dry / (R_dry * T_2m)  # Density of dry air (kg/m³)\n",
    "rho_vapor = e / (R_vapor * T_2m)  # Density of water vapor (kg/m³)\n",
    "\n",
    "df_histo_era5['air_density'] = rho_dry + rho_vapor  # Total air density (kg/m³)\n",
    "\n",
    "#print(\"Air density:\", df_ecmwf_fc['air_density'], \"kg/m³\")"
   ]
  },
  {
   "cell_type": "markdown",
   "id": "2f68cedd-aceb-4b36-81d1-a3e42ab4fab7",
   "metadata": {},
   "source": [
    "##### Calculate Relation Thrust Force T (Fuerza de Empuje) / Coefficient Ct (Coeficiente de Empuje) "
   ]
  },
  {
   "cell_type": "code",
   "execution_count": 54,
   "id": "d66561f6-4a34-4250-a0c0-35598c276046",
   "metadata": {},
   "outputs": [],
   "source": [
    "# rotor diameter in meters \n",
    "D = 125 # Turbine Acciona AW 125/3150\n",
    "\n",
    "# Calculate rotor swept area (m²)\n",
    "A = np.pi * (D / 2) ** 2\n",
    "\n",
    "# Calculate relation between Thrust Force / Thrust Coefficient C_T\n",
    "df_histo_era5['rel_Tct'] = 0.5 * df_histo_era5['air_density'] * df_histo_era5['ws100']**2"
   ]
  },
  {
   "cell_type": "markdown",
   "id": "4f35f0da-db53-44a0-915a-b1f1ee9cf55e",
   "metadata": {},
   "source": [
    "#### Convert Temperature"
   ]
  },
  {
   "cell_type": "code",
   "execution_count": 55,
   "id": "d9040d88-223a-4cc7-b549-24f996b6cb98",
   "metadata": {},
   "outputs": [],
   "source": [
    "# Convert temperature from Kelvin to Celsius\n",
    "df_histo_era5['t2m'] -= 273.15"
   ]
  },
  {
   "cell_type": "markdown",
   "id": "f4c5658d-c84b-4bb6-96bb-c4812072731f",
   "metadata": {},
   "source": [
    "##### Adjust Time & dataframe"
   ]
  },
  {
   "cell_type": "code",
   "execution_count": 56,
   "id": "7fdbc31a-4815-459e-ae25-505ea7f21abf",
   "metadata": {},
   "outputs": [],
   "source": [
    "# Subtract 3 hours from the 'time' column to convert to GMT(-3)\n",
    "df_histo_era5['FechaHora'] -= timedelta(hours=3)\n",
    "\n",
    "# Set 'FechaHora' as the index\n",
    "df_histo_era5.set_index('FechaHora', inplace=True)\n",
    "\n",
    "# Select the main columns\n",
    "df_histo_era5_r = df_histo_era5[['ws100', 'dir100','t2m','air_density','rel_Tct']].astype(float)\n",
    "\n",
    "# Round 2 decimal\n",
    "#df_histo_era5_r  = df_histo_era5_r .round(3)"
   ]
  },
  {
   "cell_type": "code",
   "execution_count": 57,
   "id": "13fd4425-558e-4156-9c97-b85b42ff084d",
   "metadata": {},
   "outputs": [],
   "source": [
    "# Rename the columns\n",
    "df_histo_era5_r = df_histo_era5_r.rename(columns={\n",
    "    'ws100': 'ws100_ecmwf',\n",
    "    'dir100': 'dir100_ecmwf',\n",
    "    't2m': 'temp_ecmwf',\n",
    "    'air_density': 'airden_ecmwf',\n",
    "    'rel_Tct': 'reltct_ecmwf'\n",
    "})"
   ]
  },
  {
   "cell_type": "code",
   "execution_count": 58,
   "id": "34159a36-52c5-46c5-85f7-efbaeb0f3dde",
   "metadata": {},
   "outputs": [
    {
     "data": {
      "text/html": [
       "<div>\n",
       "<style scoped>\n",
       "    .dataframe tbody tr th:only-of-type {\n",
       "        vertical-align: middle;\n",
       "    }\n",
       "\n",
       "    .dataframe tbody tr th {\n",
       "        vertical-align: top;\n",
       "    }\n",
       "\n",
       "    .dataframe thead th {\n",
       "        text-align: right;\n",
       "    }\n",
       "</style>\n",
       "<table border=\"1\" class=\"dataframe\">\n",
       "  <thead>\n",
       "    <tr style=\"text-align: right;\">\n",
       "      <th></th>\n",
       "      <th>ws100_ecmwf</th>\n",
       "      <th>dir100_ecmwf</th>\n",
       "      <th>temp_ecmwf</th>\n",
       "      <th>airden_ecmwf</th>\n",
       "      <th>reltct_ecmwf</th>\n",
       "    </tr>\n",
       "    <tr>\n",
       "      <th>FechaHora</th>\n",
       "      <th></th>\n",
       "      <th></th>\n",
       "      <th></th>\n",
       "      <th></th>\n",
       "      <th></th>\n",
       "    </tr>\n",
       "  </thead>\n",
       "  <tbody>\n",
       "    <tr>\n",
       "      <th>2018-12-31 21:00:00</th>\n",
       "      <td>12.121110</td>\n",
       "      <td>357.113901</td>\n",
       "      <td>21.379415</td>\n",
       "      <td>1.169393</td>\n",
       "      <td>85.904362</td>\n",
       "    </tr>\n",
       "    <tr>\n",
       "      <th>2018-12-31 22:00:00</th>\n",
       "      <td>13.585819</td>\n",
       "      <td>359.681664</td>\n",
       "      <td>21.398169</td>\n",
       "      <td>1.170022</td>\n",
       "      <td>107.978115</td>\n",
       "    </tr>\n",
       "    <tr>\n",
       "      <th>2018-12-31 23:00:00</th>\n",
       "      <td>13.775665</td>\n",
       "      <td>0.234681</td>\n",
       "      <td>21.240099</td>\n",
       "      <td>1.170395</td>\n",
       "      <td>111.052331</td>\n",
       "    </tr>\n",
       "    <tr>\n",
       "      <th>2019-01-01 00:00:00</th>\n",
       "      <td>12.837879</td>\n",
       "      <td>358.451270</td>\n",
       "      <td>20.925970</td>\n",
       "      <td>1.171574</td>\n",
       "      <td>96.544244</td>\n",
       "    </tr>\n",
       "    <tr>\n",
       "      <th>2019-01-01 01:00:00</th>\n",
       "      <td>11.800872</td>\n",
       "      <td>354.468828</td>\n",
       "      <td>21.206610</td>\n",
       "      <td>1.170418</td>\n",
       "      <td>81.496515</td>\n",
       "    </tr>\n",
       "  </tbody>\n",
       "</table>\n",
       "</div>"
      ],
      "text/plain": [
       "                     ws100_ecmwf  dir100_ecmwf  temp_ecmwf  airden_ecmwf  \\\n",
       "FechaHora                                                                  \n",
       "2018-12-31 21:00:00    12.121110    357.113901   21.379415      1.169393   \n",
       "2018-12-31 22:00:00    13.585819    359.681664   21.398169      1.170022   \n",
       "2018-12-31 23:00:00    13.775665      0.234681   21.240099      1.170395   \n",
       "2019-01-01 00:00:00    12.837879    358.451270   20.925970      1.171574   \n",
       "2019-01-01 01:00:00    11.800872    354.468828   21.206610      1.170418   \n",
       "\n",
       "                     reltct_ecmwf  \n",
       "FechaHora                          \n",
       "2018-12-31 21:00:00     85.904362  \n",
       "2018-12-31 22:00:00    107.978115  \n",
       "2018-12-31 23:00:00    111.052331  \n",
       "2019-01-01 00:00:00     96.544244  \n",
       "2019-01-01 01:00:00     81.496515  "
      ]
     },
     "execution_count": 58,
     "metadata": {},
     "output_type": "execute_result"
    }
   ],
   "source": [
    "df_histo_era5_r.head()"
   ]
  },
  {
   "cell_type": "code",
   "execution_count": 59,
   "id": "0e7f4d59-5971-4785-b54a-dbb464d41ea6",
   "metadata": {},
   "outputs": [],
   "source": [
    "df_histo_era5_r.reset_index(inplace=True)"
   ]
  },
  {
   "cell_type": "code",
   "execution_count": 60,
   "id": "912e5371-be70-429e-b75f-b138d086913b",
   "metadata": {},
   "outputs": [],
   "source": [
    "df_histo_era5_r.to_csv('D:\\\\Documents\\\\MMA\\\\1.0 Tesis\\\\Datos\\\\ERA5\\\\ds_histo_era5.csv', sep=';', index=False, decimal=',')"
   ]
  },
  {
   "cell_type": "code",
   "execution_count": null,
   "id": "1eba78b5-8586-4c7b-a1f3-acd8b2344238",
   "metadata": {},
   "outputs": [],
   "source": []
  },
  {
   "cell_type": "markdown",
   "id": "dd15a5bb-88c2-4ab1-a356-71aa4000ec25",
   "metadata": {},
   "source": [
    "## ___________________________________________________________________________________________________"
   ]
  },
  {
   "cell_type": "markdown",
   "id": "90710b15-2067-46c7-b8eb-d6477c33ee93",
   "metadata": {},
   "source": [
    "## API - ERA5 Reanalisis\n",
    "\n",
    "Copernicus Climate Change Service (C3S)\n",
    "\n",
    "The application allows users to calculate, on demand, daily statistics for a number of variables published from ERA5 and to download the resulting data in a file.\n"
   ]
  },
  {
   "cell_type": "code",
   "execution_count": null,
   "id": "6a9c58f6-1952-4254-815d-9d34de0ee623",
   "metadata": {},
   "outputs": [],
   "source": [
    "'''\n",
    "import cdsapi\n",
    "\n",
    "c = cdsapi.Client()\n",
    "\n",
    "c.retrieve(\n",
    "    'reanalysis-era5-single-levels',\n",
    "    {\n",
    "        'product_type': 'reanalysis',\n",
    "        'format': 'grib',\n",
    "        'variable': [\n",
    "            '100m_u_component_of_wind', '100m_v_component_of_wind', '2m_temperature',\n",
    "            'surface_pressure','specific_humidity'\n",
    "        ],\n",
    "        'year': '2024',\n",
    "        'month': [\n",
    "            '01', '02', '03',\n",
    "            '04', '05', '06'\n",
    "        ],\n",
    "        'day': [\n",
    "            '01', '02', '03',\n",
    "            '04', '05', '06',\n",
    "            '07', '08', '09',\n",
    "            '10', '11', '12',\n",
    "            '13', '14', '15',\n",
    "            '16', '17', '18',\n",
    "            '19', '20', '21',\n",
    "            '22', '23', '24',\n",
    "            '25', '26', '27',\n",
    "            '28', '29', '30',\n",
    "            '31',\n",
    "        ],\n",
    "        'time': [\n",
    "            '00:00', '01:00', '02:00',\n",
    "            '03:00', '04:00', '05:00',\n",
    "            '06:00', '07:00', '08:00',\n",
    "            '09:00', '10:00', '11:00',\n",
    "            '12:00', '13:00', '14:00',\n",
    "            '15:00', '16:00', '17:00',\n",
    "            '18:00', '19:00', '20:00',\n",
    "            '21:00', '22:00', '23:00',\n",
    "        ],\n",
    "        'area': [\n",
    "            --38.5, -62.75, -39,\n",
    "            -62,\n",
    "        ],\n",
    "    },\n",
    "    'download.grib')\n",
    "    '''"
   ]
  },
  {
   "cell_type": "code",
   "execution_count": null,
   "id": "fef01fed-c663-442c-8af5-d40a97341e2c",
   "metadata": {},
   "outputs": [],
   "source": [
    "#### descargado desde CDS"
   ]
  },
  {
   "cell_type": "code",
   "execution_count": null,
   "id": "3fcb24ed-9e94-458f-a623-f91f1a960981",
   "metadata": {},
   "outputs": [],
   "source": [
    "'''\n",
    "import cdsapi\n",
    "import requests\n",
    " \n",
    "# CDS API script to use CDS service to retrieve daily ERA5* variables and iterate over\n",
    "# all months in the specified years.\n",
    " \n",
    "# Requires:\n",
    "# 1) the CDS API to be installed and working on your system\n",
    "# 2) You have agreed to the ERA5 Licence (via the CDS web page)\n",
    "# 3) Selection of required variable, daily statistic, etc\n",
    " \n",
    "# Output:\n",
    "# 1) separate netCDF file for chosen daily statistic/variable for each month\n",
    " \n",
    "c = cdsapi.Client(timeout=300)\n",
    " \n",
    "# Uncomment years as required\n",
    " \n",
    "years =  [\n",
    "            '1979'\n",
    "#           ,'1980', '1981',\n",
    "#            '1982', '1983', '1984',\n",
    "#            '1985', '1986', '1987',\n",
    "#            '1988', '1989', '1990',\n",
    "#            '1991', '1992', '1993',\n",
    "#            '1994', '1995', '1996',\n",
    "#            '1997', '1998', '1999',\n",
    "#            '2000', '2001', '2002',\n",
    "#            '2003', '2004', '2005',\n",
    "#            '2006', '2007', '2008',\n",
    "#            '2009', '2010', '2011',\n",
    "#            '2012', '2013', '2014',\n",
    "#            '2015', '2016', '2017',\n",
    "#            '2018', '2019', '2020',\n",
    "#            '2021'\n",
    "]\n",
    " \n",
    " \n",
    "# Retrieve all months for a given year.\n",
    " \n",
    "months = ['01', '02', '03',\n",
    "            '04', '05', '06',\n",
    "            '07', '08', '09',\n",
    "            '10', '11', '12']\n",
    " \n",
    "# For valid keywords, see Table 2 of:\n",
    "# https://datastore.copernicus-climate.eu/documents/app-c3s-daily-era5-statistics/C3S_Application-Documentation_ERA5-daily-statistics-v2.pdf\n",
    " \n",
    "# select your variable; name must be a valid ERA5 CDS API name.\n",
    "var = \"2m_temperature\"\n",
    " \n",
    "# Select the required statistic, valid names given in link above\n",
    "stat = \"daily_mean\"\n",
    " \n",
    "# Loop over years and months\n",
    " \n",
    "for yr in years:\n",
    "    for mn in months:\n",
    "        result = c.service(\n",
    "        \"tool.toolbox.orchestrator.workflow\",\n",
    "        params={\n",
    "             \"realm\": \"user-apps\",\n",
    "             \"project\": \"app-c3s-daily-era5-statistics\",\n",
    "             \"version\": \"master\",\n",
    "             \"kwargs\": {\n",
    "                 \"dataset\": \"reanalysis-era5-single-levels\",\n",
    "                 \"product_type\": \"reanalysis\",\n",
    "                 \"variable\": var,\n",
    "                 \"statistic\": stat,\n",
    "                 \"year\": yr,\n",
    "                 \"month\": mn,\n",
    "                 \"time_zone\": \"UTC+00:0\",\n",
    "                 \"frequency\": \"1-hourly\",\n",
    "#\n",
    "# Users can change the output grid resolution and selected area\n",
    "#\n",
    "#                \"grid\": \"1.0/1.0\",\n",
    "#                \"area\":{\"lat\": [10, 60], \"lon\": [65, 140]}\n",
    " \n",
    "                 },\n",
    "        \"workflow_name\": \"application\"\n",
    "        })\n",
    "         \n",
    "# set name of output file for each month (statistic, variable, year, month     \n",
    " \n",
    "        file_name = \"download_\" + stat + \"_\" + var + \"_\" + yr + \"_\" + mn + \".nc\"\n",
    "         \n",
    "        location=result[0]['location']\n",
    "        res = requests.get(location, stream = True)\n",
    "        print(\"Writing data to \" + file_name)\n",
    "        with open(file_name,'wb') as fh:\n",
    "            for r in res.iter_content(chunk_size = 1024):\n",
    "                fh.write(r)\n",
    "        fh.close()\n",
    "\n",
    "'''"
   ]
  }
 ],
 "metadata": {
  "kernelspec": {
   "display_name": "tesis-python-3.11",
   "language": "python",
   "name": "tesis-python-3.11"
  },
  "language_info": {
   "codemirror_mode": {
    "name": "ipython",
    "version": 3
   },
   "file_extension": ".py",
   "mimetype": "text/x-python",
   "name": "python",
   "nbconvert_exporter": "python",
   "pygments_lexer": "ipython3",
   "version": "3.11.8"
  }
 },
 "nbformat": 4,
 "nbformat_minor": 5
}
