{
 "cells": [
  {
   "cell_type": "markdown",
   "id": "a39c7b7e-5911-4ef8-aecc-0a380c62937f",
   "metadata": {},
   "source": [
    "## Transformers - Wind Power - PE La Castellana"
   ]
  },
  {
   "cell_type": "code",
   "execution_count": 1,
   "id": "a4237101-6835-41e8-ba71-9ff8071eb7cb",
   "metadata": {},
   "outputs": [],
   "source": [
    "from neuralforecast import NeuralForecast\n",
    "#from itransformer import iTransformer\n",
    "from neuralforecast.models import NHITS, PatchTST, iTransformer, TSMixer\n",
    "from utilsforecast.losses import mae, mse\n",
    "from utilsforecast.evaluation import evaluate\n",
    "\n",
    "import pandas as pd\n",
    "import numpy as np\n",
    "import matplotlib.pyplot as plt"
   ]
  },
  {
   "cell_type": "code",
   "execution_count": 2,
   "id": "a633810a-f975-4d97-b68c-d85348f45b9f",
   "metadata": {},
   "outputs": [],
   "source": [
    "#path = 'https://raw.githubusercontent.com/guilledesimone/MMA/main/df_clean_ba.csv'\n",
    "path = 'D:\\\\Documents\\\\MMA\\\\1.0 Tesis\\\\Datos\\\\df_clean_ba2804.csv'\n",
    "\n",
    "data_types = {                \n",
    "    'AerosDisp': float\n",
    "    ,'VelViento': float\n",
    "    ,'DirViento': float\n",
    "    ,'TempAmb': float\n",
    "    ,'HumedadRel': float\n",
    "    ,'PresionAtm': float\n",
    "    ,'EnergiaSMEC': float\n",
    "    ,'wspd_ms': float\n",
    "    ,'wdir': float\n",
    "    ,'temp': float\n",
    "    ,'pres': float\n",
    "    ,'wspd_rlm': float\n",
    "    ,'wspd_lstm': float\n",
    "}\n",
    "\n",
    "\n",
    "df = pd.read_csv(path, dtype=data_types, decimal=',', parse_dates=['FechaHora'], \n",
    "                 date_format='%Y-%m-%d %H:%M:%S', delimiter=';', header=0)"
   ]
  },
  {
   "cell_type": "markdown",
   "id": "9b95813b-7e59-4f1d-9ab2-0f5029bd8748",
   "metadata": {},
   "source": [
    "#### Separamos datos historicos y de Forecast"
   ]
  },
  {
   "cell_type": "code",
   "execution_count": 3,
   "id": "3654f9b9-8cc8-438b-a7e3-39ccd734ba64",
   "metadata": {},
   "outputs": [],
   "source": [
    "# Create df_forecast by filtering the subset where EnergiaSMEC is null and selecting specified variables\n",
    "df_forecast_exog = df[df['EnergiaSMEC'].isnull()][['FechaHora','AerosDisp','wspd_lstm','wdir','temp','pres','rhum']]\n",
    "\n",
    "# set index 'FechaHora'\n",
    "#df_forecast_exog.set_index('FechaHora', inplace=True)"
   ]
  },
  {
   "cell_type": "code",
   "execution_count": 4,
   "id": "2d5f50cf-dd4a-470b-b886-67a9257d6ea9",
   "metadata": {},
   "outputs": [
    {
     "data": {
      "text/html": [
       "<div>\n",
       "<style scoped>\n",
       "    .dataframe tbody tr th:only-of-type {\n",
       "        vertical-align: middle;\n",
       "    }\n",
       "\n",
       "    .dataframe tbody tr th {\n",
       "        vertical-align: top;\n",
       "    }\n",
       "\n",
       "    .dataframe thead th {\n",
       "        text-align: right;\n",
       "    }\n",
       "</style>\n",
       "<table border=\"1\" class=\"dataframe\">\n",
       "  <thead>\n",
       "    <tr style=\"text-align: right;\">\n",
       "      <th></th>\n",
       "      <th>FechaHora</th>\n",
       "      <th>AerosDisp</th>\n",
       "      <th>wspd_lstm</th>\n",
       "      <th>wdir</th>\n",
       "      <th>temp</th>\n",
       "      <th>pres</th>\n",
       "      <th>rhum</th>\n",
       "    </tr>\n",
       "  </thead>\n",
       "  <tbody>\n",
       "    <tr>\n",
       "      <th>46644</th>\n",
       "      <td>2024-04-28 09:00:00</td>\n",
       "      <td>29.69</td>\n",
       "      <td>9.57</td>\n",
       "      <td>308.0</td>\n",
       "      <td>9.2</td>\n",
       "      <td>1010.3</td>\n",
       "      <td>59.0</td>\n",
       "    </tr>\n",
       "    <tr>\n",
       "      <th>46645</th>\n",
       "      <td>2024-04-28 10:00:00</td>\n",
       "      <td>29.69</td>\n",
       "      <td>9.43</td>\n",
       "      <td>301.0</td>\n",
       "      <td>11.1</td>\n",
       "      <td>1010.1</td>\n",
       "      <td>53.0</td>\n",
       "    </tr>\n",
       "    <tr>\n",
       "      <th>46646</th>\n",
       "      <td>2024-04-28 11:00:00</td>\n",
       "      <td>29.69</td>\n",
       "      <td>9.30</td>\n",
       "      <td>294.0</td>\n",
       "      <td>13.0</td>\n",
       "      <td>1009.8</td>\n",
       "      <td>48.0</td>\n",
       "    </tr>\n",
       "    <tr>\n",
       "      <th>46647</th>\n",
       "      <td>2024-04-28 12:00:00</td>\n",
       "      <td>29.69</td>\n",
       "      <td>9.10</td>\n",
       "      <td>287.0</td>\n",
       "      <td>14.5</td>\n",
       "      <td>1009.4</td>\n",
       "      <td>43.0</td>\n",
       "    </tr>\n",
       "    <tr>\n",
       "      <th>46648</th>\n",
       "      <td>2024-04-28 13:00:00</td>\n",
       "      <td>29.69</td>\n",
       "      <td>8.92</td>\n",
       "      <td>288.0</td>\n",
       "      <td>16.2</td>\n",
       "      <td>1008.6</td>\n",
       "      <td>38.0</td>\n",
       "    </tr>\n",
       "  </tbody>\n",
       "</table>\n",
       "</div>"
      ],
      "text/plain": [
       "                FechaHora  AerosDisp  wspd_lstm   wdir  temp    pres  rhum\n",
       "46644 2024-04-28 09:00:00      29.69       9.57  308.0   9.2  1010.3  59.0\n",
       "46645 2024-04-28 10:00:00      29.69       9.43  301.0  11.1  1010.1  53.0\n",
       "46646 2024-04-28 11:00:00      29.69       9.30  294.0  13.0  1009.8  48.0\n",
       "46647 2024-04-28 12:00:00      29.69       9.10  287.0  14.5  1009.4  43.0\n",
       "46648 2024-04-28 13:00:00      29.69       8.92  288.0  16.2  1008.6  38.0"
      ]
     },
     "execution_count": 4,
     "metadata": {},
     "output_type": "execute_result"
    }
   ],
   "source": [
    "#El forecast de AerosDisp lo estimo en base al valor medio de las últimas 12 horas\n",
    "\n",
    "# Filter the subset where AerosDisp is not null\n",
    "filtered_df = df.dropna(subset=['AerosDisp'])\n",
    "\n",
    "# Calculate the mean of AerosDisp foAerosDispr\n",
    "mean_aeros_disp = filtered_df.tail(12)['AerosDisp'].mean()\n",
    "\n",
    "df_forecast_exog['AerosDisp'] = mean_aeros_disp.round(2)\n",
    "df_forecast_exog.head()"
   ]
  },
  {
   "cell_type": "markdown",
   "id": "78186313-ff2f-484a-9108-e103cf04bf8c",
   "metadata": {},
   "source": [
    "Se limpian valores historicos"
   ]
  },
  {
   "cell_type": "code",
   "execution_count": 5,
   "id": "9ef686cc-4747-4cc6-a5f4-67cacd2a6b43",
   "metadata": {},
   "outputs": [],
   "source": [
    "df=df.dropna(subset=['EnergiaSMEC', 'wspd_lstm'])"
   ]
  },
  {
   "cell_type": "code",
   "execution_count": 6,
   "id": "1fde3ee9-e158-477b-9d4d-382b64c903ce",
   "metadata": {},
   "outputs": [],
   "source": [
    "df['FechaHora'] = pd.to_datetime(df['FechaHora'])\n",
    "df.set_index('FechaHora', inplace=True)\n",
    "\n",
    "# Define horizon and frequency\n",
    "horizon = 6  # Assuming we want to forecast one step ahead\n",
    "freq = 'H'\n",
    "\n",
    "# Add the new column 'unique_id' with values [1.0]*len(df)\n",
    "df['unique_id'] = [1.0] * len(df)\n",
    "\n",
    "# Define input and target variables\n",
    "X = df[['AerosDisp', 'wspd_lstm', 'wdir', 'temp', 'pres', 'rhum']].values\n",
    "y = df['EnergiaSMEC'].values"
   ]
  },
  {
   "cell_type": "code",
   "execution_count": 7,
   "id": "90cd846c-4b99-4938-8b3c-a5c534618f9d",
   "metadata": {},
   "outputs": [
    {
     "name": "stderr",
     "output_type": "stream",
     "text": [
      "C:\\Users\\gdesimone\\AppData\\Local\\anaconda3\\envs\\tesis-python-3.11\\Lib\\site-packages\\pytorch_lightning\\utilities\\parsing.py:199: Attribute 'loss' is an instance of `nn.Module` and is already saved during checkpointing. It is recommended to ignore them using `self.save_hyperparameters(ignore=['loss'])`.\n",
      "Seed set to 1\n",
      "Seed set to 1\n",
      "Seed set to 1\n",
      "Seed set to 1\n"
     ]
    }
   ],
   "source": [
    "# Define the iTransformer model\n",
    "models = [\n",
    "    iTransformer(h=horizon, input_size=3*horizon + X.shape[1], n_series=1, max_steps=1000, early_stop_patience_steps=3),\n",
    "    TSMixer(h=horizon, input_size=3*horizon + X.shape[1], n_series=1, max_steps=1000, early_stop_patience_steps=3),\n",
    "    NHITS(h=horizon, input_size=3*horizon + X.shape[1], max_steps=1000, early_stop_patience_steps=3),\n",
    "    PatchTST(h=horizon, input_size=3*horizon + X.shape[1], max_steps=1000, early_stop_patience_steps=3)\n",
    "]"
   ]
  },
  {
   "cell_type": "code",
   "execution_count": 8,
   "id": "8296903c-ad99-45ac-81ab-feba8350063d",
   "metadata": {},
   "outputs": [],
   "source": [
    "# Initialize NeuralForecast\n",
    "nf = NeuralForecast(models=models, freq=freq)"
   ]
  },
  {
   "cell_type": "code",
   "execution_count": 9,
   "id": "950a1f14-a284-4f9d-ba71-387ff8d38ae6",
   "metadata": {},
   "outputs": [
    {
     "name": "stderr",
     "output_type": "stream",
     "text": [
      "GPU available: False, used: False\n",
      "TPU available: False, using: 0 TPU cores\n",
      "IPU available: False, using: 0 IPUs\n",
      "HPU available: False, using: 0 HPUs\n",
      "\n",
      "  | Name          | Type                   | Params\n",
      "---------------------------------------------------------\n",
      "0 | loss          | MAE                    | 0     \n",
      "1 | padder        | ConstantPad1d          | 0     \n",
      "2 | scaler        | TemporalNorm           | 0     \n",
      "3 | enc_embedding | DataEmbedding_inverted | 12.8 K\n",
      "4 | encoder       | TransEncoder           | 6.3 M \n",
      "5 | projector     | Linear                 | 3.1 K \n",
      "---------------------------------------------------------\n",
      "6.3 M     Trainable params\n",
      "0         Non-trainable params\n",
      "6.3 M     Total params\n",
      "25.287    Total estimated model params size (MB)\n"
     ]
    },
    {
     "name": "stdout",
     "output_type": "stream",
     "text": [
      "Sanity Checking DataLoader 0:   0%|                                                              | 0/1 [00:00<?, ?it/s]"
     ]
    },
    {
     "name": "stderr",
     "output_type": "stream",
     "text": [
      "C:\\Users\\gdesimone\\AppData\\Local\\anaconda3\\envs\\tesis-python-3.11\\Lib\\site-packages\\pytorch_lightning\\trainer\\connectors\\data_connector.py:441: The 'val_dataloader' does not have many workers which may be a bottleneck. Consider increasing the value of the `num_workers` argument` to `num_workers=11` in the `DataLoader` to improve performance.\n"
     ]
    },
    {
     "name": "stdout",
     "output_type": "stream",
     "text": [
      "                                                                                                                       "
     ]
    },
    {
     "name": "stderr",
     "output_type": "stream",
     "text": [
      "C:\\Users\\gdesimone\\AppData\\Local\\anaconda3\\envs\\tesis-python-3.11\\Lib\\site-packages\\pytorch_lightning\\utilities\\data.py:77: Trying to infer the `batch_size` from an ambiguous collection. The batch size we found is 1. To avoid any miscalculations, use `self.log(..., batch_size=batch_size)`.\n",
      "C:\\Users\\gdesimone\\AppData\\Local\\anaconda3\\envs\\tesis-python-3.11\\Lib\\site-packages\\pytorch_lightning\\trainer\\connectors\\data_connector.py:441: The 'train_dataloader' does not have many workers which may be a bottleneck. Consider increasing the value of the `num_workers` argument` to `num_workers=11` in the `DataLoader` to improve performance.\n",
      "C:\\Users\\gdesimone\\AppData\\Local\\anaconda3\\envs\\tesis-python-3.11\\Lib\\site-packages\\pytorch_lightning\\loops\\fit_loop.py:298: The number of training batches (1) is smaller than the logging interval Trainer(log_every_n_steps=50). Set a lower value for log_every_n_steps if you want to see logs for the training epoch.\n"
     ]
    },
    {
     "name": "stdout",
     "output_type": "stream",
     "text": [
      "Epoch 99: 100%|█████████████████| 1/1 [00:00<00:00, 11.17it/s, v_num=35, train_loss_step=17.40, train_loss_epoch=25.20]\n",
      "Validation: |                                                                                    | 0/? [00:00<?, ?it/s]\u001b[A\n",
      "Validation:   0%|                                                                                | 0/1 [00:00<?, ?it/s]\u001b[A\n",
      "Validation DataLoader 0:   0%|                                                                   | 0/1 [00:00<?, ?it/s]\u001b[A\n",
      "Validation DataLoader 0: 100%|███████████████████████████████████████████████████████████| 1/1 [00:00<00:00,  1.31it/s]\u001b[A\n",
      "Epoch 199: 100%|█| 1/1 [00:00<00:00,  9.77it/s, v_num=35, train_loss_step=22.10, train_loss_epoch=24.30, valid_loss=20.\u001b[A\n",
      "Validation: |                                                                                    | 0/? [00:00<?, ?it/s]\u001b[A\n",
      "Validation:   0%|                                                                                | 0/1 [00:00<?, ?it/s]\u001b[A\n",
      "Validation DataLoader 0:   0%|                                                                   | 0/1 [00:00<?, ?it/s]\u001b[A\n",
      "Validation DataLoader 0: 100%|███████████████████████████████████████████████████████████| 1/1 [00:00<00:00,  1.30it/s]\u001b[A\n",
      "Epoch 299: 100%|█| 1/1 [00:00<00:00, 10.86it/s, v_num=35, train_loss_step=17.70, train_loss_epoch=19.40, valid_loss=21.\u001b[A\n",
      "Validation: |                                                                                    | 0/? [00:00<?, ?it/s]\u001b[A\n",
      "Validation:   0%|                                                                                | 0/1 [00:00<?, ?it/s]\u001b[A\n",
      "Validation DataLoader 0:   0%|                                                                   | 0/1 [00:00<?, ?it/s]\u001b[A\n",
      "Validation DataLoader 0: 100%|███████████████████████████████████████████████████████████| 1/1 [00:00<00:00,  1.37it/s]\u001b[A\n",
      "Epoch 399: 100%|█| 1/1 [00:00<00:00,  9.96it/s, v_num=35, train_loss_step=17.90, train_loss_epoch=21.10, valid_loss=19.\u001b[A\n",
      "Validation: |                                                                                    | 0/? [00:00<?, ?it/s]\u001b[A\n",
      "Validation:   0%|                                                                                | 0/1 [00:00<?, ?it/s]\u001b[A\n",
      "Validation DataLoader 0:   0%|                                                                   | 0/1 [00:00<?, ?it/s]\u001b[A\n",
      "Validation DataLoader 0: 100%|███████████████████████████████████████████████████████████| 1/1 [00:00<00:00,  1.30it/s]\u001b[A\n",
      "Epoch 499: 100%|█| 1/1 [00:00<00:00,  9.85it/s, v_num=35, train_loss_step=19.60, train_loss_epoch=24.10, valid_loss=19.\u001b[A\n",
      "Validation: |                                                                                    | 0/? [00:00<?, ?it/s]\u001b[A\n",
      "Validation:   0%|                                                                                | 0/1 [00:00<?, ?it/s]\u001b[A\n",
      "Validation DataLoader 0:   0%|                                                                   | 0/1 [00:00<?, ?it/s]\u001b[A\n",
      "Validation DataLoader 0: 100%|███████████████████████████████████████████████████████████| 1/1 [00:00<00:00,  1.31it/s]\u001b[A\n",
      "Epoch 599: 100%|█| 1/1 [00:00<00:00,  9.63it/s, v_num=35, train_loss_step=18.00, train_loss_epoch=18.60, valid_loss=18.\u001b[A\n",
      "Validation: |                                                                                    | 0/? [00:00<?, ?it/s]\u001b[A\n",
      "Validation:   0%|                                                                                | 0/1 [00:00<?, ?it/s]\u001b[A\n",
      "Validation DataLoader 0:   0%|                                                                   | 0/1 [00:00<?, ?it/s]\u001b[A\n",
      "Validation DataLoader 0: 100%|███████████████████████████████████████████████████████████| 1/1 [00:00<00:00,  1.16it/s]\u001b[A\n",
      "Epoch 699: 100%|█| 1/1 [00:00<00:00,  9.51it/s, v_num=35, train_loss_step=17.40, train_loss_epoch=19.10, valid_loss=18.\u001b[A\n",
      "Validation: |                                                                                    | 0/? [00:00<?, ?it/s]\u001b[A\n",
      "Validation:   0%|                                                                                | 0/1 [00:00<?, ?it/s]\u001b[A\n",
      "Validation DataLoader 0:   0%|                                                                   | 0/1 [00:00<?, ?it/s]\u001b[A\n",
      "Validation DataLoader 0: 100%|███████████████████████████████████████████████████████████| 1/1 [00:00<00:00,  1.21it/s]\u001b[A\n",
      "Epoch 799: 100%|█| 1/1 [00:00<00:00,  9.60it/s, v_num=35, train_loss_step=18.60, train_loss_epoch=22.60, valid_loss=18.\u001b[A\n",
      "Validation: |                                                                                    | 0/? [00:00<?, ?it/s]\u001b[A\n",
      "Validation:   0%|                                                                                | 0/1 [00:00<?, ?it/s]\u001b[A\n",
      "Validation DataLoader 0:   0%|                                                                   | 0/1 [00:00<?, ?it/s]\u001b[A\n",
      "Validation DataLoader 0: 100%|███████████████████████████████████████████████████████████| 1/1 [00:00<00:00,  1.23it/s]\u001b[A\n",
      "Epoch 899: 100%|█| 1/1 [00:00<00:00,  9.42it/s, v_num=35, train_loss_step=20.20, train_loss_epoch=16.20, valid_loss=18.\u001b[A\n",
      "Validation: |                                                                                    | 0/? [00:00<?, ?it/s]\u001b[A\n",
      "Validation:   0%|                                                                                | 0/1 [00:00<?, ?it/s]\u001b[A\n",
      "Validation DataLoader 0:   0%|                                                                   | 0/1 [00:00<?, ?it/s]\u001b[A\n",
      "Validation DataLoader 0: 100%|███████████████████████████████████████████████████████████| 1/1 [00:00<00:00,  1.16it/s]\u001b[A\n",
      "Epoch 999: 100%|█| 1/1 [00:00<00:00,  9.16it/s, v_num=35, train_loss_step=20.40, train_loss_epoch=15.40, valid_loss=17.\u001b[A\n",
      "Validation: |                                                                                    | 0/? [00:00<?, ?it/s]\u001b[A\n",
      "Validation:   0%|                                                                                | 0/1 [00:00<?, ?it/s]\u001b[A\n",
      "Validation DataLoader 0:   0%|                                                                   | 0/1 [00:00<?, ?it/s]\u001b[A\n",
      "Validation DataLoader 0: 100%|███████████████████████████████████████████████████████████| 1/1 [00:00<00:00,  1.16it/s]\u001b[A\n",
      "Epoch 999: 100%|█| 1/1 [00:01<00:00,  0.94it/s, v_num=35, train_loss_step=20.40, train_loss_epoch=20.40, valid_loss=18.\u001b[A"
     ]
    },
    {
     "name": "stderr",
     "output_type": "stream",
     "text": [
      "`Trainer.fit` stopped: `max_steps=1000` reached.\n"
     ]
    },
    {
     "name": "stdout",
     "output_type": "stream",
     "text": [
      "Epoch 999: 100%|█| 1/1 [00:01<00:00,  0.93it/s, v_num=35, train_loss_step=20.40, train_loss_epoch=20.40, valid_loss=18."
     ]
    },
    {
     "name": "stderr",
     "output_type": "stream",
     "text": [
      "Trainer already configured with model summary callbacks: [<class 'pytorch_lightning.callbacks.model_summary.ModelSummary'>]. Skipping setting a default `ModelSummary` callback.\n",
      "GPU available: False, used: False\n",
      "TPU available: False, using: 0 TPU cores\n",
      "IPU available: False, using: 0 IPUs\n",
      "HPU available: False, using: 0 HPUs\n"
     ]
    },
    {
     "name": "stdout",
     "output_type": "stream",
     "text": [
      "\n"
     ]
    },
    {
     "name": "stderr",
     "output_type": "stream",
     "text": [
      "C:\\Users\\gdesimone\\AppData\\Local\\anaconda3\\envs\\tesis-python-3.11\\Lib\\site-packages\\pytorch_lightning\\trainer\\connectors\\data_connector.py:441: The 'predict_dataloader' does not have many workers which may be a bottleneck. Consider increasing the value of the `num_workers` argument` to `num_workers=11` in the `DataLoader` to improve performance.\n"
     ]
    },
    {
     "name": "stdout",
     "output_type": "stream",
     "text": [
      "Predicting DataLoader 0: 100%|███████████████████████████████████████████████████████████| 1/1 [00:00<00:00,  1.23it/s]"
     ]
    },
    {
     "name": "stderr",
     "output_type": "stream",
     "text": [
      "GPU available: False, used: False\n",
      "TPU available: False, using: 0 TPU cores\n",
      "IPU available: False, using: 0 IPUs\n",
      "HPU available: False, using: 0 HPUs\n",
      "\n",
      "  | Name          | Type                     | Params\n",
      "-----------------------------------------------------------\n",
      "0 | loss          | MAE                      | 0     \n",
      "1 | padder        | ConstantPad1d            | 0     \n",
      "2 | scaler        | TemporalNorm             | 0     \n",
      "3 | norm          | ReversibleInstanceNorm1d | 2     \n",
      "4 | mixing_layers | Sequential               | 1.8 K \n",
      "5 | out           | Linear                   | 150   \n",
      "-----------------------------------------------------------\n",
      "1.9 K     Trainable params\n",
      "0         Non-trainable params\n",
      "1.9 K     Total params\n",
      "0.008     Total estimated model params size (MB)\n"
     ]
    },
    {
     "name": "stdout",
     "output_type": "stream",
     "text": [
      "\n",
      "Epoch 99: 100%|█████████████████| 1/1 [00:00<00:00, 22.22it/s, v_num=37, train_loss_step=26.30, train_loss_epoch=35.60]\n",
      "Validation: |                                                                                    | 0/? [00:00<?, ?it/s]\u001b[A\n",
      "Validation:   0%|                                                                                | 0/1 [00:00<?, ?it/s]\u001b[A\n",
      "Validation DataLoader 0:   0%|                                                                   | 0/1 [00:00<?, ?it/s]\u001b[A\n",
      "Validation DataLoader 0: 100%|███████████████████████████████████████████████████████████| 1/1 [00:00<00:00, 14.71it/s]\u001b[A\n",
      "Epoch 199: 100%|█| 1/1 [00:00<00:00, 21.65it/s, v_num=37, train_loss_step=28.00, train_loss_epoch=25.00, valid_loss=26.\u001b[A\n",
      "Validation: |                                                                                    | 0/? [00:00<?, ?it/s]\u001b[A\n",
      "Validation:   0%|                                                                                | 0/1 [00:00<?, ?it/s]\u001b[A\n",
      "Validation DataLoader 0:   0%|                                                                   | 0/1 [00:00<?, ?it/s]\u001b[A\n",
      "Validation DataLoader 0: 100%|███████████████████████████████████████████████████████████| 1/1 [00:00<00:00, 14.09it/s]\u001b[A\n",
      "Epoch 299: 100%|█| 1/1 [00:00<00:00, 19.87it/s, v_num=37, train_loss_step=19.30, train_loss_epoch=21.50, valid_loss=23.\u001b[A\n",
      "Validation: |                                                                                    | 0/? [00:00<?, ?it/s]\u001b[A\n",
      "Validation:   0%|                                                                                | 0/1 [00:00<?, ?it/s]\u001b[A\n",
      "Validation DataLoader 0:   0%|                                                                   | 0/1 [00:00<?, ?it/s]\u001b[A\n",
      "Validation DataLoader 0: 100%|███████████████████████████████████████████████████████████| 1/1 [00:00<00:00, 13.58it/s]\u001b[A\n",
      "Epoch 399: 100%|█| 1/1 [00:00<00:00, 21.28it/s, v_num=37, train_loss_step=20.10, train_loss_epoch=24.30, valid_loss=21.\u001b[A\n",
      "Validation: |                                                                                    | 0/? [00:00<?, ?it/s]\u001b[A\n",
      "Validation:   0%|                                                                                | 0/1 [00:00<?, ?it/s]\u001b[A\n",
      "Validation DataLoader 0:   0%|                                                                   | 0/1 [00:00<?, ?it/s]\u001b[A\n",
      "Validation DataLoader 0: 100%|███████████████████████████████████████████████████████████| 1/1 [00:00<00:00, 14.49it/s]\u001b[A\n",
      "Epoch 499: 100%|█| 1/1 [00:00<00:00, 19.85it/s, v_num=37, train_loss_step=21.50, train_loss_epoch=22.90, valid_loss=20.\u001b[A\n",
      "Validation: |                                                                                    | 0/? [00:00<?, ?it/s]\u001b[A\n",
      "Validation:   0%|                                                                                | 0/1 [00:00<?, ?it/s]\u001b[A\n",
      "Validation DataLoader 0:   0%|                                                                   | 0/1 [00:00<?, ?it/s]\u001b[A\n",
      "Validation DataLoader 0: 100%|███████████████████████████████████████████████████████████| 1/1 [00:00<00:00, 14.15it/s]\u001b[A\n",
      "Epoch 599: 100%|█| 1/1 [00:00<00:00, 21.68it/s, v_num=37, train_loss_step=18.60, train_loss_epoch=19.40, valid_loss=19.\u001b[A\n",
      "Validation: |                                                                                    | 0/? [00:00<?, ?it/s]\u001b[A\n",
      "Validation:   0%|                                                                                | 0/1 [00:00<?, ?it/s]\u001b[A\n",
      "Validation DataLoader 0:   0%|                                                                   | 0/1 [00:00<?, ?it/s]\u001b[A\n",
      "Validation DataLoader 0: 100%|███████████████████████████████████████████████████████████| 1/1 [00:00<00:00, 14.04it/s]\u001b[A\n",
      "Epoch 699: 100%|█| 1/1 [00:00<00:00, 20.78it/s, v_num=37, train_loss_step=18.10, train_loss_epoch=18.20, valid_loss=19.\u001b[A\n",
      "Validation: |                                                                                    | 0/? [00:00<?, ?it/s]\u001b[A\n",
      "Validation:   0%|                                                                                | 0/1 [00:00<?, ?it/s]\u001b[A\n",
      "Validation DataLoader 0:   0%|                                                                   | 0/1 [00:00<?, ?it/s]\u001b[A\n",
      "Validation DataLoader 0: 100%|███████████████████████████████████████████████████████████| 1/1 [00:00<00:00, 14.54it/s]\u001b[A\n",
      "Epoch 799: 100%|█| 1/1 [00:00<00:00, 20.10it/s, v_num=37, train_loss_step=20.60, train_loss_epoch=25.10, valid_loss=18.\u001b[A\n",
      "Validation: |                                                                                    | 0/? [00:00<?, ?it/s]\u001b[A\n",
      "Validation:   0%|                                                                                | 0/1 [00:00<?, ?it/s]\u001b[A\n",
      "Validation DataLoader 0:   0%|                                                                   | 0/1 [00:00<?, ?it/s]\u001b[A\n",
      "Validation DataLoader 0: 100%|███████████████████████████████████████████████████████████| 1/1 [00:00<00:00, 14.51it/s]\u001b[A\n",
      "Epoch 899: 100%|█| 1/1 [00:00<00:00, 21.49it/s, v_num=37, train_loss_step=21.10, train_loss_epoch=15.60, valid_loss=18.\u001b[A\n",
      "Validation: |                                                                                    | 0/? [00:00<?, ?it/s]\u001b[A\n",
      "Validation:   0%|                                                                                | 0/1 [00:00<?, ?it/s]\u001b[A\n",
      "Validation DataLoader 0:   0%|                                                                   | 0/1 [00:00<?, ?it/s]\u001b[A\n",
      "Validation DataLoader 0: 100%|███████████████████████████████████████████████████████████| 1/1 [00:00<00:00, 14.57it/s]\u001b[A\n",
      "Epoch 999: 100%|█| 1/1 [00:00<00:00, 21.02it/s, v_num=37, train_loss_step=20.70, train_loss_epoch=13.80, valid_loss=18.\u001b[A\n",
      "Validation: |                                                                                    | 0/? [00:00<?, ?it/s]\u001b[A\n",
      "Validation:   0%|                                                                                | 0/1 [00:00<?, ?it/s]\u001b[A\n",
      "Validation DataLoader 0:   0%|                                                                   | 0/1 [00:00<?, ?it/s]\u001b[A\n",
      "Validation DataLoader 0: 100%|███████████████████████████████████████████████████████████| 1/1 [00:00<00:00, 14.24it/s]\u001b[A\n",
      "Epoch 999: 100%|█| 1/1 [00:00<00:00,  4.75it/s, v_num=37, train_loss_step=20.70, train_loss_epoch=20.70, valid_loss=17.\u001b[A"
     ]
    },
    {
     "name": "stderr",
     "output_type": "stream",
     "text": [
      "`Trainer.fit` stopped: `max_steps=1000` reached.\n"
     ]
    },
    {
     "name": "stdout",
     "output_type": "stream",
     "text": [
      "Epoch 999: 100%|█| 1/1 [00:00<00:00,  4.47it/s, v_num=37, train_loss_step=20.70, train_loss_epoch=20.70, valid_loss=17.\n"
     ]
    },
    {
     "name": "stderr",
     "output_type": "stream",
     "text": [
      "Trainer already configured with model summary callbacks: [<class 'pytorch_lightning.callbacks.model_summary.ModelSummary'>]. Skipping setting a default `ModelSummary` callback.\n",
      "GPU available: False, used: False\n",
      "TPU available: False, using: 0 TPU cores\n",
      "IPU available: False, using: 0 IPUs\n",
      "HPU available: False, using: 0 HPUs\n"
     ]
    },
    {
     "name": "stdout",
     "output_type": "stream",
     "text": [
      "Predicting DataLoader 0: 100%|███████████████████████████████████████████████████████████| 1/1 [00:00<00:00, 26.55it/s]"
     ]
    },
    {
     "name": "stderr",
     "output_type": "stream",
     "text": [
      "GPU available: False, used: False\n",
      "TPU available: False, using: 0 TPU cores\n",
      "IPU available: False, using: 0 IPUs\n"
     ]
    },
    {
     "name": "stdout",
     "output_type": "stream",
     "text": [
      "\n"
     ]
    },
    {
     "name": "stderr",
     "output_type": "stream",
     "text": [
      "HPU available: False, using: 0 HPUs\n",
      "\n",
      "  | Name         | Type          | Params\n",
      "-----------------------------------------------\n",
      "0 | loss         | MAE           | 0     \n",
      "1 | padder_train | ConstantPad1d | 0     \n",
      "2 | scaler       | TemporalNorm  | 0     \n",
      "3 | blocks       | ModuleList    | 2.4 M \n",
      "-----------------------------------------------\n",
      "2.4 M     Trainable params\n",
      "0         Non-trainable params\n",
      "2.4 M     Total params\n",
      "9.728     Total estimated model params size (MB)\n"
     ]
    },
    {
     "name": "stdout",
     "output_type": "stream",
     "text": [
      "Epoch 99: 100%|█████████████████| 1/1 [00:00<00:00,  6.57it/s, v_num=39, train_loss_step=17.00, train_loss_epoch=17.30]\n",
      "Validation: |                                                                                    | 0/? [00:00<?, ?it/s]\u001b[A\n",
      "Validation:   0%|                                                                                | 0/1 [00:00<?, ?it/s]\u001b[A\n",
      "Validation DataLoader 0:   0%|                                                                   | 0/1 [00:00<?, ?it/s]\u001b[A\n",
      "Validation DataLoader 0: 100%|███████████████████████████████████████████████████████████| 1/1 [00:00<00:00,  4.99it/s]\u001b[A\n",
      "Epoch 199: 100%|█| 1/1 [00:00<00:00,  5.95it/s, v_num=39, train_loss_step=17.30, train_loss_epoch=17.10, valid_loss=16.\u001b[A\n",
      "Validation: |                                                                                    | 0/? [00:00<?, ?it/s]\u001b[A\n",
      "Validation:   0%|                                                                                | 0/1 [00:00<?, ?it/s]\u001b[A\n",
      "Validation DataLoader 0:   0%|                                                                   | 0/1 [00:00<?, ?it/s]\u001b[A\n",
      "Validation DataLoader 0: 100%|███████████████████████████████████████████████████████████| 1/1 [00:00<00:00,  5.16it/s]\u001b[A\n",
      "Epoch 299: 100%|█| 1/1 [00:00<00:00,  5.90it/s, v_num=39, train_loss_step=16.70, train_loss_epoch=17.20, valid_loss=16.\u001b[A\n",
      "Validation: |                                                                                    | 0/? [00:00<?, ?it/s]\u001b[A\n",
      "Validation:   0%|                                                                                | 0/1 [00:00<?, ?it/s]\u001b[A\n",
      "Validation DataLoader 0:   0%|                                                                   | 0/1 [00:00<?, ?it/s]\u001b[A\n",
      "Validation DataLoader 0: 100%|███████████████████████████████████████████████████████████| 1/1 [00:00<00:00,  4.90it/s]\u001b[A\n",
      "Epoch 399: 100%|█| 1/1 [00:00<00:00,  5.77it/s, v_num=39, train_loss_step=16.20, train_loss_epoch=17.20, valid_loss=16.\u001b[A\n",
      "Validation: |                                                                                    | 0/? [00:00<?, ?it/s]\u001b[A\n",
      "Validation:   0%|                                                                                | 0/1 [00:00<?, ?it/s]\u001b[A\n",
      "Validation DataLoader 0:   0%|                                                                   | 0/1 [00:00<?, ?it/s]\u001b[A\n",
      "Validation DataLoader 0: 100%|███████████████████████████████████████████████████████████| 1/1 [00:00<00:00,  4.93it/s]\u001b[A\n",
      "Epoch 499: 100%|█| 1/1 [00:00<00:00,  5.91it/s, v_num=39, train_loss_step=15.90, train_loss_epoch=17.00, valid_loss=16.\u001b[A\n",
      "Validation: |                                                                                    | 0/? [00:00<?, ?it/s]\u001b[A\n",
      "Validation:   0%|                                                                                | 0/1 [00:00<?, ?it/s]\u001b[A\n",
      "Validation DataLoader 0:   0%|                                                                   | 0/1 [00:00<?, ?it/s]\u001b[A\n",
      "Validation DataLoader 0: 100%|███████████████████████████████████████████████████████████| 1/1 [00:00<00:00,  4.97it/s]\u001b[A\n",
      "Epoch 599: 100%|█| 1/1 [00:00<00:00,  5.81it/s, v_num=39, train_loss_step=17.10, train_loss_epoch=16.70, valid_loss=16.\u001b[A\n",
      "Validation: |                                                                                    | 0/? [00:00<?, ?it/s]\u001b[A\n",
      "Validation:   0%|                                                                                | 0/1 [00:00<?, ?it/s]\u001b[A\n",
      "Validation DataLoader 0:   0%|                                                                   | 0/1 [00:00<?, ?it/s]\u001b[A\n",
      "Validation DataLoader 0: 100%|███████████████████████████████████████████████████████████| 1/1 [00:00<00:00,  4.93it/s]\u001b[A\n",
      "Epoch 599: 100%|█| 1/1 [00:00<00:00,  2.07it/s, v_num=39, train_loss_step=17.10, train_loss_epoch=17.10, valid_loss=16.\u001b[A"
     ]
    },
    {
     "name": "stderr",
     "output_type": "stream",
     "text": [
      "Trainer already configured with model summary callbacks: [<class 'pytorch_lightning.callbacks.model_summary.ModelSummary'>]. Skipping setting a default `ModelSummary` callback.\n",
      "GPU available: False, used: False\n"
     ]
    },
    {
     "name": "stdout",
     "output_type": "stream",
     "text": [
      "\n"
     ]
    },
    {
     "name": "stderr",
     "output_type": "stream",
     "text": [
      "TPU available: False, using: 0 TPU cores\n",
      "IPU available: False, using: 0 IPUs\n",
      "HPU available: False, using: 0 HPUs\n"
     ]
    },
    {
     "name": "stdout",
     "output_type": "stream",
     "text": [
      "Predicting DataLoader 0: 100%|███████████████████████████████████████████████████████████| 1/1 [00:00<00:00,  6.10it/s]\n"
     ]
    },
    {
     "name": "stderr",
     "output_type": "stream",
     "text": [
      "GPU available: False, used: False\n",
      "TPU available: False, using: 0 TPU cores\n",
      "IPU available: False, using: 0 IPUs\n",
      "HPU available: False, using: 0 HPUs\n",
      "\n",
      "  | Name         | Type              | Params\n",
      "---------------------------------------------------\n",
      "0 | loss         | MAE               | 0     \n",
      "1 | padder_train | ConstantPad1d     | 0     \n",
      "2 | scaler       | TemporalNorm      | 0     \n",
      "3 | model        | PatchTST_backbone | 402 K \n",
      "---------------------------------------------------\n",
      "402 K     Trainable params\n",
      "3         Non-trainable params\n",
      "402 K     Total params\n",
      "1.609     Total estimated model params size (MB)\n"
     ]
    },
    {
     "name": "stdout",
     "output_type": "stream",
     "text": [
      "Epoch 99: 100%|█████████████████| 1/1 [00:00<00:00,  3.78it/s, v_num=41, train_loss_step=18.00, train_loss_epoch=18.10]\n",
      "Validation: |                                                                                    | 0/? [00:00<?, ?it/s]\u001b[A\n",
      "Validation:   0%|                                                                                | 0/1 [00:00<?, ?it/s]\u001b[A\n",
      "Validation DataLoader 0:   0%|                                                                   | 0/1 [00:00<?, ?it/s]\u001b[A\n",
      "Validation DataLoader 0: 100%|███████████████████████████████████████████████████████████| 1/1 [00:00<00:00,  2.92it/s]\u001b[A\n",
      "Epoch 199: 100%|█| 1/1 [00:00<00:00,  3.96it/s, v_num=41, train_loss_step=18.10, train_loss_epoch=17.80, valid_loss=16.\u001b[A\n",
      "Validation: |                                                                                    | 0/? [00:00<?, ?it/s]\u001b[A\n",
      "Validation:   0%|                                                                                | 0/1 [00:00<?, ?it/s]\u001b[A\n",
      "Validation DataLoader 0:   0%|                                                                   | 0/1 [00:00<?, ?it/s]\u001b[A\n",
      "Validation DataLoader 0: 100%|███████████████████████████████████████████████████████████| 1/1 [00:00<00:00,  3.02it/s]\u001b[A\n",
      "Epoch 299: 100%|█| 1/1 [00:00<00:00,  3.81it/s, v_num=41, train_loss_step=17.60, train_loss_epoch=18.10, valid_loss=16.\u001b[A\n",
      "Validation: |                                                                                    | 0/? [00:00<?, ?it/s]\u001b[A\n",
      "Validation:   0%|                                                                                | 0/1 [00:00<?, ?it/s]\u001b[A\n",
      "Validation DataLoader 0:   0%|                                                                   | 0/1 [00:00<?, ?it/s]\u001b[A\n",
      "Validation DataLoader 0: 100%|███████████████████████████████████████████████████████████| 1/1 [00:00<00:00,  3.01it/s]\u001b[A\n",
      "Epoch 399: 100%|█| 1/1 [00:00<00:00,  3.86it/s, v_num=41, train_loss_step=17.40, train_loss_epoch=18.20, valid_loss=16.\u001b[A\n",
      "Validation: |                                                                                    | 0/? [00:00<?, ?it/s]\u001b[A\n",
      "Validation:   0%|                                                                                | 0/1 [00:00<?, ?it/s]\u001b[A\n",
      "Validation DataLoader 0:   0%|                                                                   | 0/1 [00:00<?, ?it/s]\u001b[A\n",
      "Validation DataLoader 0: 100%|███████████████████████████████████████████████████████████| 1/1 [00:00<00:00,  3.02it/s]\u001b[A\n",
      "Epoch 499: 100%|█| 1/1 [00:00<00:00,  3.80it/s, v_num=41, train_loss_step=17.30, train_loss_epoch=18.10, valid_loss=16.\u001b[A\n",
      "Validation: |                                                                                    | 0/? [00:00<?, ?it/s]\u001b[A\n",
      "Validation:   0%|                                                                                | 0/1 [00:00<?, ?it/s]\u001b[A\n",
      "Validation DataLoader 0:   0%|                                                                   | 0/1 [00:00<?, ?it/s]\u001b[A\n",
      "Validation DataLoader 0: 100%|███████████████████████████████████████████████████████████| 1/1 [00:00<00:00,  2.87it/s]\u001b[A\n",
      "Epoch 599: 100%|█| 1/1 [00:00<00:00,  3.93it/s, v_num=41, train_loss_step=18.30, train_loss_epoch=17.70, valid_loss=16.\u001b[A\n",
      "Validation: |                                                                                    | 0/? [00:00<?, ?it/s]\u001b[A\n",
      "Validation:   0%|                                                                                | 0/1 [00:00<?, ?it/s]\u001b[A\n",
      "Validation DataLoader 0:   0%|                                                                   | 0/1 [00:00<?, ?it/s]\u001b[A\n",
      "Validation DataLoader 0: 100%|███████████████████████████████████████████████████████████| 1/1 [00:00<00:00,  2.94it/s]\u001b[A\n",
      "Epoch 699: 100%|█| 1/1 [00:00<00:00,  3.98it/s, v_num=41, train_loss_step=17.30, train_loss_epoch=18.00, valid_loss=16.\u001b[A\n",
      "Validation: |                                                                                    | 0/? [00:00<?, ?it/s]\u001b[A\n",
      "Validation:   0%|                                                                                | 0/1 [00:00<?, ?it/s]\u001b[A\n",
      "Validation DataLoader 0:   0%|                                                                   | 0/1 [00:00<?, ?it/s]\u001b[A\n",
      "Validation DataLoader 0: 100%|███████████████████████████████████████████████████████████| 1/1 [00:00<00:00,  2.97it/s]\u001b[A\n",
      "Epoch 799: 100%|█| 1/1 [00:00<00:00,  3.98it/s, v_num=41, train_loss_step=17.70, train_loss_epoch=18.20, valid_loss=16.\u001b[A\n",
      "Validation: |                                                                                    | 0/? [00:00<?, ?it/s]\u001b[A\n",
      "Validation:   0%|                                                                                | 0/1 [00:00<?, ?it/s]\u001b[A\n",
      "Validation DataLoader 0:   0%|                                                                   | 0/1 [00:00<?, ?it/s]\u001b[A\n",
      "Validation DataLoader 0: 100%|███████████████████████████████████████████████████████████| 1/1 [00:00<00:00,  2.97it/s]\u001b[A\n",
      "Epoch 899: 100%|█| 1/1 [00:00<00:00,  3.71it/s, v_num=41, train_loss_step=17.40, train_loss_epoch=17.60, valid_loss=16.\u001b[A\n",
      "Validation: |                                                                                    | 0/? [00:00<?, ?it/s]\u001b[A\n",
      "Validation:   0%|                                                                                | 0/1 [00:00<?, ?it/s]\u001b[A\n",
      "Validation DataLoader 0:   0%|                                                                   | 0/1 [00:00<?, ?it/s]\u001b[A\n",
      "Validation DataLoader 0: 100%|███████████████████████████████████████████████████████████| 1/1 [00:00<00:00,  2.82it/s]\u001b[A\n",
      "Epoch 999: 100%|█| 1/1 [00:00<00:00,  3.86it/s, v_num=41, train_loss_step=17.10, train_loss_epoch=17.90, valid_loss=16.\u001b[A\n",
      "Validation: |                                                                                    | 0/? [00:00<?, ?it/s]\u001b[A\n",
      "Validation:   0%|                                                                                | 0/1 [00:00<?, ?it/s]\u001b[A\n",
      "Validation DataLoader 0:   0%|                                                                   | 0/1 [00:00<?, ?it/s]\u001b[A\n",
      "Validation DataLoader 0: 100%|███████████████████████████████████████████████████████████| 1/1 [00:00<00:00,  2.95it/s]\u001b[A\n",
      "Epoch 999: 100%|█| 1/1 [00:00<00:00,  1.43it/s, v_num=41, train_loss_step=17.10, train_loss_epoch=17.10, valid_loss=16.\u001b[A"
     ]
    },
    {
     "name": "stderr",
     "output_type": "stream",
     "text": [
      "`Trainer.fit` stopped: `max_steps=1000` reached.\n"
     ]
    },
    {
     "name": "stdout",
     "output_type": "stream",
     "text": [
      "Epoch 999: 100%|█| 1/1 [00:00<00:00,  1.40it/s, v_num=41, train_loss_step=17.10, train_loss_epoch=17.10, valid_loss=16."
     ]
    },
    {
     "name": "stderr",
     "output_type": "stream",
     "text": [
      "Trainer already configured with model summary callbacks: [<class 'pytorch_lightning.callbacks.model_summary.ModelSummary'>]. Skipping setting a default `ModelSummary` callback.\n"
     ]
    },
    {
     "name": "stdout",
     "output_type": "stream",
     "text": [
      "\n"
     ]
    },
    {
     "name": "stderr",
     "output_type": "stream",
     "text": [
      "GPU available: False, used: False\n",
      "TPU available: False, using: 0 TPU cores\n",
      "IPU available: False, using: 0 IPUs\n",
      "HPU available: False, using: 0 HPUs\n"
     ]
    },
    {
     "name": "stdout",
     "output_type": "stream",
     "text": [
      "Predicting DataLoader 0: 100%|███████████████████████████████████████████████████████████| 1/1 [00:00<00:00,  3.34it/s]\n"
     ]
    },
    {
     "name": "stderr",
     "output_type": "stream",
     "text": [
      "C:\\Users\\gdesimone\\AppData\\Local\\anaconda3\\envs\\tesis-python-3.11\\Lib\\site-packages\\neuralforecast\\core.py:184: FutureWarning: In a future version the predictions will have the id as a column. You can set the `NIXTLA_ID_AS_COL` environment variable to adopt the new behavior and to suppress this warning.\n",
      "  warnings.warn(\n"
     ]
    }
   ],
   "source": [
    "# Define validation and test sizes\n",
    "val_size = int(len(df) * 0.1)\n",
    "test_size = int(len(df) * 0.1)\n",
    "\n",
    "# Create a DataFrame with 'ds', 'y', and 'exog' columns\n",
    "df_input = pd.DataFrame({'ds': df.index, 'y': y})\n",
    "for i, col in enumerate(['AerosDisp', 'wspd_lstm', 'wdir', 'temp', 'pres', 'rhum']):\n",
    "    df_input[col] = X[:, i]\n",
    "\n",
    "df_input['unique_id'] = [1.0] * len(df)\n",
    "\n",
    "# Perform cross-validation\n",
    "#nf_preds = nf.cross_validation(df=pd.DataFrame({'ds': df.index, 'y': y,'unique_id': df['unique_id'], 'exog': list(X) }), val_size=val_size, test_size=test_size, n_windows=None)\n",
    "nf_preds = nf.cross_validation(df=df_input, val_size=val_size, test_size=test_size, n_windows=None)\n",
    "\n"
   ]
  },
  {
   "cell_type": "markdown",
   "id": "1903096f-1393-4975-bf5c-796eacc4e702",
   "metadata": {},
   "source": [
    "### Performance Evaluation"
   ]
  },
  {
   "cell_type": "code",
   "execution_count": 10,
   "id": "7cc56f8f-30c4-428f-83d3-766257b0f44b",
   "metadata": {},
   "outputs": [],
   "source": [
    "nf_preds.reset_index(inplace=True)"
   ]
  },
  {
   "cell_type": "code",
   "execution_count": 11,
   "id": "344c230b-9921-4396-af0e-3528996eb4b6",
   "metadata": {},
   "outputs": [
    {
     "data": {
      "text/html": [
       "<div>\n",
       "<style scoped>\n",
       "    .dataframe tbody tr th:only-of-type {\n",
       "        vertical-align: middle;\n",
       "    }\n",
       "\n",
       "    .dataframe tbody tr th {\n",
       "        vertical-align: top;\n",
       "    }\n",
       "\n",
       "    .dataframe thead th {\n",
       "        text-align: right;\n",
       "    }\n",
       "</style>\n",
       "<table border=\"1\" class=\"dataframe\">\n",
       "  <thead>\n",
       "    <tr style=\"text-align: right;\">\n",
       "      <th></th>\n",
       "      <th>unique_id</th>\n",
       "      <th>ds</th>\n",
       "      <th>cutoff</th>\n",
       "      <th>iTransformer</th>\n",
       "      <th>TSMixer</th>\n",
       "      <th>NHITS</th>\n",
       "      <th>PatchTST</th>\n",
       "      <th>y</th>\n",
       "    </tr>\n",
       "  </thead>\n",
       "  <tbody>\n",
       "    <tr>\n",
       "      <th>0</th>\n",
       "      <td>1.0</td>\n",
       "      <td>2023-10-17 02:00:00</td>\n",
       "      <td>2023-10-17 01:00:00</td>\n",
       "      <td>25.863441</td>\n",
       "      <td>41.130379</td>\n",
       "      <td>29.617081</td>\n",
       "      <td>29.538826</td>\n",
       "      <td>27.56</td>\n",
       "    </tr>\n",
       "    <tr>\n",
       "      <th>1</th>\n",
       "      <td>1.0</td>\n",
       "      <td>2023-10-17 03:00:00</td>\n",
       "      <td>2023-10-17 01:00:00</td>\n",
       "      <td>28.540844</td>\n",
       "      <td>41.016663</td>\n",
       "      <td>26.137415</td>\n",
       "      <td>28.424667</td>\n",
       "      <td>20.06</td>\n",
       "    </tr>\n",
       "    <tr>\n",
       "      <th>2</th>\n",
       "      <td>1.0</td>\n",
       "      <td>2023-10-17 04:00:00</td>\n",
       "      <td>2023-10-17 01:00:00</td>\n",
       "      <td>28.592606</td>\n",
       "      <td>41.989445</td>\n",
       "      <td>22.073318</td>\n",
       "      <td>25.882812</td>\n",
       "      <td>10.75</td>\n",
       "    </tr>\n",
       "    <tr>\n",
       "      <th>3</th>\n",
       "      <td>1.0</td>\n",
       "      <td>2023-10-17 05:00:00</td>\n",
       "      <td>2023-10-17 01:00:00</td>\n",
       "      <td>28.784286</td>\n",
       "      <td>40.989998</td>\n",
       "      <td>20.782227</td>\n",
       "      <td>25.410124</td>\n",
       "      <td>0.66</td>\n",
       "    </tr>\n",
       "    <tr>\n",
       "      <th>4</th>\n",
       "      <td>1.0</td>\n",
       "      <td>2023-10-17 06:00:00</td>\n",
       "      <td>2023-10-17 01:00:00</td>\n",
       "      <td>28.891287</td>\n",
       "      <td>40.345501</td>\n",
       "      <td>21.992765</td>\n",
       "      <td>25.861160</td>\n",
       "      <td>0.00</td>\n",
       "    </tr>\n",
       "  </tbody>\n",
       "</table>\n",
       "</div>"
      ],
      "text/plain": [
       "   unique_id                  ds              cutoff  iTransformer    TSMixer  \\\n",
       "0        1.0 2023-10-17 02:00:00 2023-10-17 01:00:00     25.863441  41.130379   \n",
       "1        1.0 2023-10-17 03:00:00 2023-10-17 01:00:00     28.540844  41.016663   \n",
       "2        1.0 2023-10-17 04:00:00 2023-10-17 01:00:00     28.592606  41.989445   \n",
       "3        1.0 2023-10-17 05:00:00 2023-10-17 01:00:00     28.784286  40.989998   \n",
       "4        1.0 2023-10-17 06:00:00 2023-10-17 01:00:00     28.891287  40.345501   \n",
       "\n",
       "       NHITS   PatchTST      y  \n",
       "0  29.617081  29.538826  27.56  \n",
       "1  26.137415  28.424667  20.06  \n",
       "2  22.073318  25.882812  10.75  \n",
       "3  20.782227  25.410124   0.66  \n",
       "4  21.992765  25.861160   0.00  "
      ]
     },
     "execution_count": 11,
     "metadata": {},
     "output_type": "execute_result"
    }
   ],
   "source": [
    "nf_preds.head()"
   ]
  },
  {
   "cell_type": "code",
   "execution_count": 12,
   "id": "2ecac7a3-b6bd-4386-9961-087862f3258d",
   "metadata": {},
   "outputs": [],
   "source": [
    "df_evaluation = evaluate(df=nf_preds, metrics=[mae, mse], models=['iTransformer', 'TSMixer', 'NHITS', 'PatchTST'])"
   ]
  },
  {
   "cell_type": "code",
   "execution_count": 13,
   "id": "d7d986c3-d547-46eb-b0ae-51d7a9830a10",
   "metadata": {},
   "outputs": [],
   "source": [
    "df_evaluation = df_evaluation.drop(['unique_id'], axis=1)"
   ]
  },
  {
   "cell_type": "code",
   "execution_count": 14,
   "id": "5b1b82d4-972b-4b1a-8bee-691db49171bf",
   "metadata": {},
   "outputs": [
    {
     "data": {
      "text/html": [
       "<div>\n",
       "<style scoped>\n",
       "    .dataframe tbody tr th:only-of-type {\n",
       "        vertical-align: middle;\n",
       "    }\n",
       "\n",
       "    .dataframe tbody tr th {\n",
       "        vertical-align: top;\n",
       "    }\n",
       "\n",
       "    .dataframe thead th {\n",
       "        text-align: right;\n",
       "    }\n",
       "</style>\n",
       "<table border=\"1\" class=\"dataframe\">\n",
       "  <thead>\n",
       "    <tr style=\"text-align: right;\">\n",
       "      <th></th>\n",
       "      <th>metric</th>\n",
       "      <th>iTransformer</th>\n",
       "      <th>TSMixer</th>\n",
       "      <th>NHITS</th>\n",
       "      <th>PatchTST</th>\n",
       "    </tr>\n",
       "  </thead>\n",
       "  <tbody>\n",
       "    <tr>\n",
       "      <th>0</th>\n",
       "      <td>mae</td>\n",
       "      <td>17.862570</td>\n",
       "      <td>17.720886</td>\n",
       "      <td>16.314796</td>\n",
       "      <td>16.434749</td>\n",
       "    </tr>\n",
       "    <tr>\n",
       "      <th>1</th>\n",
       "      <td>mse</td>\n",
       "      <td>578.579267</td>\n",
       "      <td>589.095035</td>\n",
       "      <td>533.563581</td>\n",
       "      <td>548.934619</td>\n",
       "    </tr>\n",
       "  </tbody>\n",
       "</table>\n",
       "</div>"
      ],
      "text/plain": [
       "  metric  iTransformer     TSMixer       NHITS    PatchTST\n",
       "0    mae     17.862570   17.720886   16.314796   16.434749\n",
       "1    mse    578.579267  589.095035  533.563581  548.934619"
      ]
     },
     "execution_count": 14,
     "metadata": {},
     "output_type": "execute_result"
    }
   ],
   "source": [
    "df_evaluation.head()"
   ]
  },
  {
   "cell_type": "markdown",
   "id": "e1f513a1-6dfc-4088-b84e-9d23a0270a22",
   "metadata": {},
   "source": [
    "### Plot the metrics"
   ]
  },
  {
   "cell_type": "code",
   "execution_count": 16,
   "id": "39c0e0ec-8e93-4ae3-8084-16a44ad89658",
   "metadata": {},
   "outputs": [
    {
     "ename": "NameError",
     "evalue": "name 'model_names' is not defined",
     "output_type": "error",
     "traceback": [
      "\u001b[1;31m---------------------------------------------------------------------------\u001b[0m",
      "\u001b[1;31mNameError\u001b[0m                                 Traceback (most recent call last)",
      "Cell \u001b[1;32mIn[16], line 6\u001b[0m\n\u001b[0;32m      3\u001b[0m bar_width \u001b[38;5;241m=\u001b[39m \u001b[38;5;241m0.35\u001b[39m  \n\u001b[0;32m      5\u001b[0m df_subset \u001b[38;5;241m=\u001b[39m full_df[full_df[\u001b[38;5;124m'\u001b[39m\u001b[38;5;124mmetric\u001b[39m\u001b[38;5;124m'\u001b[39m] \u001b[38;5;241m==\u001b[39m \u001b[38;5;124m'\u001b[39m\u001b[38;5;124mmae\u001b[39m\u001b[38;5;124m'\u001b[39m]\n\u001b[1;32m----> 6\u001b[0m mae_vals \u001b[38;5;241m=\u001b[39m df_subset[model_names]\u001b[38;5;241m.\u001b[39mvalues\u001b[38;5;241m.\u001b[39mflatten()\n\u001b[0;32m      7\u001b[0m df_subset \u001b[38;5;241m=\u001b[39m full_df[full_df[\u001b[38;5;124m'\u001b[39m\u001b[38;5;124mmetric\u001b[39m\u001b[38;5;124m'\u001b[39m] \u001b[38;5;241m==\u001b[39m \u001b[38;5;124m'\u001b[39m\u001b[38;5;124mmse\u001b[39m\u001b[38;5;124m'\u001b[39m]\n\u001b[0;32m      8\u001b[0m mse_vals \u001b[38;5;241m=\u001b[39m df_subset[model_names]\u001b[38;5;241m.\u001b[39mvalues\u001b[38;5;241m.\u001b[39mflatten()\n",
      "\u001b[1;31mNameError\u001b[0m: name 'model_names' is not defined"
     ]
    },
    {
     "data": {
      "image/png": "[encoded data removed]",
      "text/plain": [
       "<Figure size 500x700 with 1 Axes>"
      ]
     },
     "metadata": {},
     "output_type": "display_data"
    }
   ],
   "source": [
    "full_df = df_evaluation.copy()\n",
    "fig, axs = plt.subplots(1, 1, figsize=(5, 7)) \n",
    "bar_width = 0.35  \n",
    "\n",
    "df_subset = full_df[full_df['metric'] == 'mae']\n",
    "mae_vals = df_subset[model_names].values.flatten()\n",
    "df_subset = full_df[full_df['metric'] == 'mse']\n",
    "mse_vals = df_subset[model_names].values.flatten()\n",
    "    \n",
    "indices = np.arange(len(model_names))\n",
    "    \n",
    "bars_mae = axs.bar(indices - bar_width / 2, mae_vals, bar_width, color='skyblue', label='MAE')\n",
    "bars_mse = axs.bar(indices + bar_width / 2, mse_vals, bar_width, color='orange', label='MSE')\n",
    "    \n",
    "for bars in [bars_mae, bars_mse]:\n",
    "     for bar in bars:\n",
    "         height = bar.get_height()\n",
    "         axs.annotate(f'{height:.2f}', \n",
    "                      xy=(bar.get_x() + bar.get_width() / 2, height),\n",
    "                      xytext=(0, 3),\n",
    "                      textcoords=\"offset points\",\n",
    "                      ha='center', va='bottom')\n",
    "    \n",
    "axs.set_xticks(indices)\n",
    "axs.set_xticklabels(model_names, rotation=45)\n",
    "axs.set_title('WindPower Prediction Error')  # Set the title accordingly\n",
    "axs.legend(loc='best')\n",
    "\n",
    "plt.tight_layout() \n",
    "plt.show()\n"
   ]
  },
  {
   "cell_type": "markdown",
   "id": "e31ee48d-ed8a-41ba-98f6-cdf410b7862a",
   "metadata": {},
   "source": [
    "El modelo NHITS es el que tiene mejor performance en MAE y MSE"
   ]
  },
  {
   "cell_type": "markdown",
   "id": "5d96a043-b07f-470d-8a0a-748751e1bdbb",
   "metadata": {},
   "source": [
    "#### Prediccion de valores futuros de EnergiaSMEC utilizando variables exogenas"
   ]
  },
  {
   "cell_type": "code",
   "execution_count": null,
   "id": "f3570964-f936-4b07-9115-eeaf4db1a460",
   "metadata": {},
   "outputs": [],
   "source": [
    "# Rename the column \"FechaHora\" to \"ds\" and reset the index\n",
    "df_forecast_exog.rename(columns={'FechaHora': 'ds'}, inplace=True)\n",
    "df_forecast_exog.reset_index(drop=True, inplace=True)\n",
    "\n",
    "df_forecast_exog.head()"
   ]
  },
  {
   "cell_type": "code",
   "execution_count": null,
   "id": "d94bdc6a-3398-4863-ade5-d43f9cd72aaa",
   "metadata": {},
   "outputs": [],
   "source": []
  },
  {
   "cell_type": "code",
   "execution_count": null,
   "id": "e872e236-5fea-47ae-bac6-4de627a3756b",
   "metadata": {},
   "outputs": [],
   "source": []
  },
  {
   "cell_type": "code",
   "execution_count": null,
   "id": "1b2a1ab6-d1ab-4de7-a561-2a8dcf4efc55",
   "metadata": {},
   "outputs": [],
   "source": []
  },
  {
   "cell_type": "code",
   "execution_count": null,
   "id": "6d551aa2-b9dd-47aa-be23-840e87cc77e4",
   "metadata": {},
   "outputs": [],
   "source": []
  },
  {
   "cell_type": "code",
   "execution_count": null,
   "id": "9e7806ea-356c-488c-ac9a-93c5045f70f6",
   "metadata": {},
   "outputs": [],
   "source": []
  },
  {
   "cell_type": "code",
   "execution_count": 62,
   "id": "1620a0d6-b54b-4ae0-8d02-4de8cd012619",
   "metadata": {},
   "outputs": [
    {
     "ename": "TypeError",
     "evalue": "BaseWindows.predict() missing 1 required positional argument: 'dataset'",
     "output_type": "error",
     "traceback": [
      "\u001b[1;31m---------------------------------------------------------------------------\u001b[0m",
      "\u001b[1;31mTypeError\u001b[0m                                 Traceback (most recent call last)",
      "Cell \u001b[1;32mIn[62], line 8\u001b[0m\n\u001b[0;32m      5\u001b[0m model \u001b[38;5;241m=\u001b[39m nf\u001b[38;5;241m.\u001b[39mmodels[model_index]  \n\u001b[0;32m      7\u001b[0m \u001b[38;5;66;03m# Generate forecasts for the target variable 'y' using the specific model\u001b[39;00m\n\u001b[1;32m----> 8\u001b[0m target_forecast \u001b[38;5;241m=\u001b[39m model\u001b[38;5;241m.\u001b[39mpredict(df\u001b[38;5;241m=\u001b[39mpd\u001b[38;5;241m.\u001b[39mDataFrame({\u001b[38;5;124m'\u001b[39m\u001b[38;5;124mds\u001b[39m\u001b[38;5;124m'\u001b[39m: df_forecast_exog[\u001b[38;5;124m'\u001b[39m\u001b[38;5;124mds\u001b[39m\u001b[38;5;124m'\u001b[39m]}), steps\u001b[38;5;241m=\u001b[39m\u001b[38;5;28mlen\u001b[39m(df_forecast_exog))\n\u001b[0;32m     10\u001b[0m \u001b[38;5;66;03m# Update the 'y' column in df_forecast_exog with the forecasted values\u001b[39;00m\n\u001b[0;32m     11\u001b[0m df_forecast_exog[\u001b[38;5;124m'\u001b[39m\u001b[38;5;124my\u001b[39m\u001b[38;5;124m'\u001b[39m] \u001b[38;5;241m=\u001b[39m target_forecast\n",
      "\u001b[1;31mTypeError\u001b[0m: BaseWindows.predict() missing 1 required positional argument: 'dataset'"
     ]
    }
   ],
   "source": [
    "# Specify the index of the model you want to use for prediction\n",
    "model_index = 2  # Index of the model you want to use, e.g., 0 for the first model\n",
    "\n",
    "# Get the specific model from the NeuralForecast object\n",
    "model = nf.models[model_index]  \n",
    "\n",
    "# Generate forecasts for the target variable 'y' using the specific model\n",
    "target_forecast = model.predict(df=pd.DataFrame({'ds': df_forecast_exog['ds']}), steps=len(df_forecast_exog))\n",
    "\n",
    "# Update the 'y' column in df_forecast_exog with the forecasted values\n",
    "df_forecast_exog['y'] = target_forecast\n"
   ]
  },
  {
   "cell_type": "code",
   "execution_count": 51,
   "id": "24d47b58-eea1-4ff6-b189-2796d874323b",
   "metadata": {
    "scrolled": true
   },
   "outputs": [
    {
     "ename": "ValueError",
     "evalue": "Found missing values in ['y'].",
     "output_type": "error",
     "traceback": [
      "\u001b[1;31m---------------------------------------------------------------------------\u001b[0m",
      "\u001b[1;31mValueError\u001b[0m                                Traceback (most recent call last)",
      "Cell \u001b[1;32mIn[51], line 11\u001b[0m\n\u001b[0;32m      8\u001b[0m model_index \u001b[38;5;241m=\u001b[39m \u001b[38;5;241m2\u001b[39m  \u001b[38;5;66;03m# Index of the model you want to use, e.g., 0 for the first model\u001b[39;00m\n\u001b[0;32m     10\u001b[0m \u001b[38;5;66;03m# Use the specified model for prediction\u001b[39;00m\n\u001b[1;32m---> 11\u001b[0m forecast_preds \u001b[38;5;241m=\u001b[39m nf\u001b[38;5;241m.\u001b[39mpredict(df\u001b[38;5;241m=\u001b[39mdf_forecast_exog, model_index\u001b[38;5;241m=\u001b[39mmodel_index)\n\u001b[0;32m     13\u001b[0m \u001b[38;5;66;03m# Print or use forecast_preds for further analysis\u001b[39;00m\n\u001b[0;32m     14\u001b[0m \u001b[38;5;28mprint\u001b[39m(forecast_preds)\n",
      "File \u001b[1;32m~\\AppData\\Local\\anaconda3\\envs\\tesis-python-3.11\\Lib\\site-packages\\neuralforecast\\core.py:698\u001b[0m, in \u001b[0;36mNeuralForecast.predict\u001b[1;34m(self, df, static_df, futr_df, sort_df, verbose, engine, **data_kwargs)\u001b[0m\n\u001b[0;32m    696\u001b[0m \u001b[38;5;28;01mif\u001b[39;00m df \u001b[38;5;129;01mis\u001b[39;00m \u001b[38;5;129;01mnot\u001b[39;00m \u001b[38;5;28;01mNone\u001b[39;00m:\n\u001b[0;32m    697\u001b[0m     validate_freq(df[\u001b[38;5;28mself\u001b[39m\u001b[38;5;241m.\u001b[39mtime_col], \u001b[38;5;28mself\u001b[39m\u001b[38;5;241m.\u001b[39mfreq)\n\u001b[1;32m--> 698\u001b[0m     dataset, uids, last_dates, _ \u001b[38;5;241m=\u001b[39m \u001b[38;5;28mself\u001b[39m\u001b[38;5;241m.\u001b[39m_prepare_fit(\n\u001b[0;32m    699\u001b[0m         df\u001b[38;5;241m=\u001b[39mdf,\n\u001b[0;32m    700\u001b[0m         static_df\u001b[38;5;241m=\u001b[39mstatic_df,\n\u001b[0;32m    701\u001b[0m         sort_df\u001b[38;5;241m=\u001b[39msort_df,\n\u001b[0;32m    702\u001b[0m         predict_only\u001b[38;5;241m=\u001b[39m\u001b[38;5;28;01mTrue\u001b[39;00m,\n\u001b[0;32m    703\u001b[0m         id_col\u001b[38;5;241m=\u001b[39m\u001b[38;5;28mself\u001b[39m\u001b[38;5;241m.\u001b[39mid_col,\n\u001b[0;32m    704\u001b[0m         time_col\u001b[38;5;241m=\u001b[39m\u001b[38;5;28mself\u001b[39m\u001b[38;5;241m.\u001b[39mtime_col,\n\u001b[0;32m    705\u001b[0m         target_col\u001b[38;5;241m=\u001b[39m\u001b[38;5;28mself\u001b[39m\u001b[38;5;241m.\u001b[39mtarget_col,\n\u001b[0;32m    706\u001b[0m     )\n\u001b[0;32m    707\u001b[0m \u001b[38;5;28;01melse\u001b[39;00m:\n\u001b[0;32m    708\u001b[0m     dataset \u001b[38;5;241m=\u001b[39m \u001b[38;5;28mself\u001b[39m\u001b[38;5;241m.\u001b[39mdataset\n",
      "File \u001b[1;32m~\\AppData\\Local\\anaconda3\\envs\\tesis-python-3.11\\Lib\\site-packages\\neuralforecast\\core.py:276\u001b[0m, in \u001b[0;36mNeuralForecast._prepare_fit\u001b[1;34m(self, df, static_df, sort_df, predict_only, id_col, time_col, target_col)\u001b[0m\n\u001b[0;32m    274\u001b[0m \u001b[38;5;28mself\u001b[39m\u001b[38;5;241m.\u001b[39mtime_col \u001b[38;5;241m=\u001b[39m time_col\n\u001b[0;32m    275\u001b[0m \u001b[38;5;28mself\u001b[39m\u001b[38;5;241m.\u001b[39mtarget_col \u001b[38;5;241m=\u001b[39m target_col\n\u001b[1;32m--> 276\u001b[0m \u001b[38;5;28mself\u001b[39m\u001b[38;5;241m.\u001b[39m_check_nan(df, static_df, id_col, time_col, target_col)\n\u001b[0;32m    278\u001b[0m dataset, uids, last_dates, ds \u001b[38;5;241m=\u001b[39m TimeSeriesDataset\u001b[38;5;241m.\u001b[39mfrom_df(\n\u001b[0;32m    279\u001b[0m     df\u001b[38;5;241m=\u001b[39mdf,\n\u001b[0;32m    280\u001b[0m     static_df\u001b[38;5;241m=\u001b[39mstatic_df,\n\u001b[1;32m   (...)\u001b[0m\n\u001b[0;32m    284\u001b[0m     target_col\u001b[38;5;241m=\u001b[39mtarget_col,\n\u001b[0;32m    285\u001b[0m )\n\u001b[0;32m    286\u001b[0m \u001b[38;5;28;01mif\u001b[39;00m predict_only:\n",
      "File \u001b[1;32m~\\AppData\\Local\\anaconda3\\envs\\tesis-python-3.11\\Lib\\site-packages\\neuralforecast\\core.py:314\u001b[0m, in \u001b[0;36mNeuralForecast._check_nan\u001b[1;34m(self, df, static_df, id_col, time_col, target_col)\u001b[0m\n\u001b[0;32m    311\u001b[0m             cols_with_nans\u001b[38;5;241m.\u001b[39mappend(col)\n\u001b[0;32m    313\u001b[0m \u001b[38;5;28;01mif\u001b[39;00m cols_with_nans:\n\u001b[1;32m--> 314\u001b[0m     \u001b[38;5;28;01mraise\u001b[39;00m \u001b[38;5;167;01mValueError\u001b[39;00m(\u001b[38;5;124mf\u001b[39m\u001b[38;5;124m\"\u001b[39m\u001b[38;5;124mFound missing values in \u001b[39m\u001b[38;5;132;01m{\u001b[39;00mcols_with_nans\u001b[38;5;132;01m}\u001b[39;00m\u001b[38;5;124m.\u001b[39m\u001b[38;5;124m\"\u001b[39m)\n",
      "\u001b[1;31mValueError\u001b[0m: Found missing values in ['y']."
     ]
    }
   ],
   "source": [
    "#Prepare input data with forecasted exogenous variables\n",
    "\n",
    "#forecast_input = pd.DataFrame({'ds': future_dates})\n",
    "#for i, col in enumerate(['AerosDisp', 'wspd_lstm', 'wdir', 'temp', 'pres', 'rhum']):\n",
    "#    forecast_input[col] = forecasted_exog[:, i]\n",
    "\n",
    "# Use the specified model for prediction\n",
    "forecast_preds = nf.predict(df=df_forecast_exog, model_index=model_index)\n",
    "\n",
    "# Print or use forecast_preds for further analysis\n",
    "print(forecast_preds)"
   ]
  },
  {
   "cell_type": "code",
   "execution_count": null,
   "id": "422bde38-cfad-4708-b831-fbd4f04514b1",
   "metadata": {},
   "outputs": [],
   "source": []
  },
  {
   "cell_type": "markdown",
   "id": "bb73df65-1eac-4bbe-9fa4-2cb5d238cda2",
   "metadata": {},
   "source": [
    "VER: https://colab.research.google.com/github/Nixtla/neuralforecast/blob/main/nbs/examples/LongHorizon_with_Transformers.ipynb#scrollTo=W9Ppep629Hcb"
   ]
  }
 ],
 "metadata": {
  "kernelspec": {
   "display_name": "tesis-python-3.11",
   "language": "python",
   "name": "tesis-python-3.11"
  },
  "language_info": {
   "codemirror_mode": {
    "name": "ipython",
    "version": 3
   },
   "file_extension": ".py",
   "mimetype": "text/x-python",
   "name": "python",
   "nbconvert_exporter": "python",
   "pygments_lexer": "ipython3",
   "version": "3.11.8"
  }
 },
 "nbformat": 4,
 "nbformat_minor": 5
}
